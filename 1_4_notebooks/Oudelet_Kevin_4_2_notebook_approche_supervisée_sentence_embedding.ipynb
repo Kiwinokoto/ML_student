{
 "cells": [
  {
   "cell_type": "markdown",
   "metadata": {},
   "source": [
    "## **Catégorisez automatiquement des questions**\n",
    "\n",
    "### partie 4/8 (suite): Prédiction de tags, approche supervisée, sentence embedding\n",
    "\n",
    "#### <br> L'objectif de ce notebook est de découvrir des techniques NLP plus avancées: Word2Vec (peut être remplacé par Doc2Vec), BERT, USE\n",
    "\n",
    "<br>\n"
   ]
  },
  {
   "cell_type": "markdown",
   "metadata": {},
   "source": [
    "## 1 Imports\n"
   ]
  },
  {
   "cell_type": "markdown",
   "metadata": {},
   "source": [
    "### 1.1 Librairies\n"
   ]
  },
  {
   "cell_type": "code",
   "execution_count": 524,
   "metadata": {},
   "outputs": [],
   "source": [
    "#\n",
    "import os\n",
    "import ast\n",
    "from pprint import pprint\n",
    "\n",
    "import gdown\n",
    "import collections\n",
    "import matplotlib.pyplot as plt\n",
    "import numpy as np\n",
    "import pandas as pd\n",
    "import spacy\n",
    "import tensorflow as tf\n",
    "\n",
    "from gensim.models.keyedvectors import KeyedVectors\n",
    "from sklearn.preprocessing import MultiLabelBinarizer\n",
    "from sklearn.decomposition import PCA\n",
    "from sklearn.model_selection import train_test_split\n",
    "from tensorflow import keras\n",
    "from tensorflow.keras import layers\n",
    "\n",
    "import operator\n",
    "from datasets import load_dataset\n",
    "\n",
    "import transformers\n",
    "from transformers import AutoTokenizer\n",
    "from transformers import pipeline\n",
    "from transformers import TFAutoModelForQuestionAnswering\n"
   ]
  },
  {
   "cell_type": "markdown",
   "metadata": {},
   "source": [
    "### Fonctions\n"
   ]
  },
  {
   "cell_type": "code",
   "execution_count": 525,
   "metadata": {},
   "outputs": [],
   "source": [
    "def turn_str_back_into_list(df):\n",
    "    \"\"\"Correct the type change due to .csv export\"\"\"\n",
    "\n",
    "    df['title_nltk'] = df['title_nltk'].apply(ast.literal_eval)\n",
    "    df['body_nltk'] = df['body_nltk'].apply(ast.literal_eval)\n",
    "    df['title_spacy'] = df['title_spacy'].apply(ast.literal_eval)\n",
    "    df['body_spacy'] = df['body_spacy'].apply(ast.literal_eval)\n",
    "    df['all_tags'] = df['all_tags'].apply(ast.literal_eval)\n",
    "\n",
    "\n",
    "df_freq = pd.DataFrame()\n",
    "\n",
    "def keep_most_frequent_tags(list_tags, df_freq=df_freq, lim=100):\n",
    "    \"\"\"\n",
    "    Keep only the n most frequent tags (default 100).\n",
    "\n",
    "    Parameters:\n",
    "    - liste_tokens (list): The input list of tokens to be processed.\n",
    "    - forbidden_list (set): A set of forbidden tokens, which includes stop words,\n",
    "      tokens exceeding upper frequency limits, and tokens falling below lower frequency limits.\n",
    "\n",
    "    Returns:\n",
    "    list: A filtered list of tokens that excludes stop words, tokens exceeding upper frequency limits,\n",
    "    and tokens falling below lower frequency limits.\n",
    "    \"\"\"\n",
    "\n",
    "    mandatory_list = df_freq['Tag'][:lim].tolist()\n",
    "    filtered_list = [token for token in list_tags if token in mandatory_list]\n",
    "\n",
    "    return filtered_list\n",
    "\n",
    "\n",
    "def create_top_n_tags_feature(data, n=100, slice=1, df_freq=df_freq):\n",
    "    data[f'top_tags_{n}'] = data['all_tags'].apply(\n",
    "        lambda x: keep_most_frequent_tags(x, df_freq=df_freq, lim=n)\n",
    "    )\n",
    "\n",
    "    data = data.loc[data[f'top_tags_{n}'].apply(len) >= 0, :].copy()\n",
    "    print(data.shape, '\\n')\n",
    "\n",
    "    slice_df = data[::slice]\n",
    "    # slice_df.reset_index(drop=True, inplace=True)\n",
    "\n",
    "    # stratify ?\n",
    "    train_df, test_df = train_test_split(slice_df, test_size=0.1, random_state=42)\n",
    "\n",
    "    train_df.reset_index(drop=True, inplace=True)\n",
    "    test_df.reset_index(drop=True, inplace=True)\n",
    "\n",
    "\n",
    "    return train_df, test_df\n",
    "\n"
   ]
  },
  {
   "cell_type": "markdown",
   "metadata": {},
   "source": [
    "### Data\n"
   ]
  },
  {
   "cell_type": "code",
   "execution_count": 526,
   "metadata": {},
   "outputs": [
    {
     "data": {
      "text/html": [
       "<div>\n",
       "<style scoped>\n",
       "    .dataframe tbody tr th:only-of-type {\n",
       "        vertical-align: middle;\n",
       "    }\n",
       "\n",
       "    .dataframe tbody tr th {\n",
       "        vertical-align: top;\n",
       "    }\n",
       "\n",
       "    .dataframe thead th {\n",
       "        text-align: right;\n",
       "    }\n",
       "</style>\n",
       "<table border=\"1\" class=\"dataframe\">\n",
       "  <thead>\n",
       "    <tr style=\"text-align: right;\">\n",
       "      <th></th>\n",
       "      <th>CreationDate</th>\n",
       "      <th>title</th>\n",
       "      <th>body</th>\n",
       "      <th>all_tags</th>\n",
       "      <th>title_nltk</th>\n",
       "      <th>body_nltk</th>\n",
       "      <th>title_spacy</th>\n",
       "      <th>body_spacy</th>\n",
       "    </tr>\n",
       "  </thead>\n",
       "  <tbody>\n",
       "    <tr>\n",
       "      <th>47660</th>\n",
       "      <td>2011-05-23 22:22:56</td>\n",
       "      <td>How can I send a file document to the printer ...</td>\n",
       "      <td>Here's the basic premise:\\nMy user clicks some...</td>\n",
       "      <td>[c#, winforms, pdf, .net-4.0, printing]</td>\n",
       "      <td>[send, file, document, printer, print]</td>\n",
       "      <td>[send, file, document, printer, print, premise...</td>\n",
       "      <td>[send, file, document, printer, print]</td>\n",
       "      <td>[premise, user, click, file, spit, desktop, wa...</td>\n",
       "    </tr>\n",
       "    <tr>\n",
       "      <th>47661</th>\n",
       "      <td>2011-05-23 21:15:51</td>\n",
       "      <td>CA1014 Mark 'some.dll' with CLSCompliant(true)...</td>\n",
       "      <td>When I run StyleCop, I got this error message ...</td>\n",
       "      <td>[visual-studio, visual-studio-2010, dll, style...</td>\n",
       "      <td>[mark, dll, error, message, vs2010]</td>\n",
       "      <td>[mark, dll, error, message, vs2010, run, get, ...</td>\n",
       "      <td>[error, message]</td>\n",
       "      <td>[run, error, message, need, mark, dll, set, dl...</td>\n",
       "    </tr>\n",
       "    <tr>\n",
       "      <th>47662</th>\n",
       "      <td>2011-05-23 21:05:59</td>\n",
       "      <td>How to change a text file's name in C++?</td>\n",
       "      <td>I would like to change a txt file's name, but ...</td>\n",
       "      <td>[c++, algorithm, file, directory, file-rename]</td>\n",
       "      <td>[change, text, file, name, c]</td>\n",
       "      <td>[change, text, file, name, c, like, change, tx...</td>\n",
       "      <td>[change, text, file]</td>\n",
       "      <td>[like, change, txt, file, find, example, want,...</td>\n",
       "    </tr>\n",
       "    <tr>\n",
       "      <th>47663</th>\n",
       "      <td>2011-05-23 20:06:35</td>\n",
       "      <td>php implode (101) with quotes</td>\n",
       "      <td>Imploding  a simple array \\nwould look like th...</td>\n",
       "      <td>[php, arrays, string, csv, implode]</td>\n",
       "      <td>[php, quote]</td>\n",
       "      <td>[php, quote, array, look, array, array, lastna...</td>\n",
       "      <td>[quote]</td>\n",
       "      <td>[implode, array, look, array, email, phone, ar...</td>\n",
       "    </tr>\n",
       "    <tr>\n",
       "      <th>47664</th>\n",
       "      <td>2011-05-23 20:00:57</td>\n",
       "      <td>What characters are allowed in a iOS file name?</td>\n",
       "      <td>I'm looking for a way to make sure a string ca...</td>\n",
       "      <td>[ios, file, filenames, character-encoding, nsf...</td>\n",
       "      <td>[character, allow, file, name]</td>\n",
       "      <td>[character, allow, file, name, look, way, make...</td>\n",
       "      <td>[character, allow, file]</td>\n",
       "      <td>[look, way, string, file, section, code, delet...</td>\n",
       "    </tr>\n",
       "  </tbody>\n",
       "</table>\n",
       "</div>"
      ],
      "text/plain": [
       "              CreationDate                                              title  \\\n",
       "47660  2011-05-23 22:22:56  How can I send a file document to the printer ...   \n",
       "47661  2011-05-23 21:15:51  CA1014 Mark 'some.dll' with CLSCompliant(true)...   \n",
       "47662  2011-05-23 21:05:59           How to change a text file's name in C++?   \n",
       "47663  2011-05-23 20:06:35                      php implode (101) with quotes   \n",
       "47664  2011-05-23 20:00:57    What characters are allowed in a iOS file name?   \n",
       "\n",
       "                                                    body  \\\n",
       "47660  Here's the basic premise:\\nMy user clicks some...   \n",
       "47661  When I run StyleCop, I got this error message ...   \n",
       "47662  I would like to change a txt file's name, but ...   \n",
       "47663  Imploding  a simple array \\nwould look like th...   \n",
       "47664  I'm looking for a way to make sure a string ca...   \n",
       "\n",
       "                                                all_tags  \\\n",
       "47660            [c#, winforms, pdf, .net-4.0, printing]   \n",
       "47661  [visual-studio, visual-studio-2010, dll, style...   \n",
       "47662     [c++, algorithm, file, directory, file-rename]   \n",
       "47663                [php, arrays, string, csv, implode]   \n",
       "47664  [ios, file, filenames, character-encoding, nsf...   \n",
       "\n",
       "                                   title_nltk  \\\n",
       "47660  [send, file, document, printer, print]   \n",
       "47661     [mark, dll, error, message, vs2010]   \n",
       "47662           [change, text, file, name, c]   \n",
       "47663                            [php, quote]   \n",
       "47664          [character, allow, file, name]   \n",
       "\n",
       "                                               body_nltk  \\\n",
       "47660  [send, file, document, printer, print, premise...   \n",
       "47661  [mark, dll, error, message, vs2010, run, get, ...   \n",
       "47662  [change, text, file, name, c, like, change, tx...   \n",
       "47663  [php, quote, array, look, array, array, lastna...   \n",
       "47664  [character, allow, file, name, look, way, make...   \n",
       "\n",
       "                                  title_spacy  \\\n",
       "47660  [send, file, document, printer, print]   \n",
       "47661                        [error, message]   \n",
       "47662                    [change, text, file]   \n",
       "47663                                 [quote]   \n",
       "47664                [character, allow, file]   \n",
       "\n",
       "                                              body_spacy  \n",
       "47660  [premise, user, click, file, spit, desktop, wa...  \n",
       "47661  [run, error, message, need, mark, dll, set, dl...  \n",
       "47662  [like, change, txt, file, find, example, want,...  \n",
       "47663  [implode, array, look, array, email, phone, ar...  \n",
       "47664  [look, way, string, file, section, code, delet...  "
      ]
     },
     "metadata": {},
     "output_type": "display_data"
    },
    {
     "name": "stdout",
     "output_type": "stream",
     "text": [
      "(47665, 8)\n"
     ]
    }
   ],
   "source": [
    "raw_data = pd.read_csv('./../0_data/cleaned_data/bow_classic.csv', sep=',')\n",
    "\n",
    "turn_str_back_into_list(raw_data)\n",
    "\n",
    "display(raw_data.tail())\n",
    "\n",
    "print(raw_data.shape)\n"
   ]
  },
  {
   "cell_type": "code",
   "execution_count": 527,
   "metadata": {},
   "outputs": [
    {
     "name": "stdout",
     "output_type": "stream",
     "text": [
      "Il y a 238327 tags au total. \n",
      "\n",
      "Il y a 15817 tags différents. \n",
      "\n"
     ]
    }
   ],
   "source": [
    "all_tags = [tag for tags in raw_data['all_tags'] for tag in tags]\n",
    "print(f'Il y a {len(all_tags)} tags au total. \\n')\n",
    "print(f'Il y a {len(set(all_tags))} tags différents. \\n')\n",
    "\n",
    "# display(questions_tags)\n",
    "\n",
    "# Fréquence\n",
    "tag_frequencies_dict = {}\n",
    "for tag in all_tags:\n",
    "    tag_frequencies_dict[tag] = tag_frequencies_dict.get(tag, 0) + 1\n",
    "\n",
    "# Sort the dictionary items by values in descending order\n",
    "sorted_tag_frequencies = dict(sorted(tag_frequencies_dict.items(), key=lambda item: item[1], reverse=True))\n",
    "\n",
    "# Extract tags and frequencies\n",
    "tags = list(sorted_tag_frequencies.keys())\n",
    "frequencies = list(sorted_tag_frequencies.values())\n",
    "\n",
    "df_freq = pd.DataFrame({'Tag': tags, 'Frequency': frequencies})\n"
   ]
  },
  {
   "cell_type": "code",
   "execution_count": 528,
   "metadata": {},
   "outputs": [
    {
     "name": "stdout",
     "output_type": "stream",
     "text": [
      "(47665, 9) \n",
      "\n",
      "(42898, 9)\n"
     ]
    },
    {
     "data": {
      "text/html": [
       "<div>\n",
       "<style scoped>\n",
       "    .dataframe tbody tr th:only-of-type {\n",
       "        vertical-align: middle;\n",
       "    }\n",
       "\n",
       "    .dataframe tbody tr th {\n",
       "        vertical-align: top;\n",
       "    }\n",
       "\n",
       "    .dataframe thead th {\n",
       "        text-align: right;\n",
       "    }\n",
       "</style>\n",
       "<table border=\"1\" class=\"dataframe\">\n",
       "  <thead>\n",
       "    <tr style=\"text-align: right;\">\n",
       "      <th></th>\n",
       "      <th>CreationDate</th>\n",
       "      <th>title</th>\n",
       "      <th>body</th>\n",
       "      <th>all_tags</th>\n",
       "      <th>title_nltk</th>\n",
       "      <th>body_nltk</th>\n",
       "      <th>title_spacy</th>\n",
       "      <th>body_spacy</th>\n",
       "      <th>top_tags_30</th>\n",
       "    </tr>\n",
       "  </thead>\n",
       "  <tbody>\n",
       "    <tr>\n",
       "      <th>0</th>\n",
       "      <td>2019-06-05 15:13:02</td>\n",
       "      <td>How to use memset while handling strings in C++?</td>\n",
       "      <td>I am from Python background and recently learn...</td>\n",
       "      <td>[c++, initialization, c-strings, string-litera...</td>\n",
       "      <td>[memset, handle, string, c]</td>\n",
       "      <td>[memset, handle, string, c, python, background...</td>\n",
       "      <td>[use, memset, handle, string]</td>\n",
       "      <td>[background, learn, learn, function, memset, f...</td>\n",
       "      <td>[c++]</td>\n",
       "    </tr>\n",
       "    <tr>\n",
       "      <th>1</th>\n",
       "      <td>2018-10-31 12:35:02</td>\n",
       "      <td>How to correct spelling in google docs using k...</td>\n",
       "      <td>I would like to be able to replace a misspelle...</td>\n",
       "      <td>[gmail, keyboard-shortcuts, google-docs, short...</td>\n",
       "      <td>[correct, spell, google, doc, keyboard, shortcut]</td>\n",
       "      <td>[correct, spell, google, doc, shortcut, like, ...</td>\n",
       "      <td>[correct, spelling, keyboard, shortcut]</td>\n",
       "      <td>[like, replace, word, recommend, correction, k...</td>\n",
       "      <td>[]</td>\n",
       "    </tr>\n",
       "    <tr>\n",
       "      <th>2</th>\n",
       "      <td>2020-09-19 10:40:23</td>\n",
       "      <td>live server vscode on another computer</td>\n",
       "      <td>I have 2 computers. when I open the project wi...</td>\n",
       "      <td>[visual-studio-code, server, localhost, ip, live]</td>\n",
       "      <td>[server, vscode, computer]</td>\n",
       "      <td>[server, vscode, computer, computer, open, pro...</td>\n",
       "      <td>[server, vscode, computer]</td>\n",
       "      <td>[computer, open, project, server, url, want, u...</td>\n",
       "      <td>[]</td>\n",
       "    </tr>\n",
       "    <tr>\n",
       "      <th>3</th>\n",
       "      <td>2012-10-23 16:47:04</td>\n",
       "      <td>django ajax post 403 forbidden</td>\n",
       "      <td>using django 1.4 im getting a 403 error when i...</td>\n",
       "      <td>[javascript, ajax, django, http-post, http-sta...</td>\n",
       "      <td>[django, ajax, forbidden]</td>\n",
       "      <td>[django, ajax, im, get, error, try, post, java...</td>\n",
       "      <td>[forbid]</td>\n",
       "      <td>[django, error, try, post, javascript, django,...</td>\n",
       "      <td>[javascript]</td>\n",
       "    </tr>\n",
       "    <tr>\n",
       "      <th>4</th>\n",
       "      <td>2019-04-21 16:10:24</td>\n",
       "      <td>Listen to changes and reload container on code...</td>\n",
       "      <td>I am using docker-compose in visual studio 201...</td>\n",
       "      <td>[angular, visual-studio, docker, docker-compos...</td>\n",
       "      <td>[listen, change, reload, container, code, chan...</td>\n",
       "      <td>[listen, change, reload, container, code, chan...</td>\n",
       "      <td>[listen, change, reload, container, code, chan...</td>\n",
       "      <td>[docker, compose, studio, docker, window, run,...</td>\n",
       "      <td>[]</td>\n",
       "    </tr>\n",
       "  </tbody>\n",
       "</table>\n",
       "</div>"
      ],
      "text/plain": [
       "          CreationDate                                              title  \\\n",
       "0  2019-06-05 15:13:02   How to use memset while handling strings in C++?   \n",
       "1  2018-10-31 12:35:02  How to correct spelling in google docs using k...   \n",
       "2  2020-09-19 10:40:23             live server vscode on another computer   \n",
       "3  2012-10-23 16:47:04                     django ajax post 403 forbidden   \n",
       "4  2019-04-21 16:10:24  Listen to changes and reload container on code...   \n",
       "\n",
       "                                                body  \\\n",
       "0  I am from Python background and recently learn...   \n",
       "1  I would like to be able to replace a misspelle...   \n",
       "2  I have 2 computers. when I open the project wi...   \n",
       "3  using django 1.4 im getting a 403 error when i...   \n",
       "4  I am using docker-compose in visual studio 201...   \n",
       "\n",
       "                                            all_tags  \\\n",
       "0  [c++, initialization, c-strings, string-litera...   \n",
       "1  [gmail, keyboard-shortcuts, google-docs, short...   \n",
       "2  [visual-studio-code, server, localhost, ip, live]   \n",
       "3  [javascript, ajax, django, http-post, http-sta...   \n",
       "4  [angular, visual-studio, docker, docker-compos...   \n",
       "\n",
       "                                          title_nltk  \\\n",
       "0                        [memset, handle, string, c]   \n",
       "1  [correct, spell, google, doc, keyboard, shortcut]   \n",
       "2                         [server, vscode, computer]   \n",
       "3                          [django, ajax, forbidden]   \n",
       "4  [listen, change, reload, container, code, chan...   \n",
       "\n",
       "                                           body_nltk  \\\n",
       "0  [memset, handle, string, c, python, background...   \n",
       "1  [correct, spell, google, doc, shortcut, like, ...   \n",
       "2  [server, vscode, computer, computer, open, pro...   \n",
       "3  [django, ajax, im, get, error, try, post, java...   \n",
       "4  [listen, change, reload, container, code, chan...   \n",
       "\n",
       "                                         title_spacy  \\\n",
       "0                      [use, memset, handle, string]   \n",
       "1            [correct, spelling, keyboard, shortcut]   \n",
       "2                         [server, vscode, computer]   \n",
       "3                                           [forbid]   \n",
       "4  [listen, change, reload, container, code, chan...   \n",
       "\n",
       "                                          body_spacy   top_tags_30  \n",
       "0  [background, learn, learn, function, memset, f...         [c++]  \n",
       "1  [like, replace, word, recommend, correction, k...            []  \n",
       "2  [computer, open, project, server, url, want, u...            []  \n",
       "3  [django, error, try, post, javascript, django,...  [javascript]  \n",
       "4  [docker, compose, studio, docker, window, run,...            []  "
      ]
     },
     "metadata": {},
     "output_type": "display_data"
    }
   ],
   "source": [
    "NB_TAGS = 30\n",
    "\n",
    "training_df, test_df = create_top_n_tags_feature(data=raw_data, n=NB_TAGS, slice=1, df_freq=df_freq)\n",
    "\n",
    "print(training_df.shape)\n",
    "\n",
    "display(training_df.head())\n"
   ]
  },
  {
   "cell_type": "markdown",
   "metadata": {},
   "source": [
    "## 2 Static embedding : word vectors\n"
   ]
  },
  {
   "cell_type": "markdown",
   "metadata": {},
   "source": [
    "### 2.1 Using Pretrained, Third-Party Vectors\n"
   ]
  },
  {
   "cell_type": "code",
   "execution_count": 529,
   "metadata": {},
   "outputs": [
    {
     "name": "stdout",
     "output_type": "stream",
     "text": [
      "File already exists.\n"
     ]
    }
   ],
   "source": [
    "# 3 possibiltés :\n",
    "\n",
    "# - utiliser une modèle préentrainé\n",
    "# - utiliser une modèle préentrainé, en le tunant sur nos données\n",
    "# - faire notre propre encodage\n",
    "\n",
    "# a priori le plus intéressant pour nous est d'utiliser un modèle entrainé sur avec des ressources\n",
    "# très supérieures aux notres, on va donc se concentrer sur les 2 premières possibilités\n",
    "# (modèle préentrainé)\n",
    "\n",
    "\n",
    "# Destination path where the file will be saved\n",
    "output = \"GoogleNews-vectors-negative300.bin.gz\"\n",
    "\n",
    "# Check if the file already exists\n",
    "if not os.path.exists(output):\n",
    "    # URL of the file in Google Drive\n",
    "    url = \"https://drive.google.com/uc?id=1BpfbHu4denceXiv8yfdY3EHgjKIcULku\"\n",
    "\n",
    "    # Download the file from Google Drive\n",
    "    gdown.download(url, quiet=False)\n",
    "    print(\"File downloaded successfully.\")\n",
    "else:\n",
    "    print(\"File already exists.\")\n"
   ]
  },
  {
   "cell_type": "code",
   "execution_count": 530,
   "metadata": {},
   "outputs": [],
   "source": [
    "word_vectors = KeyedVectors.load_word2vec_format(output, binary=True, limit=200000)\n"
   ]
  },
  {
   "cell_type": "markdown",
   "metadata": {},
   "source": [
    "### 2.2 What a word vector looks like\n"
   ]
  },
  {
   "cell_type": "code",
   "execution_count": 531,
   "metadata": {},
   "outputs": [
    {
     "name": "stdout",
     "output_type": "stream",
     "text": [
      "Vector dimension: (300,)\n",
      "[-1.25976562e-01  2.53906250e-02  1.66992188e-01  5.50781250e-01\n",
      " -7.66601562e-02  1.28906250e-01  1.02539062e-01 -3.94821167e-04\n",
      "  1.21582031e-01  4.32128906e-02  1.72851562e-01 -6.83593750e-02\n",
      "  3.41796875e-01  8.39843750e-02  6.68945312e-02  2.67578125e-01\n",
      " -3.71093750e-02 -5.56640625e-02  1.80664062e-01  1.90429688e-02\n",
      " -5.07812500e-02  9.03320312e-03  1.76757812e-01  6.49414062e-02\n",
      " -6.25000000e-02 -9.42382812e-02 -9.71679688e-02  4.00390625e-01\n",
      "  1.15234375e-01  1.02539062e-01 -1.86767578e-02 -2.69531250e-01\n",
      "  1.80664062e-01  1.25000000e-01 -3.17382812e-02 -5.49316406e-02\n",
      "  3.45703125e-01 -1.57470703e-02  1.82390213e-05  2.07031250e-01\n",
      " -1.25976562e-01 -2.83203125e-01  2.00195312e-01  8.34960938e-02\n",
      " -4.73632812e-02 -3.11279297e-02 -2.61718750e-01  1.69921875e-01\n",
      " -2.02636719e-02  1.53320312e-01 -1.20605469e-01  3.75000000e-01\n",
      " -5.68847656e-02 -4.76074219e-03 -1.95312500e-01 -2.03125000e-01\n",
      "  3.00781250e-01 -1.01074219e-01 -3.18359375e-01 -9.03320312e-02\n",
      " -1.19140625e-01  1.95312500e-01 -8.78906250e-02  1.58203125e-01\n",
      "  1.51977539e-02 -1.60156250e-01 -3.30078125e-01 -4.66796875e-01\n",
      "  1.68945312e-01  2.23388672e-02  1.55273438e-01  1.08398438e-01\n",
      " -3.56445312e-02  9.13085938e-02 -8.69140625e-02 -1.20117188e-01\n",
      " -3.08593750e-01 -2.61230469e-02 -7.22656250e-02 -4.80468750e-01\n",
      "  3.78417969e-02 -1.35742188e-01 -1.02539062e-01 -2.91015625e-01\n",
      " -1.93359375e-01 -4.21875000e-01 -1.06445312e-01  3.55468750e-01\n",
      "  1.66992188e-01 -3.63159180e-03 -7.42187500e-02 -3.22265625e-01\n",
      " -7.51953125e-02 -8.25195312e-02 -2.91015625e-01 -1.25976562e-01\n",
      "  1.68457031e-02  5.00488281e-02  1.27929688e-01 -7.42187500e-02\n",
      " -1.30859375e-01 -2.46093750e-01  6.49414062e-02  1.53320312e-01\n",
      "  2.59765625e-01 -1.05468750e-01  3.57421875e-01 -4.29687500e-02\n",
      " -1.58203125e-01  8.20312500e-02 -5.98144531e-02 -2.34375000e-01\n",
      " -3.22265625e-01 -1.25976562e-01  5.39550781e-02 -1.87500000e-01\n",
      "  1.35742188e-01 -6.59179688e-02  8.36181641e-03 -1.84570312e-01\n",
      " -2.96875000e-01 -1.84570312e-01 -4.73632812e-02 -1.06445312e-01\n",
      " -6.93359375e-02  3.83300781e-02 -3.19824219e-02  3.63769531e-02\n",
      " -1.20117188e-01  1.76757812e-01 -1.15722656e-01  1.98974609e-02\n",
      "  8.64257812e-02  6.07910156e-02 -1.40625000e-01  3.30078125e-01\n",
      "  1.94335938e-01 -1.56250000e-01  3.92578125e-01  1.80816650e-03\n",
      "  7.27539062e-02 -2.53906250e-01 -3.54003906e-02  2.86865234e-03\n",
      " -1.72851562e-01  9.76562500e-03 -1.55639648e-02  3.23486328e-03\n",
      " -1.69921875e-01  1.55273438e-01  7.17773438e-02  4.10156250e-01\n",
      " -2.10937500e-01  1.31835938e-01  7.62939453e-03  4.78515625e-02\n",
      " -4.54101562e-02  7.32421875e-02 -4.06250000e-01 -2.06298828e-02\n",
      " -4.04296875e-01 -1.00585938e-01 -2.03125000e-01  1.55273438e-01\n",
      " -1.89453125e-01  6.59179688e-02  6.54296875e-02 -2.05078125e-01\n",
      "  5.46875000e-02 -3.06396484e-02 -1.54296875e-01 -2.61718750e-01\n",
      "  3.81469727e-03 -8.20312500e-02 -3.20312500e-01  2.84423828e-02\n",
      "  2.69531250e-01  1.73828125e-01 -1.66992188e-01  2.22656250e-01\n",
      "  6.34765625e-02 -1.96289062e-01  1.45507812e-01 -1.56250000e-02\n",
      "  2.60009766e-02 -6.29882812e-02  2.94189453e-02  3.28125000e-01\n",
      " -4.68750000e-02 -1.52343750e-01  6.98242188e-02  3.18359375e-01\n",
      " -1.08398438e-01  3.66210938e-02 -1.99218750e-01  1.64031982e-03\n",
      "  6.40869141e-03 -1.47460938e-01 -6.25000000e-02 -4.36401367e-03\n",
      " -2.75390625e-01  8.54492188e-02 -5.00488281e-02 -3.12500000e-01\n",
      " -1.33789062e-01 -1.99218750e-01  5.17578125e-02 -9.27734375e-02\n",
      " -2.40234375e-01 -7.86132812e-02 -1.54296875e-01 -6.64062500e-02\n",
      " -1.97265625e-01  1.76757812e-01 -1.57226562e-01 -1.63085938e-01\n",
      "  6.00585938e-02 -5.85937500e-02 -2.22656250e-01 -6.59179688e-02\n",
      " -9.37500000e-02 -4.14062500e-01  2.55859375e-01 -1.76757812e-01\n",
      "  2.51953125e-01  1.48437500e-01 -1.04492188e-01 -8.60595703e-03\n",
      " -1.22558594e-01 -9.22851562e-02  4.41894531e-02 -1.70898438e-01\n",
      " -1.98242188e-01  1.92382812e-01  2.85156250e-01 -4.34570312e-02\n",
      "  1.08398438e-01 -5.37109375e-02 -2.09960938e-02  1.46484375e-01\n",
      "  3.82812500e-01  2.31933594e-02 -8.83789062e-02  7.32421875e-02\n",
      " -1.01074219e-01 -1.06445312e-01  4.12109375e-01  2.10937500e-01\n",
      "  2.79296875e-01 -2.08740234e-02  2.07031250e-01  9.81445312e-02\n",
      "  2.39257812e-01  7.66601562e-02  2.02148438e-01 -6.07910156e-02\n",
      " -2.63977051e-03 -1.83593750e-01 -1.57470703e-02 -3.20312500e-01\n",
      "  9.03320312e-02  1.02050781e-01 -4.96093750e-01 -9.71679688e-02\n",
      " -8.10546875e-02 -1.80664062e-01 -1.45507812e-01  8.64257812e-02\n",
      " -2.04101562e-01 -2.02148438e-01 -5.46875000e-02  2.53906250e-01\n",
      "  2.08740234e-02 -1.15722656e-01  2.02148438e-01 -8.05664062e-02\n",
      " -1.04980469e-01 -7.95898438e-02  1.96533203e-02 -2.49023438e-01\n",
      "  1.30859375e-01  2.89062500e-01 -2.25585938e-01  4.55078125e-01\n",
      " -2.73437500e-01 -2.57812500e-01 -3.14941406e-02  4.04296875e-01\n",
      " -2.67578125e-01  2.89062500e-01 -1.83593750e-01 -1.48437500e-01\n",
      " -1.06933594e-01  1.27929688e-01  5.46875000e-01 -8.69140625e-02\n",
      " -1.48315430e-02  6.98242188e-02 -8.49609375e-02 -1.55273438e-01]\n"
     ]
    }
   ],
   "source": [
    "pizza = word_vectors['pizza']\n",
    "print(f'Vector dimension: {pizza.shape}')\n",
    "\n",
    "# The embedding for the word 'pizza'.\n",
    "print(pizza)\n"
   ]
  },
  {
   "cell_type": "markdown",
   "metadata": {},
   "source": [
    "### 2.3 compare two words\n"
   ]
  },
  {
   "cell_type": "code",
   "execution_count": 532,
   "metadata": {},
   "outputs": [
    {
     "name": "stdout",
     "output_type": "stream",
     "text": [
      "0.35505623\n",
      "0.3695989\n",
      "0.4708358\n"
     ]
    }
   ],
   "source": [
    "# Appétissant !\n",
    "\n",
    "print(word_vectors.similarity('pizza', 'tomato'))\n",
    "print(word_vectors.similarity('pizza', 'sauce'))\n",
    "print(word_vectors.similarity('pizza', 'cheese'))\n",
    "\n",
    "# Knew it ! Cheese is the most important. It's scientifically proven.\n"
   ]
  },
  {
   "cell_type": "code",
   "execution_count": 533,
   "metadata": {},
   "outputs": [
    {
     "name": "stdout",
     "output_type": "stream",
     "text": [
      "0.108518735\n",
      "0.11185603\n",
      "0.14119942\n"
     ]
    }
   ],
   "source": [
    "print(word_vectors.similarity('pizza', 'gorilla'))\n",
    "print(word_vectors.similarity('pizza', 'tree'))\n",
    "print(word_vectors.similarity('pizza', 'yoga'))\n",
    "\n",
    "# So pizza has more to do with trees than gorillas ?\n"
   ]
  },
  {
   "cell_type": "code",
   "execution_count": 534,
   "metadata": {},
   "outputs": [
    {
     "name": "stdout",
     "output_type": "stream",
     "text": [
      "0.549539\n",
      "0.12199123\n",
      "0.33437246\n",
      "0.23539218\n"
     ]
    }
   ],
   "source": [
    "# On our data\n",
    "\n",
    "print(word_vectors.similarity('html', 'javascript'))\n",
    "print(word_vectors.similarity('python', 'javascript'))\n",
    "print(word_vectors.similarity('java', 'javascript')) # bien vu !\n",
    "print(word_vectors.similarity('html', 'android'))\n"
   ]
  },
  {
   "cell_type": "markdown",
   "metadata": {},
   "source": [
    "### 2.4 OOV\n"
   ]
  },
  {
   "cell_type": "code",
   "execution_count": 535,
   "metadata": {},
   "outputs": [
    {
     "name": "stdout",
     "output_type": "stream",
     "text": [
      "\"Key 'womblyboo' not present\"\n"
     ]
    }
   ],
   "source": [
    "try:\n",
    "  word_vectors['womblyboo']\n",
    "except KeyError as e:\n",
    "  print(e)\n",
    "\n",
    "#\n"
   ]
  },
  {
   "cell_type": "markdown",
   "metadata": {},
   "source": [
    "### 2.5 Compare two sentences\n"
   ]
  },
  {
   "cell_type": "code",
   "execution_count": 536,
   "metadata": {},
   "outputs": [
    {
     "data": {
      "text/plain": [
       "0.5314661"
      ]
     },
     "execution_count": 536,
     "metadata": {},
     "output_type": "execute_result"
    }
   ],
   "source": [
    "word_vectors.n_similarity(\"dog bites man\".split(), \"canine nips human\".split())\n"
   ]
  },
  {
   "cell_type": "code",
   "execution_count": 537,
   "metadata": {},
   "outputs": [
    {
     "data": {
      "text/plain": [
       "0.14505778"
      ]
     },
     "execution_count": 537,
     "metadata": {},
     "output_type": "execute_result"
    }
   ],
   "source": [
    "word_vectors.n_similarity(\"martian dolphins are hostile\".split(), \"i flunked calligraphy school\".split())\n"
   ]
  },
  {
   "cell_type": "code",
   "execution_count": 538,
   "metadata": {},
   "outputs": [
    {
     "data": {
      "text/plain": [
       "1.0"
      ]
     },
     "execution_count": 538,
     "metadata": {},
     "output_type": "execute_result"
    }
   ],
   "source": [
    "word_vectors.n_similarity(\"dog bites man\".split(), \"man bites dog\".split())\n",
    "# Same\n"
   ]
  },
  {
   "cell_type": "code",
   "execution_count": 539,
   "metadata": {},
   "outputs": [
    {
     "data": {
      "text/plain": [
       "0.52682734"
      ]
     },
     "execution_count": 539,
     "metadata": {},
     "output_type": "execute_result"
    }
   ],
   "source": [
    "s1 = \"Volkswagen intends to double electric car sales in China\".lower().split()\n",
    "s2 = \"First Toyota with solid state battery will be hybrid\".lower().split()\n",
    "word_vectors.n_similarity(s1, s2)\n"
   ]
  },
  {
   "cell_type": "code",
   "execution_count": 540,
   "metadata": {},
   "outputs": [
    {
     "name": "stdout",
     "output_type": "stream",
     "text": [
      "Didn't find class \"com.google.firebase.provider.FirebaseInitProvider\"\n",
      "Why do I get `java.lang.NoClassDefFoundError: scala/Function1` when I run my code in ScalaIDE?\n"
     ]
    },
    {
     "data": {
      "text/plain": [
       "0.97507775"
      ]
     },
     "execution_count": 540,
     "metadata": {},
     "output_type": "execute_result"
    }
   ],
   "source": [
    "# Test on our data\n",
    "\n",
    "s1 = test_df['title'][0]\n",
    "print(s1)\n",
    "s2 = test_df['title'][1]\n",
    "print(s2)\n",
    "\n",
    "word_vectors.n_similarity(s1, s2)\n"
   ]
  },
  {
   "cell_type": "markdown",
   "metadata": {},
   "source": [
    "### 2.6 most_similar, doesnt_match\n"
   ]
  },
  {
   "cell_type": "code",
   "execution_count": 541,
   "metadata": {},
   "outputs": [
    {
     "data": {
      "text/plain": [
       "[('cells', 0.8180485963821411),\n",
       " ('Cells', 0.6146953105926514),\n",
       " ('Cell', 0.532131552696228),\n",
       " ('cellular', 0.5272858738899231),\n",
       " ('tumor_cells', 0.5097642540931702),\n",
       " ('ES_cells', 0.4866572618484497),\n",
       " ('immune_cells', 0.48319193720817566),\n",
       " ('epithelial_cells', 0.4781806468963623),\n",
       " ('molecule', 0.47757473587989807),\n",
       " ('proteins', 0.47494736313819885)]"
      ]
     },
     "execution_count": 541,
     "metadata": {},
     "output_type": "execute_result"
    }
   ],
   "source": [
    "word_vectors.most_similar(positive=['cell'], topn=10)\n"
   ]
  },
  {
   "cell_type": "code",
   "execution_count": 542,
   "metadata": {},
   "outputs": [
    {
     "data": {
      "text/plain": [
       "[('cell_phone', 0.6861390471458435),\n",
       " ('cellular', 0.6757438778877258),\n",
       " ('cellphone', 0.6633196473121643),\n",
       " ('telephone', 0.6474040150642395),\n",
       " ('Phone', 0.6051893830299377),\n",
       " ('phones', 0.5896332859992981),\n",
       " ('cells', 0.5850948095321655),\n",
       " ('cordless_phone', 0.5711769461631775),\n",
       " ('Cell', 0.561764121055603),\n",
       " ('landline', 0.546729564666748)]"
      ]
     },
     "execution_count": 542,
     "metadata": {},
     "output_type": "execute_result"
    }
   ],
   "source": [
    "word_vectors.most_similar(positive=['cell', 'phone'], topn=10)\n"
   ]
  },
  {
   "cell_type": "code",
   "execution_count": 543,
   "metadata": {},
   "outputs": [
    {
     "data": {
      "text/plain": [
       "'hamburger'"
      ]
     },
     "execution_count": 543,
     "metadata": {},
     "output_type": "execute_result"
    }
   ],
   "source": [
    "# doublt we'll use this one, but funny :\n",
    "\n",
    "word_vectors.doesnt_match([\"apple\", \"orange\", \"hamburger\", \"banana\", \"kiwi\"])\n"
   ]
  },
  {
   "cell_type": "code",
   "execution_count": 544,
   "metadata": {},
   "outputs": [
    {
     "data": {
      "text/plain": [
       "'Toyota'"
      ]
     },
     "execution_count": 544,
     "metadata": {},
     "output_type": "execute_result"
    }
   ],
   "source": [
    "word_vectors.doesnt_match([\"Microsoft\", \"Apple\", \"Toyota\", \"Amazon\", \"Netflix\", \"Google\"])\n"
   ]
  },
  {
   "cell_type": "markdown",
   "metadata": {},
   "source": [
    "### 2.7 Visualisons\n"
   ]
  },
  {
   "cell_type": "code",
   "execution_count": 545,
   "metadata": {},
   "outputs": [],
   "source": [
    "def display_pca_scatterplot(model, words):\n",
    "    word_vectors = np.array([model[w] for w in words])\n",
    "\n",
    "    twodim = PCA().fit_transform(word_vectors)[:,:2]\n",
    "\n",
    "    plt.figure(figsize=(10,10))\n",
    "    plt.scatter(twodim[:,0], twodim[:,1], edgecolors='k', c='r', s=128)\n",
    "    for word, (x,y) in zip(words, twodim):\n",
    "        plt.text(x+0.05, y+0.05, word)"
   ]
  },
  {
   "cell_type": "code",
   "execution_count": 546,
   "metadata": {},
   "outputs": [
    {
     "data": {
      "image/png": "[encoded data removed]",
      "text/plain": [
       "<Figure size 1000x1000 with 1 Axes>"
      ]
     },
     "metadata": {},
     "output_type": "display_data"
    }
   ],
   "source": [
    "display_pca_scatterplot(word_vectors, ['swim', 'swimming', 'cat', 'dog', 'feline', 'road', 'car', 'bus'])\n"
   ]
  },
  {
   "cell_type": "code",
   "execution_count": 547,
   "metadata": {},
   "outputs": [
    {
     "data": {
      "text/plain": [
       "[('UK', 0.623056948184967),\n",
       " ('Britain', 0.6016389727592468),\n",
       " ('United_Kingdom', 0.5343458652496338)]"
      ]
     },
     "execution_count": 547,
     "metadata": {},
     "output_type": "execute_result"
    }
   ],
   "source": [
    "word_vectors.most_similar(positive=['Italy', 'London'], negative=['Rome'], topn=3)\n"
   ]
  },
  {
   "cell_type": "code",
   "execution_count": 548,
   "metadata": {},
   "outputs": [
    {
     "data": {
      "image/png": "[encoded data removed]",
      "text/plain": [
       "<Figure size 1000x1000 with 1 Axes>"
      ]
     },
     "metadata": {},
     "output_type": "display_data"
    }
   ],
   "source": [
    "display_pca_scatterplot(word_vectors, ['Rome', 'Italy', 'London', 'Britain', 'UK'])\n"
   ]
  },
  {
   "cell_type": "markdown",
   "metadata": {},
   "source": [
    "## 3 Using Pretrained Word Vectors for Classification\n"
   ]
  },
  {
   "cell_type": "code",
   "execution_count": 549,
   "metadata": {},
   "outputs": [
    {
     "name": "stdout",
     "output_type": "stream",
     "text": [
      "3000000\n"
     ]
    }
   ],
   "source": [
    "word_vectors = KeyedVectors.load_word2vec_format(output, binary=True) # limit=None\n",
    "\n",
    "print(len(word_vectors))\n"
   ]
  },
  {
   "cell_type": "markdown",
   "metadata": {},
   "source": [
    "### 3.1 validation set\n"
   ]
  },
  {
   "cell_type": "code",
   "execution_count": 550,
   "metadata": {},
   "outputs": [
    {
     "data": {
      "text/html": [
       "<div>\n",
       "<style scoped>\n",
       "    .dataframe tbody tr th:only-of-type {\n",
       "        vertical-align: middle;\n",
       "    }\n",
       "\n",
       "    .dataframe tbody tr th {\n",
       "        vertical-align: top;\n",
       "    }\n",
       "\n",
       "    .dataframe thead th {\n",
       "        text-align: right;\n",
       "    }\n",
       "</style>\n",
       "<table border=\"1\" class=\"dataframe\">\n",
       "  <thead>\n",
       "    <tr style=\"text-align: right;\">\n",
       "      <th></th>\n",
       "      <th>CreationDate</th>\n",
       "      <th>title</th>\n",
       "      <th>body</th>\n",
       "      <th>all_tags</th>\n",
       "      <th>title_nltk</th>\n",
       "      <th>body_nltk</th>\n",
       "      <th>title_spacy</th>\n",
       "      <th>body_spacy</th>\n",
       "      <th>top_tags_30</th>\n",
       "    </tr>\n",
       "  </thead>\n",
       "  <tbody>\n",
       "    <tr>\n",
       "      <th>0</th>\n",
       "      <td>2016-12-09 17:32:04</td>\n",
       "      <td>Gradle: MessageIOException: Could not write me...</td>\n",
       "      <td>I wrote a simple test project, which opens por...</td>\n",
       "      <td>[java, sockets, gradle, firewall, apache-mina]</td>\n",
       "      <td>[write, message, firewall]</td>\n",
       "      <td>[write, message, firewall, write, test, projec...</td>\n",
       "      <td>[gradle, write, message]</td>\n",
       "      <td>[write, test, project, open, port, time, exit,...</td>\n",
       "      <td>[java]</td>\n",
       "    </tr>\n",
       "    <tr>\n",
       "      <th>1</th>\n",
       "      <td>2016-01-14 08:31:08</td>\n",
       "      <td>User is not authorized to perform: dynamodb:Pu...</td>\n",
       "      <td>I am trying to access DynamoDB from my Node ap...</td>\n",
       "      <td>[node.js, amazon-web-services, amazon-dynamodb...</td>\n",
       "      <td>[user, authorize, perform, resource]</td>\n",
       "      <td>[user, authorize, perform, resource, try, acce...</td>\n",
       "      <td>[user, authorize, perform, dynamodb, resource]</td>\n",
       "      <td>[try, access, dynamodb, app, deploy, error, au...</td>\n",
       "      <td>[node.js]</td>\n",
       "    </tr>\n",
       "    <tr>\n",
       "      <th>2</th>\n",
       "      <td>2013-08-27 11:29:34</td>\n",
       "      <td>How can I change the scroll direction in UICol...</td>\n",
       "      <td>I have a UICollectionView in my storyboard bas...</td>\n",
       "      <td>[ios, objective-c, scroll, uicollectionview, o...</td>\n",
       "      <td>[change, scroll, direction, uicollectionview]</td>\n",
       "      <td>[change, scroll, direction, uicollectionview, ...</td>\n",
       "      <td>[change, scroll, direction]</td>\n",
       "      <td>[uicollectionview, storyboard, base, app, devi...</td>\n",
       "      <td>[ios, objective-c]</td>\n",
       "    </tr>\n",
       "    <tr>\n",
       "      <th>3</th>\n",
       "      <td>2012-03-06 18:05:30</td>\n",
       "      <td>Splash screen while loading a url in a webview...</td>\n",
       "      <td>I've got an app, that has 2 activity, the firs...</td>\n",
       "      <td>[android, android-activity, webview, screen, s...</td>\n",
       "      <td>[splash, screen, load, url, webview, app]</td>\n",
       "      <td>[splash, screen, load, url, webview, app, get,...</td>\n",
       "      <td>[splash, screen, load, url, webview, app]</td>\n",
       "      <td>[app, activity, launch, load, url, webview, wo...</td>\n",
       "      <td>[android]</td>\n",
       "    </tr>\n",
       "    <tr>\n",
       "      <th>4</th>\n",
       "      <td>2012-10-23 16:47:04</td>\n",
       "      <td>django ajax post 403 forbidden</td>\n",
       "      <td>using django 1.4 im getting a 403 error when i...</td>\n",
       "      <td>[javascript, ajax, django, http-post, http-sta...</td>\n",
       "      <td>[django, ajax, forbidden]</td>\n",
       "      <td>[django, ajax, im, get, error, try, post, java...</td>\n",
       "      <td>[forbid]</td>\n",
       "      <td>[django, error, try, post, javascript, django,...</td>\n",
       "      <td>[javascript]</td>\n",
       "    </tr>\n",
       "  </tbody>\n",
       "</table>\n",
       "</div>"
      ],
      "text/plain": [
       "          CreationDate                                              title  \\\n",
       "0  2016-12-09 17:32:04  Gradle: MessageIOException: Could not write me...   \n",
       "1  2016-01-14 08:31:08  User is not authorized to perform: dynamodb:Pu...   \n",
       "2  2013-08-27 11:29:34  How can I change the scroll direction in UICol...   \n",
       "3  2012-03-06 18:05:30  Splash screen while loading a url in a webview...   \n",
       "4  2012-10-23 16:47:04                     django ajax post 403 forbidden   \n",
       "\n",
       "                                                body  \\\n",
       "0  I wrote a simple test project, which opens por...   \n",
       "1  I am trying to access DynamoDB from my Node ap...   \n",
       "2  I have a UICollectionView in my storyboard bas...   \n",
       "3  I've got an app, that has 2 activity, the firs...   \n",
       "4  using django 1.4 im getting a 403 error when i...   \n",
       "\n",
       "                                            all_tags  \\\n",
       "0     [java, sockets, gradle, firewall, apache-mina]   \n",
       "1  [node.js, amazon-web-services, amazon-dynamodb...   \n",
       "2  [ios, objective-c, scroll, uicollectionview, o...   \n",
       "3  [android, android-activity, webview, screen, s...   \n",
       "4  [javascript, ajax, django, http-post, http-sta...   \n",
       "\n",
       "                                      title_nltk  \\\n",
       "0                     [write, message, firewall]   \n",
       "1           [user, authorize, perform, resource]   \n",
       "2  [change, scroll, direction, uicollectionview]   \n",
       "3      [splash, screen, load, url, webview, app]   \n",
       "4                      [django, ajax, forbidden]   \n",
       "\n",
       "                                           body_nltk  \\\n",
       "0  [write, message, firewall, write, test, projec...   \n",
       "1  [user, authorize, perform, resource, try, acce...   \n",
       "2  [change, scroll, direction, uicollectionview, ...   \n",
       "3  [splash, screen, load, url, webview, app, get,...   \n",
       "4  [django, ajax, im, get, error, try, post, java...   \n",
       "\n",
       "                                      title_spacy  \\\n",
       "0                        [gradle, write, message]   \n",
       "1  [user, authorize, perform, dynamodb, resource]   \n",
       "2                     [change, scroll, direction]   \n",
       "3       [splash, screen, load, url, webview, app]   \n",
       "4                                        [forbid]   \n",
       "\n",
       "                                          body_spacy         top_tags_30  \n",
       "0  [write, test, project, open, port, time, exit,...              [java]  \n",
       "1  [try, access, dynamodb, app, deploy, error, au...           [node.js]  \n",
       "2  [uicollectionview, storyboard, base, app, devi...  [ios, objective-c]  \n",
       "3  [app, activity, launch, load, url, webview, wo...           [android]  \n",
       "4  [django, error, try, post, javascript, django,...        [javascript]  "
      ]
     },
     "metadata": {},
     "output_type": "display_data"
    }
   ],
   "source": [
    "train_df, val_df = train_test_split(training_df, train_size=0.9, random_state=1)\n",
    "\n",
    "train_df.reset_index(drop=True, inplace=True)\n",
    "val_df.reset_index(drop=True, inplace=True)\n",
    "\n",
    "display(train_df.head())\n"
   ]
  },
  {
   "cell_type": "code",
   "execution_count": 551,
   "metadata": {},
   "outputs": [],
   "source": [
    "# Set up training data.\n",
    "\n",
    "feature = 'title' # on va testeer le tokenizer de keras\n",
    "target = 'top_tags_' + str(NB_TAGS)\n",
    "\n",
    "X_train = train_df[feature].values\n",
    "y_train = train_df[target].tolist()\n",
    "\n",
    "# Set up validation data.\n",
    "X_val = val_df[feature].values\n",
    "y_val = val_df[target].tolist()\n"
   ]
  },
  {
   "cell_type": "code",
   "execution_count": 552,
   "metadata": {},
   "outputs": [
    {
     "name": "stdout",
     "output_type": "stream",
     "text": [
      "[[0 0 0 ... 0 0 0]\n",
      " [0 0 0 ... 0 0 0]\n",
      " [0 0 0 ... 0 0 0]\n",
      " ...\n",
      " [0 0 0 ... 0 0 0]\n",
      " [0 0 0 ... 0 0 0]\n",
      " [0 0 0 ... 0 0 0]]\n"
     ]
    }
   ],
   "source": [
    "# encodage target\n",
    "\n",
    "def target_encoding(y):\n",
    "    # Target encoding\n",
    "    mlb = MultiLabelBinarizer()\n",
    "    y_encoded = mlb.fit_transform(y)\n",
    "\n",
    "    return y_encoded\n",
    "\n",
    "\n",
    "y_train_encoded = target_encoding(y_train)\n",
    "y_val_encoded = target_encoding(y_val)\n",
    "\n",
    "print(y_train_encoded)\n"
   ]
  },
  {
   "cell_type": "markdown",
   "metadata": {},
   "source": [
    "### 3.2 tokenization\n"
   ]
  },
  {
   "cell_type": "code",
   "execution_count": 553,
   "metadata": {},
   "outputs": [],
   "source": [
    "tokenizer = keras.preprocessing.text.Tokenizer(num_words=20000,\n",
    "                                               filters='0123456789!\"#$%&()*+,-./:;<=>?@[\\]^_`{|}~',\n",
    "                                               lower=True)\n",
    "\n",
    "tokenizer.fit_on_texts(X_train)\n"
   ]
  },
  {
   "cell_type": "code",
   "execution_count": 554,
   "metadata": {},
   "outputs": [
    {
     "name": "stdout",
     "output_type": "stream",
     "text": [
      "[217, 9062, 143, 12, 259, 291, 9063, 1, 2979]\n",
      "['gradle', 'messageioexception', 'could']\n"
     ]
    }
   ],
   "source": [
    "X_train_tokens = tokenizer.texts_to_sequences(X_train)\n",
    "\n",
    "print(X_train_tokens[0])\n",
    "print([tokenizer.index_word[x] for x in X_train_tokens[0][:3]])\n"
   ]
  },
  {
   "cell_type": "code",
   "execution_count": 555,
   "metadata": {},
   "outputs": [
    {
     "data": {
      "text/plain": [
       "'gradle messageioexception could not write message endofstream to firewall'"
      ]
     },
     "execution_count": 555,
     "metadata": {},
     "output_type": "execute_result"
    }
   ],
   "source": [
    "# Review excerpt reconstructed from integer sequence.\n",
    "tokenizer.sequences_to_texts([X_train_tokens[0]])[0][:300]\n"
   ]
  },
  {
   "cell_type": "code",
   "execution_count": 556,
   "metadata": {},
   "outputs": [
    {
     "data": {
      "text/plain": [
       "'Gradle: MessageIOException: Could not write message [EndOfStream] to 127.0.0.1 (Firewall)?'"
      ]
     },
     "execution_count": 556,
     "metadata": {},
     "output_type": "execute_result"
    }
   ],
   "source": [
    "# Original review text.\n",
    "train_df[feature].iloc[0][:300]\n"
   ]
  },
  {
   "cell_type": "code",
   "execution_count": 557,
   "metadata": {},
   "outputs": [
    {
     "name": "stdout",
     "output_type": "stream",
     "text": [
      "Mean number of tokens: 9.317162246166598\n",
      "Median number of tokens: 9.0\n",
      "Mode number of tokens: 8\n",
      "Standard deviation of tokens: 3.5402243817617434\n"
     ]
    }
   ],
   "source": [
    "# Get the number of tokens for each text\n",
    "num_tokens = [len(tokens) for tokens in tokenizer.texts_to_sequences(X_train)]\n",
    "\n",
    "# Calculate statistics\n",
    "mean_tokens = np.mean(num_tokens)\n",
    "median_tokens = np.median(num_tokens)\n",
    "mode_tokens = max(set(num_tokens), key=num_tokens.count)\n",
    "std_tokens = np.std(num_tokens)\n",
    "\n",
    "# Print statistics\n",
    "print(\"Mean number of tokens:\", mean_tokens)\n",
    "print(\"Median number of tokens:\", median_tokens)\n",
    "print(\"Mode number of tokens:\", mode_tokens)\n",
    "print(\"Standard deviation of tokens:\", std_tokens)\n"
   ]
  },
  {
   "cell_type": "code",
   "execution_count": 558,
   "metadata": {},
   "outputs": [
    {
     "name": "stdout",
     "output_type": "stream",
     "text": [
      "         num_tokens\n",
      "count  38608.000000\n",
      "mean       9.317162\n",
      "std        3.540270\n",
      "min        2.000000\n",
      "25%        7.000000\n",
      "50%        9.000000\n",
      "75%       11.000000\n",
      "max       29.000000\n"
     ]
    }
   ],
   "source": [
    "# Convert list to DataFrame\n",
    "df_num_tokens = pd.DataFrame(num_tokens, columns=['num_tokens'])\n",
    "\n",
    "# Use describe() to get summary statistics\n",
    "summary_stats = df_num_tokens.describe()\n",
    "\n",
    "print(summary_stats)\n"
   ]
  },
  {
   "cell_type": "code",
   "execution_count": 559,
   "metadata": {},
   "outputs": [
    {
     "name": "stdout",
     "output_type": "stream",
     "text": [
      "        num_tokens\n",
      "count  8935.000000\n",
      "mean     14.357023\n",
      "std       2.634455\n",
      "min      12.000000\n",
      "25%      12.000000\n",
      "50%      14.000000\n",
      "75%      15.000000\n",
      "max      29.000000\n"
     ]
    }
   ],
   "source": [
    "summary_stats = df_num_tokens.loc[df_num_tokens['num_tokens'] > 11, :].describe()\n",
    "\n",
    "print(summary_stats)\n",
    "\n",
    "# OK on va prendre jusqu'à 15 inclus\n"
   ]
  },
  {
   "cell_type": "markdown",
   "metadata": {},
   "source": [
    "### 3.3 Padding\n"
   ]
  },
  {
   "cell_type": "code",
   "execution_count": 560,
   "metadata": {},
   "outputs": [],
   "source": [
    "# Pas indispensable ici, mais bientôt utile\n",
    "\n",
    "MAX_LEN = 15\n",
    "X_train = keras.preprocessing.sequence.pad_sequences(X_train_tokens, maxlen=MAX_LEN)\n"
   ]
  },
  {
   "cell_type": "code",
   "execution_count": 561,
   "metadata": {},
   "outputs": [
    {
     "name": "stdout",
     "output_type": "stream",
     "text": [
      "[   0    0    0    0    0    0  217 9062  143   12  259  291 9063    1\n",
      " 2979]\n",
      "[   0    0    0    0    0  132    9   12 3160    1  748 2019 9064   11\n",
      "  407]\n"
     ]
    }
   ],
   "source": [
    "print(X_train[0])\n",
    "print(X_train[1])\n"
   ]
  },
  {
   "cell_type": "code",
   "execution_count": 562,
   "metadata": {},
   "outputs": [],
   "source": [
    "X_val = tokenizer.texts_to_sequences(X_val)\n",
    "X_val = keras.preprocessing.sequence.pad_sequences(X_val, maxlen=MAX_LEN)\n"
   ]
  },
  {
   "cell_type": "markdown",
   "metadata": {},
   "source": [
    "### 3.4 embedding matrix\n"
   ]
  },
  {
   "cell_type": "code",
   "execution_count": 563,
   "metadata": {},
   "outputs": [
    {
     "name": "stdout",
     "output_type": "stream",
     "text": [
      "17894\n"
     ]
    }
   ],
   "source": [
    "# + 1 to account for padding token.\n",
    "num_tokens = len(tokenizer.word_index) + 1\n",
    "print(num_tokens)\n",
    "\n",
    "# Initialize a matrix of zeroes of size: vocabulary x embedding dimension.\n",
    "embedding_dim = 300\n",
    "embedding_matrix = np.zeros((num_tokens, embedding_dim))\n",
    "\n",
    "for word, i in tokenizer.word_index.items():\n",
    "  if word_vectors.has_index_for(word):\n",
    "    embedding_matrix[i] = word_vectors[word].copy()\n"
   ]
  },
  {
   "cell_type": "code",
   "execution_count": 564,
   "metadata": {},
   "outputs": [
    {
     "name": "stdout",
     "output_type": "stream",
     "text": [
      "[ 0.04052734  0.0625     -0.01745605  0.07861328  0.03271484 -0.01263428\n",
      "  0.00964355  0.12353516 -0.02148438  0.15234375 -0.05834961 -0.10644531\n",
      "  0.02124023  0.13574219 -0.13183594  0.17675781  0.27148438  0.13769531\n",
      " -0.17382812 -0.14160156 -0.03076172  0.19628906 -0.03295898  0.125\n",
      "  0.25390625  0.12695312 -0.15234375  0.03198242  0.01135254 -0.01361084\n",
      " -0.12890625  0.01019287  0.23925781 -0.08447266  0.140625    0.13085938\n",
      " -0.04516602  0.06494141  0.02539062  0.05615234  0.24609375 -0.20507812\n",
      "  0.23632812 -0.00860596 -0.02294922  0.05078125  0.10644531 -0.03564453\n",
      "  0.08740234 -0.05712891]\n"
     ]
    }
   ],
   "source": [
    "# Quick visual check.\n",
    "print(embedding_matrix[tokenizer.word_index['good']][:50])\n"
   ]
  },
  {
   "cell_type": "markdown",
   "metadata": {},
   "source": [
    "### 3.5 trainable embedding layer\n"
   ]
  },
  {
   "cell_type": "code",
   "execution_count": 565,
   "metadata": {},
   "outputs": [],
   "source": [
    "#\n",
    "trainable=False\n",
    "\n",
    "embedding_layer = layers.Embedding(\n",
    "    num_tokens,\n",
    "    embedding_dim,\n",
    "    embeddings_initializer=keras.initializers.Constant(embedding_matrix),\n",
    "    input_length=MAX_LEN,\n",
    "    trainable=trainable\n",
    ")\n"
   ]
  },
  {
   "cell_type": "markdown",
   "metadata": {},
   "source": [
    "### 3.6 custom metric : jaccard\n"
   ]
  },
  {
   "cell_type": "code",
   "execution_count": 566,
   "metadata": {},
   "outputs": [],
   "source": [
    "# Define Jaccard similarity coefficient as a custom metric\n",
    "# + compact que ma version.\n",
    "# moins lisible ^^\n",
    "\n",
    "\n",
    "def jaccard_similarity(y_pred, y_true):\n",
    "    intersection = tf.reduce_sum(tf.cast(y_true * y_pred, dtype=tf.float32))\n",
    "    union = tf.reduce_sum(tf.cast(tf.clip_by_value(y_true + y_pred, 0, 1), dtype=tf.float32))\n",
    "    return intersection / (union + tf.keras.backend.epsilon())\n",
    "\n",
    "\n",
    "# Compile model with custom metric\n",
    "# model.compile(optimizer='adam', loss='binary_crossentropy', metrics=['accuracy', jaccard_similarity])\n"
   ]
  },
  {
   "cell_type": "markdown",
   "metadata": {},
   "source": [
    "### 3.7 compilation d'un premier modele\n"
   ]
  },
  {
   "cell_type": "code",
   "execution_count": 567,
   "metadata": {},
   "outputs": [],
   "source": [
    "tf.random.set_seed(0)\n",
    "\n",
    "model = keras.Sequential()\n",
    "\n",
    "# This layer will output a sequence of 300-dimension *vectors*, one for each element in the input sequence.\n",
    "model.add(embedding_layer)\n",
    "\n",
    "# This layer will calculate an average of those vectors.\n",
    "model.add(layers.GlobalAveragePooling1D())\n",
    "\n",
    "model.add(layers.Dense(150, activation='relu', kernel_initializer=tf.keras.initializers.random_normal(seed=1)))\n",
    "model.add(layers.Dense(75, activation='relu', kernel_initializer=tf.keras.initializers.random_normal(seed=1)))\n",
    "model.add(layers.Dense(NB_TAGS, activation='sigmoid', kernel_initializer=tf.keras.initializers.random_normal(seed=1)))\n",
    "\n",
    "model.compile(optimizer='adam',\n",
    "              loss='binary_crossentropy',\n",
    "              metrics=['accuracy', jaccard_similarity])\n"
   ]
  },
  {
   "cell_type": "code",
   "execution_count": 568,
   "metadata": {},
   "outputs": [
    {
     "name": "stdout",
     "output_type": "stream",
     "text": [
      "Model: \"sequential_25\"\n",
      "_________________________________________________________________\n",
      " Layer (type)                Output Shape              Param #   \n",
      "=================================================================\n",
      " embedding_24 (Embedding)    (None, 15, 300)           5368200   \n",
      "                                                                 \n",
      " global_average_pooling1d_25  (None, 300)              0         \n",
      "  (GlobalAveragePooling1D)                                       \n",
      "                                                                 \n",
      " dense_75 (Dense)            (None, 150)               45150     \n",
      "                                                                 \n",
      " dense_76 (Dense)            (None, 75)                11325     \n",
      "                                                                 \n",
      " dense_77 (Dense)            (None, 30)                2280      \n",
      "                                                                 \n",
      "=================================================================\n",
      "Total params: 5,426,955\n",
      "Trainable params: 58,755\n",
      "Non-trainable params: 5,368,200\n",
      "_________________________________________________________________\n"
     ]
    }
   ],
   "source": [
    "model.summary()\n"
   ]
  },
  {
   "cell_type": "code",
   "execution_count": 569,
   "metadata": {},
   "outputs": [
    {
     "name": "stdout",
     "output_type": "stream",
     "text": [
      "Epoch 1/20\n",
      " 3/76 [>.............................] - ETA: 1s - loss: 0.6916 - accuracy: 0.0293 - jaccard_similarity: 0.0407  "
     ]
    },
    {
     "name": "stdout",
     "output_type": "stream",
     "text": [
      "76/76 [==============================] - 2s 19ms/step - loss: 0.3511 - accuracy: 0.0516 - jaccard_similarity: 0.0370 - val_loss: 0.1842 - val_accuracy: 0.0886 - val_jaccard_similarity: 0.0428\n",
      "Epoch 2/20\n",
      "76/76 [==============================] - 2s 26ms/step - loss: 0.1808 - accuracy: 0.0986 - jaccard_similarity: 0.0383 - val_loss: 0.1764 - val_accuracy: 0.0872 - val_jaccard_similarity: 0.0376\n",
      "Epoch 3/20\n",
      "76/76 [==============================] - 2s 29ms/step - loss: 0.1726 - accuracy: 0.1012 - jaccard_similarity: 0.0377 - val_loss: 0.1689 - val_accuracy: 0.0942 - val_jaccard_similarity: 0.0376\n",
      "Epoch 4/20\n",
      "76/76 [==============================] - 1s 17ms/step - loss: 0.1672 - accuracy: 0.1068 - jaccard_similarity: 0.0378 - val_loss: 0.1662 - val_accuracy: 0.1065 - val_jaccard_similarity: 0.0383\n",
      "Epoch 5/20\n",
      "76/76 [==============================] - 1s 15ms/step - loss: 0.1654 - accuracy: 0.1154 - jaccard_similarity: 0.0391 - val_loss: 0.1643 - val_accuracy: 0.1210 - val_jaccard_similarity: 0.0405\n",
      "Epoch 6/20\n",
      "76/76 [==============================] - 1s 17ms/step - loss: 0.1628 - accuracy: 0.1343 - jaccard_similarity: 0.0441 - val_loss: 0.1612 - val_accuracy: 0.1343 - val_jaccard_similarity: 0.0488\n",
      "Epoch 7/20\n",
      "76/76 [==============================] - 2s 21ms/step - loss: 0.1591 - accuracy: 0.1468 - jaccard_similarity: 0.0543 - val_loss: 0.1577 - val_accuracy: 0.1839 - val_jaccard_similarity: 0.0566\n",
      "Epoch 8/20\n",
      "76/76 [==============================] - 2s 31ms/step - loss: 0.1556 - accuracy: 0.1858 - jaccard_similarity: 0.0626 - val_loss: 0.1535 - val_accuracy: 0.2093 - val_jaccard_similarity: 0.0659\n",
      "Epoch 9/20\n",
      "76/76 [==============================] - 2s 25ms/step - loss: 0.1495 - accuracy: 0.2086 - jaccard_similarity: 0.0746 - val_loss: 0.1459 - val_accuracy: 0.2249 - val_jaccard_similarity: 0.0834\n",
      "Epoch 10/20\n",
      "76/76 [==============================] - 2s 21ms/step - loss: 0.1430 - accuracy: 0.2262 - jaccard_similarity: 0.0922 - val_loss: 0.1403 - val_accuracy: 0.2403 - val_jaccard_similarity: 0.0975\n",
      "Epoch 11/20\n",
      "76/76 [==============================] - 2s 27ms/step - loss: 0.1379 - accuracy: 0.2454 - jaccard_similarity: 0.1064 - val_loss: 0.1363 - val_accuracy: 0.2622 - val_jaccard_similarity: 0.1102\n",
      "Epoch 12/20\n",
      "76/76 [==============================] - 2s 25ms/step - loss: 0.1341 - accuracy: 0.2631 - jaccard_similarity: 0.1186 - val_loss: 0.1331 - val_accuracy: 0.2753 - val_jaccard_similarity: 0.1207\n",
      "Epoch 13/20\n",
      "76/76 [==============================] - 2s 23ms/step - loss: 0.1313 - accuracy: 0.2739 - jaccard_similarity: 0.1272 - val_loss: 0.1309 - val_accuracy: 0.2814 - val_jaccard_similarity: 0.1289\n",
      "Epoch 14/20\n",
      "76/76 [==============================] - 2s 22ms/step - loss: 0.1292 - accuracy: 0.2811 - jaccard_similarity: 0.1341 - val_loss: 0.1289 - val_accuracy: 0.2881 - val_jaccard_similarity: 0.1345\n",
      "Epoch 15/20\n",
      "76/76 [==============================] - 2s 20ms/step - loss: 0.1270 - accuracy: 0.2917 - jaccard_similarity: 0.1402 - val_loss: 0.1269 - val_accuracy: 0.2963 - val_jaccard_similarity: 0.1413\n",
      "Epoch 16/20\n",
      "76/76 [==============================] - 1s 18ms/step - loss: 0.1246 - accuracy: 0.3039 - jaccard_similarity: 0.1476 - val_loss: 0.1247 - val_accuracy: 0.3065 - val_jaccard_similarity: 0.1492\n",
      "Epoch 17/20\n",
      "76/76 [==============================] - 2s 27ms/step - loss: 0.1225 - accuracy: 0.3119 - jaccard_similarity: 0.1550 - val_loss: 0.1228 - val_accuracy: 0.3089 - val_jaccard_similarity: 0.1561\n",
      "Epoch 18/20\n",
      "76/76 [==============================] - 2s 27ms/step - loss: 0.1207 - accuracy: 0.3164 - jaccard_similarity: 0.1613 - val_loss: 0.1216 - val_accuracy: 0.3154 - val_jaccard_similarity: 0.1621\n",
      "Epoch 19/20\n",
      "76/76 [==============================] - 2s 28ms/step - loss: 0.1192 - accuracy: 0.3213 - jaccard_similarity: 0.1669 - val_loss: 0.1202 - val_accuracy: 0.3219 - val_jaccard_similarity: 0.1652\n",
      "Epoch 20/20\n",
      "76/76 [==============================] - 2s 22ms/step - loss: 0.1180 - accuracy: 0.3255 - jaccard_similarity: 0.1711 - val_loss: 0.1196 - val_accuracy: 0.3245 - val_jaccard_similarity: 0.1699\n"
     ]
    }
   ],
   "source": [
    "history = model.fit(X_train, y_train_encoded, epochs=20, batch_size=512, validation_data=(X_val, y_val_encoded))\n"
   ]
  },
  {
   "cell_type": "markdown",
   "metadata": {},
   "source": [
    "### 3.8 Visualisation\n"
   ]
  },
  {
   "cell_type": "code",
   "execution_count": 570,
   "metadata": {},
   "outputs": [],
   "source": [
    "# add jaccard ?\n",
    "\n",
    "def plot_train_vs_val_performance(history):\n",
    "  training_losses = history.history['loss']\n",
    "  validation_losses = history.history['val_loss']\n",
    "\n",
    "  training_accuracy = history.history['accuracy']\n",
    "  validation_accuracy = history.history['val_accuracy']\n",
    "\n",
    "  epochs = range(1, len(training_losses) + 1)\n",
    "\n",
    "  import matplotlib.pyplot as plt\n",
    "  fig, (ax1, ax2) = plt.subplots(2)\n",
    "  fig.set_figheight(15)\n",
    "  fig.set_figwidth(15)\n",
    "  fig.tight_layout(pad=5.0)\n",
    "\n",
    "  # Plot training vs. validation loss.\n",
    "  ax1.plot(epochs, training_losses, 'bo', label='Training Loss')\n",
    "  ax1.plot(epochs, validation_losses, 'b', label='Validation Loss')\n",
    "  ax1.title.set_text('Training vs. Validation Loss')\n",
    "  ax1.set_xlabel('Epoch')\n",
    "  ax1.set_ylabel('Loss')\n",
    "  ax1.legend()\n",
    "\n",
    "  # PLot training vs. validation accuracy.\n",
    "  ax2.plot(epochs, training_accuracy, 'bo', label='Training Accuracy')\n",
    "  ax2.plot(epochs, validation_accuracy, 'b', label='Validation Accuracy')\n",
    "  ax2.title.set_text('Training vs. Validation Accuracy')\n",
    "  ax2.set_xlabel('Epoch')\n",
    "  ax2.set_ylabel('Accuracy')\n",
    "  ax2.legend()\n",
    "\n",
    "  plt.show()"
   ]
  },
  {
   "cell_type": "code",
   "execution_count": 571,
   "metadata": {},
   "outputs": [
    {
     "data": {
      "image/png": "[encoded data removed]",
      "text/plain": [
       "<Figure size 1500x1500 with 2 Axes>"
      ]
     },
     "metadata": {},
     "output_type": "display_data"
    }
   ],
   "source": [
    "plot_train_vs_val_performance(history)\n"
   ]
  },
  {
   "cell_type": "markdown",
   "metadata": {},
   "source": [
    "### 3.9 Entrainement d'un modèle avec early stop\n"
   ]
  },
  {
   "cell_type": "code",
   "execution_count": 572,
   "metadata": {},
   "outputs": [
    {
     "name": "stdout",
     "output_type": "stream",
     "text": [
      "Epoch 1/16\n",
      "76/76 [==============================] - 3s 25ms/step - loss: 0.3239 - accuracy: 0.0549 - jaccard_similarity: 0.0362 - val_loss: 0.1728 - val_accuracy: 0.0998 - val_jaccard_similarity: 0.0365\n",
      "Epoch 2/16\n",
      "76/76 [==============================] - 2s 22ms/step - loss: 0.1726 - accuracy: 0.0986 - jaccard_similarity: 0.0364 - val_loss: 0.1705 - val_accuracy: 0.0958 - val_jaccard_similarity: 0.0363\n",
      "Epoch 3/16\n",
      "76/76 [==============================] - 2s 25ms/step - loss: 0.1699 - accuracy: 0.1163 - jaccard_similarity: 0.0382 - val_loss: 0.1674 - val_accuracy: 0.1128 - val_jaccard_similarity: 0.0395\n",
      "Epoch 4/16\n",
      "76/76 [==============================] - 2s 25ms/step - loss: 0.1649 - accuracy: 0.1388 - jaccard_similarity: 0.0456 - val_loss: 0.1610 - val_accuracy: 0.1900 - val_jaccard_similarity: 0.0519\n",
      "Epoch 5/16\n",
      "76/76 [==============================] - 2s 26ms/step - loss: 0.1574 - accuracy: 0.1976 - jaccard_similarity: 0.0612 - val_loss: 0.1527 - val_accuracy: 0.2210 - val_jaccard_similarity: 0.0701\n",
      "Epoch 6/16\n",
      "76/76 [==============================] - 2s 30ms/step - loss: 0.1485 - accuracy: 0.2225 - jaccard_similarity: 0.0801 - val_loss: 0.1435 - val_accuracy: 0.2406 - val_jaccard_similarity: 0.0935\n",
      "Epoch 7/16\n",
      "76/76 [==============================] - 2s 22ms/step - loss: 0.1401 - accuracy: 0.2465 - jaccard_similarity: 0.1014 - val_loss: 0.1372 - val_accuracy: 0.2604 - val_jaccard_similarity: 0.1099\n",
      "Epoch 8/16\n",
      "76/76 [==============================] - 2s 29ms/step - loss: 0.1346 - accuracy: 0.2677 - jaccard_similarity: 0.1172 - val_loss: 0.1332 - val_accuracy: 0.2760 - val_jaccard_similarity: 0.1251\n",
      "Epoch 9/16\n",
      "76/76 [==============================] - 2s 26ms/step - loss: 0.1306 - accuracy: 0.2843 - jaccard_similarity: 0.1301 - val_loss: 0.1297 - val_accuracy: 0.2858 - val_jaccard_similarity: 0.1345\n",
      "Epoch 10/16\n",
      "76/76 [==============================] - 2s 22ms/step - loss: 0.1271 - accuracy: 0.2932 - jaccard_similarity: 0.1407 - val_loss: 0.1268 - val_accuracy: 0.2946 - val_jaccard_similarity: 0.1420\n",
      "Epoch 11/16\n",
      "76/76 [==============================] - 2s 25ms/step - loss: 0.1240 - accuracy: 0.3040 - jaccard_similarity: 0.1499 - val_loss: 0.1247 - val_accuracy: 0.3040 - val_jaccard_similarity: 0.1503\n",
      "Epoch 12/16\n",
      "76/76 [==============================] - 1s 19ms/step - loss: 0.1216 - accuracy: 0.3145 - jaccard_similarity: 0.1581 - val_loss: 0.1227 - val_accuracy: 0.3107 - val_jaccard_similarity: 0.1580\n",
      "Epoch 13/16\n",
      "76/76 [==============================] - 2s 24ms/step - loss: 0.1198 - accuracy: 0.3217 - jaccard_similarity: 0.1644 - val_loss: 0.1213 - val_accuracy: 0.3205 - val_jaccard_similarity: 0.1637\n",
      "Epoch 14/16\n",
      "76/76 [==============================] - 2s 30ms/step - loss: 0.1184 - accuracy: 0.3262 - jaccard_similarity: 0.1689 - val_loss: 0.1200 - val_accuracy: 0.3289 - val_jaccard_similarity: 0.1678\n",
      "Epoch 15/16\n",
      "76/76 [==============================] - 2s 27ms/step - loss: 0.1170 - accuracy: 0.3305 - jaccard_similarity: 0.1739 - val_loss: 0.1193 - val_accuracy: 0.3291 - val_jaccard_similarity: 0.1705\n",
      "Epoch 16/16\n",
      "76/76 [==============================] - 3s 33ms/step - loss: 0.1159 - accuracy: 0.3363 - jaccard_similarity: 0.1773 - val_loss: 0.1184 - val_accuracy: 0.3347 - val_jaccard_similarity: 0.1750\n"
     ]
    },
    {
     "data": {
      "text/plain": [
       "<keras.callbacks.History at 0x7fa310849610>"
      ]
     },
     "execution_count": 572,
     "metadata": {},
     "output_type": "execute_result"
    }
   ],
   "source": [
    "# (pour eviter l'overfitting)\n",
    "\n",
    "# overfitting apres 15-16 iterations (epochs) (sur title_nltk[::2])\n",
    "# apres 9 (loss) 11-13 (epochs sur dataset complet (feature=title_nltk)\n",
    "\n",
    "# si trainable=False (embedding_layer), le plateau (validation) est moins prononcé. 15-16 ?\n",
    "# apres 10-11 si trainable=True (embedding_layer)\n",
    "\n",
    "embedding_layer = layers.Embedding(\n",
    "    num_tokens,\n",
    "    embedding_dim,\n",
    "    embeddings_initializer=keras.initializers.Constant(embedding_matrix),\n",
    "    input_length=MAX_LEN,\n",
    "    trainable=trainable,\n",
    "    mask_zero=True\n",
    ")\n",
    "\n",
    "model = keras.Sequential()\n",
    "\n",
    "model.add(embedding_layer)\n",
    "\n",
    "model.add(layers.GlobalAveragePooling1D())\n",
    "\n",
    "model.add(layers.Dense(150, activation='relu', kernel_initializer=tf.keras.initializers.random_normal(seed=1)))\n",
    "model.add(layers.Dense(75, activation='relu', kernel_initializer=tf.keras.initializers.random_normal(seed=1)))\n",
    "model.add(layers.Dense(NB_TAGS, activation='sigmoid', kernel_initializer=tf.keras.initializers.random_normal(seed=1)))\n",
    "\n",
    "model.compile(optimizer='adam',\n",
    "              loss='binary_crossentropy',\n",
    "              metrics=['accuracy', jaccard_similarity])\n",
    "\n",
    "model.fit(X_train, y_train_encoded, epochs=16, batch_size=512, validation_data=(X_val, y_val_encoded))\n"
   ]
  },
  {
   "cell_type": "markdown",
   "metadata": {},
   "source": [
    "### 3.10 Evaluation\n"
   ]
  },
  {
   "cell_type": "code",
   "execution_count": 573,
   "metadata": {},
   "outputs": [
    {
     "name": "stdout",
     "output_type": "stream",
     "text": [
      "149/149 [==============================] - 1s 4ms/step - loss: 0.1197 - accuracy: 0.3275 - jaccard_similarity: 0.1760\n"
     ]
    },
    {
     "data": {
      "text/plain": [
       "[0.11970004439353943, 0.3274596035480499, 0.1760401725769043]"
      ]
     },
     "execution_count": 573,
     "metadata": {},
     "output_type": "execute_result"
    }
   ],
   "source": [
    "X_test = test_df[feature].values\n",
    "y_test = test_df[target].tolist()\n",
    "\n",
    "y_test_encoded = target_encoding(y_test)\n",
    "\n",
    "X_test = tokenizer.texts_to_sequences(X_test)\n",
    "X_test = keras.preprocessing.sequence.pad_sequences(X_test, maxlen=MAX_LEN)\n",
    "\n",
    "model.evaluate(X_test, y_test_encoded)\n"
   ]
  },
  {
   "cell_type": "code",
   "execution_count": 576,
   "metadata": {},
   "outputs": [
    {
     "name": "stdout",
     "output_type": "stream",
     "text": [
      " 52/149 [=========>....................] - ETA: 0s"
     ]
    },
    {
     "name": "stdout",
     "output_type": "stream",
     "text": [
      "149/149 [==============================] - 0s 2ms/step\n"
     ]
    },
    {
     "data": {
      "text/plain": [
       "<tf.Tensor: shape=(), dtype=float32, numpy=0.17599884>"
      ]
     },
     "execution_count": 576,
     "metadata": {},
     "output_type": "execute_result"
    }
   ],
   "source": [
    "# just to be sure\n",
    "\n",
    "jaccard_similarity(model.predict(X_test), y_test_encoded)\n",
    "\n",
    "# =0.32 sur dataset complet, trainable=False  (11 epochs)\n",
    "# =0.31942642 sur dataset complet, trainable=True   (11 epochs)\n",
    "# Pas de différence\n",
    "\n",
    "# =0.17 sur dataset complet, trainable=False  (16 epochs)  ! Déjà overfitté ?\n",
    "\n",
    "\n"
   ]
  },
  {
   "cell_type": "code",
   "execution_count": 577,
   "metadata": {},
   "outputs": [
    {
     "name": "stdout",
     "output_type": "stream",
     "text": [
      "1\n",
      "[[5, 264, 5, 264, 11460, 901, 2809]]\n",
      "[5, 264, 5, 264, 11460, 901, 2809]\n",
      "['the', 'best', 'the', 'best', 'food', 'apple', 'pie']\n",
      "1/1 [==============================] - 0s 15ms/step\n"
     ]
    }
   ],
   "source": [
    "def predict_tags(text, tokenizer=tokenizer, maxlen=MAX_LEN):\n",
    "    seqs = tokenizer.texts_to_sequences([text])\n",
    "    print(len(seqs))\n",
    "    print(seqs)\n",
    "    for seq in seqs:\n",
    "        print(seq)\n",
    "        print([tokenizer.index_word[x] for x in seq])\n",
    "\n",
    "    seqs = keras.preprocessing.sequence.pad_sequences(seqs, maxlen=maxlen)\n",
    "\n",
    "    return model.predict(seqs)\n",
    "\n",
    "\n",
    "tags = predict_tags(text=\"The best the best sea food apple pie\")\n"
   ]
  },
  {
   "cell_type": "code",
   "execution_count": null,
   "metadata": {},
   "outputs": [
    {
     "name": "stdout",
     "output_type": "stream",
     "text": [
      "array([[1.5653820e-03, 2.2178479e-02, 1.8514888e-02, 1.5714066e-04,\n",
      "        1.8421440e-04, 6.3859695e-03, 2.9837834e-03, 1.4614133e-02,\n",
      "        6.6838954e-03, 1.4283249e-02, 6.7845192e-03, 1.9467773e-03,\n",
      "        3.4622577e-01, 1.4877859e-02, 7.0009474e-03, 5.9581618e-03,\n",
      "        2.0997271e-02, 2.2192106e-02, 3.6646992e-03, 2.5628216e-03,\n",
      "        5.9289932e-02, 2.8351711e-02, 1.3975783e-01, 1.5186860e-02,\n",
      "        6.2818889e-04, 4.5346525e-03, 8.9267557e-03, 1.4229842e-03,\n",
      "        7.5910467e-04, 1.1205561e-03]], dtype=float32)\n",
      "(1, 30)\n"
     ]
    }
   ],
   "source": [
    "pprint(tags)\n",
    "print(tags.shape)\n"
   ]
  },
  {
   "cell_type": "code",
   "execution_count": 578,
   "metadata": {},
   "outputs": [],
   "source": [
    "def jaccard_topics(topic1, topic2):\n",
    "    set1 = set(topic1)\n",
    "    set2 = set(topic2)\n",
    "\n",
    "    if len(set1.union(set2)):\n",
    "        return len(set1.intersection(set2)) / len(set1.union(set2))\n",
    "\n",
    "    else: # union nulle = 0 prediction, mais rien à prédire non plus...\n",
    "        return 1\n"
   ]
  },
  {
   "cell_type": "code",
   "execution_count": 585,
   "metadata": {},
   "outputs": [
    {
     "name": "stdout",
     "output_type": "stream",
     "text": [
      "4/4 [==============================] - 0s 4ms/step\n",
      "\n",
      "\n",
      "0\n",
      "all tags: ['java', 'android', 'android-studio', 'error-handling', 'compiler-errors']\n",
      "real tags: ['java', 'android']\n",
      "Top 5 tags: ['spring-boot', 'large-language-model', 'flask', 'python', 'langchain']\n",
      "jaccard: 0.0\n",
      "\n",
      "\n",
      "1\n",
      "all tags: ['java', 'scala', 'maven', 'noclassdeffounderror', 'scala-ide']\n",
      "real tags: ['java']\n",
      "Top 5 tags: ['google-chrome', 'upgrade', 'flask', 'amazon-web-services', 'langchain']\n",
      "jaccard: 0.0\n",
      "\n",
      "\n",
      "2\n",
      "all tags: ['python', 'mysql', 'django', 'bulkinsert', 'bulk']\n",
      "real tags: ['python', 'mysql']\n",
      "Top 5 tags: ['lombok', 'google-chrome', 'java-21', 'eclipse', 'large-language-model']\n",
      "jaccard: 0.0\n",
      "\n",
      "\n",
      "3\n",
      "all tags: ['python', 'pycharm', 'anaconda', 'environment', 'virtual-environment']\n",
      "real tags: ['python']\n",
      "Top 5 tags: ['spring-security', 'compiler-errors', 'flask', 'langchain', 'eclipse']\n",
      "jaccard: 0.0\n",
      "\n",
      "\n",
      "4\n",
      "all tags: ['javascript', 'html', 'forms', 'action', 'onsubmit']\n",
      "real tags: ['javascript', 'html']\n",
      "Top 5 tags: ['werkzeug', 'lombok', 'llama-index', 'large-language-model', 'java-21']\n",
      "jaccard: 0.0\n",
      "\n",
      "\n",
      "5\n",
      "all tags: ['linux', 'bash', 'grep', 'cat', 'broken-pipe']\n",
      "real tags: ['linux']\n",
      "Top 5 tags: ['spring-security', 'langchain', 'upgrade', 'eclipse', 'amazon-web-services']\n",
      "jaccard: 0.0\n",
      "\n",
      "\n",
      "6\n",
      "all tags: ['c#', 'wpf', 'xaml', 'xamarin', 'xamarin.ios']\n",
      "real tags: ['c#']\n",
      "Top 5 tags: ['lombok', 'chatbot', 'eclipse', 'java-21', 'large-language-model']\n",
      "jaccard: 0.0\n",
      "\n",
      "\n",
      "7\n",
      "all tags: ['c', 'arrays', 'function', 'pointers', 'parameters']\n",
      "real tags: ['c', 'arrays']\n",
      "Top 5 tags: ['python', 'compiler-errors', 'spring-boot', 'importerror', 'upgrade']\n",
      "jaccard: 0.0\n",
      "\n",
      "\n",
      "8\n",
      "all tags: ['linux', 'kernel', 'emulation', 'hardware', 'qemu']\n",
      "real tags: ['linux']\n",
      "Top 5 tags: ['amazon-web-services', 'compiler-errors', 'chatbot', 'flask', 'langchain']\n",
      "jaccard: 0.0\n",
      "\n",
      "\n",
      "9\n",
      "all tags: ['c#', 'cookies', 'httpwebrequest', 'webclient', 'html-agility-pack']\n",
      "real tags: ['c#']\n",
      "Top 5 tags: ['google-chrome', 'flask', 'eclipse', 'large-language-model', 'langchain']\n",
      "jaccard: 0.0\n",
      "\n",
      "\n",
      "10\n",
      "all tags: ['console', 'comments', 'kibana', 'elastic-stack', 'kibana-6']\n",
      "real tags: []\n",
      "Top 5 tags: ['werkzeug', 'python', 'large-language-model', 'flask-login', 'compiler-errors']\n",
      "jaccard: 0.0\n",
      "\n",
      "\n",
      "11\n",
      "all tags: ['c#', '.net', 'silverlight', 'graphics', 'gdi+']\n",
      "real tags: ['c#', '.net']\n",
      "Top 5 tags: ['python', 'google-chrome', 'selenium-webdriver', 'chatbot', 'compiler-errors']\n",
      "jaccard: 0.0\n",
      "\n",
      "\n",
      "12\n",
      "all tags: ['timestamp', 'directory', 'move', 'ads', 'ntfs']\n",
      "real tags: []\n",
      "Top 5 tags: ['openai-api', 'large-language-model', 'langchain', 'chatbot', 'flask']\n",
      "jaccard: 0.0\n",
      "\n",
      "\n",
      "13\n",
      "all tags: ['c#', '.net', 'regex', 'linq', 'entity-framework']\n",
      "real tags: ['c#', '.net']\n",
      "Top 5 tags: ['spring-boot', 'langchain', 'docker', 'compiler-errors', 'python-3.x']\n",
      "jaccard: 0.0\n",
      "\n",
      "\n",
      "14\n",
      "all tags: ['security', 'cookies', 'https', 'header', 'domain-name']\n",
      "real tags: []\n",
      "Top 5 tags: ['eclipse', 'google-chrome', 'amazon-web-services', 'compiler-errors', 'langchain']\n",
      "jaccard: 0.0\n",
      "\n",
      "\n",
      "15\n",
      "all tags: ['git', 'bash', 'tabs', 'whitespace', 'spaces']\n",
      "real tags: []\n",
      "Top 5 tags: ['python', 'spring-boot', 'amazon-web-services', 'google-chrome', 'large-language-model']\n",
      "jaccard: 0.0\n",
      "\n",
      "\n",
      "16\n",
      "all tags: ['android', 'eclipse', 'eclipse-plugin', 'adt', 'r.java-file']\n",
      "real tags: ['android']\n",
      "Top 5 tags: ['selenium-webdriver', 'large-language-model', 'google-chrome', 'langchain', 'flask']\n",
      "jaccard: 0.0\n",
      "\n",
      "\n",
      "17\n",
      "all tags: ['java', 'hibernate', 'generics', 'inheritance', 'orm']\n",
      "real tags: ['java']\n",
      "Top 5 tags: ['google-chrome', 'spring-boot', 'docker', 'python', 'langchain']\n",
      "jaccard: 0.0\n",
      "\n",
      "\n",
      "18\n",
      "all tags: ['javascript', 'jquery', 'html', 'twitter-bootstrap', 'bootstrap-modal']\n",
      "real tags: ['javascript', 'jquery', 'html']\n",
      "Top 5 tags: ['spring-boot', 'large-language-model', 'llama-index', 'java-21', 'lombok']\n",
      "jaccard: 0.0\n",
      "\n",
      "\n",
      "19\n",
      "all tags: ['python', 'arrays', 'numpy', 'hdf5', 'h5py']\n",
      "real tags: ['python', 'arrays']\n",
      "Top 5 tags: ['spring-security', 'upgrade', 'java', 'importerror', 'eclipse']\n",
      "jaccard: 0.0\n",
      "\n",
      "\n",
      "20\n",
      "all tags: ['c#', 'image', 'file', 'webcam', 'capture']\n",
      "real tags: ['c#']\n",
      "Top 5 tags: ['upgrade', 'flask', 'compiler-errors', 'selenium-webdriver', 'chatbot']\n",
      "jaccard: 0.0\n",
      "\n",
      "\n",
      "21\n",
      "all tags: ['css', 'reactjs', 'sass', 'styled-components', 'reflow']\n",
      "real tags: ['css', 'reactjs']\n",
      "Top 5 tags: ['selenium-webdriver', 'google-chrome', 'java-21', 'backend', 'large-language-model']\n",
      "jaccard: 0.0\n",
      "\n",
      "\n",
      "22\n",
      "all tags: ['php', 'wordpress', 'woocommerce', 'categories', 'woocommerce-theming']\n",
      "real tags: ['php']\n",
      "Top 5 tags: ['large-language-model', 'java-21', 'eclipse', 'lombok', 'flask']\n",
      "jaccard: 0.0\n",
      "\n",
      "\n",
      "23\n",
      "all tags: ['android', 'android-layout', 'android-activity', 'android-manifest', 'android-styles']\n",
      "real tags: ['android']\n",
      "Top 5 tags: ['selenium-webdriver', 'chatbot', 'large-language-model', 'langchain', 'flask']\n",
      "jaccard: 0.0\n",
      "\n",
      "\n",
      "24\n",
      "all tags: ['java', 'naming-conventions', 'uppercase', 'camelcasing', 'abbreviation']\n",
      "real tags: ['java']\n",
      "Top 5 tags: ['flask', 'langchain', 'compiler-errors', 'java-21', 'large-language-model']\n",
      "jaccard: 0.0\n",
      "\n",
      "\n",
      "25\n",
      "all tags: ['amazon-web-services', 'amazon-ec2', 'kubernetes', 'kubectl', 'minikube']\n",
      "real tags: []\n",
      "Top 5 tags: ['flask', 'langchain', 'large-language-model', 'chatbot', 'eclipse']\n",
      "jaccard: 0.0\n",
      "\n",
      "\n",
      "26\n",
      "all tags: ['c#', '.net', 'wcf', 'ssl', 'tls1.2']\n",
      "real tags: ['c#', '.net']\n",
      "Top 5 tags: ['chatbot', 'werkzeug', 'flask-login', 'python', 'compiler-errors']\n",
      "jaccard: 0.0\n",
      "\n",
      "\n",
      "27\n",
      "all tags: ['javascript', 'jquery', 'css', 'html', 'styles']\n",
      "real tags: ['javascript', 'jquery', 'css', 'html']\n",
      "Top 5 tags: ['python', 'lombok', 'llama-index', 'java-21', 'large-language-model']\n",
      "jaccard: 0.0\n",
      "\n",
      "\n",
      "28\n",
      "all tags: ['selenium', 'google-chrome', 'jenkins', 'selenium-webdriver', 'selenium-chromedriver']\n",
      "real tags: []\n",
      "Top 5 tags: ['java-21', 'google-chrome', 'langchain', 'large-language-model', 'eclipse']\n",
      "jaccard: 0.0\n",
      "\n",
      "\n",
      "29\n",
      "all tags: ['java', 'swing', 'fullscreen', 'taskbar', 'suse']\n",
      "real tags: ['java']\n",
      "Top 5 tags: ['large-language-model', 'spring-boot', 'amazon-web-services', 'flask', 'langchain']\n",
      "jaccard: 0.0\n",
      "\n",
      "\n",
      "30\n",
      "all tags: ['javascript', 'node.js', 'postgresql', 'typescript', 'typeorm']\n",
      "real tags: ['javascript', 'node.js', 'typescript']\n",
      "Top 5 tags: ['chatbot', 'eclipse', 'langchain', 'large-language-model', 'importerror']\n",
      "jaccard: 0.0\n",
      "\n",
      "\n",
      "31\n",
      "all tags: ['java', 'spring-boot', 'properties', 'configuration', 'yaml']\n",
      "real tags: ['java']\n",
      "Top 5 tags: ['large-language-model', 'google-chrome', 'eclipse', 'langchain', 'compiler-errors']\n",
      "jaccard: 0.0\n",
      "\n",
      "\n",
      "32\n",
      "all tags: ['javascript', 'node.js', 'express', 'callback', 'passport.js']\n",
      "real tags: ['javascript', 'node.js']\n",
      "Top 5 tags: ['flask', 'large-language-model', 'eclipse', 'compiler-errors', 'google-chrome']\n",
      "jaccard: 0.0\n",
      "\n",
      "\n",
      "33\n",
      "all tags: ['javascript', 'regex', 'search', 'indexof', 'text-search']\n",
      "real tags: ['javascript']\n",
      "Top 5 tags: ['llama-index', 'java-21', 'backend', 'google-chrome', 'large-language-model']\n",
      "jaccard: 0.0\n",
      "\n",
      "\n",
      "34\n",
      "all tags: ['linux', 'ubuntu', 'docker', 'virtualization', 'systemctl']\n",
      "real tags: ['linux']\n",
      "Top 5 tags: ['python-3.x', 'amazon-web-services', 'docker', 'spring-boot', 'langchain']\n",
      "jaccard: 0.0\n",
      "\n",
      "\n",
      "35\n",
      "all tags: ['github', 'npm', 'npm-install', 'git-fork', 'npm-publish']\n",
      "real tags: []\n",
      "Top 5 tags: ['spring-boot', 'large-language-model', 'google-chrome', 'eclipse', 'amazon-web-services']\n",
      "jaccard: 0.0\n",
      "\n",
      "\n",
      "36\n",
      "all tags: ['c++', 'c', 'winapi', 'visual-c++', 'user-interface']\n",
      "real tags: ['c++', 'c']\n",
      "Top 5 tags: ['java-21', 'langchain', 'google-chrome', 'backend', 'large-language-model']\n",
      "jaccard: 0.0\n",
      "\n",
      "\n",
      "37\n",
      "all tags: ['c++', 'loops', 'design-patterns', 'flags', 'control-flow']\n",
      "real tags: ['c++']\n",
      "Top 5 tags: ['amazon-web-services', 'upgrade', 'chatbot', 'eclipse', 'large-language-model']\n",
      "jaccard: 0.0\n",
      "\n",
      "\n",
      "38\n",
      "all tags: ['regex', 'numbers', 'expression', 'notepad++', 'character']\n",
      "real tags: []\n",
      "Top 5 tags: ['lombok', 'llama-index', 'flask', 'java-21', 'large-language-model']\n",
      "jaccard: 0.0\n",
      "\n",
      "\n",
      "39\n",
      "all tags: ['c++', 'windows', 'qt', 'dll', 'windows-7-x64']\n",
      "real tags: ['c++']\n",
      "Top 5 tags: ['google-chrome', 'spring-boot', 'eclipse', 'amazon-web-services', 'upgrade']\n",
      "jaccard: 0.0\n",
      "\n",
      "\n",
      "40\n",
      "all tags: ['postgresql', 'variables', 'loops', 'plpgsql', 'tablename']\n",
      "real tags: []\n",
      "Top 5 tags: ['docker', 'langchain', 'compiler-errors', 'python-3.x', 'eclipse']\n",
      "jaccard: 0.0\n",
      "\n",
      "\n",
      "41\n",
      "all tags: ['.net', 'oracle', 'visual-studio', 'visual-studio-2013', 'odp.net']\n",
      "real tags: ['.net']\n",
      "Top 5 tags: ['werkzeug', 'spring-boot', 'python', 'flask-login', 'compiler-errors']\n",
      "jaccard: 0.0\n",
      "\n",
      "\n",
      "42\n",
      "all tags: ['c#', 'unit-testing', 'entity-framework-5', 'moq', 'dbcontext']\n",
      "real tags: ['c#']\n",
      "Top 5 tags: ['eclipse', 'large-language-model', 'langchain', 'compiler-errors', 'upgrade']\n",
      "jaccard: 0.0\n",
      "\n",
      "\n",
      "43\n",
      "all tags: ['javascript', 'node.js', 'asynchronous', 'promise', 'bluebird']\n",
      "real tags: ['javascript', 'node.js']\n",
      "Top 5 tags: ['python-3.x', 'eclipse', 'python', 'langchain', 'python']\n",
      "jaccard: 0.0\n",
      "\n",
      "\n",
      "44\n",
      "all tags: ['c#', '.net', 'xml', 'linq', 'linq-to-xml']\n",
      "real tags: ['c#', '.net']\n",
      "Top 5 tags: ['upgrade', 'amazon-web-services', 'eclipse', 'large-language-model', 'google-chrome']\n",
      "jaccard: 0.0\n",
      "\n",
      "\n",
      "45\n",
      "all tags: ['java', 'hibernate', 'jpa', 'design-patterns', 'orm']\n",
      "real tags: ['java']\n",
      "Top 5 tags: ['eclipse', 'compiler-errors', 'flask', 'python', 'langchain']\n",
      "jaccard: 0.0\n",
      "\n",
      "\n",
      "46\n",
      "all tags: ['sql', 'oracle', 'plsql', 'insert', 'sequence']\n",
      "real tags: ['sql']\n",
      "Top 5 tags: ['python', 'compiler-errors', 'spring-boot', 'docker', 'python-3.x']\n",
      "jaccard: 0.0\n",
      "\n",
      "\n",
      "47\n",
      "all tags: ['python', 'pandas', 'dataframe', 'nan', 'fillna']\n",
      "real tags: ['python', 'pandas']\n",
      "Top 5 tags: ['flask', 'spring-security', 'langchain', 'java', 'eclipse']\n",
      "jaccard: 0.0\n",
      "\n",
      "\n",
      "48\n",
      "all tags: ['android', 'ssl-certificate', 'self-signed', 'webviewclient', 'ca']\n",
      "real tags: ['android']\n",
      "Top 5 tags: ['flask', 'eclipse', 'langchain', 'python', 'compiler-errors']\n",
      "jaccard: 0.0\n",
      "\n",
      "\n",
      "49\n",
      "all tags: ['visual-studio', 'gulp', 'gulp-sass', 'visual-studio-2015', 'task-runner-explorer']\n",
      "real tags: []\n",
      "Top 5 tags: ['selenium-webdriver', 'eclipse', 'google-chrome', 'langchain', 'large-language-model']\n",
      "jaccard: 0.0\n",
      "\n",
      "\n",
      "50\n",
      "all tags: ['wordpress', 'amazon-web-services', 'amazon-ec2', 'https', 'amazon-elb']\n",
      "real tags: []\n",
      "Top 5 tags: ['lombok', 'spring-boot', 'llama-index', 'java-21', 'large-language-model']\n",
      "jaccard: 0.0\n",
      "\n",
      "\n",
      "51\n",
      "all tags: ['c#', '.net', 'azure', 'azure-devops', 'azure-artifacts']\n",
      "real tags: ['c#', '.net']\n",
      "Top 5 tags: ['selenium-webdriver', 'openai-api', 'langchain', 'chatbot', 'flask']\n",
      "jaccard: 0.0\n",
      "\n",
      "\n",
      "52\n",
      "all tags: ['html', 'google-chrome', 'character', 'special-characters', 'character-codes']\n",
      "real tags: ['html']\n",
      "Top 5 tags: ['llama-index', 'flask', 'large-language-model', 'java-21', 'lombok']\n",
      "jaccard: 0.0\n",
      "\n",
      "\n",
      "53\n",
      "all tags: ['c++', 'c', 'linux', 'macos', 'gcc']\n",
      "real tags: ['c++', 'c', 'linux']\n",
      "Top 5 tags: ['compiler-errors', 'langchain', 'amazon-web-services', 'spring-boot', 'upgrade']\n",
      "jaccard: 0.0\n",
      "\n",
      "\n",
      "54\n",
      "all tags: ['c#', 'asp.net', 'asp.net-mvc', 'asp.net-core', 'asp.net-core-mvc']\n",
      "real tags: ['c#', 'asp.net', 'asp.net-mvc']\n",
      "Top 5 tags: ['large-language-model', 'python', 'werkzeug', 'flask-login', 'compiler-errors']\n",
      "jaccard: 0.0\n",
      "\n",
      "\n",
      "55\n",
      "all tags: ['php', 'mysql', 'pagination', 'laravel', 'eloquent']\n",
      "real tags: ['php', 'mysql']\n",
      "Top 5 tags: ['compiler-errors', 'langchain', 'spring-boot', 'docker', 'python-3.x']\n",
      "jaccard: 0.0\n",
      "\n",
      "\n",
      "56\n",
      "all tags: ['database', 'express', 'migration', 'gulp', 'knex.js']\n",
      "real tags: []\n",
      "Top 5 tags: ['python-3.x', 'spring-boot', 'eclipse', 'python', 'compiler-errors']\n",
      "jaccard: 0.0\n",
      "\n",
      "\n",
      "57\n",
      "all tags: ['python', 'azure', 'pip', 'azure-devops', 'azure-artifacts']\n",
      "real tags: ['python']\n",
      "Top 5 tags: ['java-21', 'google-chrome', 'large-language-model', 'spring-security', 'eclipse']\n",
      "jaccard: 0.0\n",
      "\n",
      "\n",
      "58\n",
      "all tags: ['ruby-on-rails', 'ruby', 'git', 'heroku', 'production']\n",
      "real tags: []\n",
      "Top 5 tags: ['flask', 'python', 'large-language-model', 'langchain', 'compiler-errors']\n",
      "jaccard: 0.0\n",
      "\n",
      "\n",
      "59\n",
      "all tags: ['ruby-on-rails', 'ruby', 'ruby-on-rails-3', 'rspec', 'rspec2']\n",
      "real tags: []\n",
      "Top 5 tags: ['python-3.x', 'docker', 'spring-boot', 'compiler-errors', 'langchain']\n",
      "jaccard: 0.0\n",
      "\n",
      "\n",
      "60\n",
      "all tags: ['java', 'serialization', 'deserialization', 'objectinputstream', 'objectoutputstream']\n",
      "real tags: ['java']\n",
      "Top 5 tags: ['python', 'eclipse', 'large-language-model', 'langchain', 'compiler-errors']\n",
      "jaccard: 0.0\n",
      "\n",
      "\n",
      "61\n",
      "all tags: ['php', 'bash', 'shell', 'ubuntu', 'command-line-interface']\n",
      "real tags: ['php']\n",
      "Top 5 tags: ['llama-index', 'chatbot', 'lombok', 'java-21', 'spring-boot']\n",
      "jaccard: 0.0\n",
      "\n",
      "\n",
      "62\n",
      "all tags: ['c++', 'windows', 'file', 'winapi', 'createfile']\n",
      "real tags: ['c++']\n",
      "Top 5 tags: ['flask', 'langchain', 'large-language-model', 'upgrade', 'compiler-errors']\n",
      "jaccard: 0.0\n",
      "\n",
      "\n",
      "63\n",
      "all tags: ['java', 'android', 'android-studio', 'android-intent', 'whatsapp']\n",
      "real tags: ['java', 'android']\n",
      "Top 5 tags: ['selenium-webdriver', 'large-language-model', 'chatbot', 'langchain', 'flask']\n",
      "jaccard: 0.0\n",
      "\n",
      "\n",
      "64\n",
      "all tags: ['iphone', 'objective-c', 'ios', 'uitableview', 'viewdidappear']\n",
      "real tags: ['iphone', 'objective-c', 'ios']\n",
      "Top 5 tags: ['compiler-errors', 'flask', 'chatbot', 'eclipse', 'langchain']\n",
      "jaccard: 0.0\n",
      "\n",
      "\n",
      "65\n",
      "all tags: ['android', 'configuration', 'sdk', 'android-emulator', 'android-virtual-device']\n",
      "real tags: ['android']\n",
      "Top 5 tags: ['selenium-webdriver', 'large-language-model', 'openai-api', 'chatbot', 'flask']\n",
      "jaccard: 0.0\n",
      "\n",
      "\n",
      "66\n",
      "all tags: ['python', 'pandas', 'matplotlib', 'seaborn', 'histogram']\n",
      "real tags: ['python', 'pandas']\n",
      "Top 5 tags: ['selenium-webdriver', 'chatbot', 'java', 'importerror', 'eclipse']\n",
      "jaccard: 0.0\n",
      "\n",
      "\n",
      "67\n",
      "all tags: ['windows-7', 'virtual-machine', 'lamp', 'vagrant', 'knife']\n",
      "real tags: []\n",
      "Top 5 tags: ['upgrade', 'google-chrome', 'eclipse', 'amazon-web-services', 'langchain']\n",
      "jaccard: 0.0\n",
      "\n",
      "\n",
      "68\n",
      "all tags: ['sql', 'database', 'azure-sql-database', 'partitioning', 'azure-synapse']\n",
      "real tags: ['sql']\n",
      "Top 5 tags: ['python', 'spring-boot', 'docker', 'compiler-errors', 'python-3.x']\n",
      "jaccard: 0.0\n",
      "\n",
      "\n",
      "69\n",
      "all tags: ['testing', 'gradle', 'android-studio', 'classnotfoundexception', 'android-instrumentation']\n",
      "real tags: []\n",
      "Top 5 tags: ['java', 'large-language-model', 'eclipse', 'langchain', 'flask']\n",
      "jaccard: 0.0\n",
      "\n",
      "\n",
      "70\n",
      "all tags: ['android', 'android-intent', 'android-broadcast', 'android-broadcastreceiver', 'android-sms']\n",
      "real tags: ['android']\n",
      "Top 5 tags: ['backend', 'java-21', 'flask', 'chatbot', 'large-language-model']\n",
      "jaccard: 0.0\n",
      "\n",
      "\n",
      "71\n",
      "all tags: ['gradle', 'build', 'android-gradle-plugin', 'build-automation', 'build.gradle']\n",
      "real tags: []\n",
      "Top 5 tags: ['amazon-web-services', 'large-language-model', 'chatbot', 'langchain', 'flask']\n",
      "jaccard: 0.0\n",
      "\n",
      "\n",
      "72\n",
      "all tags: ['c', 'visual-studio', 'build', 'command-line-arguments', 'getopt']\n",
      "real tags: ['c']\n",
      "Top 5 tags: ['langchain', 'compiler-errors', 'amazon-web-services', 'spring-boot', 'upgrade']\n",
      "jaccard: 0.0\n",
      "\n",
      "\n",
      "73\n",
      "all tags: ['python', 'opencv', 'numpy', 'histogram', 'earthdistance']\n",
      "real tags: ['python']\n",
      "Top 5 tags: ['large-language-model', 'python', 'upgrade', 'importerror', 'eclipse']\n",
      "jaccard: 0.2\n",
      "\n",
      "\n",
      "74\n",
      "all tags: ['c#', 'templates', 'reporting', 'visual-studio-2015', 'missing-template']\n",
      "real tags: ['c#']\n",
      "Top 5 tags: ['openai-api', 'google-chrome', 'selenium-webdriver', 'compiler-errors', 'chatbot']\n",
      "jaccard: 0.0\n",
      "\n",
      "\n",
      "75\n",
      "all tags: ['iphone', 'objective-c', 'ios', 'core-animation', 'shadow']\n",
      "real tags: ['iphone', 'objective-c', 'ios']\n",
      "Top 5 tags: ['selenium-chromedriver', 'openai-api', 'selenium-webdriver', 'google-chrome', 'chatbot']\n",
      "jaccard: 0.0\n",
      "\n",
      "\n",
      "76\n",
      "all tags: ['objective-c', 'macos', 'osx-yosemite', 'nsstatusitem', 'nsstatusbar']\n",
      "real tags: ['objective-c']\n",
      "Top 5 tags: ['flask', 'chatbot', 'large-language-model', 'java-21', 'lombok']\n",
      "jaccard: 0.0\n",
      "\n",
      "\n",
      "77\n",
      "all tags: ['java', 'python', 'tags', 'config', 'nltk']\n",
      "real tags: ['java', 'python']\n",
      "Top 5 tags: ['google-chrome', 'large-language-model', 'python', 'flask', 'langchain']\n",
      "jaccard: 0.16666666666666666\n",
      "\n",
      "\n",
      "78\n",
      "all tags: ['sql', 'sql-server', 'ssis', 'etl', 'ssis-2012']\n",
      "real tags: ['sql']\n",
      "Top 5 tags: ['python', 'amazon-web-services', 'eclipse', 'google-chrome', 'compiler-errors']\n",
      "jaccard: 0.0\n",
      "\n",
      "\n",
      "79\n",
      "all tags: ['python', 'pattern-matching', 'time-series', 'dynamic-programming', 'rpy2']\n",
      "real tags: ['python']\n",
      "Top 5 tags: ['python', 'java', 'spring-security', 'importerror', 'eclipse']\n",
      "jaccard: 0.2\n",
      "\n",
      "\n",
      "80\n",
      "all tags: ['ios', 'xcode', 'swift', 'google-maps', 'apple-maps']\n",
      "real tags: ['ios', 'xcode', 'swift']\n",
      "Top 5 tags: ['selenium-webdriver', 'large-language-model', 'openai-api', 'flask', 'chatbot']\n",
      "jaccard: 0.0\n",
      "\n",
      "\n",
      "81\n",
      "all tags: ['android', 'macos', 'ssl', 'proxy', 'charles-proxy']\n",
      "real tags: ['android']\n",
      "Top 5 tags: ['google-chrome', 'amazon-web-services', 'large-language-model', 'langchain', 'flask']\n",
      "jaccard: 0.0\n",
      "\n",
      "\n",
      "82\n",
      "all tags: ['c#', '.net', 'ssl', 'asp.net-web-api', 'fiddler']\n",
      "real tags: ['c#', '.net']\n",
      "Top 5 tags: ['selenium-webdriver', 'compiler-errors', 'openai-api', 'selenium-chromedriver', 'chatbot']\n",
      "jaccard: 0.0\n",
      "\n",
      "\n",
      "83\n",
      "all tags: ['input', 'fortran', 'character', 'string-length', 'fortran95']\n",
      "real tags: []\n",
      "Top 5 tags: ['selenium-webdriver', 'eclipse', 'chatbot', 'langchain', 'flask']\n",
      "jaccard: 0.0\n",
      "\n",
      "\n",
      "84\n",
      "all tags: ['java', 'android', 'string', 'integer', 'sharedpreferences']\n",
      "real tags: ['java', 'android']\n",
      "Top 5 tags: ['python', 'eclipse', 'large-language-model', 'langchain', 'flask']\n",
      "jaccard: 0.0\n",
      "\n",
      "\n",
      "85\n",
      "all tags: ['raspberry-pi', 'archlinux', 'tty', 'gpio', 'systemd']\n",
      "real tags: []\n",
      "Top 5 tags: ['langchain', 'upgrade', 'google-chrome', 'flask', 'compiler-errors']\n",
      "jaccard: 0.0\n",
      "\n",
      "\n",
      "86\n",
      "all tags: ['objective-c', 'ios', 'json', 'null', 'nsjsonserialization']\n",
      "real tags: ['objective-c', 'ios', 'json']\n",
      "Top 5 tags: ['spring-boot', 'langchain', 'compiler-errors', 'large-language-model', 'python']\n",
      "jaccard: 0.0\n",
      "\n",
      "\n",
      "87\n",
      "all tags: ['.net', 'xml', 'powershell', 'configuration', 'app-config']\n",
      "real tags: ['.net']\n",
      "Top 5 tags: ['spring-boot', 'large-language-model', 'compiler-errors', 'google-chrome', 'amazon-web-services']\n",
      "jaccard: 0.0\n",
      "\n",
      "\n",
      "88\n",
      "all tags: ['python', 'pip', 'uninstallation', 'conda', 'miniconda']\n",
      "real tags: ['python']\n",
      "Top 5 tags: ['amazon-web-services', 'google-chrome', 'java', 'spring-security', 'eclipse']\n",
      "jaccard: 0.0\n",
      "\n",
      "\n",
      "89\n",
      "all tags: ['python', 'string', 'pandas', 'series', 'attributeerror']\n",
      "real tags: ['python', 'pandas']\n",
      "Top 5 tags: ['google-chrome', 'java', 'large-language-model', 'spring-security', 'eclipse']\n",
      "jaccard: 0.0\n",
      "\n",
      "\n",
      "90\n",
      "all tags: ['ios', 'objective-c', 'ios7', 'youtube', 'mpmovieplayercontroller']\n",
      "real tags: ['ios', 'objective-c']\n",
      "Top 5 tags: ['selenium-webdriver', 'java-21', 'openai-api', 'large-language-model', 'chatbot']\n",
      "jaccard: 0.0\n",
      "\n",
      "\n",
      "91\n",
      "all tags: ['c', 'linux', 'kernel', 'kernel-module', 'netfilter']\n",
      "real tags: ['c', 'linux']\n",
      "Top 5 tags: ['spring-boot', 'spring-boot', 'langchain', 'upgrade', 'amazon-web-services']\n",
      "jaccard: 0.0\n",
      "\n",
      "\n",
      "92\n",
      "all tags: ['python', 'keras', 'deep-learning', 'lstm', 'categorical-data']\n",
      "real tags: ['python']\n",
      "Top 5 tags: ['chatbot', 'langchain', 'upgrade', 'compiler-errors', 'eclipse']\n",
      "jaccard: 0.0\n",
      "\n",
      "\n",
      "93\n",
      "all tags: ['php', 'unit-testing', 'symfony', 'mocking', 'phpunit']\n",
      "real tags: ['php']\n",
      "Top 5 tags: ['backend', 'flask', 'large-language-model', 'compiler-errors', 'langchain']\n",
      "jaccard: 0.0\n",
      "\n",
      "\n",
      "94\n",
      "all tags: ['c#', 'asp.net-core', 'dependency-injection', 'entity-framework-core', 'middleware']\n",
      "real tags: ['c#']\n",
      "Top 5 tags: ['backend', 'langchain', 'large-language-model', 'flask', 'compiler-errors']\n",
      "jaccard: 0.0\n",
      "\n",
      "\n",
      "95\n",
      "all tags: ['c#', 'performance', 'lambda', 'expression', 'virtual-functions']\n",
      "real tags: ['c#']\n",
      "Top 5 tags: ['eclipse', 'python', 'upgrade', 'langchain', 'compiler-errors']\n",
      "jaccard: 0.0\n",
      "\n",
      "\n",
      "96\n",
      "all tags: ['performance', 'google-chrome', 'selenium', 'selenium-webdriver', 'bandwidth-throttling']\n",
      "real tags: []\n",
      "Top 5 tags: ['google-chrome', 'compiler-errors', 'large-language-model', 'langchain', 'eclipse']\n",
      "jaccard: 0.0\n",
      "\n",
      "\n",
      "97\n",
      "all tags: ['c#', 'asp.net', '.net', 'asp.net-mvc', 'configuration']\n",
      "real tags: ['c#', 'asp.net', '.net', 'asp.net-mvc']\n",
      "Top 5 tags: ['werkzeug', 'python', 'flask-login', 'flask', 'compiler-errors']\n",
      "jaccard: 0.0\n",
      "\n",
      "\n",
      "98\n",
      "all tags: ['java', 'exception', 'lambda', 'java-8', 'java-stream']\n",
      "real tags: ['java']\n",
      "Top 5 tags: ['python', 'google-chrome', 'chatbot', 'langchain', 'compiler-errors']\n",
      "jaccard: 0.0\n",
      "\n",
      "\n",
      "99\n",
      "all tags: ['objective-c', 'ios', 'cocoa-touch', 'cocoa', 'nsdate']\n",
      "real tags: ['objective-c', 'ios']\n",
      "Top 5 tags: ['python-3.x', 'compiler-errors', 'eclipse', 'langchain', 'python']\n",
      "jaccard: 0.0\n",
      "\n",
      "\n"
     ]
    }
   ],
   "source": [
    "# OK reste juste à récup / associer les tags equivalents (targets)\n",
    "\n",
    "\n",
    "# Step 1: Make predictions with the model\n",
    "predictions = model.predict(X_test[:100])\n",
    "print('\\n')\n",
    "\n",
    "# Step 2: Get the indices of the top n most probable tags\n",
    "n = 5  # Number of top tags to return\n",
    "top_n_indices = np.argsort(predictions, axis=1)[:, -n:]\n",
    "\n",
    "# Step 3: Get the associated tags\n",
    "associated_tags = []\n",
    "for indices in top_n_indices:\n",
    "    tags = [all_tags[i] for i in indices]\n",
    "    associated_tags.append(tags)\n",
    "\n",
    "# Print associated tags for each input text\n",
    "for i, tags in enumerate(associated_tags):\n",
    "    print(i)\n",
    "    print(f\"all tags: {test_df['all_tags'][i]}\")\n",
    "    print(f'real tags: {y_test[i]}')\n",
    "    print(f\"Top {n} tags: {tags}\")\n",
    "    print(f'jaccard: {jaccard_topics(tags, y_test[i])}')\n",
    "    print('\\n')\n",
    "\n",
    "\n",
    "# probleme\n",
    "# les scores calculés sur les distributions de probabilités prédites semblaient prometteurs,\n",
    "# mais en pratique les pprédictions sont catastrophiques\n",
    "# (1 seule prédiction correcte (index 79) sur 100 tests...)\n",
    "\n",
    "# Il faudrait peut-etre une architecture différente, avec une derniere layer à 5 outputs\n",
    "# (nb de tags prédits)\n"
   ]
  },
  {
   "cell_type": "markdown",
   "metadata": {},
   "source": [
    "### Comparaison\n"
   ]
  },
  {
   "cell_type": "markdown",
   "metadata": {},
   "source": [
    "#### word2vec + svm\n"
   ]
  },
  {
   "cell_type": "code",
   "execution_count": null,
   "metadata": {},
   "outputs": [],
   "source": [
    "X_train = train_df[feature].values\n",
    "y_train = train_df[target].tolist()\n",
    "\n",
    "# Set up validation data.\n",
    "X_val = val_df[feature].values\n",
    "y_val = val_df[target].tolist()"
   ]
  },
  {
   "cell_type": "code",
   "execution_count": null,
   "metadata": {},
   "outputs": [],
   "source": [
    "# pas nativement mutilabel -> approche one vs rest via MultiOutputClassifier()\n",
    "\n",
    "def logistic_regression_classifier(train_df=train_df, feature='title_nltk', dict=standard_dict_title,\n",
    "                                   target='top_tags_50', test_df=test_df):\n",
    "\n",
    "    # Load your training data and labels\n",
    "    X_train = train_df[feature].values\n",
    "    y_train = train_df[target].tolist()\n",
    "\n",
    "    # training set\n",
    "    X_bow_matrix = token_list_into_bow_using_specific_dict(X_train, dict)\n",
    "\n",
    "    # target encoding\n",
    "    mlb = MultiLabelBinarizer()\n",
    "    y_encoded = mlb.fit_transform(y_train)\n",
    "\n",
    "    # Create a Logistic Regression classifier\n",
    "    logistic_reg = LogisticRegression(random_state=42)\n",
    "\n",
    "    # Create a MultiOutputClassifier with the Logistic Regression classifier\n",
    "    multi_output_classifier = MultiOutputClassifier(logistic_reg)\n",
    "\n",
    "    # Fit the MultiOutputClassifier to your training data\n",
    "    multi_output_classifier.fit(X_bow_matrix, y_encoded)\n",
    "\n",
    "    # Evaluate the model using a scorer\n",
    "    scorer = custom_jacc_scorer\n",
    "    score = scorer(multi_output_classifier, X_bow_matrix, y_encoded)\n",
    "    print(\"Score : \", score)\n",
    "\n",
    "\n",
    "    return multi_output_classifier, mlb\n",
    "\n",
    "\n",
    "multi_output_classifier, mlb_50 = logistic_regression_classifier()\n"
   ]
  },
  {
   "cell_type": "markdown",
   "metadata": {},
   "source": [
    "## 4 BERT\n"
   ]
  },
  {
   "cell_type": "code",
   "execution_count": 102,
   "metadata": {},
   "outputs": [
    {
     "name": "stdout",
     "output_type": "stream",
     "text": [
      "(47665, 9) \n",
      "\n"
     ]
    }
   ],
   "source": [
    "train_df, test_df = create_top_n_tags_feature(data=raw_data, n=NB_TAGS, slice=2, df_freq=df_freq)\n"
   ]
  },
  {
   "cell_type": "code",
   "execution_count": 103,
   "metadata": {},
   "outputs": [
    {
     "name": "stderr",
     "output_type": "stream",
     "text": [
      "No model was supplied, defaulted to distilbert-base-cased-distilled-squad and revision 626af31 (https://huggingface.co/distilbert-base-cased-distilled-squad).\n",
      "Using a pipeline without specifying a model name and revision in production is not recommended.\n",
      "All PyTorch model weights were used when initializing TFDistilBertForQuestionAnswering.\n",
      "\n",
      "All the weights of TFDistilBertForQuestionAnswering were initialized from the PyTorch model.\n",
      "If your task is similar to the task the model of the checkpoint was trained on, you can already use TFDistilBertForQuestionAnswering for predictions without further training.\n"
     ]
    }
   ],
   "source": [
    "qa = pipeline(\"question-answering\")\n",
    "\n",
    "context=test_df['body'][1]\n",
    "\n",
    "question = \"What topics is this about ?\"\n",
    "\n",
    "reponse = qa(question=question, context=context)\n"
   ]
  },
  {
   "cell_type": "code",
   "execution_count": 104,
   "metadata": {},
   "outputs": [
    {
     "name": "stdout",
     "output_type": "stream",
     "text": [
      "I have to work through a proxy at the office and when I press (Ctrl+Shift+P), type Install and try to load a package list, I get the error \"Package Control: There are no packages available for installation.\"  \n",
      "In my 'Package Control.sublime-settings' I have:\n",
      "{\n",
      "    \"auto_upgrade_last_run\": 1345569476,\n",
      "    \"http_proxy\": \"http://user_name:password@<proxy-name>:<proxy_port>\"\n",
      "}\n",
      "\n",
      "What am I missing OR what is a better option for me to control my system using the proxy. Once I get home I typically have to disable these proxies. Is there a truly system-wide way to make it use a proxy and then disable the proxy with a single command or click?\n",
      "Also this is in Ubuntu 12.04.\n",
      "EDIT: Sublime Text Package Manager has been updated to include options for working through a proxy, you can find this in the package settings.\n",
      "\n"
     ]
    }
   ],
   "source": [
    "print(context)\n"
   ]
  },
  {
   "cell_type": "code",
   "execution_count": 105,
   "metadata": {},
   "outputs": [
    {
     "name": "stdout",
     "output_type": "stream",
     "text": [
      "{'score': 0.013762914575636387, 'start': 657, 'end': 669, 'answer': 'Ubuntu 12.04'}\n"
     ]
    }
   ],
   "source": [
    "print(reponse)\n",
    "\n",
    "# Pas mal, mais on n'est plus vraiment dans le supervisé\n"
   ]
  },
  {
   "cell_type": "code",
   "execution_count": null,
   "metadata": {},
   "outputs": [],
   "source": [
    "# fine tunons\n"
   ]
  },
  {
   "cell_type": "markdown",
   "metadata": {},
   "source": [
    "## Ressources\n"
   ]
  },
  {
   "cell_type": "code",
   "execution_count": 106,
   "metadata": {},
   "outputs": [],
   "source": [
    "# Word2vec\n",
    "# https://colab.research.google.com/github/futuremojo/nlp-demystified/blob/main/notebooks/nlpdemystified_word_vectors.ipynb#scrollTo=SBQlbyiVY3WJ\n",
    "\n",
    "\n"
   ]
  }
 ],
 "metadata": {
  "kernelspec": {
   "display_name": "myenv_p5",
   "language": "python",
   "name": "python3"
  },
  "language_info": {
   "codemirror_mode": {
    "name": "ipython",
    "version": 3
   },
   "file_extension": ".py",
   "mimetype": "text/x-python",
   "name": "python",
   "nbconvert_exporter": "python",
   "pygments_lexer": "ipython3",
   "version": "3.11.5"
  }
 },
 "nbformat": 4,
 "nbformat_minor": 2
}
