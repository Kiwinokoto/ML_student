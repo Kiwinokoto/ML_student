{
 "cells": [
  {
   "cell_type": "markdown",
   "metadata": {},
   "source": [
    "## **Catégorisez automatiquement des questions**\n",
    "\n",
    "### partie 4/8 (suite): Prédiction de tags, approche supervisée, sentence embedding\n",
    "\n",
    "#### <br> L'objectif de ce notebook est de découvrir des techniques NLP plus avancées: Word2Vec (peut être remplacé par Doc2Vec), BERT, USE\n",
    "\n",
    "<br>\n"
   ]
  },
  {
   "cell_type": "markdown",
   "metadata": {},
   "source": [
    "## 1 Imports\n"
   ]
  },
  {
   "cell_type": "markdown",
   "metadata": {},
   "source": [
    "### 1.1 Librairies\n"
   ]
  },
  {
   "cell_type": "code",
   "execution_count": 1,
   "metadata": {},
   "outputs": [
    {
     "name": "stderr",
     "output_type": "stream",
     "text": [
      "2024-03-04 11:48:58.035873: I tensorflow/core/platform/cpu_feature_guard.cc:182] This TensorFlow binary is optimized to use available CPU instructions in performance-critical operations.\n",
      "To enable the following instructions: SSE4.1 SSE4.2 AVX AVX2 AVX512F AVX512_VNNI FMA, in other operations, rebuild TensorFlow with the appropriate compiler flags.\n"
     ]
    }
   ],
   "source": [
    "#\n",
    "import os\n",
    "import ast\n",
    "from pprint import pprint\n",
    "import time\n",
    "\n",
    "import gdown\n",
    "import collections\n",
    "import matplotlib.pyplot as plt\n",
    "import numpy as np\n",
    "import pandas as pd\n",
    "import spacy\n",
    "\n",
    "from gensim.models.keyedvectors import KeyedVectors\n",
    "from sklearn.preprocessing import MultiLabelBinarizer\n",
    "from sklearn.decomposition import PCA\n",
    "from sklearn.model_selection import train_test_split\n",
    "from sklearn.linear_model import SGDClassifier\n",
    "from sklearn.multioutput import MultiOutputClassifier\n",
    "\n",
    "import tensorflow as tf\n",
    "from tensorflow import keras\n",
    "from tensorflow.keras import layers\n",
    "\n",
    "import operator\n",
    "from datasets import load_dataset\n",
    "\n",
    "import transformers\n",
    "from transformers import AutoTokenizer\n",
    "from transformers import pipeline\n",
    "from transformers import TFAutoModelForQuestionAnswering\n"
   ]
  },
  {
   "cell_type": "markdown",
   "metadata": {},
   "source": [
    "### Fonctions\n"
   ]
  },
  {
   "cell_type": "code",
   "execution_count": 2,
   "metadata": {},
   "outputs": [],
   "source": [
    "def turn_str_back_into_list(df):\n",
    "    \"\"\"Correct the type change due to .csv export\"\"\"\n",
    "\n",
    "    df['title_nltk'] = df['title_nltk'].apply(ast.literal_eval)\n",
    "    df['body_nltk'] = df['body_nltk'].apply(ast.literal_eval)\n",
    "    df['title_spacy'] = df['title_spacy'].apply(ast.literal_eval)\n",
    "    df['body_spacy'] = df['body_spacy'].apply(ast.literal_eval)\n",
    "    df['all_tags'] = df['all_tags'].apply(ast.literal_eval)\n",
    "\n",
    "\n",
    "df_freq = pd.DataFrame()\n",
    "\n",
    "def keep_most_frequent_tags(list_tags, df_freq=df_freq, lim=100):\n",
    "    \"\"\"\n",
    "    Keep only the n most frequent tags (default 100).\n",
    "\n",
    "    Parameters:\n",
    "    - liste_tokens (list): The input list of tokens to be processed.\n",
    "    - forbidden_list (set): A set of forbidden tokens, which includes stop words,\n",
    "      tokens exceeding upper frequency limits, and tokens falling below lower frequency limits.\n",
    "\n",
    "    Returns:\n",
    "    list: A filtered list of tokens that excludes stop words, tokens exceeding upper frequency limits,\n",
    "    and tokens falling below lower frequency limits.\n",
    "    \"\"\"\n",
    "\n",
    "    mandatory_list = df_freq['Tag'][:lim].tolist()\n",
    "    filtered_list = [token for token in list_tags if token in mandatory_list]\n",
    "\n",
    "    return filtered_list\n",
    "\n",
    "\n",
    "def create_top_n_tags_feature(data, n=100, slice=1, df_freq=df_freq):\n",
    "    data[f'top_tags_{n}'] = data['all_tags'].apply(\n",
    "        lambda x: keep_most_frequent_tags(x, df_freq=df_freq, lim=n)\n",
    "    )\n",
    "\n",
    "    data = data.loc[data[f'top_tags_{n}'].apply(len) >= 0, :].copy()\n",
    "    print(data.shape, '\\n')\n",
    "\n",
    "    slice_df = data[::slice]\n",
    "    # slice_df.reset_index(drop=True, inplace=True)\n",
    "\n",
    "    # stratify ?\n",
    "    train_df, test_df = train_test_split(slice_df, test_size=0.1, random_state=42)\n",
    "\n",
    "    train_df.reset_index(drop=True, inplace=True)\n",
    "    test_df.reset_index(drop=True, inplace=True)\n",
    "\n",
    "\n",
    "    return train_df, test_df\n",
    "\n"
   ]
  },
  {
   "cell_type": "markdown",
   "metadata": {},
   "source": [
    "### Data\n"
   ]
  },
  {
   "cell_type": "code",
   "execution_count": 3,
   "metadata": {},
   "outputs": [
    {
     "data": {
      "text/html": [
       "<div>\n",
       "<style scoped>\n",
       "    .dataframe tbody tr th:only-of-type {\n",
       "        vertical-align: middle;\n",
       "    }\n",
       "\n",
       "    .dataframe tbody tr th {\n",
       "        vertical-align: top;\n",
       "    }\n",
       "\n",
       "    .dataframe thead th {\n",
       "        text-align: right;\n",
       "    }\n",
       "</style>\n",
       "<table border=\"1\" class=\"dataframe\">\n",
       "  <thead>\n",
       "    <tr style=\"text-align: right;\">\n",
       "      <th></th>\n",
       "      <th>CreationDate</th>\n",
       "      <th>title</th>\n",
       "      <th>body</th>\n",
       "      <th>all_tags</th>\n",
       "      <th>title_nltk</th>\n",
       "      <th>body_nltk</th>\n",
       "      <th>title_spacy</th>\n",
       "      <th>body_spacy</th>\n",
       "    </tr>\n",
       "  </thead>\n",
       "  <tbody>\n",
       "    <tr>\n",
       "      <th>47660</th>\n",
       "      <td>2011-05-23 22:22:56</td>\n",
       "      <td>How can I send a file document to the printer ...</td>\n",
       "      <td>Here's the basic premise:\\nMy user clicks some...</td>\n",
       "      <td>[c#, winforms, pdf, .net-4.0, printing]</td>\n",
       "      <td>[send, file, document, printer, print]</td>\n",
       "      <td>[send, file, document, printer, print, premise...</td>\n",
       "      <td>[send, file, document, printer, print]</td>\n",
       "      <td>[premise, user, click, file, spit, desktop, wa...</td>\n",
       "    </tr>\n",
       "    <tr>\n",
       "      <th>47661</th>\n",
       "      <td>2011-05-23 21:15:51</td>\n",
       "      <td>CA1014 Mark 'some.dll' with CLSCompliant(true)...</td>\n",
       "      <td>When I run StyleCop, I got this error message ...</td>\n",
       "      <td>[visual-studio, visual-studio-2010, dll, style...</td>\n",
       "      <td>[mark, dll, error, message, vs2010]</td>\n",
       "      <td>[mark, dll, error, message, vs2010, run, get, ...</td>\n",
       "      <td>[error, message]</td>\n",
       "      <td>[run, error, message, need, mark, dll, set, dl...</td>\n",
       "    </tr>\n",
       "    <tr>\n",
       "      <th>47662</th>\n",
       "      <td>2011-05-23 21:05:59</td>\n",
       "      <td>How to change a text file's name in C++?</td>\n",
       "      <td>I would like to change a txt file's name, but ...</td>\n",
       "      <td>[c++, algorithm, file, directory, file-rename]</td>\n",
       "      <td>[change, text, file, name, c]</td>\n",
       "      <td>[change, text, file, name, c, like, change, tx...</td>\n",
       "      <td>[change, text, file]</td>\n",
       "      <td>[like, change, txt, file, find, example, want,...</td>\n",
       "    </tr>\n",
       "    <tr>\n",
       "      <th>47663</th>\n",
       "      <td>2011-05-23 20:06:35</td>\n",
       "      <td>php implode (101) with quotes</td>\n",
       "      <td>Imploding  a simple array \\nwould look like th...</td>\n",
       "      <td>[php, arrays, string, csv, implode]</td>\n",
       "      <td>[php, quote]</td>\n",
       "      <td>[php, quote, array, look, array, array, lastna...</td>\n",
       "      <td>[quote]</td>\n",
       "      <td>[implode, array, look, array, email, phone, ar...</td>\n",
       "    </tr>\n",
       "    <tr>\n",
       "      <th>47664</th>\n",
       "      <td>2011-05-23 20:00:57</td>\n",
       "      <td>What characters are allowed in a iOS file name?</td>\n",
       "      <td>I'm looking for a way to make sure a string ca...</td>\n",
       "      <td>[ios, file, filenames, character-encoding, nsf...</td>\n",
       "      <td>[character, allow, file, name]</td>\n",
       "      <td>[character, allow, file, name, look, way, make...</td>\n",
       "      <td>[character, allow, file]</td>\n",
       "      <td>[look, way, string, file, section, code, delet...</td>\n",
       "    </tr>\n",
       "  </tbody>\n",
       "</table>\n",
       "</div>"
      ],
      "text/plain": [
       "              CreationDate                                              title  \\\n",
       "47660  2011-05-23 22:22:56  How can I send a file document to the printer ...   \n",
       "47661  2011-05-23 21:15:51  CA1014 Mark 'some.dll' with CLSCompliant(true)...   \n",
       "47662  2011-05-23 21:05:59           How to change a text file's name in C++?   \n",
       "47663  2011-05-23 20:06:35                      php implode (101) with quotes   \n",
       "47664  2011-05-23 20:00:57    What characters are allowed in a iOS file name?   \n",
       "\n",
       "                                                    body  \\\n",
       "47660  Here's the basic premise:\\nMy user clicks some...   \n",
       "47661  When I run StyleCop, I got this error message ...   \n",
       "47662  I would like to change a txt file's name, but ...   \n",
       "47663  Imploding  a simple array \\nwould look like th...   \n",
       "47664  I'm looking for a way to make sure a string ca...   \n",
       "\n",
       "                                                all_tags  \\\n",
       "47660            [c#, winforms, pdf, .net-4.0, printing]   \n",
       "47661  [visual-studio, visual-studio-2010, dll, style...   \n",
       "47662     [c++, algorithm, file, directory, file-rename]   \n",
       "47663                [php, arrays, string, csv, implode]   \n",
       "47664  [ios, file, filenames, character-encoding, nsf...   \n",
       "\n",
       "                                   title_nltk  \\\n",
       "47660  [send, file, document, printer, print]   \n",
       "47661     [mark, dll, error, message, vs2010]   \n",
       "47662           [change, text, file, name, c]   \n",
       "47663                            [php, quote]   \n",
       "47664          [character, allow, file, name]   \n",
       "\n",
       "                                               body_nltk  \\\n",
       "47660  [send, file, document, printer, print, premise...   \n",
       "47661  [mark, dll, error, message, vs2010, run, get, ...   \n",
       "47662  [change, text, file, name, c, like, change, tx...   \n",
       "47663  [php, quote, array, look, array, array, lastna...   \n",
       "47664  [character, allow, file, name, look, way, make...   \n",
       "\n",
       "                                  title_spacy  \\\n",
       "47660  [send, file, document, printer, print]   \n",
       "47661                        [error, message]   \n",
       "47662                    [change, text, file]   \n",
       "47663                                 [quote]   \n",
       "47664                [character, allow, file]   \n",
       "\n",
       "                                              body_spacy  \n",
       "47660  [premise, user, click, file, spit, desktop, wa...  \n",
       "47661  [run, error, message, need, mark, dll, set, dl...  \n",
       "47662  [like, change, txt, file, find, example, want,...  \n",
       "47663  [implode, array, look, array, email, phone, ar...  \n",
       "47664  [look, way, string, file, section, code, delet...  "
      ]
     },
     "metadata": {},
     "output_type": "display_data"
    },
    {
     "name": "stdout",
     "output_type": "stream",
     "text": [
      "(47665, 8)\n"
     ]
    }
   ],
   "source": [
    "raw_data = pd.read_csv('./../0_data/cleaned_data/bow_classic.csv', sep=',')\n",
    "\n",
    "turn_str_back_into_list(raw_data)\n",
    "\n",
    "display(raw_data.tail())\n",
    "\n",
    "print(raw_data.shape)\n"
   ]
  },
  {
   "cell_type": "code",
   "execution_count": 4,
   "metadata": {},
   "outputs": [
    {
     "name": "stdout",
     "output_type": "stream",
     "text": [
      "Il y a 238327 tags au total. \n",
      "\n",
      "Il y a 15817 tags différents. \n",
      "\n"
     ]
    }
   ],
   "source": [
    "all_tags = [tag for tags in raw_data['all_tags'] for tag in tags]\n",
    "print(f'Il y a {len(all_tags)} tags au total. \\n')\n",
    "print(f'Il y a {len(set(all_tags))} tags différents. \\n')\n",
    "\n",
    "# display(questions_tags)\n",
    "\n",
    "# Fréquence\n",
    "tag_frequencies_dict = {}\n",
    "for tag in all_tags:\n",
    "    tag_frequencies_dict[tag] = tag_frequencies_dict.get(tag, 0) + 1\n",
    "\n",
    "# Sort the dictionary items by values in descending order\n",
    "sorted_tag_frequencies = dict(sorted(tag_frequencies_dict.items(), key=lambda item: item[1], reverse=True))\n",
    "\n",
    "# Extract tags and frequencies\n",
    "tags = list(sorted_tag_frequencies.keys())\n",
    "frequencies = list(sorted_tag_frequencies.values())\n",
    "\n",
    "df_freq = pd.DataFrame({'Tag': tags, 'Frequency': frequencies})\n"
   ]
  },
  {
   "cell_type": "markdown",
   "metadata": {},
   "source": [
    "### Checkpoint\n"
   ]
  },
  {
   "cell_type": "code",
   "execution_count": 5,
   "metadata": {},
   "outputs": [
    {
     "name": "stdout",
     "output_type": "stream",
     "text": [
      "(47665, 9) \n",
      "\n",
      "(4290, 9)\n"
     ]
    },
    {
     "data": {
      "text/html": [
       "<div>\n",
       "<style scoped>\n",
       "    .dataframe tbody tr th:only-of-type {\n",
       "        vertical-align: middle;\n",
       "    }\n",
       "\n",
       "    .dataframe tbody tr th {\n",
       "        vertical-align: top;\n",
       "    }\n",
       "\n",
       "    .dataframe thead th {\n",
       "        text-align: right;\n",
       "    }\n",
       "</style>\n",
       "<table border=\"1\" class=\"dataframe\">\n",
       "  <thead>\n",
       "    <tr style=\"text-align: right;\">\n",
       "      <th></th>\n",
       "      <th>CreationDate</th>\n",
       "      <th>title</th>\n",
       "      <th>body</th>\n",
       "      <th>all_tags</th>\n",
       "      <th>title_nltk</th>\n",
       "      <th>body_nltk</th>\n",
       "      <th>title_spacy</th>\n",
       "      <th>body_spacy</th>\n",
       "      <th>top_tags_50</th>\n",
       "    </tr>\n",
       "  </thead>\n",
       "  <tbody>\n",
       "    <tr>\n",
       "      <th>0</th>\n",
       "      <td>2017-01-18 22:06:18</td>\n",
       "      <td>Python script scheduling in airflow</td>\n",
       "      <td>Hi everyone,\\nI need to schedule my python fil...</td>\n",
       "      <td>[python, apache-spark, scheduling, reload, air...</td>\n",
       "      <td>[python, script, schedule, airflow]</td>\n",
       "      <td>[python, script, schedule, hi, everyone, need,...</td>\n",
       "      <td>[script, scheduling, airflow]</td>\n",
       "      <td>[need, schedule, python, contain, datum, extra...</td>\n",
       "      <td>[python]</td>\n",
       "    </tr>\n",
       "    <tr>\n",
       "      <th>1</th>\n",
       "      <td>2012-11-26 15:14:23</td>\n",
       "      <td>C# listbox Collection syntax</td>\n",
       "      <td>While learning C# pretty fast, I am stumbling ...</td>\n",
       "      <td>[c#, linq, collections, listbox, ienumerable]</td>\n",
       "      <td>[c, listbox, collection, syntax]</td>\n",
       "      <td>[c, listbox, collection, syntax, learn, stumbl...</td>\n",
       "      <td>[c, listbox, syntax]</td>\n",
       "      <td>[learn, c, stumble, syntax, problem, add, numb...</td>\n",
       "      <td>[c#]</td>\n",
       "    </tr>\n",
       "    <tr>\n",
       "      <th>2</th>\n",
       "      <td>2013-06-29 09:24:27</td>\n",
       "      <td>Crashlytics integration issue</td>\n",
       "      <td>I have trouble integrating Crashlytics into my...</td>\n",
       "      <td>[iphone, ios, objective-c, crash, crashlytics]</td>\n",
       "      <td>[crashlytics, integration, issue]</td>\n",
       "      <td>[crashlytics, integration, issue, trouble, int...</td>\n",
       "      <td>[crashlytic, integration, issue]</td>\n",
       "      <td>[trouble, integrate, crashlytic, project, foll...</td>\n",
       "      <td>[iphone, ios, objective-c]</td>\n",
       "    </tr>\n",
       "    <tr>\n",
       "      <th>3</th>\n",
       "      <td>2019-10-29 18:35:19</td>\n",
       "      <td>How to resolve \"Cannot use import statement ou...</td>\n",
       "      <td>I have a React application (not using Create R...</td>\n",
       "      <td>[reactjs, jestjs, babeljs, babel-jest, ts-jest]</td>\n",
       "      <td>[resolve, import, statement, module, jest, run...</td>\n",
       "      <td>[resolve, import, statement, module, jest, run...</td>\n",
       "      <td>[resolve, use, import, statement, module, run,...</td>\n",
       "      <td>[application, build, try, run, yarn, jest, fol...</td>\n",
       "      <td>[reactjs]</td>\n",
       "    </tr>\n",
       "    <tr>\n",
       "      <th>4</th>\n",
       "      <td>2012-04-04 03:50:26</td>\n",
       "      <td>Selecting which project under a solution to de...</td>\n",
       "      <td>This one should be easy. I just can't figure o...</td>\n",
       "      <td>[c#, .net, visual-studio, visual-studio-2010, ...</td>\n",
       "      <td>[select, project, solution, debug, run, studio]</td>\n",
       "      <td>[select, project, solution, debug, run, studio...</td>\n",
       "      <td>[project, solution, debug, run]</td>\n",
       "      <td>[figure, search, solution, create, unit, test,...</td>\n",
       "      <td>[c#, .net]</td>\n",
       "    </tr>\n",
       "  </tbody>\n",
       "</table>\n",
       "</div>"
      ],
      "text/plain": [
       "          CreationDate                                              title  \\\n",
       "0  2017-01-18 22:06:18                Python script scheduling in airflow   \n",
       "1  2012-11-26 15:14:23                       C# listbox Collection syntax   \n",
       "2  2013-06-29 09:24:27                      Crashlytics integration issue   \n",
       "3  2019-10-29 18:35:19  How to resolve \"Cannot use import statement ou...   \n",
       "4  2012-04-04 03:50:26  Selecting which project under a solution to de...   \n",
       "\n",
       "                                                body  \\\n",
       "0  Hi everyone,\\nI need to schedule my python fil...   \n",
       "1  While learning C# pretty fast, I am stumbling ...   \n",
       "2  I have trouble integrating Crashlytics into my...   \n",
       "3  I have a React application (not using Create R...   \n",
       "4  This one should be easy. I just can't figure o...   \n",
       "\n",
       "                                            all_tags  \\\n",
       "0  [python, apache-spark, scheduling, reload, air...   \n",
       "1      [c#, linq, collections, listbox, ienumerable]   \n",
       "2     [iphone, ios, objective-c, crash, crashlytics]   \n",
       "3    [reactjs, jestjs, babeljs, babel-jest, ts-jest]   \n",
       "4  [c#, .net, visual-studio, visual-studio-2010, ...   \n",
       "\n",
       "                                          title_nltk  \\\n",
       "0                [python, script, schedule, airflow]   \n",
       "1                   [c, listbox, collection, syntax]   \n",
       "2                  [crashlytics, integration, issue]   \n",
       "3  [resolve, import, statement, module, jest, run...   \n",
       "4    [select, project, solution, debug, run, studio]   \n",
       "\n",
       "                                           body_nltk  \\\n",
       "0  [python, script, schedule, hi, everyone, need,...   \n",
       "1  [c, listbox, collection, syntax, learn, stumbl...   \n",
       "2  [crashlytics, integration, issue, trouble, int...   \n",
       "3  [resolve, import, statement, module, jest, run...   \n",
       "4  [select, project, solution, debug, run, studio...   \n",
       "\n",
       "                                         title_spacy  \\\n",
       "0                      [script, scheduling, airflow]   \n",
       "1                               [c, listbox, syntax]   \n",
       "2                   [crashlytic, integration, issue]   \n",
       "3  [resolve, use, import, statement, module, run,...   \n",
       "4                    [project, solution, debug, run]   \n",
       "\n",
       "                                          body_spacy  \\\n",
       "0  [need, schedule, python, contain, datum, extra...   \n",
       "1  [learn, c, stumble, syntax, problem, add, numb...   \n",
       "2  [trouble, integrate, crashlytic, project, foll...   \n",
       "3  [application, build, try, run, yarn, jest, fol...   \n",
       "4  [figure, search, solution, create, unit, test,...   \n",
       "\n",
       "                  top_tags_50  \n",
       "0                    [python]  \n",
       "1                        [c#]  \n",
       "2  [iphone, ios, objective-c]  \n",
       "3                   [reactjs]  \n",
       "4                  [c#, .net]  "
      ]
     },
     "metadata": {},
     "output_type": "display_data"
    }
   ],
   "source": [
    "NB_TAGS = 50    # au-dela, risque de classes absentes\n",
    "                # surtout sur validation / testing set\n",
    "                # si sample > 10\n",
    "\n",
    "sample = 10\n",
    "\n",
    "training_df, test_df = create_top_n_tags_feature(data=raw_data, n=NB_TAGS, slice=sample, df_freq=df_freq)\n",
    "\n",
    "print(training_df.shape)\n",
    "\n",
    "display(training_df.head())\n"
   ]
  },
  {
   "cell_type": "markdown",
   "metadata": {},
   "source": [
    "## 2 Static embedding : word vectors\n"
   ]
  },
  {
   "cell_type": "markdown",
   "metadata": {},
   "source": [
    "### 2.1 Using Pretrained, Third-Party Vectors\n"
   ]
  },
  {
   "cell_type": "code",
   "execution_count": 6,
   "metadata": {},
   "outputs": [
    {
     "name": "stdout",
     "output_type": "stream",
     "text": [
      "File already exists.\n"
     ]
    }
   ],
   "source": [
    "# 3 possibiltés :\n",
    "\n",
    "# - utiliser une modèle préentrainé\n",
    "# - utiliser une modèle préentrainé, en le tunant sur nos données\n",
    "# - faire notre propre encodage\n",
    "\n",
    "# a priori le plus intéressant pour nous est d'utiliser un modèle entrainé sur avec des ressources\n",
    "# très supérieures aux notres, on va donc se concentrer sur les 2 premières possibilités\n",
    "# (modèle préentrainé)\n",
    "\n",
    "\n",
    "# Destination path where the file will be saved\n",
    "output = \"GoogleNews-vectors-negative300.bin.gz\"\n",
    "\n",
    "# Check if the file already exists\n",
    "if not os.path.exists(output):\n",
    "    # URL of the file in Google Drive\n",
    "    url = \"https://drive.google.com/uc?id=1BpfbHu4denceXiv8yfdY3EHgjKIcULku\"\n",
    "\n",
    "    # Download the file from Google Drive\n",
    "    gdown.download(url, quiet=False)\n",
    "    print(\"File downloaded successfully.\")\n",
    "else:\n",
    "    print(\"File already exists.\")\n"
   ]
  },
  {
   "cell_type": "code",
   "execution_count": 7,
   "metadata": {},
   "outputs": [],
   "source": [
    "word_vectors = KeyedVectors.load_word2vec_format(output, binary=True, limit=200000)\n"
   ]
  },
  {
   "cell_type": "markdown",
   "metadata": {},
   "source": [
    "### 2.2 What a word vector looks like\n"
   ]
  },
  {
   "cell_type": "code",
   "execution_count": 8,
   "metadata": {},
   "outputs": [
    {
     "name": "stdout",
     "output_type": "stream",
     "text": [
      "Vector dimension: (300,)\n",
      "[-1.25976562e-01  2.53906250e-02  1.66992188e-01  5.50781250e-01\n",
      " -7.66601562e-02  1.28906250e-01  1.02539062e-01 -3.94821167e-04\n",
      "  1.21582031e-01  4.32128906e-02  1.72851562e-01 -6.83593750e-02\n",
      "  3.41796875e-01  8.39843750e-02  6.68945312e-02  2.67578125e-01\n",
      " -3.71093750e-02 -5.56640625e-02  1.80664062e-01  1.90429688e-02\n",
      " -5.07812500e-02  9.03320312e-03  1.76757812e-01  6.49414062e-02\n",
      " -6.25000000e-02 -9.42382812e-02 -9.71679688e-02  4.00390625e-01\n",
      "  1.15234375e-01  1.02539062e-01 -1.86767578e-02 -2.69531250e-01\n",
      "  1.80664062e-01  1.25000000e-01 -3.17382812e-02 -5.49316406e-02\n",
      "  3.45703125e-01 -1.57470703e-02  1.82390213e-05  2.07031250e-01\n",
      " -1.25976562e-01 -2.83203125e-01  2.00195312e-01  8.34960938e-02\n",
      " -4.73632812e-02 -3.11279297e-02 -2.61718750e-01  1.69921875e-01\n",
      " -2.02636719e-02  1.53320312e-01 -1.20605469e-01  3.75000000e-01\n",
      " -5.68847656e-02 -4.76074219e-03 -1.95312500e-01 -2.03125000e-01\n",
      "  3.00781250e-01 -1.01074219e-01 -3.18359375e-01 -9.03320312e-02\n",
      " -1.19140625e-01  1.95312500e-01 -8.78906250e-02  1.58203125e-01\n",
      "  1.51977539e-02 -1.60156250e-01 -3.30078125e-01 -4.66796875e-01\n",
      "  1.68945312e-01  2.23388672e-02  1.55273438e-01  1.08398438e-01\n",
      " -3.56445312e-02  9.13085938e-02 -8.69140625e-02 -1.20117188e-01\n",
      " -3.08593750e-01 -2.61230469e-02 -7.22656250e-02 -4.80468750e-01\n",
      "  3.78417969e-02 -1.35742188e-01 -1.02539062e-01 -2.91015625e-01\n",
      " -1.93359375e-01 -4.21875000e-01 -1.06445312e-01  3.55468750e-01\n",
      "  1.66992188e-01 -3.63159180e-03 -7.42187500e-02 -3.22265625e-01\n",
      " -7.51953125e-02 -8.25195312e-02 -2.91015625e-01 -1.25976562e-01\n",
      "  1.68457031e-02  5.00488281e-02  1.27929688e-01 -7.42187500e-02\n",
      " -1.30859375e-01 -2.46093750e-01  6.49414062e-02  1.53320312e-01\n",
      "  2.59765625e-01 -1.05468750e-01  3.57421875e-01 -4.29687500e-02\n",
      " -1.58203125e-01  8.20312500e-02 -5.98144531e-02 -2.34375000e-01\n",
      " -3.22265625e-01 -1.25976562e-01  5.39550781e-02 -1.87500000e-01\n",
      "  1.35742188e-01 -6.59179688e-02  8.36181641e-03 -1.84570312e-01\n",
      " -2.96875000e-01 -1.84570312e-01 -4.73632812e-02 -1.06445312e-01\n",
      " -6.93359375e-02  3.83300781e-02 -3.19824219e-02  3.63769531e-02\n",
      " -1.20117188e-01  1.76757812e-01 -1.15722656e-01  1.98974609e-02\n",
      "  8.64257812e-02  6.07910156e-02 -1.40625000e-01  3.30078125e-01\n",
      "  1.94335938e-01 -1.56250000e-01  3.92578125e-01  1.80816650e-03\n",
      "  7.27539062e-02 -2.53906250e-01 -3.54003906e-02  2.86865234e-03\n",
      " -1.72851562e-01  9.76562500e-03 -1.55639648e-02  3.23486328e-03\n",
      " -1.69921875e-01  1.55273438e-01  7.17773438e-02  4.10156250e-01\n",
      " -2.10937500e-01  1.31835938e-01  7.62939453e-03  4.78515625e-02\n",
      " -4.54101562e-02  7.32421875e-02 -4.06250000e-01 -2.06298828e-02\n",
      " -4.04296875e-01 -1.00585938e-01 -2.03125000e-01  1.55273438e-01\n",
      " -1.89453125e-01  6.59179688e-02  6.54296875e-02 -2.05078125e-01\n",
      "  5.46875000e-02 -3.06396484e-02 -1.54296875e-01 -2.61718750e-01\n",
      "  3.81469727e-03 -8.20312500e-02 -3.20312500e-01  2.84423828e-02\n",
      "  2.69531250e-01  1.73828125e-01 -1.66992188e-01  2.22656250e-01\n",
      "  6.34765625e-02 -1.96289062e-01  1.45507812e-01 -1.56250000e-02\n",
      "  2.60009766e-02 -6.29882812e-02  2.94189453e-02  3.28125000e-01\n",
      " -4.68750000e-02 -1.52343750e-01  6.98242188e-02  3.18359375e-01\n",
      " -1.08398438e-01  3.66210938e-02 -1.99218750e-01  1.64031982e-03\n",
      "  6.40869141e-03 -1.47460938e-01 -6.25000000e-02 -4.36401367e-03\n",
      " -2.75390625e-01  8.54492188e-02 -5.00488281e-02 -3.12500000e-01\n",
      " -1.33789062e-01 -1.99218750e-01  5.17578125e-02 -9.27734375e-02\n",
      " -2.40234375e-01 -7.86132812e-02 -1.54296875e-01 -6.64062500e-02\n",
      " -1.97265625e-01  1.76757812e-01 -1.57226562e-01 -1.63085938e-01\n",
      "  6.00585938e-02 -5.85937500e-02 -2.22656250e-01 -6.59179688e-02\n",
      " -9.37500000e-02 -4.14062500e-01  2.55859375e-01 -1.76757812e-01\n",
      "  2.51953125e-01  1.48437500e-01 -1.04492188e-01 -8.60595703e-03\n",
      " -1.22558594e-01 -9.22851562e-02  4.41894531e-02 -1.70898438e-01\n",
      " -1.98242188e-01  1.92382812e-01  2.85156250e-01 -4.34570312e-02\n",
      "  1.08398438e-01 -5.37109375e-02 -2.09960938e-02  1.46484375e-01\n",
      "  3.82812500e-01  2.31933594e-02 -8.83789062e-02  7.32421875e-02\n",
      " -1.01074219e-01 -1.06445312e-01  4.12109375e-01  2.10937500e-01\n",
      "  2.79296875e-01 -2.08740234e-02  2.07031250e-01  9.81445312e-02\n",
      "  2.39257812e-01  7.66601562e-02  2.02148438e-01 -6.07910156e-02\n",
      " -2.63977051e-03 -1.83593750e-01 -1.57470703e-02 -3.20312500e-01\n",
      "  9.03320312e-02  1.02050781e-01 -4.96093750e-01 -9.71679688e-02\n",
      " -8.10546875e-02 -1.80664062e-01 -1.45507812e-01  8.64257812e-02\n",
      " -2.04101562e-01 -2.02148438e-01 -5.46875000e-02  2.53906250e-01\n",
      "  2.08740234e-02 -1.15722656e-01  2.02148438e-01 -8.05664062e-02\n",
      " -1.04980469e-01 -7.95898438e-02  1.96533203e-02 -2.49023438e-01\n",
      "  1.30859375e-01  2.89062500e-01 -2.25585938e-01  4.55078125e-01\n",
      " -2.73437500e-01 -2.57812500e-01 -3.14941406e-02  4.04296875e-01\n",
      " -2.67578125e-01  2.89062500e-01 -1.83593750e-01 -1.48437500e-01\n",
      " -1.06933594e-01  1.27929688e-01  5.46875000e-01 -8.69140625e-02\n",
      " -1.48315430e-02  6.98242188e-02 -8.49609375e-02 -1.55273438e-01]\n"
     ]
    }
   ],
   "source": [
    "pizza = word_vectors['pizza']\n",
    "print(f'Vector dimension: {pizza.shape}')\n",
    "\n",
    "# The embedding for the word 'pizza'.\n",
    "print(pizza)\n"
   ]
  },
  {
   "cell_type": "markdown",
   "metadata": {},
   "source": [
    "### 2.3 compare two words\n"
   ]
  },
  {
   "cell_type": "code",
   "execution_count": 9,
   "metadata": {},
   "outputs": [
    {
     "name": "stdout",
     "output_type": "stream",
     "text": [
      "0.35505623\n",
      "0.3695989\n",
      "0.4708358\n"
     ]
    }
   ],
   "source": [
    "# Appétissant !\n",
    "\n",
    "print(word_vectors.similarity('pizza', 'tomato'))\n",
    "print(word_vectors.similarity('pizza', 'sauce'))\n",
    "print(word_vectors.similarity('pizza', 'cheese'))\n",
    "\n",
    "# Knew it ! Cheese is the most important. It's scientifically proven.\n"
   ]
  },
  {
   "cell_type": "code",
   "execution_count": 10,
   "metadata": {},
   "outputs": [
    {
     "name": "stdout",
     "output_type": "stream",
     "text": [
      "0.108518735\n",
      "0.11185603\n",
      "0.14119942\n"
     ]
    }
   ],
   "source": [
    "print(word_vectors.similarity('pizza', 'gorilla'))\n",
    "print(word_vectors.similarity('pizza', 'tree'))\n",
    "print(word_vectors.similarity('pizza', 'yoga'))\n",
    "\n",
    "# So pizza has more to do with trees than gorillas ?\n"
   ]
  },
  {
   "cell_type": "code",
   "execution_count": 11,
   "metadata": {},
   "outputs": [
    {
     "name": "stdout",
     "output_type": "stream",
     "text": [
      "0.549539\n",
      "0.12199123\n",
      "0.33437246\n",
      "0.23539218\n"
     ]
    }
   ],
   "source": [
    "# On our data\n",
    "\n",
    "print(word_vectors.similarity('html', 'javascript'))\n",
    "print(word_vectors.similarity('python', 'javascript'))\n",
    "print(word_vectors.similarity('java', 'javascript')) # bien vu !\n",
    "print(word_vectors.similarity('html', 'android'))\n"
   ]
  },
  {
   "cell_type": "markdown",
   "metadata": {},
   "source": [
    "### 2.4 OOV\n"
   ]
  },
  {
   "cell_type": "code",
   "execution_count": 12,
   "metadata": {},
   "outputs": [
    {
     "name": "stdout",
     "output_type": "stream",
     "text": [
      "\"Key 'womblyboo' not present\"\n"
     ]
    }
   ],
   "source": [
    "try:\n",
    "  word_vectors['womblyboo']\n",
    "except KeyError as e:\n",
    "  print(e)\n",
    "\n",
    "#\n"
   ]
  },
  {
   "cell_type": "markdown",
   "metadata": {},
   "source": [
    "### 2.5 Compare two sentences\n"
   ]
  },
  {
   "cell_type": "code",
   "execution_count": 13,
   "metadata": {},
   "outputs": [
    {
     "data": {
      "text/plain": [
       "0.5314661"
      ]
     },
     "execution_count": 13,
     "metadata": {},
     "output_type": "execute_result"
    }
   ],
   "source": [
    "word_vectors.n_similarity(\"dog bites man\".split(), \"canine nips human\".split())\n"
   ]
  },
  {
   "cell_type": "code",
   "execution_count": 14,
   "metadata": {},
   "outputs": [
    {
     "data": {
      "text/plain": [
       "0.14505778"
      ]
     },
     "execution_count": 14,
     "metadata": {},
     "output_type": "execute_result"
    }
   ],
   "source": [
    "word_vectors.n_similarity(\"martian dolphins are hostile\".split(), \"i flunked calligraphy school\".split())\n"
   ]
  },
  {
   "cell_type": "code",
   "execution_count": 15,
   "metadata": {},
   "outputs": [
    {
     "data": {
      "text/plain": [
       "1.0"
      ]
     },
     "execution_count": 15,
     "metadata": {},
     "output_type": "execute_result"
    }
   ],
   "source": [
    "word_vectors.n_similarity(\"dog bites man\".split(), \"man bites dog\".split())\n",
    "# Same\n"
   ]
  },
  {
   "cell_type": "code",
   "execution_count": 16,
   "metadata": {},
   "outputs": [
    {
     "data": {
      "text/plain": [
       "0.52682734"
      ]
     },
     "execution_count": 16,
     "metadata": {},
     "output_type": "execute_result"
    }
   ],
   "source": [
    "s1 = \"Volkswagen intends to double electric car sales in China\".lower().split()\n",
    "s2 = \"First Toyota with solid state battery will be hybrid\".lower().split()\n",
    "word_vectors.n_similarity(s1, s2)\n"
   ]
  },
  {
   "cell_type": "code",
   "execution_count": 17,
   "metadata": {},
   "outputs": [
    {
     "name": "stdout",
     "output_type": "stream",
     "text": [
      "Laravel chmod(/var/dev/project/storage/oauth-public.key): Operation failed: Operation not permitted\n",
      "Python/Selenium incognito/private mode\n"
     ]
    },
    {
     "data": {
      "text/plain": [
       "0.9873358"
      ]
     },
     "execution_count": 17,
     "metadata": {},
     "output_type": "execute_result"
    }
   ],
   "source": [
    "# Test on our data\n",
    "\n",
    "s1 = test_df['title'][0]\n",
    "print(s1)\n",
    "s2 = test_df['title'][1]\n",
    "print(s2)\n",
    "\n",
    "word_vectors.n_similarity(s1, s2)\n"
   ]
  },
  {
   "cell_type": "markdown",
   "metadata": {},
   "source": [
    "### 2.6 most_similar, doesnt_match\n"
   ]
  },
  {
   "cell_type": "code",
   "execution_count": 18,
   "metadata": {},
   "outputs": [
    {
     "data": {
      "text/plain": [
       "[('cells', 0.8180485963821411),\n",
       " ('Cells', 0.6146953105926514),\n",
       " ('Cell', 0.532131552696228),\n",
       " ('cellular', 0.5272858738899231),\n",
       " ('tumor_cells', 0.5097642540931702),\n",
       " ('ES_cells', 0.4866572618484497),\n",
       " ('immune_cells', 0.48319193720817566),\n",
       " ('epithelial_cells', 0.4781806468963623),\n",
       " ('molecule', 0.47757473587989807),\n",
       " ('proteins', 0.47494736313819885)]"
      ]
     },
     "execution_count": 18,
     "metadata": {},
     "output_type": "execute_result"
    }
   ],
   "source": [
    "word_vectors.most_similar(positive=['cell'], topn=10)\n"
   ]
  },
  {
   "cell_type": "code",
   "execution_count": 19,
   "metadata": {},
   "outputs": [
    {
     "data": {
      "text/plain": [
       "[('cell_phone', 0.6861390471458435),\n",
       " ('cellular', 0.6757438778877258),\n",
       " ('cellphone', 0.6633196473121643),\n",
       " ('telephone', 0.6474040150642395),\n",
       " ('Phone', 0.6051893830299377),\n",
       " ('phones', 0.5896332859992981),\n",
       " ('cells', 0.5850948095321655),\n",
       " ('cordless_phone', 0.5711769461631775),\n",
       " ('Cell', 0.561764121055603),\n",
       " ('landline', 0.546729564666748)]"
      ]
     },
     "execution_count": 19,
     "metadata": {},
     "output_type": "execute_result"
    }
   ],
   "source": [
    "word_vectors.most_similar(positive=['cell', 'phone'], topn=10)\n"
   ]
  },
  {
   "cell_type": "code",
   "execution_count": 20,
   "metadata": {},
   "outputs": [
    {
     "data": {
      "text/plain": [
       "'hamburger'"
      ]
     },
     "execution_count": 20,
     "metadata": {},
     "output_type": "execute_result"
    }
   ],
   "source": [
    "# doublt we'll use this one, but funny :\n",
    "\n",
    "word_vectors.doesnt_match([\"apple\", \"orange\", \"hamburger\", \"banana\", \"kiwi\"])\n"
   ]
  },
  {
   "cell_type": "code",
   "execution_count": 21,
   "metadata": {},
   "outputs": [
    {
     "data": {
      "text/plain": [
       "'Toyota'"
      ]
     },
     "execution_count": 21,
     "metadata": {},
     "output_type": "execute_result"
    }
   ],
   "source": [
    "word_vectors.doesnt_match([\"Microsoft\", \"Apple\", \"Toyota\", \"Amazon\", \"Netflix\", \"Google\"])\n"
   ]
  },
  {
   "cell_type": "markdown",
   "metadata": {},
   "source": [
    "### 2.7 Visualisons\n"
   ]
  },
  {
   "cell_type": "code",
   "execution_count": 22,
   "metadata": {},
   "outputs": [],
   "source": [
    "def display_pca_scatterplot(model, words):\n",
    "    word_vectors = np.array([model[w] for w in words])\n",
    "\n",
    "    twodim = PCA().fit_transform(word_vectors)[:,:2]\n",
    "\n",
    "    plt.figure(figsize=(10,10))\n",
    "    plt.scatter(twodim[:,0], twodim[:,1], edgecolors='k', c='r', s=128)\n",
    "    for word, (x,y) in zip(words, twodim):\n",
    "        plt.text(x+0.05, y+0.05, word)"
   ]
  },
  {
   "cell_type": "code",
   "execution_count": 23,
   "metadata": {},
   "outputs": [
    {
     "data": {
      "image/png": "[encoded data removed]",
      "text/plain": [
       "<Figure size 1000x1000 with 1 Axes>"
      ]
     },
     "metadata": {},
     "output_type": "display_data"
    }
   ],
   "source": [
    "display_pca_scatterplot(word_vectors, ['swim', 'swimming', 'cat', 'dog', 'feline', 'road', 'car', 'bus'])\n"
   ]
  },
  {
   "cell_type": "code",
   "execution_count": 24,
   "metadata": {},
   "outputs": [
    {
     "data": {
      "text/plain": [
       "[('UK', 0.623056948184967),\n",
       " ('Britain', 0.6016389727592468),\n",
       " ('United_Kingdom', 0.5343458652496338)]"
      ]
     },
     "execution_count": 24,
     "metadata": {},
     "output_type": "execute_result"
    }
   ],
   "source": [
    "word_vectors.most_similar(positive=['Italy', 'London'], negative=['Rome'], topn=3)\n"
   ]
  },
  {
   "cell_type": "code",
   "execution_count": 25,
   "metadata": {},
   "outputs": [
    {
     "data": {
      "image/png": "[encoded data removed]",
      "text/plain": [
       "<Figure size 1000x1000 with 1 Axes>"
      ]
     },
     "metadata": {},
     "output_type": "display_data"
    }
   ],
   "source": [
    "display_pca_scatterplot(word_vectors, ['Rome', 'Italy', 'London', 'Britain', 'UK'])\n"
   ]
  },
  {
   "cell_type": "markdown",
   "metadata": {},
   "source": [
    "## 3 Using Pretrained Word Vectors for Classification\n"
   ]
  },
  {
   "cell_type": "code",
   "execution_count": 26,
   "metadata": {},
   "outputs": [
    {
     "name": "stdout",
     "output_type": "stream",
     "text": [
      "3000000\n"
     ]
    }
   ],
   "source": [
    "word_vectors = KeyedVectors.load_word2vec_format(output, binary=True) # limit=None\n",
    "\n",
    "print(len(word_vectors))\n"
   ]
  },
  {
   "cell_type": "markdown",
   "metadata": {},
   "source": [
    "### 3.1 validation set\n"
   ]
  },
  {
   "cell_type": "code",
   "execution_count": 27,
   "metadata": {},
   "outputs": [
    {
     "data": {
      "text/html": [
       "<div>\n",
       "<style scoped>\n",
       "    .dataframe tbody tr th:only-of-type {\n",
       "        vertical-align: middle;\n",
       "    }\n",
       "\n",
       "    .dataframe tbody tr th {\n",
       "        vertical-align: top;\n",
       "    }\n",
       "\n",
       "    .dataframe thead th {\n",
       "        text-align: right;\n",
       "    }\n",
       "</style>\n",
       "<table border=\"1\" class=\"dataframe\">\n",
       "  <thead>\n",
       "    <tr style=\"text-align: right;\">\n",
       "      <th></th>\n",
       "      <th>CreationDate</th>\n",
       "      <th>title</th>\n",
       "      <th>body</th>\n",
       "      <th>all_tags</th>\n",
       "      <th>title_nltk</th>\n",
       "      <th>body_nltk</th>\n",
       "      <th>title_spacy</th>\n",
       "      <th>body_spacy</th>\n",
       "      <th>top_tags_50</th>\n",
       "    </tr>\n",
       "  </thead>\n",
       "  <tbody>\n",
       "    <tr>\n",
       "      <th>0</th>\n",
       "      <td>2017-10-19 01:35:19</td>\n",
       "      <td>UINavigationBar with Large Titles - how to fin...</td>\n",
       "      <td>When using prefersLargeTitles for a UINavigati...</td>\n",
       "      <td>[ios, uinavigationcontroller, uinavigationbar,...</td>\n",
       "      <td>[uinavigationbar, title, find, height, io]</td>\n",
       "      <td>[uinavigationbar, title, find, height, io, uin...</td>\n",
       "      <td>[find, height, ios]</td>\n",
       "      <td>[uinavigationcontroller, uinavigationbar, nav,...</td>\n",
       "      <td>[ios]</td>\n",
       "    </tr>\n",
       "    <tr>\n",
       "      <th>1</th>\n",
       "      <td>2012-02-24 09:29:07</td>\n",
       "      <td>How to Convert a String to a Nullable Type Whi...</td>\n",
       "      <td>I have the below code and I'd need to convert ...</td>\n",
       "      <td>[c#, asp.net, generics, datetime, nullable]</td>\n",
       "      <td>[convert, string, type, determine, runtime]</td>\n",
       "      <td>[convert, string, type, determine, runtime, co...</td>\n",
       "      <td>[convert, string, type, determine]</td>\n",
       "      <td>[code, need, convert, string, type, specify, t...</td>\n",
       "      <td>[c#, asp.net]</td>\n",
       "    </tr>\n",
       "    <tr>\n",
       "      <th>2</th>\n",
       "      <td>2018-09-05 11:23:00</td>\n",
       "      <td>Scaffold-DbContext (EF Core Tools) throws 'Ins...</td>\n",
       "      <td>Context\\nCurrently I am creating an Extract, T...</td>\n",
       "      <td>[.net-core, ef-database-first, ef-core-2.1, en...</td>\n",
       "      <td>[ef, core, tool, throw, instance, failure, exc...</td>\n",
       "      <td>[ef, core, tool, throw, instance, failure, exc...</td>\n",
       "      <td>[throw, failure, exception]</td>\n",
       "      <td>[context, create, etl, application, write, c, ...</td>\n",
       "      <td>[]</td>\n",
       "    </tr>\n",
       "    <tr>\n",
       "      <th>3</th>\n",
       "      <td>2011-07-11 20:48:11</td>\n",
       "      <td>Proxying to another web service with Flask</td>\n",
       "      <td>I want to proxy requests made to my Flask app ...</td>\n",
       "      <td>[python, proxy, nginx, flask, httplib]</td>\n",
       "      <td>[web, service, flask]</td>\n",
       "      <td>[web, service, flask, want, proxy, request, ma...</td>\n",
       "      <td>[web, service]</td>\n",
       "      <td>[want, proxy, request, app, web, service, run,...</td>\n",
       "      <td>[python]</td>\n",
       "    </tr>\n",
       "    <tr>\n",
       "      <th>4</th>\n",
       "      <td>2019-03-17 05:39:24</td>\n",
       "      <td>Upload ZipOutputStream to S3 without saving zi...</td>\n",
       "      <td>I have a requirement to download photos (not i...</td>\n",
       "      <td>[java, amazon-s3, aws-lambda, aws-java-sdk, zi...</td>\n",
       "      <td>[s3, save, zip, file, disk, s3, java]</td>\n",
       "      <td>[s3, save, zip, file, disk, java, requirement,...</td>\n",
       "      <td>[save, zip, file, disk, aw]</td>\n",
       "      <td>[requirement, download, photo, directory, uplo...</td>\n",
       "      <td>[java]</td>\n",
       "    </tr>\n",
       "  </tbody>\n",
       "</table>\n",
       "</div>"
      ],
      "text/plain": [
       "          CreationDate                                              title  \\\n",
       "0  2017-10-19 01:35:19  UINavigationBar with Large Titles - how to fin...   \n",
       "1  2012-02-24 09:29:07  How to Convert a String to a Nullable Type Whi...   \n",
       "2  2018-09-05 11:23:00  Scaffold-DbContext (EF Core Tools) throws 'Ins...   \n",
       "3  2011-07-11 20:48:11         Proxying to another web service with Flask   \n",
       "4  2019-03-17 05:39:24  Upload ZipOutputStream to S3 without saving zi...   \n",
       "\n",
       "                                                body  \\\n",
       "0  When using prefersLargeTitles for a UINavigati...   \n",
       "1  I have the below code and I'd need to convert ...   \n",
       "2  Context\\nCurrently I am creating an Extract, T...   \n",
       "3  I want to proxy requests made to my Flask app ...   \n",
       "4  I have a requirement to download photos (not i...   \n",
       "\n",
       "                                            all_tags  \\\n",
       "0  [ios, uinavigationcontroller, uinavigationbar,...   \n",
       "1        [c#, asp.net, generics, datetime, nullable]   \n",
       "2  [.net-core, ef-database-first, ef-core-2.1, en...   \n",
       "3             [python, proxy, nginx, flask, httplib]   \n",
       "4  [java, amazon-s3, aws-lambda, aws-java-sdk, zi...   \n",
       "\n",
       "                                          title_nltk  \\\n",
       "0         [uinavigationbar, title, find, height, io]   \n",
       "1        [convert, string, type, determine, runtime]   \n",
       "2  [ef, core, tool, throw, instance, failure, exc...   \n",
       "3                              [web, service, flask]   \n",
       "4              [s3, save, zip, file, disk, s3, java]   \n",
       "\n",
       "                                           body_nltk  \\\n",
       "0  [uinavigationbar, title, find, height, io, uin...   \n",
       "1  [convert, string, type, determine, runtime, co...   \n",
       "2  [ef, core, tool, throw, instance, failure, exc...   \n",
       "3  [web, service, flask, want, proxy, request, ma...   \n",
       "4  [s3, save, zip, file, disk, java, requirement,...   \n",
       "\n",
       "                          title_spacy  \\\n",
       "0                 [find, height, ios]   \n",
       "1  [convert, string, type, determine]   \n",
       "2         [throw, failure, exception]   \n",
       "3                      [web, service]   \n",
       "4         [save, zip, file, disk, aw]   \n",
       "\n",
       "                                          body_spacy    top_tags_50  \n",
       "0  [uinavigationcontroller, uinavigationbar, nav,...          [ios]  \n",
       "1  [code, need, convert, string, type, specify, t...  [c#, asp.net]  \n",
       "2  [context, create, etl, application, write, c, ...             []  \n",
       "3  [want, proxy, request, app, web, service, run,...       [python]  \n",
       "4  [requirement, download, photo, directory, uplo...         [java]  "
      ]
     },
     "metadata": {},
     "output_type": "display_data"
    }
   ],
   "source": [
    "train_df, val_df = train_test_split(training_df, train_size=0.9, random_state=1)\n",
    "\n",
    "train_df.reset_index(drop=True, inplace=True)\n",
    "val_df.reset_index(drop=True, inplace=True)\n",
    "\n",
    "display(train_df.head())\n"
   ]
  },
  {
   "cell_type": "code",
   "execution_count": 28,
   "metadata": {},
   "outputs": [],
   "source": [
    "# Set up training data.\n",
    "\n",
    "feature = 'title' # on va tester le tokenizer de keras\n",
    "target = 'top_tags_' + str(NB_TAGS)\n",
    "\n",
    "X_train = train_df[feature].values\n",
    "y_train = train_df[target].tolist()\n",
    "\n",
    "# Set up validation data.\n",
    "X_val = val_df[feature].values\n",
    "y_val = val_df[target].tolist()\n"
   ]
  },
  {
   "cell_type": "code",
   "execution_count": 29,
   "metadata": {},
   "outputs": [
    {
     "name": "stdout",
     "output_type": "stream",
     "text": [
      "[[0 0 0 ... 0 0 0]\n",
      " [0 0 0 ... 0 0 0]\n",
      " [0 0 0 ... 0 0 0]\n",
      " ...\n",
      " [0 0 0 ... 0 0 0]\n",
      " [1 0 0 ... 0 0 0]\n",
      " [0 0 0 ... 0 0 0]]\n"
     ]
    }
   ],
   "source": [
    "# encodage target\n",
    "\n",
    "def train_target_encoding(y):\n",
    "    # Target encoding\n",
    "    mlb = MultiLabelBinarizer()\n",
    "    y_encoded = mlb.fit_transform(y)\n",
    "\n",
    "    return mlb, y_encoded\n",
    "\n",
    "\n",
    "def val_test_target_encoding(y, mlb):\n",
    "    # Target encoding\n",
    "    y_encoded = mlb.fit_transform(y)\n",
    "\n",
    "    return y_encoded\n",
    "\n",
    "\n",
    "mlb, y_train_encoded = train_target_encoding(y_train)\n",
    "y_val_encoded = val_test_target_encoding(y_val, mlb)\n",
    "\n",
    "print(y_train_encoded)\n"
   ]
  },
  {
   "cell_type": "markdown",
   "metadata": {},
   "source": [
    "### 3.2 tokenization\n"
   ]
  },
  {
   "cell_type": "code",
   "execution_count": 30,
   "metadata": {},
   "outputs": [],
   "source": [
    "tokenizer = keras.preprocessing.text.Tokenizer(num_words=20000,\n",
    "                                               filters='0123456789!\"#$%&()*+,-./:;<=>?@[\\]^_`{|}~',\n",
    "                                               lower=True)\n",
    "\n",
    "tokenizer.fit_on_texts(X_train)\n"
   ]
  },
  {
   "cell_type": "code",
   "execution_count": 31,
   "metadata": {},
   "outputs": [
    {
     "name": "stdout",
     "output_type": "stream",
     "text": [
      "[1816, 6, 682, 2578, 3, 1, 64, 1132, 225, 2, 36]\n",
      "['uinavigationbar', 'with', 'large']\n"
     ]
    }
   ],
   "source": [
    "X_train_tokens = tokenizer.texts_to_sequences(X_train)\n",
    "\n",
    "print(X_train_tokens[0])\n",
    "print([tokenizer.index_word[x] for x in X_train_tokens[0][:3]])\n"
   ]
  },
  {
   "cell_type": "code",
   "execution_count": 32,
   "metadata": {},
   "outputs": [
    {
     "data": {
      "text/plain": [
       "'uinavigationbar with large titles how to find extra height in ios'"
      ]
     },
     "execution_count": 32,
     "metadata": {},
     "output_type": "execute_result"
    }
   ],
   "source": [
    "# Review excerpt reconstructed from integer sequence.\n",
    "tokenizer.sequences_to_texts([X_train_tokens[0]])[0][:300]\n"
   ]
  },
  {
   "cell_type": "code",
   "execution_count": 33,
   "metadata": {},
   "outputs": [
    {
     "data": {
      "text/plain": [
       "'UINavigationBar with Large Titles - how to find extra height in iOS 11'"
      ]
     },
     "execution_count": 33,
     "metadata": {},
     "output_type": "execute_result"
    }
   ],
   "source": [
    "# Original review text.\n",
    "train_df[feature].iloc[0][:300]\n"
   ]
  },
  {
   "cell_type": "code",
   "execution_count": 34,
   "metadata": {},
   "outputs": [
    {
     "name": "stdout",
     "output_type": "stream",
     "text": [
      "Mean number of tokens: 9.203574203574204\n",
      "Median number of tokens: 9.0\n",
      "Mode number of tokens: 8\n",
      "Standard deviation of tokens: 3.533756651570345\n"
     ]
    }
   ],
   "source": [
    "# Get the number of tokens for each text\n",
    "num_tokens = [len(tokens) for tokens in tokenizer.texts_to_sequences(X_train)]\n",
    "\n",
    "# Calculate statistics\n",
    "mean_tokens = np.mean(num_tokens)\n",
    "median_tokens = np.median(num_tokens)\n",
    "mode_tokens = max(set(num_tokens), key=num_tokens.count)\n",
    "std_tokens = np.std(num_tokens)\n",
    "\n",
    "# Print statistics\n",
    "print(\"Mean number of tokens:\", mean_tokens)\n",
    "print(\"Median number of tokens:\", median_tokens)\n",
    "print(\"Mode number of tokens:\", mode_tokens)\n",
    "print(\"Standard deviation of tokens:\", std_tokens)\n"
   ]
  },
  {
   "cell_type": "code",
   "execution_count": 35,
   "metadata": {},
   "outputs": [
    {
     "name": "stdout",
     "output_type": "stream",
     "text": [
      "        num_tokens\n",
      "count  3861.000000\n",
      "mean      9.203574\n",
      "std       3.534214\n",
      "min       2.000000\n",
      "25%       7.000000\n",
      "50%       9.000000\n",
      "75%      11.000000\n",
      "max      29.000000\n"
     ]
    }
   ],
   "source": [
    "# Convert list to DataFrame\n",
    "df_num_tokens = pd.DataFrame(num_tokens, columns=['num_tokens'])\n",
    "\n",
    "# Use describe() to get summary statistics\n",
    "summary_stats = df_num_tokens.describe()\n",
    "\n",
    "print(summary_stats)\n"
   ]
  },
  {
   "cell_type": "code",
   "execution_count": 36,
   "metadata": {},
   "outputs": [
    {
     "name": "stdout",
     "output_type": "stream",
     "text": [
      "       num_tokens\n",
      "count  850.000000\n",
      "mean    14.378824\n",
      "std      2.683549\n",
      "min     12.000000\n",
      "25%     12.000000\n",
      "50%     14.000000\n",
      "75%     15.000000\n",
      "max     29.000000\n"
     ]
    }
   ],
   "source": [
    "summary_stats = df_num_tokens.loc[df_num_tokens['num_tokens'] > 11, :].describe()\n",
    "\n",
    "print(summary_stats)\n",
    "\n",
    "# OK on va prendre jusqu'à 15 inclus\n"
   ]
  },
  {
   "cell_type": "markdown",
   "metadata": {},
   "source": [
    "### 3.3 Padding\n"
   ]
  },
  {
   "cell_type": "code",
   "execution_count": 37,
   "metadata": {},
   "outputs": [],
   "source": [
    "# Pas indispensable ici, mais bientôt utile\n",
    "\n",
    "MAX_LEN = 15\n",
    "X_train = keras.preprocessing.sequence.pad_sequences(X_train_tokens, maxlen=MAX_LEN)\n"
   ]
  },
  {
   "cell_type": "code",
   "execution_count": 38,
   "metadata": {},
   "outputs": [
    {
     "name": "stdout",
     "output_type": "stream",
     "text": [
      "[   0    0    0    0 1816    6  682 2578    3    1   64 1132  225    2\n",
      "   36]\n",
      "[   0    3    1  114    4   28    1    4  833   40  201    8 2579  108\n",
      "  506]\n"
     ]
    }
   ],
   "source": [
    "print(X_train[0])\n",
    "print(X_train[1])\n"
   ]
  },
  {
   "cell_type": "code",
   "execution_count": 39,
   "metadata": {},
   "outputs": [],
   "source": [
    "X_val = tokenizer.texts_to_sequences(X_val)\n",
    "X_val = keras.preprocessing.sequence.pad_sequences(X_val, maxlen=MAX_LEN)\n"
   ]
  },
  {
   "cell_type": "markdown",
   "metadata": {},
   "source": [
    "### 3.4 embedding matrix\n"
   ]
  },
  {
   "cell_type": "code",
   "execution_count": 40,
   "metadata": {},
   "outputs": [
    {
     "name": "stdout",
     "output_type": "stream",
     "text": [
      "5446\n"
     ]
    }
   ],
   "source": [
    "# + 1 to account for padding token.\n",
    "num_tokens = len(tokenizer.word_index) + 1\n",
    "print(num_tokens)\n",
    "\n",
    "# Initialize a matrix of zeroes of size: vocabulary x embedding dimension.\n",
    "embedding_dim = 300\n",
    "embedding_matrix = np.zeros((num_tokens, embedding_dim))\n",
    "\n",
    "for word, i in tokenizer.word_index.items():\n",
    "  if word_vectors.has_index_for(word):\n",
    "    embedding_matrix[i] = word_vectors[word].copy()\n"
   ]
  },
  {
   "cell_type": "code",
   "execution_count": 41,
   "metadata": {},
   "outputs": [
    {
     "name": "stdout",
     "output_type": "stream",
     "text": [
      "[ 0.04052734  0.0625     -0.01745605  0.07861328  0.03271484 -0.01263428\n",
      "  0.00964355  0.12353516 -0.02148438  0.15234375 -0.05834961 -0.10644531\n",
      "  0.02124023  0.13574219 -0.13183594  0.17675781  0.27148438  0.13769531\n",
      " -0.17382812 -0.14160156 -0.03076172  0.19628906 -0.03295898  0.125\n",
      "  0.25390625  0.12695312 -0.15234375  0.03198242  0.01135254 -0.01361084\n",
      " -0.12890625  0.01019287  0.23925781 -0.08447266  0.140625    0.13085938\n",
      " -0.04516602  0.06494141  0.02539062  0.05615234  0.24609375 -0.20507812\n",
      "  0.23632812 -0.00860596 -0.02294922  0.05078125  0.10644531 -0.03564453\n",
      "  0.08740234 -0.05712891]\n"
     ]
    }
   ],
   "source": [
    "# Quick visual check.\n",
    "print(embedding_matrix[tokenizer.word_index['good']][:50])\n"
   ]
  },
  {
   "cell_type": "markdown",
   "metadata": {},
   "source": [
    "### 3.5 trainable embedding layer\n"
   ]
  },
  {
   "cell_type": "code",
   "execution_count": 42,
   "metadata": {},
   "outputs": [],
   "source": [
    "#\n",
    "trainable=True\n",
    "\n",
    "embedding_layer = layers.Embedding(\n",
    "    num_tokens,\n",
    "    embedding_dim,\n",
    "    embeddings_initializer=keras.initializers.Constant(embedding_matrix),\n",
    "    input_length=MAX_LEN,\n",
    "    trainable=trainable\n",
    ")\n"
   ]
  },
  {
   "cell_type": "markdown",
   "metadata": {},
   "source": [
    "### 3.6 custom metric : jaccard\n"
   ]
  },
  {
   "cell_type": "code",
   "execution_count": 43,
   "metadata": {},
   "outputs": [],
   "source": [
    "# Define Jaccard similarity coefficient as a custom metric\n",
    "\n",
    "\n",
    "def jaccard_similarity(y_pred, y_true):\n",
    "    intersection = tf.reduce_sum(tf.cast(y_true * y_pred, dtype=tf.float32))\n",
    "    union = tf.reduce_sum(tf.cast(tf.clip_by_value(y_true + y_pred, 0, 1), dtype=tf.float32))\n",
    "    return intersection / (union + tf.keras.backend.epsilon())\n",
    "\n",
    "\n",
    "# Compile model with custom metric\n",
    "# model.compile(optimizer='adam', loss='binary_crossentropy', metrics=['accuracy', jaccard_similarity])\n"
   ]
  },
  {
   "cell_type": "markdown",
   "metadata": {},
   "source": [
    "### 3.7 compilation d'un premier modele\n"
   ]
  },
  {
   "cell_type": "code",
   "execution_count": 44,
   "metadata": {},
   "outputs": [
    {
     "name": "stderr",
     "output_type": "stream",
     "text": [
      "2024-03-04 11:49:48.662201: I tensorflow/core/common_runtime/process_util.cc:146] Creating new thread pool with default inter op setting: 2. Tune using inter_op_parallelism_threads for best performance.\n"
     ]
    }
   ],
   "source": [
    "tf.random.set_seed(0)\n",
    "\n",
    "model = keras.Sequential()\n",
    "\n",
    "# This layer will output a sequence of 300-dimension *vectors*, one for each element in the input sequence.\n",
    "model.add(embedding_layer)\n",
    "\n",
    "# This layer will calculate an average of those vectors.\n",
    "model.add(layers.GlobalAveragePooling1D())\n",
    "\n",
    "model.add(layers.Dense(150, activation='relu', kernel_initializer=tf.keras.initializers.random_normal(seed=1)))\n",
    "model.add(layers.Dense(75, activation='relu', kernel_initializer=tf.keras.initializers.random_normal(seed=1)))\n",
    "model.add(layers.Dense(NB_TAGS, activation='sigmoid', kernel_initializer=tf.keras.initializers.random_normal(seed=1)))\n",
    "\n",
    "model.compile(optimizer='adam',\n",
    "              loss='binary_crossentropy',\n",
    "              metrics=['accuracy', jaccard_similarity])\n"
   ]
  },
  {
   "cell_type": "code",
   "execution_count": 45,
   "metadata": {},
   "outputs": [
    {
     "name": "stdout",
     "output_type": "stream",
     "text": [
      "Model: \"sequential\"\n",
      "_________________________________________________________________\n",
      " Layer (type)                Output Shape              Param #   \n",
      "=================================================================\n",
      " embedding (Embedding)       (None, 15, 300)           1633800   \n",
      "                                                                 \n",
      " global_average_pooling1d (G  (None, 300)              0         \n",
      " lobalAveragePooling1D)                                          \n",
      "                                                                 \n",
      " dense (Dense)               (None, 150)               45150     \n",
      "                                                                 \n",
      " dense_1 (Dense)             (None, 75)                11325     \n",
      "                                                                 \n",
      " dense_2 (Dense)             (None, 50)                3800      \n",
      "                                                                 \n",
      "=================================================================\n",
      "Total params: 1,694,075\n",
      "Trainable params: 1,694,075\n",
      "Non-trainable params: 0\n",
      "_________________________________________________________________\n"
     ]
    }
   ],
   "source": [
    "model.summary()\n"
   ]
  },
  {
   "cell_type": "code",
   "execution_count": 46,
   "metadata": {},
   "outputs": [
    {
     "name": "stdout",
     "output_type": "stream",
     "text": [
      "Epoch 1/20\n",
      "8/8 [==============================] - 2s 112ms/step - loss: 0.6875 - accuracy: 0.0215 - jaccard_similarity: 0.0308 - val_loss: 0.6753 - val_accuracy: 0.0163 - val_jaccard_similarity: 0.0306\n",
      "Epoch 2/20\n",
      "8/8 [==============================] - 0s 63ms/step - loss: 0.6536 - accuracy: 0.0091 - jaccard_similarity: 0.0307 - val_loss: 0.6073 - val_accuracy: 0.0163 - val_jaccard_similarity: 0.0303\n",
      "Epoch 3/20\n",
      "8/8 [==============================] - 1s 69ms/step - loss: 0.5397 - accuracy: 0.0028 - jaccard_similarity: 0.0303 - val_loss: 0.4154 - val_accuracy: 0.0163 - val_jaccard_similarity: 0.0291\n",
      "Epoch 4/20\n",
      "3/8 [==========>...................] - ETA: 0s - loss: 0.3806 - accuracy: 0.0078 - jaccard_similarity: 0.0294"
     ]
    },
    {
     "name": "stdout",
     "output_type": "stream",
     "text": [
      "8/8 [==============================] - 0s 62ms/step - loss: 0.3077 - accuracy: 0.0210 - jaccard_similarity: 0.0278 - val_loss: 0.1820 - val_accuracy: 0.0396 - val_jaccard_similarity: 0.0232\n",
      "Epoch 5/20\n",
      "8/8 [==============================] - 1s 73ms/step - loss: 0.1585 - accuracy: 0.0365 - jaccard_similarity: 0.0184 - val_loss: 0.1584 - val_accuracy: 0.0396 - val_jaccard_similarity: 0.0108\n",
      "Epoch 6/20\n",
      "8/8 [==============================] - 1s 65ms/step - loss: 0.1592 - accuracy: 0.0479 - jaccard_similarity: 0.0112 - val_loss: 0.1576 - val_accuracy: 0.0769 - val_jaccard_similarity: 0.0130\n",
      "Epoch 7/20\n",
      "8/8 [==============================] - 1s 69ms/step - loss: 0.1466 - accuracy: 0.0741 - jaccard_similarity: 0.0216 - val_loss: 0.1383 - val_accuracy: 0.0769 - val_jaccard_similarity: 0.0298\n",
      "Epoch 8/20\n",
      "8/8 [==============================] - 0s 55ms/step - loss: 0.1352 - accuracy: 0.0741 - jaccard_similarity: 0.0364 - val_loss: 0.1353 - val_accuracy: 0.0769 - val_jaccard_similarity: 0.0378\n",
      "Epoch 9/20\n",
      "8/8 [==============================] - 1s 69ms/step - loss: 0.1346 - accuracy: 0.0686 - jaccard_similarity: 0.0382 - val_loss: 0.1336 - val_accuracy: 0.0583 - val_jaccard_similarity: 0.0346\n",
      "Epoch 10/20\n",
      "8/8 [==============================] - 1s 65ms/step - loss: 0.1325 - accuracy: 0.0717 - jaccard_similarity: 0.0332 - val_loss: 0.1318 - val_accuracy: 0.0769 - val_jaccard_similarity: 0.0291\n",
      "Epoch 11/20\n",
      "8/8 [==============================] - 1s 62ms/step - loss: 0.1314 - accuracy: 0.0741 - jaccard_similarity: 0.0288 - val_loss: 0.1319 - val_accuracy: 0.0769 - val_jaccard_similarity: 0.0266\n",
      "Epoch 12/20\n",
      "8/8 [==============================] - 1s 65ms/step - loss: 0.1311 - accuracy: 0.0741 - jaccard_similarity: 0.0285 - val_loss: 0.1313 - val_accuracy: 0.0769 - val_jaccard_similarity: 0.0281\n",
      "Epoch 13/20\n",
      "8/8 [==============================] - 0s 53ms/step - loss: 0.1305 - accuracy: 0.0741 - jaccard_similarity: 0.0305 - val_loss: 0.1309 - val_accuracy: 0.0769 - val_jaccard_similarity: 0.0300\n",
      "Epoch 14/20\n",
      "8/8 [==============================] - 0s 58ms/step - loss: 0.1301 - accuracy: 0.0741 - jaccard_similarity: 0.0319 - val_loss: 0.1306 - val_accuracy: 0.0769 - val_jaccard_similarity: 0.0305\n",
      "Epoch 15/20\n",
      "8/8 [==============================] - 0s 59ms/step - loss: 0.1298 - accuracy: 0.0746 - jaccard_similarity: 0.0318 - val_loss: 0.1303 - val_accuracy: 0.0769 - val_jaccard_similarity: 0.0300\n",
      "Epoch 16/20\n",
      "8/8 [==============================] - 1s 62ms/step - loss: 0.1295 - accuracy: 0.0741 - jaccard_similarity: 0.0314 - val_loss: 0.1301 - val_accuracy: 0.0769 - val_jaccard_similarity: 0.0298\n",
      "Epoch 17/20\n",
      "8/8 [==============================] - 1s 72ms/step - loss: 0.1292 - accuracy: 0.0741 - jaccard_similarity: 0.0315 - val_loss: 0.1300 - val_accuracy: 0.0769 - val_jaccard_similarity: 0.0300\n",
      "Epoch 18/20\n",
      "8/8 [==============================] - 1s 69ms/step - loss: 0.1289 - accuracy: 0.0741 - jaccard_similarity: 0.0318 - val_loss: 0.1299 - val_accuracy: 0.0769 - val_jaccard_similarity: 0.0300\n",
      "Epoch 19/20\n",
      "8/8 [==============================] - 1s 69ms/step - loss: 0.1287 - accuracy: 0.0741 - jaccard_similarity: 0.0320 - val_loss: 0.1297 - val_accuracy: 0.0769 - val_jaccard_similarity: 0.0300\n",
      "Epoch 20/20\n",
      "8/8 [==============================] - 1s 66ms/step - loss: 0.1285 - accuracy: 0.0741 - jaccard_similarity: 0.0318 - val_loss: 0.1296 - val_accuracy: 0.0769 - val_jaccard_similarity: 0.0302\n"
     ]
    }
   ],
   "source": [
    "# remettre 20\n",
    "history = model.fit(X_train, y_train_encoded, epochs=20, batch_size=512, validation_data=(X_val, y_val_encoded))\n"
   ]
  },
  {
   "cell_type": "markdown",
   "metadata": {},
   "source": [
    "### 3.8 Visualisation\n"
   ]
  },
  {
   "cell_type": "code",
   "execution_count": 47,
   "metadata": {},
   "outputs": [],
   "source": [
    "# add jaccard ?\n",
    "\n",
    "def plot_train_vs_val_performance(history):\n",
    "  training_losses = history.history['loss']\n",
    "  validation_losses = history.history['val_loss']\n",
    "\n",
    "  training_accuracy = history.history['accuracy']\n",
    "  validation_accuracy = history.history['val_accuracy']\n",
    "\n",
    "  epochs = range(1, len(training_losses) + 1)\n",
    "\n",
    "  import matplotlib.pyplot as plt\n",
    "  fig, (ax1, ax2) = plt.subplots(2)\n",
    "  fig.set_figheight(15)\n",
    "  fig.set_figwidth(15)\n",
    "  fig.tight_layout(pad=5.0)\n",
    "\n",
    "  # Plot training vs. validation loss.\n",
    "  ax1.plot(epochs, training_losses, 'bo', label='Training Loss')\n",
    "  ax1.plot(epochs, validation_losses, 'b', label='Validation Loss')\n",
    "  ax1.title.set_text('Training vs. Validation Loss')\n",
    "  ax1.set_xlabel('Epoch')\n",
    "  ax1.set_ylabel('Loss')\n",
    "  ax1.legend()\n",
    "\n",
    "  # PLot training vs. validation accuracy.\n",
    "  ax2.plot(epochs, training_accuracy, 'bo', label='Training Accuracy')\n",
    "  ax2.plot(epochs, validation_accuracy, 'b', label='Validation Accuracy')\n",
    "  ax2.title.set_text('Training vs. Validation Accuracy')\n",
    "  ax2.set_xlabel('Epoch')\n",
    "  ax2.set_ylabel('Accuracy')\n",
    "  ax2.legend()\n",
    "\n",
    "  plt.show()"
   ]
  },
  {
   "cell_type": "code",
   "execution_count": 48,
   "metadata": {},
   "outputs": [
    {
     "data": {
      "image/png": "[encoded data removed]",
      "text/plain": [
       "<Figure size 1500x1500 with 2 Axes>"
      ]
     },
     "metadata": {},
     "output_type": "display_data"
    }
   ],
   "source": [
    "plot_train_vs_val_performance(history)\n"
   ]
  },
  {
   "cell_type": "markdown",
   "metadata": {},
   "source": [
    "### 3.9 Entrainement d'un modèle avec early stop\n"
   ]
  },
  {
   "cell_type": "code",
   "execution_count": 49,
   "metadata": {},
   "outputs": [
    {
     "name": "stdout",
     "output_type": "stream",
     "text": [
      "Epoch 1/11\n",
      "8/8 [==============================] - 1s 88ms/step - loss: 0.6854 - accuracy: 0.0218 - jaccard_similarity: 0.0308 - val_loss: 0.6671 - val_accuracy: 0.0186 - val_jaccard_similarity: 0.0306\n",
      "Epoch 2/11\n",
      "8/8 [==============================] - 0s 60ms/step - loss: 0.6389 - accuracy: 0.0091 - jaccard_similarity: 0.0307 - val_loss: 0.5724 - val_accuracy: 0.0163 - val_jaccard_similarity: 0.0302\n",
      "Epoch 3/11\n",
      "8/8 [==============================] - 1s 66ms/step - loss: 0.4945 - accuracy: 0.0083 - jaccard_similarity: 0.0300 - val_loss: 0.3441 - val_accuracy: 0.0233 - val_jaccard_similarity: 0.0283\n",
      "Epoch 4/11\n",
      "8/8 [==============================] - 0s 59ms/step - loss: 0.2554 - accuracy: 0.0334 - jaccard_similarity: 0.0262 - val_loss: 0.1601 - val_accuracy: 0.0396 - val_jaccard_similarity: 0.0199\n",
      "Epoch 5/11\n",
      "8/8 [==============================] - 1s 75ms/step - loss: 0.1555 - accuracy: 0.0365 - jaccard_similarity: 0.0160 - val_loss: 0.1653 - val_accuracy: 0.0396 - val_jaccard_similarity: 0.0093\n",
      "Epoch 6/11\n",
      "8/8 [==============================] - 1s 63ms/step - loss: 0.1586 - accuracy: 0.0575 - jaccard_similarity: 0.0129 - val_loss: 0.1551 - val_accuracy: 0.0769 - val_jaccard_similarity: 0.0158\n",
      "Epoch 7/11\n",
      "8/8 [==============================] - 1s 63ms/step - loss: 0.1429 - accuracy: 0.0746 - jaccard_similarity: 0.0269 - val_loss: 0.1382 - val_accuracy: 0.0606 - val_jaccard_similarity: 0.0332\n",
      "Epoch 8/11\n",
      "8/8 [==============================] - 0s 60ms/step - loss: 0.1355 - accuracy: 0.0728 - jaccard_similarity: 0.0388 - val_loss: 0.1353 - val_accuracy: 0.0536 - val_jaccard_similarity: 0.0374\n",
      "Epoch 9/11\n",
      "8/8 [==============================] - 1s 74ms/step - loss: 0.1342 - accuracy: 0.0715 - jaccard_similarity: 0.0374 - val_loss: 0.1331 - val_accuracy: 0.0769 - val_jaccard_similarity: 0.0323\n",
      "Epoch 10/11\n",
      "8/8 [==============================] - 0s 59ms/step - loss: 0.1320 - accuracy: 0.0772 - jaccard_similarity: 0.0319 - val_loss: 0.1327 - val_accuracy: 0.0769 - val_jaccard_similarity: 0.0271\n",
      "Epoch 11/11\n",
      "8/8 [==============================] - 1s 62ms/step - loss: 0.1312 - accuracy: 0.0741 - jaccard_similarity: 0.0286 - val_loss: 0.1328 - val_accuracy: 0.0769 - val_jaccard_similarity: 0.0260\n"
     ]
    },
    {
     "data": {
      "text/plain": [
       "<keras.callbacks.History at 0x7f36d54377d0>"
      ]
     },
     "execution_count": 49,
     "metadata": {},
     "output_type": "execute_result"
    }
   ],
   "source": [
    "# (pour eviter l'overfitting)\n",
    "\n",
    "# overfitting apres 15-16 iterations (epochs) (sur title_nltk[::2])\n",
    "# apres 9 (loss) 11-13 (epochs sur dataset complet (feature=title_nltk)\n",
    "\n",
    "# si trainable=False (embedding_layer), le plateau (validation) est moins prononcé. 15-16 ?\n",
    "# apres 10-11 si trainable=True (embedding_layer)\n",
    "\n",
    "embedding_layer = layers.Embedding(\n",
    "    num_tokens,\n",
    "    embedding_dim,\n",
    "    embeddings_initializer=keras.initializers.Constant(embedding_matrix),\n",
    "    input_length=MAX_LEN,\n",
    "    trainable=trainable,\n",
    "    mask_zero=True\n",
    ")\n",
    "\n",
    "model = keras.Sequential()\n",
    "\n",
    "model.add(embedding_layer)\n",
    "\n",
    "model.add(layers.GlobalAveragePooling1D())\n",
    "\n",
    "model.add(layers.Dense(150, activation='relu', kernel_initializer=tf.keras.initializers.random_normal(seed=1)))\n",
    "model.add(layers.Dense(75, activation='relu', kernel_initializer=tf.keras.initializers.random_normal(seed=1)))\n",
    "model.add(layers.Dense(NB_TAGS, activation='sigmoid', kernel_initializer=tf.keras.initializers.random_normal(seed=1)))\n",
    "\n",
    "model.compile(optimizer='adam',\n",
    "              loss='binary_crossentropy',\n",
    "              metrics=['accuracy', jaccard_similarity])\n",
    "\n",
    "model.fit(X_train, y_train_encoded, epochs=11, batch_size=512, validation_data=(X_val, y_val_encoded))\n"
   ]
  },
  {
   "cell_type": "markdown",
   "metadata": {},
   "source": [
    "### 3.10 Evaluation\n"
   ]
  },
  {
   "cell_type": "code",
   "execution_count": 50,
   "metadata": {},
   "outputs": [
    {
     "name": "stdout",
     "output_type": "stream",
     "text": [
      "15/15 [==============================] - 0s 6ms/step - loss: 0.1308 - accuracy: 0.0671 - jaccard_similarity: 0.0272\n"
     ]
    },
    {
     "data": {
      "text/plain": [
       "[0.13081325590610504, 0.06708595156669617, 0.027230534702539444]"
      ]
     },
     "execution_count": 50,
     "metadata": {},
     "output_type": "execute_result"
    }
   ],
   "source": [
    "X_test = test_df[feature].values\n",
    "y_test = test_df[target].tolist()\n",
    "\n",
    "y_test_encoded = val_test_target_encoding(y_test, mlb)\n",
    "\n",
    "X_test = tokenizer.texts_to_sequences(X_test)\n",
    "X_test = keras.preprocessing.sequence.pad_sequences(X_test, maxlen=MAX_LEN)\n",
    "\n",
    "model.evaluate(X_test, y_test_encoded)\n"
   ]
  },
  {
   "cell_type": "code",
   "execution_count": 51,
   "metadata": {},
   "outputs": [
    {
     "name": "stdout",
     "output_type": "stream",
     "text": [
      "15/15 [==============================] - 0s 8ms/step\n"
     ]
    },
    {
     "data": {
      "text/plain": [
       "<tf.Tensor: shape=(), dtype=float32, numpy=0.02726184>"
      ]
     },
     "execution_count": 51,
     "metadata": {},
     "output_type": "execute_result"
    }
   ],
   "source": [
    "# just to be sure\n",
    "\n",
    "jaccard_similarity(model.predict(X_test), y_test_encoded)\n",
    "\n",
    "# =0.15003592 sur dataset complet, trainable=False  (11 epochs)\n",
    "# =0.31942642 sur dataset complet, trainable=True   (11 epochs)\n",
    "# La différence est nette, du simple au double.\n",
    "\n",
    "# Les 2 fonctions jaccard donnent des resultas tres proches, mais pas identiques :\n",
    "# pour x_val (cell precedente) et y_test (ici)\n"
   ]
  },
  {
   "cell_type": "markdown",
   "metadata": {},
   "source": [
    "### 3.11 prediction\n"
   ]
  },
  {
   "cell_type": "code",
   "execution_count": 52,
   "metadata": {},
   "outputs": [
    {
     "name": "stdout",
     "output_type": "stream",
     "text": [
      "1\n",
      "[[5, 329, 5, 329, 908, 3358]]\n",
      "[5, 329, 5, 329, 908, 3358]\n",
      "['the', 'best', 'the', 'best', 'apple', 'pie']\n",
      "1/1 [==============================] - 0s 41ms/step\n"
     ]
    }
   ],
   "source": [
    "def predict_tags(text, tokenizer=tokenizer, maxlen=MAX_LEN):\n",
    "    seqs = tokenizer.texts_to_sequences([text])\n",
    "    print(len(seqs))\n",
    "    print(seqs)\n",
    "    for seq in seqs:\n",
    "        print(seq)\n",
    "        print([tokenizer.index_word[x] for x in seq])\n",
    "\n",
    "    seqs = keras.preprocessing.sequence.pad_sequences(seqs, maxlen=maxlen)\n",
    "\n",
    "    return model.predict(seqs)\n",
    "\n",
    "\n",
    "tags = predict_tags(text=\"The best the best sea food apple pie\")\n"
   ]
  },
  {
   "cell_type": "code",
   "execution_count": 53,
   "metadata": {},
   "outputs": [
    {
     "name": "stdout",
     "output_type": "stream",
     "text": [
      "array([[0.04183492, 0.0185549 , 0.0833913 , 0.01577193, 0.01812735,\n",
      "        0.02120075, 0.02968423, 0.01883065, 0.01490244, 0.02026605,\n",
      "        0.09178861, 0.0547162 , 0.03693423, 0.01677162, 0.013886  ,\n",
      "        0.0200502 , 0.01623513, 0.01530867, 0.05561226, 0.07160763,\n",
      "        0.02960946, 0.11259122, 0.11271622, 0.04312059, 0.02818234,\n",
      "        0.0138313 , 0.0285003 , 0.0149489 , 0.01864156, 0.04723057,\n",
      "        0.01105622, 0.03253602, 0.02213506, 0.04592735, 0.01693525,\n",
      "        0.12246403, 0.02322485, 0.03084366, 0.01640492, 0.01862254,\n",
      "        0.035816  , 0.02003983, 0.03008419, 0.01567975, 0.01771924,\n",
      "        0.02852159, 0.02140691, 0.01899783, 0.02053178, 0.02919171]],\n",
      "      dtype=float32)\n",
      "(1, 50)\n"
     ]
    }
   ],
   "source": [
    "pprint(tags)\n",
    "print(tags.shape)\n"
   ]
  },
  {
   "cell_type": "code",
   "execution_count": 54,
   "metadata": {},
   "outputs": [],
   "source": [
    "def jaccard_topics(topic1, topic2):\n",
    "    set1 = set(topic1)\n",
    "    set2 = set(topic2)\n",
    "\n",
    "    if len(set1.union(set2)):\n",
    "        return len(set1.intersection(set2)) / len(set1.union(set2))\n",
    "\n",
    "    else: # union nulle = 0 prediction, mais rien à prédire non plus\n",
    "        return 1\n"
   ]
  },
  {
   "cell_type": "code",
   "execution_count": 55,
   "metadata": {},
   "outputs": [
    {
     "name": "stdout",
     "output_type": "stream",
     "text": [
      "4/4 [==============================] - 0s 3ms/step\n",
      "\n",
      "\n",
      "0\n",
      "all tags: ['php', 'laravel-5', 'oauth', 'permissions', 'laravel-passport']\n",
      "real tags: ['php']\n",
      "Top 5 tags: ['importerror', 'chatbot', 'spring-boot', 'eclipse', 'python']\n",
      "jaccard: 0.0\n",
      "\n",
      "\n",
      "1\n",
      "all tags: ['python', 'selenium', 'browser', 'selenium-webdriver', 'incognito-mode']\n",
      "real tags: ['python']\n",
      "Top 5 tags: ['importerror', 'chatbot', 'eclipse', 'spring-boot', 'python']\n",
      "jaccard: 0.2\n",
      "\n",
      "\n",
      "2\n",
      "all tags: ['spring', 'mongodb', 'spring-data', 'spring-data-mongodb', 'hibernate-ogm']\n",
      "real tags: ['spring']\n",
      "Top 5 tags: ['importerror', 'chatbot', 'eclipse', 'spring-boot', 'python']\n",
      "jaccard: 0.0\n",
      "\n",
      "\n",
      "3\n",
      "all tags: ['c#', '.net', 'mapping', 'automapper', 'automapper-2']\n",
      "real tags: ['c#', '.net']\n",
      "Top 5 tags: ['importerror', 'chatbot', 'eclipse', 'spring-boot', 'python']\n",
      "jaccard: 0.0\n",
      "\n",
      "\n",
      "4\n",
      "all tags: ['python', 'multidimensional-array', 'deep-learning', 'pytorch', 'tensor']\n",
      "real tags: ['python']\n",
      "Top 5 tags: ['importerror', 'chatbot', 'spring-boot', 'eclipse', 'python']\n",
      "jaccard: 0.2\n",
      "\n",
      "\n",
      "5\n",
      "all tags: ['php', 'apache', 'curl', 'wamp', 'kohana']\n",
      "real tags: ['php']\n",
      "Top 5 tags: ['importerror', 'chatbot', 'eclipse', 'spring-boot', 'python']\n",
      "jaccard: 0.0\n",
      "\n",
      "\n",
      "6\n",
      "all tags: ['linux', 'audio', 'microphone', 'alsa', 'voice-recording']\n",
      "real tags: ['linux']\n",
      "Top 5 tags: ['importerror', 'chatbot', 'spring-boot', 'eclipse', 'python']\n",
      "jaccard: 0.0\n",
      "\n",
      "\n",
      "7\n",
      "all tags: ['sql-server', 't-sql', 'optimization', 'indexing', 'foreign-keys']\n",
      "real tags: ['sql-server']\n",
      "Top 5 tags: ['importerror', 'chatbot', 'eclipse', 'spring-boot', 'python']\n",
      "jaccard: 0.0\n",
      "\n",
      "\n",
      "8\n",
      "all tags: ['node.js', 'npm', 'command-line-arguments', 'npm-install', 'node-modules']\n",
      "real tags: ['node.js']\n",
      "Top 5 tags: ['importerror', 'chatbot', 'eclipse', 'spring-boot', 'python']\n",
      "jaccard: 0.0\n",
      "\n",
      "\n",
      "9\n",
      "all tags: ['java', 'maven', 'jakarta-ee', 'aspectj', 'aspectj-maven-plugin']\n",
      "real tags: ['java']\n",
      "Top 5 tags: ['importerror', 'chatbot', 'eclipse', 'spring-boot', 'python']\n",
      "jaccard: 0.0\n",
      "\n",
      "\n",
      "10\n",
      "all tags: ['ios', 'objective-c', 'xcode', 'layout', 'xcode5']\n",
      "real tags: ['ios', 'objective-c', 'xcode']\n",
      "Top 5 tags: ['importerror', 'chatbot', 'spring-boot', 'eclipse', 'python']\n",
      "jaccard: 0.0\n",
      "\n",
      "\n",
      "11\n",
      "all tags: ['javascript', 'html', 'textarea', 'syntax-highlighting', 'rich-text-editor']\n",
      "real tags: ['javascript', 'html']\n",
      "Top 5 tags: ['importerror', 'chatbot', 'spring-boot', 'eclipse', 'python']\n",
      "jaccard: 0.0\n",
      "\n",
      "\n",
      "12\n",
      "all tags: ['c++', 'enums', 'language-lawyer', 'enumeration', 'ordinal']\n",
      "real tags: ['c++']\n",
      "Top 5 tags: ['importerror', 'chatbot', 'spring-boot', 'eclipse', 'python']\n",
      "jaccard: 0.0\n",
      "\n",
      "\n",
      "13\n",
      "all tags: ['javascript', 'jquery', 'encoding', 'data-conversion', 'arraybuffer']\n",
      "real tags: ['javascript', 'jquery']\n",
      "Top 5 tags: ['importerror', 'chatbot', 'eclipse', 'spring-boot', 'python']\n",
      "jaccard: 0.0\n",
      "\n",
      "\n",
      "14\n",
      "all tags: ['c#', 'asp.net-mvc', 'json', 'mongodb', 'knockout.js']\n",
      "real tags: ['c#', 'asp.net-mvc', 'json']\n",
      "Top 5 tags: ['importerror', 'chatbot', 'eclipse', 'spring-boot', 'python']\n",
      "jaccard: 0.0\n",
      "\n",
      "\n",
      "15\n",
      "all tags: ['python', 'matplotlib', 'plot', 'timezone', 'python-datetime']\n",
      "real tags: ['python']\n",
      "Top 5 tags: ['importerror', 'chatbot', 'eclipse', 'spring-boot', 'python']\n",
      "jaccard: 0.2\n",
      "\n",
      "\n",
      "16\n",
      "all tags: ['regex', 'django', 'python-2.7', 'django-urls', 'django-1.8']\n",
      "real tags: ['django']\n",
      "Top 5 tags: ['importerror', 'chatbot', 'eclipse', 'spring-boot', 'python']\n",
      "jaccard: 0.0\n",
      "\n",
      "\n",
      "17\n",
      "all tags: ['angular', 'typescript', 'dependency-injection', 'angular2-testing', 'angular-test']\n",
      "real tags: ['angular', 'typescript']\n",
      "Top 5 tags: ['importerror', 'chatbot', 'spring-boot', 'eclipse', 'python']\n",
      "jaccard: 0.0\n",
      "\n",
      "\n",
      "18\n",
      "all tags: ['generics', 'rust', 'traits', 'dynamic-dispatch', 'trait-objects']\n",
      "real tags: []\n",
      "Top 5 tags: ['importerror', 'chatbot', 'eclipse', 'spring-boot', 'python']\n",
      "jaccard: 0.0\n",
      "\n",
      "\n",
      "19\n",
      "all tags: ['java', 'multithreading', 'performance', 'scala', 'akka']\n",
      "real tags: ['java']\n",
      "Top 5 tags: ['importerror', 'chatbot', 'spring-boot', 'eclipse', 'python']\n",
      "jaccard: 0.0\n",
      "\n",
      "\n",
      "20\n",
      "all tags: ['c#', '.net', 'asp.net-identity', 'seed', 'asp.net-mvc-5.1']\n",
      "real tags: ['c#', '.net']\n",
      "Top 5 tags: ['importerror', 'chatbot', 'eclipse', 'spring-boot', 'python']\n",
      "jaccard: 0.0\n",
      "\n",
      "\n",
      "21\n",
      "all tags: ['java', 'spring', 'spring-mvc', 'spring-test', 'spring-test-mvc']\n",
      "real tags: ['java', 'spring']\n",
      "Top 5 tags: ['importerror', 'chatbot', 'spring-boot', 'eclipse', 'python']\n",
      "jaccard: 0.0\n",
      "\n",
      "\n",
      "22\n",
      "all tags: ['r', 'ggplot2', 'time-series', 'posixct', 'scales-xml']\n",
      "real tags: []\n",
      "Top 5 tags: ['importerror', 'chatbot', 'eclipse', 'spring-boot', 'python']\n",
      "jaccard: 0.0\n",
      "\n",
      "\n",
      "23\n",
      "all tags: ['java', 'xml', 'spring', 'maven', 'spring-mvc']\n",
      "real tags: ['java', 'spring']\n",
      "Top 5 tags: ['importerror', 'chatbot', 'spring-boot', 'eclipse', 'python']\n",
      "jaccard: 0.0\n",
      "\n",
      "\n",
      "24\n",
      "all tags: ['ssh', 'google-cloud-platform', 'cloud', 'google-compute-engine', 'putty']\n",
      "real tags: []\n",
      "Top 5 tags: ['importerror', 'chatbot', 'spring-boot', 'eclipse', 'python']\n",
      "jaccard: 0.0\n",
      "\n",
      "\n",
      "25\n",
      "all tags: ['ruby-on-rails', 'ruby', 'ruby-on-rails-3', 'activerecord', 'active-relation']\n",
      "real tags: ['ruby-on-rails']\n",
      "Top 5 tags: ['importerror', 'chatbot', 'spring-boot', 'eclipse', 'python']\n",
      "jaccard: 0.0\n",
      "\n",
      "\n",
      "26\n",
      "all tags: ['ruby-on-rails', 'ruby', 'postgresql', 'passwords', 'pg']\n",
      "real tags: ['ruby-on-rails', 'postgresql']\n",
      "Top 5 tags: ['importerror', 'chatbot', 'spring-boot', 'eclipse', 'python']\n",
      "jaccard: 0.0\n",
      "\n",
      "\n",
      "27\n",
      "all tags: ['python', 'nlp', 'lda', 'topic-modeling', 'gensim']\n",
      "real tags: ['python']\n",
      "Top 5 tags: ['importerror', 'chatbot', 'spring-boot', 'eclipse', 'python']\n",
      "jaccard: 0.2\n",
      "\n",
      "\n",
      "28\n",
      "all tags: ['python', 'selenium', 'selenium-webdriver', 'download', 'phantomjs']\n",
      "real tags: ['python']\n",
      "Top 5 tags: ['importerror', 'chatbot', 'eclipse', 'spring-boot', 'python']\n",
      "jaccard: 0.2\n",
      "\n",
      "\n",
      "29\n",
      "all tags: ['docker', 'tensorflow', 'docker-compose', 'gpu', 'nvidia']\n",
      "real tags: ['docker']\n",
      "Top 5 tags: ['importerror', 'chatbot', 'eclipse', 'spring-boot', 'python']\n",
      "jaccard: 0.0\n",
      "\n",
      "\n",
      "30\n",
      "all tags: ['android', 'performance', 'cordova', 'ionic-framework', 'hybrid-mobile-app']\n",
      "real tags: ['android']\n",
      "Top 5 tags: ['importerror', 'chatbot', 'spring-boot', 'eclipse', 'python']\n",
      "jaccard: 0.0\n",
      "\n",
      "\n",
      "31\n",
      "all tags: ['android', 'firebase', 'flutter', 'google-play-services', 'flutter-dependencies']\n",
      "real tags: ['android']\n",
      "Top 5 tags: ['importerror', 'chatbot', 'eclipse', 'spring-boot', 'python']\n",
      "jaccard: 0.0\n",
      "\n",
      "\n",
      "32\n",
      "all tags: ['php', 'zend-framework', 'date', 'zend-date', 'formatdatetime']\n",
      "real tags: ['php']\n",
      "Top 5 tags: ['importerror', 'chatbot', 'spring-boot', 'eclipse', 'python']\n",
      "jaccard: 0.0\n",
      "\n",
      "\n",
      "33\n",
      "all tags: ['javascript', 'python', 'selenium', 'iframe', 'webdriverwait']\n",
      "real tags: ['javascript', 'python']\n",
      "Top 5 tags: ['importerror', 'chatbot', 'spring-boot', 'eclipse', 'python']\n",
      "jaccard: 0.16666666666666666\n",
      "\n",
      "\n",
      "34\n",
      "all tags: ['java', 'spring', 'spring-boot', 'eclipse', 'startup-error']\n",
      "real tags: ['java', 'spring', 'spring-boot']\n",
      "Top 5 tags: ['importerror', 'chatbot', 'spring-boot', 'eclipse', 'python']\n",
      "jaccard: 0.14285714285714285\n",
      "\n",
      "\n",
      "35\n",
      "all tags: ['javascript', 'laravel', 'vue.js', 'compiler-errors', 'vuejs3']\n",
      "real tags: ['javascript', 'laravel']\n",
      "Top 5 tags: ['importerror', 'chatbot', 'spring-boot', 'eclipse', 'python']\n",
      "jaccard: 0.0\n",
      "\n",
      "\n",
      "36\n",
      "all tags: ['linux', 'bash', 'shell', 'unix', 'terminal']\n",
      "real tags: ['linux', 'bash']\n",
      "Top 5 tags: ['importerror', 'chatbot', 'eclipse', 'spring-boot', 'python']\n",
      "jaccard: 0.0\n",
      "\n",
      "\n",
      "37\n",
      "all tags: ['javascript', 'jquery', 'json', 'serialization', 'stringify']\n",
      "real tags: ['javascript', 'jquery', 'json']\n",
      "Top 5 tags: ['importerror', 'chatbot', 'spring-boot', 'eclipse', 'python']\n",
      "jaccard: 0.0\n",
      "\n",
      "\n",
      "38\n",
      "all tags: ['c#', 'visual-studio', 'installation', 'windows-installer', 'visual-studio-2015']\n",
      "real tags: ['c#']\n",
      "Top 5 tags: ['importerror', 'chatbot', 'spring-boot', 'eclipse', 'python']\n",
      "jaccard: 0.0\n",
      "\n",
      "\n",
      "39\n",
      "all tags: ['php', 'oop', 'class', 'design-patterns', 'singleton']\n",
      "real tags: ['php']\n",
      "Top 5 tags: ['importerror', 'chatbot', 'spring-boot', 'eclipse', 'python']\n",
      "jaccard: 0.0\n",
      "\n",
      "\n",
      "40\n",
      "all tags: ['c#', 'object', 'compare', 'comparison', 'automapper']\n",
      "real tags: ['c#']\n",
      "Top 5 tags: ['importerror', 'chatbot', 'spring-boot', 'eclipse', 'python']\n",
      "jaccard: 0.0\n",
      "\n",
      "\n",
      "41\n",
      "all tags: ['python', 'opencv', 'computer-vision', 'real-time', 'robotics']\n",
      "real tags: ['python']\n",
      "Top 5 tags: ['importerror', 'chatbot', 'eclipse', 'spring-boot', 'python']\n",
      "jaccard: 0.2\n",
      "\n",
      "\n",
      "42\n",
      "all tags: ['java', 'spring', 'spring-boot', 'javabeans', 'spring-framework-beans']\n",
      "real tags: ['java', 'spring', 'spring-boot']\n",
      "Top 5 tags: ['importerror', 'chatbot', 'spring-boot', 'eclipse', 'python']\n",
      "jaccard: 0.14285714285714285\n",
      "\n",
      "\n",
      "43\n",
      "all tags: ['python', 'flask', 'jinja2', 'flask-wtforms', 'flask-bootstrap']\n",
      "real tags: ['python']\n",
      "Top 5 tags: ['importerror', 'chatbot', 'eclipse', 'spring-boot', 'python']\n",
      "jaccard: 0.2\n",
      "\n",
      "\n",
      "44\n",
      "all tags: ['java', 'android', 'reactjs', 'react-native', 'apk']\n",
      "real tags: ['java', 'android', 'reactjs']\n",
      "Top 5 tags: ['importerror', 'chatbot', 'spring-boot', 'eclipse', 'python']\n",
      "jaccard: 0.0\n",
      "\n",
      "\n",
      "45\n",
      "all tags: ['git', 'github', 'bitbucket', 'branch', 'remote-branch']\n",
      "real tags: ['git']\n",
      "Top 5 tags: ['importerror', 'chatbot', 'spring-boot', 'eclipse', 'python']\n",
      "jaccard: 0.0\n",
      "\n",
      "\n",
      "46\n",
      "all tags: ['reactjs', 'express', 'cookies', 'redis', 'axios']\n",
      "real tags: ['reactjs']\n",
      "Top 5 tags: ['importerror', 'chatbot', 'eclipse', 'spring-boot', 'python']\n",
      "jaccard: 0.0\n",
      "\n",
      "\n",
      "47\n",
      "all tags: ['python', 'linux', 'django', 'environment-variables', 'django-settings']\n",
      "real tags: ['python', 'linux', 'django']\n",
      "Top 5 tags: ['importerror', 'chatbot', 'spring-boot', 'eclipse', 'python']\n",
      "jaccard: 0.14285714285714285\n",
      "\n",
      "\n",
      "48\n",
      "all tags: ['java', 'string', 'time', 'if-statement', 'user-input']\n",
      "real tags: ['java', 'string']\n",
      "Top 5 tags: ['importerror', 'chatbot', 'spring-boot', 'eclipse', 'python']\n",
      "jaccard: 0.0\n",
      "\n",
      "\n",
      "49\n",
      "all tags: ['java', 'maven', 'jpa-2.0', 'maven-3', 'annotation-processing']\n",
      "real tags: ['java']\n",
      "Top 5 tags: ['importerror', 'chatbot', 'spring-boot', 'eclipse', 'python']\n",
      "jaccard: 0.0\n",
      "\n",
      "\n",
      "50\n",
      "all tags: ['java', 'maven', 'intellij-idea', 'junit', 'mockito']\n",
      "real tags: ['java']\n",
      "Top 5 tags: ['importerror', 'chatbot', 'spring-boot', 'eclipse', 'python']\n",
      "jaccard: 0.0\n",
      "\n",
      "\n",
      "51\n",
      "all tags: ['android', 'angularjs', 'cordova', 'yeoman', 'ionic-framework']\n",
      "real tags: ['android', 'angularjs']\n",
      "Top 5 tags: ['importerror', 'chatbot', 'eclipse', 'spring-boot', 'python']\n",
      "jaccard: 0.0\n",
      "\n",
      "\n",
      "52\n",
      "all tags: ['javascript', 'html', 'webpack', 'vue.js', 'async-await']\n",
      "real tags: ['javascript', 'html']\n",
      "Top 5 tags: ['importerror', 'chatbot', 'spring-boot', 'eclipse', 'python']\n",
      "jaccard: 0.0\n",
      "\n",
      "\n",
      "53\n",
      "all tags: ['hibernate', 'configuration', 'entity', 'jpa-2.0', 'entities']\n",
      "real tags: []\n",
      "Top 5 tags: ['importerror', 'chatbot', 'spring-boot', 'eclipse', 'python']\n",
      "jaccard: 0.0\n",
      "\n",
      "\n",
      "54\n",
      "all tags: ['java', 'google-app-engine', 'colors', 'rgb', 'hsv']\n",
      "real tags: ['java']\n",
      "Top 5 tags: ['importerror', 'chatbot', 'eclipse', 'spring-boot', 'python']\n",
      "jaccard: 0.0\n",
      "\n",
      "\n",
      "55\n",
      "all tags: ['java', 'spring', 'hibernate', 'jpa', 'spring-transactions']\n",
      "real tags: ['java', 'spring']\n",
      "Top 5 tags: ['importerror', 'chatbot', 'eclipse', 'spring-boot', 'python']\n",
      "jaccard: 0.0\n",
      "\n",
      "\n",
      "56\n",
      "all tags: ['python', 'list', 'selenium', 'for-loop', 'selenium-webdriver']\n",
      "real tags: ['python']\n",
      "Top 5 tags: ['importerror', 'chatbot', 'spring-boot', 'eclipse', 'python']\n",
      "jaccard: 0.2\n",
      "\n",
      "\n",
      "57\n",
      "all tags: ['database', 'mongodb', 'postgresql', 'typeorm', 'typeorm-activerecord']\n",
      "real tags: ['database', 'postgresql']\n",
      "Top 5 tags: ['importerror', 'chatbot', 'spring-boot', 'eclipse', 'python']\n",
      "jaccard: 0.0\n",
      "\n",
      "\n",
      "58\n",
      "all tags: ['java', 'lambda', 'java-8', 'java-stream', 'option-type']\n",
      "real tags: ['java']\n",
      "Top 5 tags: ['importerror', 'chatbot', 'eclipse', 'spring-boot', 'python']\n",
      "jaccard: 0.0\n",
      "\n",
      "\n",
      "59\n",
      "all tags: ['apache', '.htaccess', 'url-rewriting', 'dns', 'subdomain']\n",
      "real tags: []\n",
      "Top 5 tags: ['importerror', 'chatbot', 'eclipse', 'spring-boot', 'python']\n",
      "jaccard: 0.0\n",
      "\n",
      "\n",
      "60\n",
      "all tags: ['iphone', 'objective-c', 'ios', 'uitableview', 'uigesturerecognizer']\n",
      "real tags: ['iphone', 'objective-c', 'ios']\n",
      "Top 5 tags: ['importerror', 'chatbot', 'spring-boot', 'eclipse', 'python']\n",
      "jaccard: 0.0\n",
      "\n",
      "\n",
      "61\n",
      "all tags: ['node.js', 'variables', 'module', 'sharing', 'total.js']\n",
      "real tags: ['node.js']\n",
      "Top 5 tags: ['importerror', 'chatbot', 'spring-boot', 'eclipse', 'python']\n",
      "jaccard: 0.0\n",
      "\n",
      "\n",
      "62\n",
      "all tags: ['c', 'windows', 'cmd', 'system', 'cd']\n",
      "real tags: ['c', 'windows']\n",
      "Top 5 tags: ['importerror', 'chatbot', 'eclipse', 'spring-boot', 'python']\n",
      "jaccard: 0.0\n",
      "\n",
      "\n",
      "63\n",
      "all tags: ['python', 'command-line', 'call', 'subprocess', 'file-exists']\n",
      "real tags: ['python']\n",
      "Top 5 tags: ['importerror', 'chatbot', 'eclipse', 'spring-boot', 'python']\n",
      "jaccard: 0.2\n",
      "\n",
      "\n",
      "64\n",
      "all tags: ['javascript', 'firefox', 'canvas', 'local-storage', 'picturefill']\n",
      "real tags: ['javascript']\n",
      "Top 5 tags: ['importerror', 'chatbot', 'eclipse', 'spring-boot', 'python']\n",
      "jaccard: 0.0\n",
      "\n",
      "\n",
      "65\n",
      "all tags: ['javascript', 'google-maps', 'math', 'geolocation', 'geometry']\n",
      "real tags: ['javascript']\n",
      "Top 5 tags: ['importerror', 'chatbot', 'spring-boot', 'eclipse', 'python']\n",
      "jaccard: 0.0\n",
      "\n",
      "\n",
      "66\n",
      "all tags: ['java', 'debugging', 'intellij-idea', 'windows-subsystem-for-linux', 'wsl-2']\n",
      "real tags: ['java']\n",
      "Top 5 tags: ['importerror', 'chatbot', 'eclipse', 'spring-boot', 'python']\n",
      "jaccard: 0.0\n",
      "\n",
      "\n",
      "67\n",
      "all tags: ['c#', '.net', 'linq', 'list', 'asqueryable']\n",
      "real tags: ['c#', '.net']\n",
      "Top 5 tags: ['importerror', 'chatbot', 'spring-boot', 'eclipse', 'python']\n",
      "jaccard: 0.0\n",
      "\n",
      "\n",
      "68\n",
      "all tags: ['clojure', 'lisp', 'scheme', 'common-lisp', 'racket']\n",
      "real tags: []\n",
      "Top 5 tags: ['importerror', 'chatbot', 'spring-boot', 'eclipse', 'python']\n",
      "jaccard: 0.0\n",
      "\n",
      "\n",
      "69\n",
      "all tags: ['python', 'arrays', 'list', 'numpy', 'multiple-columns']\n",
      "real tags: ['python', 'arrays', 'numpy']\n",
      "Top 5 tags: ['importerror', 'chatbot', 'eclipse', 'spring-boot', 'python']\n",
      "jaccard: 0.14285714285714285\n",
      "\n",
      "\n",
      "70\n",
      "all tags: ['ios', 'objective-c', 'swift', 'uinavigationbar', 'uinavigationitem']\n",
      "real tags: ['ios', 'objective-c', 'swift']\n",
      "Top 5 tags: ['importerror', 'chatbot', 'spring-boot', 'eclipse', 'python']\n",
      "jaccard: 0.0\n",
      "\n",
      "\n",
      "71\n",
      "all tags: ['php', 'mysql', 'apache', 'xampp', 'production-environment']\n",
      "real tags: ['php', 'mysql']\n",
      "Top 5 tags: ['importerror', 'chatbot', 'spring-boot', 'eclipse', 'python']\n",
      "jaccard: 0.0\n",
      "\n",
      "\n",
      "72\n",
      "all tags: ['flutter', 'flutter-layout', 'state-management', 'flutter-provider', 'flutter-state']\n",
      "real tags: []\n",
      "Top 5 tags: ['importerror', 'chatbot', 'spring-boot', 'eclipse', 'python']\n",
      "jaccard: 0.0\n",
      "\n",
      "\n",
      "73\n",
      "all tags: ['debugging', 'swift', 'console', 'var', 'po']\n",
      "real tags: ['swift']\n",
      "Top 5 tags: ['importerror', 'chatbot', 'spring-boot', 'eclipse', 'python']\n",
      "jaccard: 0.0\n",
      "\n",
      "\n",
      "74\n",
      "all tags: ['iphone', 'ios', 'ios4', 'uiscrollview', 'uitextfield']\n",
      "real tags: ['iphone', 'ios']\n",
      "Top 5 tags: ['importerror', 'chatbot', 'spring-boot', 'eclipse', 'python']\n",
      "jaccard: 0.0\n",
      "\n",
      "\n",
      "75\n",
      "all tags: ['javascript', 'jquery', 'html', 'css', 'loading']\n",
      "real tags: ['javascript', 'jquery', 'html', 'css']\n",
      "Top 5 tags: ['importerror', 'chatbot', 'spring-boot', 'eclipse', 'python']\n",
      "jaccard: 0.0\n",
      "\n",
      "\n",
      "76\n",
      "all tags: ['amazon-web-services', 'amazon-s3', 'root', 'policy', 'bucket']\n",
      "real tags: ['amazon-web-services']\n",
      "Top 5 tags: ['importerror', 'chatbot', 'eclipse', 'spring-boot', 'python']\n",
      "jaccard: 0.0\n",
      "\n",
      "\n",
      "77\n",
      "all tags: ['javascript', 'reactjs', 'git', 'testing', 'jestjs']\n",
      "real tags: ['javascript', 'reactjs', 'git']\n",
      "Top 5 tags: ['importerror', 'chatbot', 'spring-boot', 'eclipse', 'python']\n",
      "jaccard: 0.0\n",
      "\n",
      "\n",
      "78\n",
      "all tags: ['sql', 'json', 'go', 'web-applications', 'struct']\n",
      "real tags: ['sql', 'json']\n",
      "Top 5 tags: ['importerror', 'chatbot', 'eclipse', 'spring-boot', 'python']\n",
      "jaccard: 0.0\n",
      "\n",
      "\n",
      "79\n",
      "all tags: ['php', 'ssl', 'curl', 'xampp', 'mandrill']\n",
      "real tags: ['php']\n",
      "Top 5 tags: ['importerror', 'chatbot', 'eclipse', 'spring-boot', 'python']\n",
      "jaccard: 0.0\n",
      "\n",
      "\n",
      "80\n",
      "all tags: ['c#', '.net', 'winforms', 'visual-studio-2010', 'datagridview']\n",
      "real tags: ['c#', '.net']\n",
      "Top 5 tags: ['importerror', 'chatbot', 'eclipse', 'spring-boot', 'python']\n",
      "jaccard: 0.0\n",
      "\n",
      "\n",
      "81\n",
      "all tags: ['c', 'memory-leaks', 'pthreads', 'posix', 'valgrind']\n",
      "real tags: ['c']\n",
      "Top 5 tags: ['importerror', 'chatbot', 'spring-boot', 'eclipse', 'python']\n",
      "jaccard: 0.0\n",
      "\n",
      "\n",
      "82\n",
      "all tags: ['regex', 'expression', 'hour', 'seconds', 'minute']\n",
      "real tags: []\n",
      "Top 5 tags: ['importerror', 'chatbot', 'spring-boot', 'eclipse', 'python']\n",
      "jaccard: 0.0\n",
      "\n",
      "\n",
      "83\n",
      "all tags: ['.net', 'docker', 'asp.net-core', '.net-core', 'dockerfile']\n",
      "real tags: ['.net', 'docker']\n",
      "Top 5 tags: ['importerror', 'chatbot', 'spring-boot', 'eclipse', 'python']\n",
      "jaccard: 0.0\n",
      "\n",
      "\n",
      "84\n",
      "all tags: ['javascript', 'node.js', 'token', 'jwt', 'auth-token']\n",
      "real tags: ['javascript', 'node.js']\n",
      "Top 5 tags: ['importerror', 'chatbot', 'spring-boot', 'eclipse', 'python']\n",
      "jaccard: 0.0\n",
      "\n",
      "\n",
      "85\n",
      "all tags: ['mysql', 'join', 'transactions', 'innodb', 'locks']\n",
      "real tags: ['mysql']\n",
      "Top 5 tags: ['importerror', 'chatbot', 'eclipse', 'spring-boot', 'python']\n",
      "jaccard: 0.0\n",
      "\n",
      "\n",
      "86\n",
      "all tags: ['unix', 'ftp', 'file-transfer', 'scp', 'mainframe']\n",
      "real tags: []\n",
      "Top 5 tags: ['importerror', 'chatbot', 'eclipse', 'spring-boot', 'python']\n",
      "jaccard: 0.0\n",
      "\n",
      "\n",
      "87\n",
      "all tags: ['python', 'ruby', 'heroku', 'foreman', 'git-bash']\n",
      "real tags: ['python']\n",
      "Top 5 tags: ['importerror', 'chatbot', 'spring-boot', 'eclipse', 'python']\n",
      "jaccard: 0.2\n",
      "\n",
      "\n",
      "88\n",
      "all tags: ['sql', 't-sql', 'types', 'casting', 'sql-server-2012']\n",
      "real tags: ['sql']\n",
      "Top 5 tags: ['importerror', 'chatbot', 'spring-boot', 'eclipse', 'python']\n",
      "jaccard: 0.0\n",
      "\n",
      "\n",
      "89\n",
      "all tags: ['ios', 'objective-c', 'graphics', 'filtering', 'core-image']\n",
      "real tags: ['ios', 'objective-c']\n",
      "Top 5 tags: ['importerror', 'chatbot', 'spring-boot', 'eclipse', 'python']\n",
      "jaccard: 0.0\n",
      "\n",
      "\n",
      "90\n",
      "all tags: ['android', 'junit', 'gradle', 'android-studio', 'robolectric']\n",
      "real tags: ['android']\n",
      "Top 5 tags: ['importerror', 'chatbot', 'eclipse', 'spring-boot', 'python']\n",
      "jaccard: 0.0\n",
      "\n",
      "\n",
      "91\n",
      "all tags: ['python', 'flask', 'refresh', 'livereload', 'hot-reload']\n",
      "real tags: ['python']\n",
      "Top 5 tags: ['importerror', 'chatbot', 'eclipse', 'spring-boot', 'python']\n",
      "jaccard: 0.2\n",
      "\n",
      "\n",
      "92\n",
      "all tags: ['c#', '.net', 'json', 'asp.net-mvc', 'asp.net-core']\n",
      "real tags: ['c#', '.net', 'json', 'asp.net-mvc']\n",
      "Top 5 tags: ['importerror', 'chatbot', 'eclipse', 'spring-boot', 'python']\n",
      "jaccard: 0.0\n",
      "\n",
      "\n",
      "93\n",
      "all tags: ['macos', 'homebrew', 'php-7', 'macos-sierra', 'php-7.1']\n",
      "real tags: ['macos']\n",
      "Top 5 tags: ['importerror', 'chatbot', 'spring-boot', 'eclipse', 'python']\n",
      "jaccard: 0.0\n",
      "\n",
      "\n",
      "94\n",
      "all tags: ['python', 'amazon-web-services', 'logging', 'aws-lambda', 'amazon-cloudwatch']\n",
      "real tags: ['python', 'amazon-web-services']\n",
      "Top 5 tags: ['importerror', 'chatbot', 'eclipse', 'spring-boot', 'python']\n",
      "jaccard: 0.16666666666666666\n",
      "\n",
      "\n",
      "95\n",
      "all tags: ['apache-spark', 'timezone', 'timestamp', 'pyspark', 'dst']\n",
      "real tags: []\n",
      "Top 5 tags: ['importerror', 'chatbot', 'spring-boot', 'eclipse', 'python']\n",
      "jaccard: 0.0\n",
      "\n",
      "\n",
      "96\n",
      "all tags: ['android', 'unit-testing', 'asynchronous', 'rx-java', 'rx-java2']\n",
      "real tags: ['android', 'unit-testing']\n",
      "Top 5 tags: ['importerror', 'chatbot', 'eclipse', 'spring-boot', 'python']\n",
      "jaccard: 0.0\n",
      "\n",
      "\n",
      "97\n",
      "all tags: ['ios', 'swift', 'uibarbuttonitem', 'uitoolbar', 'repeat']\n",
      "real tags: ['ios', 'swift']\n",
      "Top 5 tags: ['importerror', 'chatbot', 'spring-boot', 'eclipse', 'python']\n",
      "jaccard: 0.0\n",
      "\n",
      "\n",
      "98\n",
      "all tags: ['javascript', 'java', 'android', 'node.js', 'react-native']\n",
      "real tags: ['javascript', 'java', 'android', 'node.js']\n",
      "Top 5 tags: ['importerror', 'chatbot', 'spring-boot', 'eclipse', 'python']\n",
      "jaccard: 0.0\n",
      "\n",
      "\n",
      "99\n",
      "all tags: ['javascript', 'html', 'windows-7', 'local-storage', 'internet-explorer-11']\n",
      "real tags: ['javascript', 'html']\n",
      "Top 5 tags: ['importerror', 'chatbot', 'spring-boot', 'eclipse', 'python']\n",
      "jaccard: 0.0\n",
      "\n",
      "\n",
      "score_total = 3.104761904761905\n"
     ]
    }
   ],
   "source": [
    "# OK reste juste à récup / associer les tags equivalents (targets)\n",
    "\n",
    "\n",
    "# Step 1: Make predictions with the model\n",
    "predictions = model.predict(X_test[:100])\n",
    "print('\\n')\n",
    "\n",
    "# Step 2: Get the indices of the top n most probable tags\n",
    "n = 5  # Number of top tags to return\n",
    "top_n_indices = np.argsort(predictions, axis=1)[:, -n:]\n",
    "\n",
    "# Step 3: Get the associated tags\n",
    "associated_tags = []\n",
    "for indices in top_n_indices:\n",
    "    tags = [all_tags[i] for i in indices]\n",
    "    associated_tags.append(tags)\n",
    "\n",
    "# Print associated tags for each input text\n",
    "score_total = 0\n",
    "for i, tags in enumerate(associated_tags):\n",
    "    print(i)\n",
    "    print(f\"all tags: {test_df['all_tags'][i]}\")\n",
    "    print(f'real tags: {y_test[i]}')\n",
    "    print(f\"Top {n} tags: {tags}\")\n",
    "    jacc = jaccard_topics(tags, y_test[i])\n",
    "    print(f'jaccard: {jacc}')\n",
    "    score_total += jacc\n",
    "    print('\\n')\n",
    "\n",
    "print(f'score_total = {score_total}')\n",
    "\n",
    "# probleme\n",
    "# les scores calculés sur les distributions de probabilités prédites semblaient prometteurs,\n",
    "# mais en pratique les prédictions sont catastrophiques\n",
    "# (1 seule prédiction correcte (index 79) sur 100 tests...)\n",
    "# On avait un comportement similaire avec la méthode predict_poba des modeles classiques\n",
    "\n",
    "# Il faudrait peut-etre une architecture différente, avec une derniere layer à 5 outputs\n",
    "# (nb de tags prédits)\n"
   ]
  },
  {
   "cell_type": "markdown",
   "metadata": {},
   "source": [
    "### 3.12 word2vec + svm\n"
   ]
  },
  {
   "cell_type": "code",
   "execution_count": 56,
   "metadata": {},
   "outputs": [
    {
     "name": "stdout",
     "output_type": "stream",
     "text": [
      "120\n",
      "120\n",
      "0\n"
     ]
    }
   ],
   "source": [
    "# test\n",
    "\n",
    "a = 10\n",
    "\n",
    "def fois_douze(x=a):\n",
    "    return x*12\n",
    "\n",
    "print(fois_douze())\n",
    "\n",
    "a=0\n",
    "\n",
    "print(fois_douze()) # 120, attention à ça. Python garde l'ancien pointeur en mémoire\n",
    "print(fois_douze(x=a)) # ok\n"
   ]
  },
  {
   "cell_type": "code",
   "execution_count": 57,
   "metadata": {},
   "outputs": [],
   "source": [
    "def jaccard_score(y_true, y_pred): # pour comparer 2 df ou 2 matrices de mm shape[0]\n",
    "    jacc = 0\n",
    "    for i in range(0, len(y_pred)):\n",
    "        jacc += jaccard_topics(y_true[i], y_pred[i])\n",
    "    jacc_moyen = jacc / len(y_pred)\n",
    "\n",
    "    return jacc_moyen\n"
   ]
  },
  {
   "cell_type": "code",
   "execution_count": 58,
   "metadata": {},
   "outputs": [
    {
     "name": "stdout",
     "output_type": "stream",
     "text": [
      "training fini \n",
      "\n",
      "SCORES TAGS (TOKENS) \n",
      "\n",
      "Jaccard similarity (training set):  0.07307837131069454\n",
      "\n",
      "\n",
      "Jaccard similarity (testing set):  0.06408854946590795\n"
     ]
    }
   ],
   "source": [
    "# Create an SGDClassifier with default parameters\n",
    "sgd_clf = SGDClassifier(random_state=42, loss='log_loss')  # for logistic regression\n",
    "\n",
    "# Create a MultiOutputClassifier with the SGD classifier\n",
    "multi_output_classifier = MultiOutputClassifier(sgd_clf)\n",
    "\n",
    "# Fit the MultiOutputClassifier to your training data\n",
    "multi_output_classifier.fit(X_train, y_train_encoded)\n",
    "print('training fini', '\\n')\n",
    "\n",
    "predictions_train = multi_output_classifier.predict(X_train)\n",
    "predictions_test = multi_output_classifier.predict(X_test)\n",
    "\n",
    "print('SCORES TAGS (TOKENS)', '\\n')\n",
    "\n",
    "predicted_tags_train = mlb.inverse_transform(predictions_train)\n",
    "predicted_tags_test = mlb.inverse_transform(predictions_test)\n",
    "\n",
    "# Evaluate the model on training data using jaccard similarity\n",
    "scorer = jaccard_score\n",
    "score_train = scorer(predicted_tags_train, y_train)\n",
    "print(\"Jaccard similarity (training set): \", score_train)\n",
    "print('\\n')\n",
    "\n",
    "# Evaluate the model on test data\n",
    "score_test = scorer(predicted_tags_test, y_test)\n",
    "print(\"Jaccard similarity (testing set): \", score_test)\n",
    "\n",
    "# décevant, le meme modele faisait mieux a partir d'un bag of word\n",
    "# (et sur un nb > de tags possivbles)\n"
   ]
  },
  {
   "cell_type": "markdown",
   "metadata": {},
   "source": [
    "## 4 BERT\n"
   ]
  },
  {
   "cell_type": "markdown",
   "metadata": {},
   "source": [
    "### Checkpoint\n"
   ]
  },
  {
   "cell_type": "code",
   "execution_count": 59,
   "metadata": {},
   "outputs": [
    {
     "name": "stdout",
     "output_type": "stream",
     "text": [
      "(47665, 9) \n",
      "\n"
     ]
    }
   ],
   "source": [
    "training_df, test_df = create_top_n_tags_feature(data=raw_data, n=NB_TAGS, slice=10, df_freq=df_freq)\n"
   ]
  },
  {
   "cell_type": "markdown",
   "metadata": {},
   "source": [
    "### 4.1 Premier test d'un modele bert\n"
   ]
  },
  {
   "cell_type": "code",
   "execution_count": 60,
   "metadata": {},
   "outputs": [
    {
     "name": "stderr",
     "output_type": "stream",
     "text": [
      "No model was supplied, defaulted to distilbert-base-cased-distilled-squad and revision 626af31 (https://huggingface.co/distilbert-base-cased-distilled-squad).\n",
      "Using a pipeline without specifying a model name and revision in production is not recommended.\n",
      "All PyTorch model weights were used when initializing TFDistilBertForQuestionAnswering.\n",
      "\n",
      "All the weights of TFDistilBertForQuestionAnswering were initialized from the PyTorch model.\n",
      "If your task is similar to the task the model of the checkpoint was trained on, you can already use TFDistilBertForQuestionAnswering for predictions without further training.\n"
     ]
    }
   ],
   "source": [
    "# Pour le fun\n",
    "\n",
    "qa = pipeline(\"question-answering\")\n",
    "\n",
    "context=test_df['body'][1]\n",
    "\n",
    "question = \"What topics is this about ?\"\n",
    "\n",
    "reponse = qa(question=question, context=context)\n"
   ]
  },
  {
   "cell_type": "code",
   "execution_count": 61,
   "metadata": {},
   "outputs": [
    {
     "name": "stdout",
     "output_type": "stream",
     "text": [
      "I can not seem to find any documentation on how to make Selenium open the browser in incognito mode. \n",
      "Do I have to setup a custom profile in the browser or?\n",
      "\n"
     ]
    }
   ],
   "source": [
    "print(context)\n"
   ]
  },
  {
   "cell_type": "code",
   "execution_count": 62,
   "metadata": {},
   "outputs": [
    {
     "name": "stdout",
     "output_type": "stream",
     "text": [
      "{'score': 0.12743693590164185, 'start': 44, 'end': 99, 'answer': 'how to make Selenium open the browser in incognito mode'}\n"
     ]
    }
   ],
   "source": [
    "print(reponse)\n",
    "\n",
    "# Intéressant, mais on n'est plus vraiment dans le supervisé !\n"
   ]
  },
  {
   "cell_type": "markdown",
   "metadata": {},
   "source": [
    "### 4.2 BERT HuggingFace\n"
   ]
  },
  {
   "cell_type": "code",
   "execution_count": 63,
   "metadata": {},
   "outputs": [],
   "source": [
    "# import tensorflow_hub as hub\n",
    "from tensorflow.keras import backend as K\n",
    "from tensorflow.keras.preprocessing.text import Tokenizer\n",
    "from tensorflow.keras.preprocessing.sequence import pad_sequences\n",
    "from tensorflow.keras import metrics as kmetrics\n",
    "from tensorflow.keras.layers import *\n",
    "from tensorflow.keras.models import Model\n",
    "\n",
    "# Bert\n",
    "from transformers import TFAutoModel\n",
    "\n",
    "os.environ[\"TF_KERAS\"]='1'\n"
   ]
  },
  {
   "cell_type": "code",
   "execution_count": 64,
   "metadata": {},
   "outputs": [
    {
     "name": "stdout",
     "output_type": "stream",
     "text": [
      "2.12.0\n",
      "Num GPUs Available:  0\n",
      "False\n"
     ]
    }
   ],
   "source": [
    "print(tf.__version__)\n",
    "print(\"Num GPUs Available: \", len(tf.config.experimental.list_physical_devices('GPU')))\n",
    "print(tf.test.is_built_with_cuda()) # False, no gpu support\n"
   ]
  },
  {
   "cell_type": "code",
   "execution_count": 65,
   "metadata": {},
   "outputs": [],
   "source": [
    "# Fonction de préparation des sentences\n",
    "def bert_inp_fct(sentences, bert_tokenizer, max_length) :\n",
    "    input_ids=[]\n",
    "    token_type_ids = []\n",
    "    attention_mask=[]\n",
    "    bert_inp_tot = []\n",
    "\n",
    "    for sent in sentences:\n",
    "        bert_inp = bert_tokenizer.encode_plus(sent,\n",
    "                                              add_special_tokens = True,\n",
    "                                              max_length = max_length,\n",
    "                                              padding='max_length',\n",
    "                                              return_attention_mask = True,\n",
    "                                              return_token_type_ids=True,\n",
    "                                              truncation=True,\n",
    "                                              return_tensors=\"tf\")\n",
    "\n",
    "        input_ids.append(bert_inp['input_ids'][0])\n",
    "        token_type_ids.append(bert_inp['token_type_ids'][0])\n",
    "        attention_mask.append(bert_inp['attention_mask'][0])\n",
    "        bert_inp_tot.append((bert_inp['input_ids'][0],\n",
    "                             bert_inp['token_type_ids'][0],\n",
    "                             bert_inp['attention_mask'][0]))\n",
    "\n",
    "    input_ids = np.asarray(input_ids)\n",
    "    token_type_ids = np.asarray(token_type_ids)\n",
    "    attention_mask = np.array(attention_mask)\n",
    "\n",
    "    return input_ids, token_type_ids, attention_mask, bert_inp_tot\n",
    "\n",
    "\n",
    "# Fonction de création des features\n",
    "def feature_BERT_fct(model, model_type, sentences, max_length, b_size, mode='HF') :\n",
    "    batch_size = b_size\n",
    "    batch_size_pred = b_size\n",
    "    bert_tokenizer = AutoTokenizer.from_pretrained(model_type)\n",
    "    time1 = time.time()\n",
    "\n",
    "    num_batches = (len(sentences) + batch_size - 1) // batch_size\n",
    "    for step in range(num_batches):\n",
    "        idx = step*batch_size\n",
    "        input_ids, token_type_ids, attention_mask, bert_inp_tot = bert_inp_fct(sentences[idx:idx+batch_size],\n",
    "                                                                      bert_tokenizer, max_length)\n",
    "\n",
    "        if mode=='HF' :    # Bert HuggingFace\n",
    "            outputs = model.predict([input_ids, attention_mask, token_type_ids], batch_size=batch_size_pred)\n",
    "            last_hidden_states = outputs.last_hidden_state\n",
    "\n",
    "        if mode=='TFhub' : # Bert Tensorflow Hub\n",
    "            text_preprocessed = {\"input_word_ids\" : input_ids,\n",
    "                                 \"input_mask\" : attention_mask,\n",
    "                                 \"input_type_ids\" : token_type_ids}\n",
    "            outputs = model(text_preprocessed)\n",
    "            last_hidden_states = outputs['sequence_output']\n",
    "\n",
    "        if step ==0 :\n",
    "            last_hidden_states_tot = last_hidden_states\n",
    "            last_hidden_states_tot_0 = last_hidden_states # ??\n",
    "        else :\n",
    "            last_hidden_states_tot = np.concatenate((last_hidden_states_tot,last_hidden_states))\n",
    "\n",
    "    features_bert = np.array(last_hidden_states_tot).mean(axis=1)\n",
    "\n",
    "    time2 = np.round(time.time() - time1,0)\n",
    "    print(\"temps traitement : \", time2)\n",
    "\n",
    "    return features_bert, last_hidden_states_tot\n"
   ]
  },
  {
   "cell_type": "code",
   "execution_count": 66,
   "metadata": {},
   "outputs": [
    {
     "name": "stderr",
     "output_type": "stream",
     "text": [
      "Some weights of the PyTorch model were not used when initializing the TF 2.0 model TFBertModel: ['cls.predictions.transform.dense.weight', 'cls.seq_relationship.bias', 'cls.predictions.transform.dense.bias', 'cls.seq_relationship.weight', 'cls.predictions.transform.LayerNorm.weight', 'cls.predictions.transform.LayerNorm.bias', 'cls.predictions.bias']\n",
      "- This IS expected if you are initializing TFBertModel from a PyTorch model trained on another task or with another architecture (e.g. initializing a TFBertForSequenceClassification model from a BertForPreTraining model).\n",
      "- This IS NOT expected if you are initializing TFBertModel from a PyTorch model that you expect to be exactly identical (e.g. initializing a TFBertForSequenceClassification model from a BertForSequenceClassification model).\n",
      "All the weights of TFBertModel were initialized from the PyTorch model.\n",
      "If your task is similar to the task the model of the checkpoint was trained on, you can already use TFBertModel for predictions without further training.\n"
     ]
    },
    {
     "name": "stdout",
     "output_type": "stream",
     "text": [
      "4290\n",
      "(4290, 9)\n"
     ]
    }
   ],
   "source": [
    "max_length = 15\n",
    "batch_size = 10\n",
    "model_type = 'bert-base-uncased'\n",
    "\n",
    "model = TFAutoModel.from_pretrained(model_type)\n",
    "\n",
    "sentences = training_df[feature].tolist()\n",
    "\n",
    "print(len(sentences))\n",
    "print(training_df.shape)\n",
    "\n",
    "sentences_test = test_df[feature].tolist()\n"
   ]
  },
  {
   "cell_type": "code",
   "execution_count": 67,
   "metadata": {},
   "outputs": [
    {
     "name": "stdout",
     "output_type": "stream",
     "text": [
      "1/1 [==============================] - 5s 5s/step\n",
      "1/1 [==============================] - 0s 386ms/step\n",
      "1/1 [==============================] - 0s 436ms/step\n",
      "1/1 [==============================] - 0s 393ms/step\n",
      "1/1 [==============================] - 0s 383ms/step\n",
      "1/1 [==============================] - 0s 329ms/step\n",
      "1/1 [==============================] - 0s 389ms/step\n",
      "1/1 [==============================] - 0s 399ms/step\n",
      "1/1 [==============================] - 0s 328ms/step\n",
      "1/1 [==============================] - 0s 385ms/step\n",
      "1/1 [==============================] - 0s 346ms/step\n",
      "1/1 [==============================] - 0s 487ms/step\n",
      "1/1 [==============================] - 0s 330ms/step\n",
      "1/1 [==============================] - 0s 424ms/step\n",
      "1/1 [==============================] - 0s 412ms/step\n",
      "1/1 [==============================] - 0s 386ms/step\n",
      "1/1 [==============================] - 0s 370ms/step\n",
      "1/1 [==============================] - 0s 359ms/step\n",
      "1/1 [==============================] - 0s 414ms/step\n",
      "1/1 [==============================] - 0s 391ms/step\n",
      "1/1 [==============================] - 0s 479ms/step\n",
      "1/1 [==============================] - 0s 371ms/step\n",
      "1/1 [==============================] - 0s 435ms/step\n",
      "1/1 [==============================] - 0s 356ms/step\n",
      "1/1 [==============================] - 0s 469ms/step\n",
      "1/1 [==============================] - 0s 467ms/step\n",
      "1/1 [==============================] - 0s 497ms/step\n",
      "1/1 [==============================] - 0s 409ms/step\n",
      "1/1 [==============================] - 0s 422ms/step\n",
      "1/1 [==============================] - 0s 409ms/step\n",
      "1/1 [==============================] - 1s 534ms/step\n",
      "1/1 [==============================] - 0s 459ms/step\n",
      "1/1 [==============================] - 0s 423ms/step\n",
      "1/1 [==============================] - 0s 449ms/step\n",
      "1/1 [==============================] - 0s 421ms/step\n",
      "1/1 [==============================] - 0s 462ms/step\n",
      "1/1 [==============================] - 0s 353ms/step\n",
      "1/1 [==============================] - 0s 417ms/step\n",
      "1/1 [==============================] - 0s 433ms/step\n",
      "1/1 [==============================] - 0s 442ms/step\n",
      "1/1 [==============================] - 0s 464ms/step\n",
      "1/1 [==============================] - 0s 495ms/step\n",
      "1/1 [==============================] - 0s 369ms/step\n",
      "1/1 [==============================] - 0s 359ms/step\n",
      "1/1 [==============================] - 0s 467ms/step\n",
      "1/1 [==============================] - 0s 367ms/step\n",
      "1/1 [==============================] - 0s 293ms/step\n",
      "1/1 [==============================] - 0s 397ms/step\n",
      "1/1 [==============================] - 0s 304ms/step\n",
      "1/1 [==============================] - 0s 426ms/step\n",
      "1/1 [==============================] - 0s 432ms/step\n",
      "1/1 [==============================] - 0s 459ms/step\n",
      "1/1 [==============================] - 0s 422ms/step\n",
      "1/1 [==============================] - 0s 443ms/step\n",
      "1/1 [==============================] - 0s 403ms/step\n",
      "1/1 [==============================] - 0s 375ms/step\n",
      "1/1 [==============================] - 0s 369ms/step\n",
      "1/1 [==============================] - 0s 422ms/step\n",
      "1/1 [==============================] - 0s 499ms/step\n",
      "1/1 [==============================] - 0s 411ms/step\n",
      "1/1 [==============================] - 0s 403ms/step\n",
      "1/1 [==============================] - 0s 452ms/step\n",
      "1/1 [==============================] - 0s 400ms/step\n",
      "1/1 [==============================] - 0s 388ms/step\n",
      "1/1 [==============================] - 0s 402ms/step\n",
      "1/1 [==============================] - 0s 409ms/step\n",
      "1/1 [==============================] - 0s 379ms/step\n",
      "1/1 [==============================] - 0s 354ms/step\n",
      "1/1 [==============================] - 0s 361ms/step\n",
      "1/1 [==============================] - 0s 467ms/step\n",
      "1/1 [==============================] - 0s 385ms/step\n",
      "1/1 [==============================] - 0s 408ms/step\n",
      "1/1 [==============================] - 0s 408ms/step\n",
      "1/1 [==============================] - 0s 365ms/step\n",
      "1/1 [==============================] - 0s 402ms/step\n",
      "1/1 [==============================] - 0s 339ms/step\n",
      "1/1 [==============================] - 0s 425ms/step\n",
      "1/1 [==============================] - 0s 336ms/step\n",
      "1/1 [==============================] - 0s 394ms/step\n",
      "1/1 [==============================] - 0s 346ms/step\n",
      "1/1 [==============================] - 0s 408ms/step\n",
      "1/1 [==============================] - 0s 302ms/step\n",
      "1/1 [==============================] - 0s 316ms/step\n",
      "1/1 [==============================] - 0s 417ms/step\n",
      "1/1 [==============================] - 0s 396ms/step\n",
      "1/1 [==============================] - 0s 455ms/step\n",
      "1/1 [==============================] - 0s 316ms/step\n",
      "1/1 [==============================] - 0s 411ms/step\n",
      "1/1 [==============================] - 0s 421ms/step\n",
      "1/1 [==============================] - 0s 365ms/step\n",
      "1/1 [==============================] - 0s 466ms/step\n",
      "1/1 [==============================] - 0s 423ms/step\n",
      "1/1 [==============================] - 0s 405ms/step\n",
      "1/1 [==============================] - 0s 380ms/step\n",
      "1/1 [==============================] - 0s 398ms/step\n",
      "1/1 [==============================] - 0s 442ms/step\n",
      "1/1 [==============================] - 0s 460ms/step\n",
      "1/1 [==============================] - 0s 418ms/step\n",
      "1/1 [==============================] - 0s 447ms/step\n",
      "1/1 [==============================] - 0s 409ms/step\n",
      "1/1 [==============================] - 0s 490ms/step\n",
      "1/1 [==============================] - 0s 308ms/step\n",
      "1/1 [==============================] - 0s 334ms/step\n",
      "1/1 [==============================] - 0s 430ms/step\n",
      "1/1 [==============================] - 0s 408ms/step\n",
      "1/1 [==============================] - 0s 497ms/step\n",
      "1/1 [==============================] - 0s 428ms/step\n",
      "1/1 [==============================] - 0s 403ms/step\n",
      "1/1 [==============================] - 1s 605ms/step\n",
      "1/1 [==============================] - 1s 559ms/step\n",
      "1/1 [==============================] - 0s 465ms/step\n",
      "1/1 [==============================] - 0s 468ms/step\n",
      "1/1 [==============================] - 0s 349ms/step\n",
      "1/1 [==============================] - 0s 461ms/step\n",
      "1/1 [==============================] - 0s 463ms/step\n",
      "1/1 [==============================] - 0s 399ms/step\n",
      "1/1 [==============================] - 0s 420ms/step\n",
      "1/1 [==============================] - 0s 440ms/step\n",
      "1/1 [==============================] - 0s 385ms/step\n",
      "1/1 [==============================] - 0s 284ms/step\n",
      "1/1 [==============================] - 0s 350ms/step\n",
      "1/1 [==============================] - 0s 345ms/step\n",
      "1/1 [==============================] - 0s 340ms/step\n",
      "1/1 [==============================] - 0s 360ms/step\n",
      "1/1 [==============================] - 0s 323ms/step\n",
      "1/1 [==============================] - 0s 320ms/step\n",
      "1/1 [==============================] - 0s 336ms/step\n",
      "1/1 [==============================] - 0s 413ms/step\n",
      "1/1 [==============================] - 0s 353ms/step\n",
      "1/1 [==============================] - 0s 341ms/step\n",
      "1/1 [==============================] - 0s 358ms/step\n",
      "1/1 [==============================] - 0s 393ms/step\n",
      "1/1 [==============================] - 0s 353ms/step\n",
      "1/1 [==============================] - 0s 358ms/step\n",
      "1/1 [==============================] - 0s 320ms/step\n",
      "1/1 [==============================] - 0s 360ms/step\n",
      "1/1 [==============================] - 0s 447ms/step\n",
      "1/1 [==============================] - 0s 373ms/step\n",
      "1/1 [==============================] - 0s 424ms/step\n",
      "1/1 [==============================] - 0s 314ms/step\n",
      "1/1 [==============================] - 0s 319ms/step\n",
      "1/1 [==============================] - 0s 415ms/step\n",
      "1/1 [==============================] - 0s 443ms/step\n",
      "1/1 [==============================] - 0s 331ms/step\n",
      "1/1 [==============================] - 0s 445ms/step\n",
      "1/1 [==============================] - 0s 382ms/step\n",
      "1/1 [==============================] - 0s 344ms/step\n",
      "1/1 [==============================] - 0s 369ms/step\n",
      "1/1 [==============================] - 0s 363ms/step\n",
      "1/1 [==============================] - 0s 333ms/step\n",
      "1/1 [==============================] - 0s 354ms/step\n",
      "1/1 [==============================] - 0s 385ms/step\n",
      "1/1 [==============================] - 0s 380ms/step\n",
      "1/1 [==============================] - 0s 339ms/step\n",
      "1/1 [==============================] - 0s 337ms/step\n",
      "1/1 [==============================] - 0s 366ms/step\n",
      "1/1 [==============================] - 0s 372ms/step\n",
      "1/1 [==============================] - 0s 360ms/step\n",
      "1/1 [==============================] - 0s 423ms/step\n",
      "1/1 [==============================] - 0s 353ms/step\n",
      "1/1 [==============================] - 0s 372ms/step\n",
      "1/1 [==============================] - 0s 284ms/step\n",
      "1/1 [==============================] - 0s 383ms/step\n",
      "1/1 [==============================] - 0s 399ms/step\n",
      "1/1 [==============================] - 0s 381ms/step\n",
      "1/1 [==============================] - 0s 341ms/step\n",
      "1/1 [==============================] - 0s 345ms/step\n",
      "1/1 [==============================] - 0s 340ms/step\n",
      "1/1 [==============================] - 0s 390ms/step\n",
      "1/1 [==============================] - 0s 387ms/step\n",
      "1/1 [==============================] - 0s 333ms/step\n",
      "1/1 [==============================] - 0s 302ms/step\n",
      "1/1 [==============================] - 0s 434ms/step\n",
      "1/1 [==============================] - 0s 457ms/step\n",
      "1/1 [==============================] - 0s 342ms/step\n",
      "1/1 [==============================] - 0s 382ms/step\n",
      "1/1 [==============================] - 0s 333ms/step\n",
      "1/1 [==============================] - 0s 406ms/step\n",
      "1/1 [==============================] - 0s 408ms/step\n",
      "1/1 [==============================] - 0s 356ms/step\n",
      "1/1 [==============================] - 0s 381ms/step\n",
      "1/1 [==============================] - 0s 384ms/step\n",
      "1/1 [==============================] - 0s 418ms/step\n",
      "1/1 [==============================] - 0s 386ms/step\n",
      "1/1 [==============================] - 0s 402ms/step\n",
      "1/1 [==============================] - 1s 510ms/step\n",
      "1/1 [==============================] - 0s 470ms/step\n",
      "1/1 [==============================] - 0s 388ms/step\n",
      "1/1 [==============================] - 0s 351ms/step\n",
      "1/1 [==============================] - 0s 390ms/step\n",
      "1/1 [==============================] - 0s 470ms/step\n",
      "1/1 [==============================] - 0s 418ms/step\n",
      "1/1 [==============================] - 0s 370ms/step\n",
      "1/1 [==============================] - 0s 323ms/step\n",
      "1/1 [==============================] - 0s 452ms/step\n",
      "1/1 [==============================] - 0s 364ms/step\n",
      "1/1 [==============================] - 0s 396ms/step\n",
      "1/1 [==============================] - 0s 381ms/step\n",
      "1/1 [==============================] - 0s 387ms/step\n",
      "1/1 [==============================] - 0s 369ms/step\n",
      "1/1 [==============================] - 0s 364ms/step\n",
      "1/1 [==============================] - 0s 392ms/step\n",
      "1/1 [==============================] - 0s 367ms/step\n",
      "1/1 [==============================] - 0s 372ms/step\n",
      "1/1 [==============================] - 0s 428ms/step\n",
      "1/1 [==============================] - 0s 408ms/step\n",
      "1/1 [==============================] - 0s 308ms/step\n",
      "1/1 [==============================] - 0s 397ms/step\n",
      "1/1 [==============================] - 0s 311ms/step\n",
      "1/1 [==============================] - 0s 292ms/step\n",
      "1/1 [==============================] - 0s 382ms/step\n",
      "1/1 [==============================] - 0s 411ms/step\n",
      "1/1 [==============================] - 0s 322ms/step\n",
      "1/1 [==============================] - 0s 371ms/step\n",
      "1/1 [==============================] - 0s 352ms/step\n",
      "1/1 [==============================] - 0s 351ms/step\n",
      "1/1 [==============================] - 0s 301ms/step\n",
      "1/1 [==============================] - 0s 343ms/step\n",
      "1/1 [==============================] - 0s 397ms/step\n",
      "1/1 [==============================] - 0s 330ms/step\n",
      "1/1 [==============================] - 0s 336ms/step\n",
      "1/1 [==============================] - 0s 424ms/step\n",
      "1/1 [==============================] - 0s 341ms/step\n",
      "1/1 [==============================] - 0s 357ms/step\n",
      "1/1 [==============================] - 0s 369ms/step\n",
      "1/1 [==============================] - 0s 355ms/step\n",
      "1/1 [==============================] - 0s 364ms/step\n",
      "1/1 [==============================] - 0s 377ms/step\n",
      "1/1 [==============================] - 0s 356ms/step\n",
      "1/1 [==============================] - 0s 382ms/step\n",
      "1/1 [==============================] - 0s 484ms/step\n",
      "1/1 [==============================] - 1s 508ms/step\n",
      "1/1 [==============================] - 1s 530ms/step\n",
      "1/1 [==============================] - 0s 382ms/step\n",
      "1/1 [==============================] - 0s 359ms/step\n",
      "1/1 [==============================] - 0s 344ms/step\n",
      "1/1 [==============================] - 0s 395ms/step\n",
      "1/1 [==============================] - 0s 359ms/step\n",
      "1/1 [==============================] - 0s 337ms/step\n",
      "1/1 [==============================] - 0s 362ms/step\n",
      "1/1 [==============================] - 0s 346ms/step\n",
      "1/1 [==============================] - 0s 363ms/step\n",
      "1/1 [==============================] - 0s 387ms/step\n",
      "1/1 [==============================] - 0s 311ms/step\n",
      "1/1 [==============================] - 0s 362ms/step\n",
      "1/1 [==============================] - 0s 396ms/step\n",
      "1/1 [==============================] - 0s 338ms/step\n",
      "1/1 [==============================] - 0s 388ms/step\n",
      "1/1 [==============================] - 0s 368ms/step\n",
      "1/1 [==============================] - 0s 387ms/step\n",
      "1/1 [==============================] - 0s 371ms/step\n",
      "1/1 [==============================] - 0s 419ms/step\n",
      "1/1 [==============================] - 0s 371ms/step\n",
      "1/1 [==============================] - 0s 339ms/step\n",
      "1/1 [==============================] - 0s 377ms/step\n",
      "1/1 [==============================] - 0s 374ms/step\n",
      "1/1 [==============================] - 0s 353ms/step\n",
      "1/1 [==============================] - 0s 330ms/step\n",
      "1/1 [==============================] - 0s 444ms/step\n",
      "1/1 [==============================] - 0s 349ms/step\n",
      "1/1 [==============================] - 0s 339ms/step\n",
      "1/1 [==============================] - 0s 371ms/step\n",
      "1/1 [==============================] - 0s 324ms/step\n",
      "1/1 [==============================] - 0s 387ms/step\n",
      "1/1 [==============================] - 0s 363ms/step\n",
      "1/1 [==============================] - 0s 350ms/step\n",
      "1/1 [==============================] - 0s 413ms/step\n",
      "1/1 [==============================] - 0s 347ms/step\n",
      "1/1 [==============================] - 0s 396ms/step\n",
      "1/1 [==============================] - 0s 344ms/step\n",
      "1/1 [==============================] - 0s 365ms/step\n",
      "1/1 [==============================] - 0s 374ms/step\n",
      "1/1 [==============================] - 0s 400ms/step\n",
      "1/1 [==============================] - 0s 417ms/step\n",
      "1/1 [==============================] - 0s 337ms/step\n",
      "1/1 [==============================] - 0s 355ms/step\n",
      "1/1 [==============================] - 0s 305ms/step\n",
      "1/1 [==============================] - 0s 318ms/step\n",
      "1/1 [==============================] - 0s 352ms/step\n",
      "1/1 [==============================] - 0s 348ms/step\n",
      "1/1 [==============================] - 0s 373ms/step\n",
      "1/1 [==============================] - 0s 310ms/step\n",
      "1/1 [==============================] - 0s 357ms/step\n",
      "1/1 [==============================] - 0s 403ms/step\n",
      "1/1 [==============================] - 0s 365ms/step\n",
      "1/1 [==============================] - 0s 396ms/step\n",
      "1/1 [==============================] - 0s 430ms/step\n",
      "1/1 [==============================] - 0s 339ms/step\n",
      "1/1 [==============================] - 0s 382ms/step\n",
      "1/1 [==============================] - 0s 367ms/step\n",
      "1/1 [==============================] - 0s 365ms/step\n",
      "1/1 [==============================] - 0s 387ms/step\n",
      "1/1 [==============================] - 0s 404ms/step\n",
      "1/1 [==============================] - 0s 418ms/step\n",
      "1/1 [==============================] - 0s 386ms/step\n",
      "1/1 [==============================] - 0s 393ms/step\n",
      "1/1 [==============================] - 0s 418ms/step\n",
      "1/1 [==============================] - 0s 489ms/step\n",
      "1/1 [==============================] - 0s 348ms/step\n",
      "1/1 [==============================] - 0s 392ms/step\n",
      "1/1 [==============================] - 0s 395ms/step\n",
      "1/1 [==============================] - 0s 387ms/step\n",
      "1/1 [==============================] - 0s 398ms/step\n",
      "1/1 [==============================] - 0s 359ms/step\n",
      "1/1 [==============================] - 0s 360ms/step\n",
      "1/1 [==============================] - 0s 338ms/step\n",
      "1/1 [==============================] - 0s 313ms/step\n",
      "1/1 [==============================] - 0s 370ms/step\n",
      "1/1 [==============================] - 0s 372ms/step\n",
      "1/1 [==============================] - 0s 309ms/step\n",
      "1/1 [==============================] - 0s 408ms/step\n",
      "1/1 [==============================] - 0s 427ms/step\n",
      "1/1 [==============================] - 0s 369ms/step\n",
      "1/1 [==============================] - 0s 292ms/step\n",
      "1/1 [==============================] - 0s 411ms/step\n",
      "1/1 [==============================] - 0s 278ms/step\n",
      "1/1 [==============================] - 0s 376ms/step\n",
      "1/1 [==============================] - 0s 310ms/step\n",
      "1/1 [==============================] - 0s 360ms/step\n",
      "1/1 [==============================] - 0s 398ms/step\n",
      "1/1 [==============================] - 0s 302ms/step\n",
      "1/1 [==============================] - 0s 371ms/step\n",
      "1/1 [==============================] - 0s 401ms/step\n",
      "1/1 [==============================] - 0s 386ms/step\n",
      "1/1 [==============================] - 0s 415ms/step\n",
      "1/1 [==============================] - 0s 338ms/step\n",
      "1/1 [==============================] - 0s 457ms/step\n",
      "1/1 [==============================] - 0s 365ms/step\n",
      "1/1 [==============================] - 0s 314ms/step\n",
      "1/1 [==============================] - 0s 423ms/step\n",
      "1/1 [==============================] - 0s 371ms/step\n",
      "1/1 [==============================] - 0s 370ms/step\n",
      "1/1 [==============================] - 0s 365ms/step\n",
      "1/1 [==============================] - 0s 306ms/step\n",
      "1/1 [==============================] - 0s 322ms/step\n",
      "1/1 [==============================] - 0s 366ms/step\n",
      "1/1 [==============================] - 0s 366ms/step\n",
      "1/1 [==============================] - 0s 424ms/step\n",
      "1/1 [==============================] - 0s 442ms/step\n",
      "1/1 [==============================] - 0s 414ms/step\n",
      "1/1 [==============================] - 0s 439ms/step\n",
      "1/1 [==============================] - 0s 322ms/step\n",
      "1/1 [==============================] - 0s 342ms/step\n",
      "1/1 [==============================] - 0s 336ms/step\n",
      "1/1 [==============================] - 0s 418ms/step\n",
      "1/1 [==============================] - 0s 370ms/step\n",
      "1/1 [==============================] - 0s 392ms/step\n",
      "1/1 [==============================] - 0s 316ms/step\n",
      "1/1 [==============================] - 0s 315ms/step\n",
      "1/1 [==============================] - 0s 362ms/step\n",
      "1/1 [==============================] - 0s 408ms/step\n",
      "1/1 [==============================] - 0s 369ms/step\n",
      "1/1 [==============================] - 0s 373ms/step\n",
      "1/1 [==============================] - 0s 415ms/step\n",
      "1/1 [==============================] - 0s 352ms/step\n",
      "1/1 [==============================] - 0s 397ms/step\n",
      "1/1 [==============================] - 0s 429ms/step\n",
      "1/1 [==============================] - 0s 401ms/step\n",
      "1/1 [==============================] - 0s 341ms/step\n",
      "1/1 [==============================] - 0s 336ms/step\n",
      "1/1 [==============================] - 0s 387ms/step\n",
      "1/1 [==============================] - 0s 380ms/step\n",
      "1/1 [==============================] - 0s 365ms/step\n",
      "1/1 [==============================] - 0s 324ms/step\n",
      "1/1 [==============================] - 0s 449ms/step\n",
      "1/1 [==============================] - 0s 429ms/step\n",
      "1/1 [==============================] - 0s 375ms/step\n",
      "1/1 [==============================] - 0s 323ms/step\n",
      "1/1 [==============================] - 0s 329ms/step\n",
      "1/1 [==============================] - 0s 333ms/step\n",
      "1/1 [==============================] - 0s 416ms/step\n",
      "1/1 [==============================] - 0s 431ms/step\n",
      "1/1 [==============================] - 0s 342ms/step\n",
      "1/1 [==============================] - 0s 345ms/step\n",
      "1/1 [==============================] - 0s 401ms/step\n",
      "1/1 [==============================] - 0s 350ms/step\n",
      "1/1 [==============================] - 0s 356ms/step\n",
      "1/1 [==============================] - 0s 305ms/step\n",
      "1/1 [==============================] - 0s 356ms/step\n",
      "1/1 [==============================] - 0s 408ms/step\n",
      "1/1 [==============================] - 0s 348ms/step\n",
      "1/1 [==============================] - 0s 392ms/step\n",
      "1/1 [==============================] - 0s 343ms/step\n",
      "1/1 [==============================] - 0s 349ms/step\n",
      "1/1 [==============================] - 0s 352ms/step\n",
      "1/1 [==============================] - 0s 308ms/step\n",
      "1/1 [==============================] - 0s 337ms/step\n",
      "1/1 [==============================] - 0s 380ms/step\n",
      "1/1 [==============================] - 0s 372ms/step\n",
      "1/1 [==============================] - 0s 362ms/step\n",
      "1/1 [==============================] - 0s 360ms/step\n",
      "1/1 [==============================] - 0s 452ms/step\n",
      "1/1 [==============================] - 0s 373ms/step\n",
      "1/1 [==============================] - 0s 373ms/step\n",
      "1/1 [==============================] - 0s 421ms/step\n",
      "1/1 [==============================] - 0s 349ms/step\n",
      "1/1 [==============================] - 0s 350ms/step\n",
      "1/1 [==============================] - 1s 500ms/step\n",
      "1/1 [==============================] - 0s 292ms/step\n",
      "1/1 [==============================] - 0s 399ms/step\n",
      "1/1 [==============================] - 0s 331ms/step\n",
      "1/1 [==============================] - 0s 367ms/step\n",
      "1/1 [==============================] - 0s 330ms/step\n",
      "1/1 [==============================] - 0s 366ms/step\n",
      "1/1 [==============================] - 0s 340ms/step\n",
      "1/1 [==============================] - 0s 412ms/step\n",
      "1/1 [==============================] - 0s 420ms/step\n",
      "1/1 [==============================] - 0s 380ms/step\n",
      "1/1 [==============================] - 0s 422ms/step\n",
      "1/1 [==============================] - 0s 327ms/step\n",
      "1/1 [==============================] - 0s 376ms/step\n",
      "1/1 [==============================] - 0s 418ms/step\n",
      "1/1 [==============================] - 0s 363ms/step\n",
      "1/1 [==============================] - 0s 352ms/step\n",
      "1/1 [==============================] - 0s 367ms/step\n",
      "1/1 [==============================] - 0s 384ms/step\n",
      "1/1 [==============================] - 0s 411ms/step\n",
      "1/1 [==============================] - 0s 367ms/step\n",
      "1/1 [==============================] - 0s 329ms/step\n",
      "1/1 [==============================] - 0s 361ms/step\n",
      "1/1 [==============================] - 0s 408ms/step\n",
      "1/1 [==============================] - 0s 334ms/step\n",
      "1/1 [==============================] - 0s 318ms/step\n",
      "1/1 [==============================] - 0s 375ms/step\n",
      "1/1 [==============================] - 0s 379ms/step\n",
      "1/1 [==============================] - 0s 356ms/step\n",
      "1/1 [==============================] - 0s 426ms/step\n",
      "1/1 [==============================] - 0s 351ms/step\n",
      "1/1 [==============================] - 0s 317ms/step\n",
      "temps traitement :  236.0\n"
     ]
    }
   ],
   "source": [
    "# Création des features\n",
    "\n",
    "features_bert, last_hidden_states_tot = feature_BERT_fct(model, model_type, sentences,\n",
    "                                                         max_length, batch_size, mode='HF')\n",
    "\n",
    "# long !\n"
   ]
  },
  {
   "cell_type": "code",
   "execution_count": 68,
   "metadata": {},
   "outputs": [
    {
     "name": "stdout",
     "output_type": "stream",
     "text": [
      "1/1 [==============================] - 0s 420ms/step\n",
      "1/1 [==============================] - 0s 399ms/step\n",
      "1/1 [==============================] - 0s 489ms/step\n",
      "1/1 [==============================] - 0s 474ms/step\n",
      "1/1 [==============================] - 0s 423ms/step\n",
      "1/1 [==============================] - 0s 356ms/step\n",
      "1/1 [==============================] - 0s 408ms/step\n",
      "1/1 [==============================] - 0s 416ms/step\n",
      "1/1 [==============================] - 0s 403ms/step\n",
      "1/1 [==============================] - 0s 432ms/step\n",
      "1/1 [==============================] - 0s 449ms/step\n",
      "1/1 [==============================] - 1s 501ms/step\n",
      "1/1 [==============================] - 0s 319ms/step\n",
      "1/1 [==============================] - 0s 355ms/step\n",
      "1/1 [==============================] - 0s 375ms/step\n",
      "1/1 [==============================] - 0s 326ms/step\n",
      "1/1 [==============================] - 0s 445ms/step\n",
      "1/1 [==============================] - 0s 431ms/step\n",
      "1/1 [==============================] - 0s 430ms/step\n",
      "1/1 [==============================] - 0s 379ms/step\n",
      "1/1 [==============================] - 0s 394ms/step\n",
      "1/1 [==============================] - 0s 373ms/step\n",
      "1/1 [==============================] - 0s 352ms/step\n",
      "1/1 [==============================] - 0s 423ms/step\n",
      "1/1 [==============================] - 0s 432ms/step\n",
      "1/1 [==============================] - 0s 438ms/step\n",
      "1/1 [==============================] - 0s 401ms/step\n",
      "1/1 [==============================] - 0s 401ms/step\n",
      "1/1 [==============================] - 0s 451ms/step\n",
      "1/1 [==============================] - 0s 390ms/step\n",
      "1/1 [==============================] - 0s 401ms/step\n",
      "1/1 [==============================] - 0s 379ms/step\n",
      "1/1 [==============================] - 0s 353ms/step\n",
      "1/1 [==============================] - 0s 374ms/step\n",
      "1/1 [==============================] - 0s 427ms/step\n",
      "1/1 [==============================] - 0s 407ms/step\n",
      "1/1 [==============================] - 0s 400ms/step\n",
      "1/1 [==============================] - 0s 418ms/step\n",
      "1/1 [==============================] - 0s 422ms/step\n",
      "1/1 [==============================] - 0s 453ms/step\n",
      "1/1 [==============================] - 0s 361ms/step\n",
      "1/1 [==============================] - 0s 402ms/step\n",
      "1/1 [==============================] - 0s 443ms/step\n",
      "1/1 [==============================] - 0s 385ms/step\n",
      "1/1 [==============================] - 0s 352ms/step\n",
      "1/1 [==============================] - 0s 427ms/step\n",
      "1/1 [==============================] - 0s 374ms/step\n",
      "1/1 [==============================] - 3s 3s/step\n",
      "temps traitement :  27.0\n"
     ]
    }
   ],
   "source": [
    "features_bert_test, _ = feature_BERT_fct(model, model_type, sentences_test,\n",
    "                                                         max_length, batch_size, mode='HF')\n"
   ]
  },
  {
   "cell_type": "code",
   "execution_count": 69,
   "metadata": {},
   "outputs": [],
   "source": [
    "y_train = training_df[target].tolist()\n",
    "y_test = test_df[target].tolist()\n",
    "\n",
    "mlb, y_train_encoded = train_target_encoding(y_train)\n"
   ]
  },
  {
   "cell_type": "code",
   "execution_count": 70,
   "metadata": {},
   "outputs": [
    {
     "data": {
      "text/plain": [
       "(4290, 768)"
      ]
     },
     "execution_count": 70,
     "metadata": {},
     "output_type": "execute_result"
    }
   ],
   "source": [
    "features_bert.shape\n"
   ]
  },
  {
   "cell_type": "code",
   "execution_count": 71,
   "metadata": {},
   "outputs": [
    {
     "data": {
      "text/plain": [
       "(4290, 50)"
      ]
     },
     "execution_count": 71,
     "metadata": {},
     "output_type": "execute_result"
    }
   ],
   "source": [
    "y_train_encoded.shape\n"
   ]
  },
  {
   "cell_type": "code",
   "execution_count": 72,
   "metadata": {},
   "outputs": [
    {
     "name": "stdout",
     "output_type": "stream",
     "text": [
      "training fini \n",
      "\n",
      "SCORES TAGS (TOKENS) \n",
      "\n",
      "4290\n",
      "4290\n",
      "Jaccard similarity (training set):  0.5994094794094789\n",
      "\n",
      "\n",
      "477\n",
      "477\n",
      "Jaccard similarity (testing set):  0.287351502445842\n"
     ]
    }
   ],
   "source": [
    "# Create an SGDClassifier with default parameters\n",
    "sgd_clf = SGDClassifier(random_state=42, loss='log_loss')  # for logistic regression\n",
    "\n",
    "# Create a MultiOutputClassifier with the SGD classifier\n",
    "multi_output_classifier = MultiOutputClassifier(sgd_clf)\n",
    "\n",
    "# Fit the MultiOutputClassifier to your training data\n",
    "multi_output_classifier.fit(features_bert, y_train_encoded)\n",
    "print('training fini', '\\n')\n",
    "\n",
    "predictions_train = multi_output_classifier.predict(features_bert)\n",
    "predictions_test = multi_output_classifier.predict(features_bert_test) # feature_bertiser X_test\n",
    "\n",
    "print('SCORES TAGS (TOKENS)', '\\n')\n",
    "\n",
    "predicted_tags_train = mlb.inverse_transform(predictions_train)\n",
    "predicted_tags_test = mlb.inverse_transform(predictions_test)\n",
    "\n",
    "# Evaluate the model on training data using jaccard similarity\n",
    "scorer = jaccard_score\n",
    "print(len(predicted_tags_train))\n",
    "print(len(y_train))\n",
    "score_train = scorer(predicted_tags_train, y_train)\n",
    "print(\"Jaccard similarity (training set): \", score_train)\n",
    "print('\\n')\n",
    "\n",
    "# Evaluate the model on test data\n",
    "print(len(predicted_tags_test))\n",
    "print(len(y_test))\n",
    "score_test = scorer(predicted_tags_test, y_test)\n",
    "print(\"Jaccard similarity (testing set): \", score_test)\n",
    "\n",
    "# décevant, le meme modele faisait mieux a partir d'un bag of word\n",
    "# (et sur un nb > de tags possibles)\n",
    "\n",
    "# Le score semble fou pour un fit sur un sample ::10\n",
    "# Ca donne envie de verifier les predictions.\n"
   ]
  },
  {
   "cell_type": "code",
   "execution_count": 73,
   "metadata": {},
   "outputs": [
    {
     "name": "stdout",
     "output_type": "stream",
     "text": [
      "['php']\n",
      "('c++', 'node.js', 'php') \n",
      "\n",
      "['python']\n",
      "() \n",
      "\n",
      "['spring']\n",
      "('java', 'spring', 'spring-boot') \n",
      "\n",
      "['c#', '.net']\n",
      "() \n",
      "\n",
      "['python']\n",
      "() \n",
      "\n",
      "['php']\n",
      "() \n",
      "\n",
      "['linux']\n",
      "('linux',) \n",
      "\n",
      "['sql-server']\n",
      "('sql',) \n",
      "\n",
      "['node.js']\n",
      "() \n",
      "\n",
      "['java']\n",
      "() \n",
      "\n",
      "['ios', 'objective-c', 'xcode']\n",
      "('ios', 'xcode') \n",
      "\n",
      "['javascript', 'html']\n",
      "('html', 'javascript') \n",
      "\n",
      "['c++']\n",
      "('c++',) \n",
      "\n",
      "['javascript', 'jquery']\n",
      "('arrays',) \n",
      "\n",
      "['c#', 'asp.net-mvc', 'json']\n",
      "('typescript',) \n",
      "\n",
      "['python']\n",
      "('pandas', 'python') \n",
      "\n",
      "['django']\n",
      "('django', 'python') \n",
      "\n",
      "['angular', 'typescript']\n",
      "('java', 'unit-testing') \n",
      "\n",
      "[]\n",
      "('xcode',) \n",
      "\n",
      "['java']\n",
      "('java',) \n",
      "\n",
      "['c#', '.net']\n",
      "('java',) \n",
      "\n",
      "['java', 'spring']\n",
      "('node.js', 'unit-testing') \n",
      "\n",
      "[]\n",
      "('postgresql',) \n",
      "\n",
      "['java', 'spring']\n",
      "() \n",
      "\n",
      "[]\n",
      "('javascript',) \n",
      "\n",
      "['ruby-on-rails']\n",
      "('c', 'java') \n",
      "\n",
      "['ruby-on-rails', 'postgresql']\n",
      "('javascript',) \n",
      "\n",
      "['python']\n",
      "() \n",
      "\n",
      "['python']\n",
      "('python', 'python-3.x') \n",
      "\n",
      "['docker']\n",
      "() \n",
      "\n",
      "['android']\n",
      "('android',) \n",
      "\n"
     ]
    }
   ],
   "source": [
    "for i in range(0, 31):\n",
    "    print(y_test[i])\n",
    "    print(predicted_tags_test[i], '\\n')\n",
    "\n",
    "# Assez bluffant en effet, dommage encore bcp de reponses vides.\n",
    "# (nb de tags trop petit ?)\n",
    "\n",
    "# On a un modèle qui est déjà capable de généraliser... avant même d'avoir été entrainé sur nos données !\n",
    "# (il est préentrainé)\n"
   ]
  },
  {
   "cell_type": "markdown",
   "metadata": {},
   "source": [
    "## 5 USE\n"
   ]
  },
  {
   "cell_type": "markdown",
   "metadata": {},
   "source": [
    "### checkpoint\n"
   ]
  },
  {
   "cell_type": "code",
   "execution_count": 85,
   "metadata": {},
   "outputs": [
    {
     "name": "stdout",
     "output_type": "stream",
     "text": [
      "(47665, 9) \n",
      "\n"
     ]
    }
   ],
   "source": [
    "training_df, test_df = create_top_n_tags_feature(data=raw_data, n=NB_TAGS, slice=1, df_freq=df_freq)\n"
   ]
  },
  {
   "cell_type": "code",
   "execution_count": 86,
   "metadata": {},
   "outputs": [],
   "source": [
    "import tensorflow_hub as hub\n",
    "\n",
    "embed = hub.load(\"https://tfhub.dev/google/universal-sentence-encoder/4\")\n"
   ]
  },
  {
   "cell_type": "code",
   "execution_count": 87,
   "metadata": {},
   "outputs": [],
   "source": [
    "def feature_USE_fct(sentences, b_size) :\n",
    "    batch_size = b_size\n",
    "    time1 = time.time()\n",
    "\n",
    "    num_batches = (len(sentences) + batch_size - 1) // batch_size\n",
    "    for step in range(num_batches):\n",
    "        idx = step*batch_size\n",
    "        feat = embed(sentences[idx:idx+batch_size])\n",
    "\n",
    "        if step ==0 :\n",
    "            features = feat\n",
    "        else :\n",
    "            features = np.concatenate((features,feat))\n",
    "\n",
    "    time2 = np.round(time.time() - time1,0)\n",
    "\n",
    "    return features\n"
   ]
  },
  {
   "cell_type": "code",
   "execution_count": 88,
   "metadata": {},
   "outputs": [
    {
     "name": "stdout",
     "output_type": "stream",
     "text": [
      "42898\n",
      "(42898, 9)\n"
     ]
    }
   ],
   "source": [
    "batch_size = 10\n",
    "sentences = training_df[feature].tolist()\n",
    "\n",
    "print(len(sentences))\n",
    "print(training_df.shape)\n",
    "\n",
    "sentences_test = test_df[feature].tolist()\n"
   ]
  },
  {
   "cell_type": "code",
   "execution_count": 89,
   "metadata": {},
   "outputs": [
    {
     "name": "stderr",
     "output_type": "stream",
     "text": [
      "2024-03-04 12:13:29.367464: I tensorflow/core/common_runtime/executor.cc:1197] [/device:CPU:0] (DEBUG INFO) Executor start aborting (this does not indicate an error and you can ignore this message): INVALID_ARGUMENT: You must feed a value for placeholder tensor 'inputs' with dtype string\n",
      "\t [[{{node inputs}}]]\n"
     ]
    }
   ],
   "source": [
    "features_train_USE = feature_USE_fct(sentences, batch_size)\n"
   ]
  },
  {
   "cell_type": "code",
   "execution_count": 90,
   "metadata": {},
   "outputs": [],
   "source": [
    "features_test_USE = feature_USE_fct(sentences_test, batch_size)\n"
   ]
  },
  {
   "cell_type": "code",
   "execution_count": 91,
   "metadata": {},
   "outputs": [],
   "source": [
    "y_train = training_df[target].tolist()\n",
    "y_test = test_df[target].tolist()\n",
    "\n",
    "mlb, y_train_encoded = train_target_encoding(y_train)\n"
   ]
  },
  {
   "cell_type": "code",
   "execution_count": 92,
   "metadata": {},
   "outputs": [
    {
     "data": {
      "text/plain": [
       "(42898, 50)"
      ]
     },
     "execution_count": 92,
     "metadata": {},
     "output_type": "execute_result"
    }
   ],
   "source": [
    "features_train_USE.shape\n",
    "y_train_encoded.shape\n"
   ]
  },
  {
   "cell_type": "code",
   "execution_count": 93,
   "metadata": {},
   "outputs": [
    {
     "name": "stdout",
     "output_type": "stream",
     "text": [
      "training fini \n",
      "\n",
      "SCORES TAGS (TOKENS) \n",
      "\n",
      "42898\n",
      "42898\n",
      "Jaccard similarity (training set):  0.46159844281784573\n",
      "\n",
      "\n",
      "4767\n",
      "4767\n",
      "Jaccard similarity (testing set):  0.4551010418851827\n"
     ]
    }
   ],
   "source": [
    "# Create an SGDClassifier with default parameters\n",
    "sgd_clf = SGDClassifier(random_state=42, loss='log_loss')  # for logistic regression\n",
    "\n",
    "# Create a MultiOutputClassifier with the SGD classifier\n",
    "multi_output_classifier = MultiOutputClassifier(sgd_clf)\n",
    "\n",
    "# Fit the MultiOutputClassifier to your training data\n",
    "multi_output_classifier.fit(features_train_USE, y_train_encoded)\n",
    "print('training fini', '\\n')\n",
    "\n",
    "predictions_train = multi_output_classifier.predict(features_train_USE)\n",
    "predictions_test = multi_output_classifier.predict(features_test_USE) # feature_bertiser X_test\n",
    "\n",
    "print('SCORES TAGS (TOKENS)', '\\n')\n",
    "\n",
    "predicted_tags_train = mlb.inverse_transform(predictions_train)\n",
    "predicted_tags_test = mlb.inverse_transform(predictions_test)\n",
    "\n",
    "# Evaluate the model on training data using jaccard similarity\n",
    "scorer = jaccard_score\n",
    "print(len(predicted_tags_train))\n",
    "print(len(y_train))\n",
    "score_train = scorer(predicted_tags_train, y_train)\n",
    "print(\"Jaccard similarity (training set): \", score_train)\n",
    "print('\\n')\n",
    "\n",
    "# Evaluate the model on test data\n",
    "print(len(predicted_tags_test))\n",
    "print(len(y_test))\n",
    "score_test = scorer(predicted_tags_test, y_test)\n",
    "print(\"Jaccard similarity (testing set): \", score_test)\n",
    "\n",
    "# wow\n",
    "# puissant\n"
   ]
  },
  {
   "cell_type": "code",
   "execution_count": 94,
   "metadata": {},
   "outputs": [
    {
     "name": "stdout",
     "output_type": "stream",
     "text": [
      "['java', 'android']\n",
      "('android',) \n",
      "\n",
      "['java']\n",
      "() \n",
      "\n",
      "['python', 'mysql', 'django']\n",
      "('django', 'python') \n",
      "\n",
      "['python']\n",
      "('python',) \n",
      "\n",
      "['javascript', 'html']\n",
      "('html', 'javascript', 'jquery') \n",
      "\n",
      "['linux', 'bash']\n",
      "() \n",
      "\n",
      "['c#']\n",
      "('c#',) \n",
      "\n",
      "['c', 'arrays']\n",
      "('arrays',) \n",
      "\n",
      "['linux']\n",
      "() \n",
      "\n",
      "['c#']\n",
      "('c#',) \n",
      "\n",
      "[]\n",
      "() \n",
      "\n",
      "['c#', '.net']\n",
      "('c#',) \n",
      "\n",
      "[]\n",
      "() \n",
      "\n",
      "['c#', '.net']\n",
      "('c#',) \n",
      "\n",
      "[]\n",
      "() \n",
      "\n",
      "['git', 'bash']\n",
      "('git',) \n",
      "\n",
      "['android']\n",
      "('android',) \n",
      "\n",
      "['java']\n",
      "('java',) \n",
      "\n",
      "['javascript', 'jquery', 'html']\n",
      "('css', 'jquery') \n",
      "\n",
      "['python', 'arrays', 'numpy']\n",
      "('arrays',) \n",
      "\n",
      "['c#']\n",
      "('c#',) \n",
      "\n",
      "['css', 'reactjs']\n",
      "('css',) \n",
      "\n",
      "['php']\n",
      "('php',) \n",
      "\n",
      "['android']\n",
      "('android',) \n",
      "\n",
      "['java']\n",
      "() \n",
      "\n",
      "['amazon-web-services']\n",
      "() \n",
      "\n",
      "['c#', '.net']\n",
      "('.net', 'c#') \n",
      "\n",
      "['javascript', 'jquery', 'css', 'html']\n",
      "('css', 'javascript', 'jquery') \n",
      "\n",
      "[]\n",
      "() \n",
      "\n",
      "['java']\n",
      "('java',) \n",
      "\n",
      "['javascript', 'node.js', 'postgresql', 'typescript']\n",
      "('postgresql',) \n",
      "\n"
     ]
    }
   ],
   "source": [
    "for i in range(0, 31):\n",
    "    print(y_test[i])\n",
    "    print(predicted_tags_test[i], '\\n')\n",
    "\n",
    "# Champion... qd il répond, tjs le mm problème\n"
   ]
  },
  {
   "cell_type": "markdown",
   "metadata": {},
   "source": [
    "## Conclusion\n"
   ]
  },
  {
   "cell_type": "code",
   "execution_count": null,
   "metadata": {},
   "outputs": [],
   "source": [
    "# Au final, même si notre objectif correspond typiquement à un problème de\n",
    "# classification multilabels, pour des raisons pratiques je crois que l'idéal ici\n",
    "# (pour éviter les nombreuses prédictions \"vides\") serait\n",
    "# d'utiliser plutôt un régresseur modifié pour toujours générer des réponses.\n",
    "\n",
    "# On peut ensuite, plutôt que d'utiliser la fonction .predict_proba()\n",
    "# (qui donne des résultats souvent \"random\"),\n",
    "# une fonction de recherche des + proches voisins comme celle du knn.\n",
    "\n",
    "# La méthode .kneighbors() du knn contient déjà un algorithme optimisé pour partitionner / parcourir\n",
    "# le dataset efficacement (KD-trees ou Ball trees), rendant bcp + rapide la recherche des voisins.\n"
   ]
  },
  {
   "cell_type": "markdown",
   "metadata": {},
   "source": [
    "## Ressources\n"
   ]
  },
  {
   "cell_type": "code",
   "execution_count": 95,
   "metadata": {},
   "outputs": [],
   "source": [
    "# Word2vec\n",
    "# https://colab.research.google.com/github/futuremojo/nlp-demystified/blob/main/notebooks/nlpdemystified_word_vectors.ipynb#scrollTo=SBQlbyiVY3WJ\n"
   ]
  }
 ],
 "metadata": {
  "kernelspec": {
   "display_name": "myenv_p5",
   "language": "python",
   "name": "python3"
  },
  "language_info": {
   "codemirror_mode": {
    "name": "ipython",
    "version": 3
   },
   "file_extension": ".py",
   "mimetype": "text/x-python",
   "name": "python",
   "nbconvert_exporter": "python",
   "pygments_lexer": "ipython3",
   "version": "3.11.5"
  }
 },
 "nbformat": 4,
 "nbformat_minor": 2
}
