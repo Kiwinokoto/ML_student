{
 "cells": [
  {
   "cell_type": "markdown",
   "metadata": {},
   "source": [
    "## **Catégorisez automatiquement des questions**\n",
    "\n",
    "### partie 4/8 (suite): Prédiction de tags, approche supervisée, sentence embedding\n",
    "\n",
    "#### <br> L'objectif de ce notebook est de découvrir des techniques NLP plus avancées: Word2Vec (peut être remplacé par Doc2Vec), BERT, USE\n",
    "\n",
    "<br>\n"
   ]
  },
  {
   "cell_type": "markdown",
   "metadata": {},
   "source": [
    "## 1 Imports\n"
   ]
  },
  {
   "cell_type": "markdown",
   "metadata": {},
   "source": [
    "### 1.1 Librairies\n"
   ]
  },
  {
   "cell_type": "code",
   "execution_count": 418,
   "metadata": {},
   "outputs": [],
   "source": [
    "#\n",
    "import os\n",
    "import ast\n",
    "from pprint import pprint\n",
    "\n",
    "import gdown\n",
    "import collections\n",
    "import matplotlib.pyplot as plt\n",
    "import numpy as np\n",
    "import pandas as pd\n",
    "import spacy\n",
    "import tensorflow as tf\n",
    "\n",
    "from gensim.models.keyedvectors import KeyedVectors\n",
    "from sklearn.preprocessing import MultiLabelBinarizer\n",
    "from sklearn.decomposition import PCA\n",
    "from sklearn.model_selection import train_test_split\n",
    "from tensorflow import keras\n",
    "from tensorflow.keras import layers\n",
    "\n",
    "import operator\n",
    "from datasets import load_dataset\n",
    "\n",
    "import transformers\n",
    "from transformers import AutoTokenizer\n",
    "from transformers import pipeline\n",
    "from transformers import TFAutoModelForQuestionAnswering\n"
   ]
  },
  {
   "cell_type": "markdown",
   "metadata": {},
   "source": [
    "### Fonctions\n"
   ]
  },
  {
   "cell_type": "code",
   "execution_count": 419,
   "metadata": {},
   "outputs": [],
   "source": [
    "def turn_str_back_into_list(df):\n",
    "    \"\"\"Correct the type change due to .csv export\"\"\"\n",
    "\n",
    "    df['title_nltk'] = df['title_nltk'].apply(ast.literal_eval)\n",
    "    df['body_nltk'] = df['body_nltk'].apply(ast.literal_eval)\n",
    "    df['title_spacy'] = df['title_spacy'].apply(ast.literal_eval)\n",
    "    df['body_spacy'] = df['body_spacy'].apply(ast.literal_eval)\n",
    "    df['all_tags'] = df['all_tags'].apply(ast.literal_eval)\n",
    "\n",
    "\n",
    "df_freq = pd.DataFrame()\n",
    "\n",
    "def keep_most_frequent_tags(list_tags, df_freq=df_freq, lim=100):\n",
    "    \"\"\"\n",
    "    Keep only the n most frequent tags (default 100).\n",
    "\n",
    "    Parameters:\n",
    "    - liste_tokens (list): The input list of tokens to be processed.\n",
    "    - forbidden_list (set): A set of forbidden tokens, which includes stop words,\n",
    "      tokens exceeding upper frequency limits, and tokens falling below lower frequency limits.\n",
    "\n",
    "    Returns:\n",
    "    list: A filtered list of tokens that excludes stop words, tokens exceeding upper frequency limits,\n",
    "    and tokens falling below lower frequency limits.\n",
    "    \"\"\"\n",
    "\n",
    "    mandatory_list = df_freq['Tag'][:lim].tolist()\n",
    "    filtered_list = [token for token in list_tags if token in mandatory_list]\n",
    "\n",
    "    return filtered_list\n",
    "\n",
    "\n",
    "def create_top_n_tags_feature(data, n=100, slice=1, df_freq=df_freq):\n",
    "    data[f'top_tags_{n}'] = data['all_tags'].apply(\n",
    "        lambda x: keep_most_frequent_tags(x, df_freq=df_freq, lim=n)\n",
    "    )\n",
    "\n",
    "    data = data.loc[data[f'top_tags_{n}'].apply(len) >= 0, :].copy()\n",
    "    print(data.shape, '\\n')\n",
    "\n",
    "    slice_df = data[::slice]\n",
    "    # slice_df.reset_index(drop=True, inplace=True)\n",
    "\n",
    "    # stratify ?\n",
    "    train_df, test_df = train_test_split(slice_df, test_size=0.1, random_state=42)\n",
    "\n",
    "    train_df.reset_index(drop=True, inplace=True)\n",
    "    test_df.reset_index(drop=True, inplace=True)\n",
    "\n",
    "\n",
    "    return train_df, test_df\n",
    "\n"
   ]
  },
  {
   "cell_type": "markdown",
   "metadata": {},
   "source": [
    "### Data\n"
   ]
  },
  {
   "cell_type": "code",
   "execution_count": 420,
   "metadata": {},
   "outputs": [
    {
     "data": {
      "text/html": [
       "<div>\n",
       "<style scoped>\n",
       "    .dataframe tbody tr th:only-of-type {\n",
       "        vertical-align: middle;\n",
       "    }\n",
       "\n",
       "    .dataframe tbody tr th {\n",
       "        vertical-align: top;\n",
       "    }\n",
       "\n",
       "    .dataframe thead th {\n",
       "        text-align: right;\n",
       "    }\n",
       "</style>\n",
       "<table border=\"1\" class=\"dataframe\">\n",
       "  <thead>\n",
       "    <tr style=\"text-align: right;\">\n",
       "      <th></th>\n",
       "      <th>CreationDate</th>\n",
       "      <th>title</th>\n",
       "      <th>body</th>\n",
       "      <th>all_tags</th>\n",
       "      <th>title_nltk</th>\n",
       "      <th>body_nltk</th>\n",
       "      <th>title_spacy</th>\n",
       "      <th>body_spacy</th>\n",
       "    </tr>\n",
       "  </thead>\n",
       "  <tbody>\n",
       "    <tr>\n",
       "      <th>47660</th>\n",
       "      <td>2011-05-23 22:22:56</td>\n",
       "      <td>How can I send a file document to the printer ...</td>\n",
       "      <td>Here's the basic premise:\\nMy user clicks some...</td>\n",
       "      <td>[c#, winforms, pdf, .net-4.0, printing]</td>\n",
       "      <td>[send, file, document, printer, print]</td>\n",
       "      <td>[send, file, document, printer, print, premise...</td>\n",
       "      <td>[send, file, document, printer, print]</td>\n",
       "      <td>[premise, user, click, file, spit, desktop, wa...</td>\n",
       "    </tr>\n",
       "    <tr>\n",
       "      <th>47661</th>\n",
       "      <td>2011-05-23 21:15:51</td>\n",
       "      <td>CA1014 Mark 'some.dll' with CLSCompliant(true)...</td>\n",
       "      <td>When I run StyleCop, I got this error message ...</td>\n",
       "      <td>[visual-studio, visual-studio-2010, dll, style...</td>\n",
       "      <td>[mark, dll, error, message, vs2010]</td>\n",
       "      <td>[mark, dll, error, message, vs2010, run, get, ...</td>\n",
       "      <td>[error, message]</td>\n",
       "      <td>[run, error, message, need, mark, dll, set, dl...</td>\n",
       "    </tr>\n",
       "    <tr>\n",
       "      <th>47662</th>\n",
       "      <td>2011-05-23 21:05:59</td>\n",
       "      <td>How to change a text file's name in C++?</td>\n",
       "      <td>I would like to change a txt file's name, but ...</td>\n",
       "      <td>[c++, algorithm, file, directory, file-rename]</td>\n",
       "      <td>[change, text, file, name, c]</td>\n",
       "      <td>[change, text, file, name, c, like, change, tx...</td>\n",
       "      <td>[change, text, file]</td>\n",
       "      <td>[like, change, txt, file, find, example, want,...</td>\n",
       "    </tr>\n",
       "    <tr>\n",
       "      <th>47663</th>\n",
       "      <td>2011-05-23 20:06:35</td>\n",
       "      <td>php implode (101) with quotes</td>\n",
       "      <td>Imploding  a simple array \\nwould look like th...</td>\n",
       "      <td>[php, arrays, string, csv, implode]</td>\n",
       "      <td>[php, quote]</td>\n",
       "      <td>[php, quote, array, look, array, array, lastna...</td>\n",
       "      <td>[quote]</td>\n",
       "      <td>[implode, array, look, array, email, phone, ar...</td>\n",
       "    </tr>\n",
       "    <tr>\n",
       "      <th>47664</th>\n",
       "      <td>2011-05-23 20:00:57</td>\n",
       "      <td>What characters are allowed in a iOS file name?</td>\n",
       "      <td>I'm looking for a way to make sure a string ca...</td>\n",
       "      <td>[ios, file, filenames, character-encoding, nsf...</td>\n",
       "      <td>[character, allow, file, name]</td>\n",
       "      <td>[character, allow, file, name, look, way, make...</td>\n",
       "      <td>[character, allow, file]</td>\n",
       "      <td>[look, way, string, file, section, code, delet...</td>\n",
       "    </tr>\n",
       "  </tbody>\n",
       "</table>\n",
       "</div>"
      ],
      "text/plain": [
       "              CreationDate                                              title  \\\n",
       "47660  2011-05-23 22:22:56  How can I send a file document to the printer ...   \n",
       "47661  2011-05-23 21:15:51  CA1014 Mark 'some.dll' with CLSCompliant(true)...   \n",
       "47662  2011-05-23 21:05:59           How to change a text file's name in C++?   \n",
       "47663  2011-05-23 20:06:35                      php implode (101) with quotes   \n",
       "47664  2011-05-23 20:00:57    What characters are allowed in a iOS file name?   \n",
       "\n",
       "                                                    body  \\\n",
       "47660  Here's the basic premise:\\nMy user clicks some...   \n",
       "47661  When I run StyleCop, I got this error message ...   \n",
       "47662  I would like to change a txt file's name, but ...   \n",
       "47663  Imploding  a simple array \\nwould look like th...   \n",
       "47664  I'm looking for a way to make sure a string ca...   \n",
       "\n",
       "                                                all_tags  \\\n",
       "47660            [c#, winforms, pdf, .net-4.0, printing]   \n",
       "47661  [visual-studio, visual-studio-2010, dll, style...   \n",
       "47662     [c++, algorithm, file, directory, file-rename]   \n",
       "47663                [php, arrays, string, csv, implode]   \n",
       "47664  [ios, file, filenames, character-encoding, nsf...   \n",
       "\n",
       "                                   title_nltk  \\\n",
       "47660  [send, file, document, printer, print]   \n",
       "47661     [mark, dll, error, message, vs2010]   \n",
       "47662           [change, text, file, name, c]   \n",
       "47663                            [php, quote]   \n",
       "47664          [character, allow, file, name]   \n",
       "\n",
       "                                               body_nltk  \\\n",
       "47660  [send, file, document, printer, print, premise...   \n",
       "47661  [mark, dll, error, message, vs2010, run, get, ...   \n",
       "47662  [change, text, file, name, c, like, change, tx...   \n",
       "47663  [php, quote, array, look, array, array, lastna...   \n",
       "47664  [character, allow, file, name, look, way, make...   \n",
       "\n",
       "                                  title_spacy  \\\n",
       "47660  [send, file, document, printer, print]   \n",
       "47661                        [error, message]   \n",
       "47662                    [change, text, file]   \n",
       "47663                                 [quote]   \n",
       "47664                [character, allow, file]   \n",
       "\n",
       "                                              body_spacy  \n",
       "47660  [premise, user, click, file, spit, desktop, wa...  \n",
       "47661  [run, error, message, need, mark, dll, set, dl...  \n",
       "47662  [like, change, txt, file, find, example, want,...  \n",
       "47663  [implode, array, look, array, email, phone, ar...  \n",
       "47664  [look, way, string, file, section, code, delet...  "
      ]
     },
     "metadata": {},
     "output_type": "display_data"
    },
    {
     "name": "stdout",
     "output_type": "stream",
     "text": [
      "(47665, 8)\n"
     ]
    }
   ],
   "source": [
    "raw_data = pd.read_csv('./../0_data/cleaned_data/bow_classic.csv', sep=',')\n",
    "\n",
    "turn_str_back_into_list(raw_data)\n",
    "\n",
    "display(raw_data.tail())\n",
    "\n",
    "print(raw_data.shape)\n"
   ]
  },
  {
   "cell_type": "code",
   "execution_count": 421,
   "metadata": {},
   "outputs": [
    {
     "name": "stdout",
     "output_type": "stream",
     "text": [
      "Il y a 238327 tags au total. \n",
      "\n",
      "Il y a 15817 tags différents. \n",
      "\n"
     ]
    }
   ],
   "source": [
    "all_tags = [tag for tags in raw_data['all_tags'] for tag in tags]\n",
    "print(f'Il y a {len(all_tags)} tags au total. \\n')\n",
    "print(f'Il y a {len(set(all_tags))} tags différents. \\n')\n",
    "\n",
    "# display(questions_tags)\n",
    "\n",
    "# Fréquence\n",
    "tag_frequencies_dict = {}\n",
    "for tag in all_tags:\n",
    "    tag_frequencies_dict[tag] = tag_frequencies_dict.get(tag, 0) + 1\n",
    "\n",
    "# Sort the dictionary items by values in descending order\n",
    "sorted_tag_frequencies = dict(sorted(tag_frequencies_dict.items(), key=lambda item: item[1], reverse=True))\n",
    "\n",
    "# Extract tags and frequencies\n",
    "tags = list(sorted_tag_frequencies.keys())\n",
    "frequencies = list(sorted_tag_frequencies.values())\n",
    "\n",
    "df_freq = pd.DataFrame({'Tag': tags, 'Frequency': frequencies})\n"
   ]
  },
  {
   "cell_type": "code",
   "execution_count": 422,
   "metadata": {},
   "outputs": [
    {
     "name": "stdout",
     "output_type": "stream",
     "text": [
      "(47665, 9) \n",
      "\n",
      "(42898, 9)\n"
     ]
    },
    {
     "data": {
      "text/html": [
       "<div>\n",
       "<style scoped>\n",
       "    .dataframe tbody tr th:only-of-type {\n",
       "        vertical-align: middle;\n",
       "    }\n",
       "\n",
       "    .dataframe tbody tr th {\n",
       "        vertical-align: top;\n",
       "    }\n",
       "\n",
       "    .dataframe thead th {\n",
       "        text-align: right;\n",
       "    }\n",
       "</style>\n",
       "<table border=\"1\" class=\"dataframe\">\n",
       "  <thead>\n",
       "    <tr style=\"text-align: right;\">\n",
       "      <th></th>\n",
       "      <th>CreationDate</th>\n",
       "      <th>title</th>\n",
       "      <th>body</th>\n",
       "      <th>all_tags</th>\n",
       "      <th>title_nltk</th>\n",
       "      <th>body_nltk</th>\n",
       "      <th>title_spacy</th>\n",
       "      <th>body_spacy</th>\n",
       "      <th>top_tags_30</th>\n",
       "    </tr>\n",
       "  </thead>\n",
       "  <tbody>\n",
       "    <tr>\n",
       "      <th>0</th>\n",
       "      <td>2019-06-05 15:13:02</td>\n",
       "      <td>How to use memset while handling strings in C++?</td>\n",
       "      <td>I am from Python background and recently learn...</td>\n",
       "      <td>[c++, initialization, c-strings, string-litera...</td>\n",
       "      <td>[memset, handle, string, c]</td>\n",
       "      <td>[memset, handle, string, c, python, background...</td>\n",
       "      <td>[use, memset, handle, string]</td>\n",
       "      <td>[background, learn, learn, function, memset, f...</td>\n",
       "      <td>[c++]</td>\n",
       "    </tr>\n",
       "    <tr>\n",
       "      <th>1</th>\n",
       "      <td>2018-10-31 12:35:02</td>\n",
       "      <td>How to correct spelling in google docs using k...</td>\n",
       "      <td>I would like to be able to replace a misspelle...</td>\n",
       "      <td>[gmail, keyboard-shortcuts, google-docs, short...</td>\n",
       "      <td>[correct, spell, google, doc, keyboard, shortcut]</td>\n",
       "      <td>[correct, spell, google, doc, shortcut, like, ...</td>\n",
       "      <td>[correct, spelling, keyboard, shortcut]</td>\n",
       "      <td>[like, replace, word, recommend, correction, k...</td>\n",
       "      <td>[]</td>\n",
       "    </tr>\n",
       "    <tr>\n",
       "      <th>2</th>\n",
       "      <td>2020-09-19 10:40:23</td>\n",
       "      <td>live server vscode on another computer</td>\n",
       "      <td>I have 2 computers. when I open the project wi...</td>\n",
       "      <td>[visual-studio-code, server, localhost, ip, live]</td>\n",
       "      <td>[server, vscode, computer]</td>\n",
       "      <td>[server, vscode, computer, computer, open, pro...</td>\n",
       "      <td>[server, vscode, computer]</td>\n",
       "      <td>[computer, open, project, server, url, want, u...</td>\n",
       "      <td>[]</td>\n",
       "    </tr>\n",
       "    <tr>\n",
       "      <th>3</th>\n",
       "      <td>2012-10-23 16:47:04</td>\n",
       "      <td>django ajax post 403 forbidden</td>\n",
       "      <td>using django 1.4 im getting a 403 error when i...</td>\n",
       "      <td>[javascript, ajax, django, http-post, http-sta...</td>\n",
       "      <td>[django, ajax, forbidden]</td>\n",
       "      <td>[django, ajax, im, get, error, try, post, java...</td>\n",
       "      <td>[forbid]</td>\n",
       "      <td>[django, error, try, post, javascript, django,...</td>\n",
       "      <td>[javascript]</td>\n",
       "    </tr>\n",
       "    <tr>\n",
       "      <th>4</th>\n",
       "      <td>2019-04-21 16:10:24</td>\n",
       "      <td>Listen to changes and reload container on code...</td>\n",
       "      <td>I am using docker-compose in visual studio 201...</td>\n",
       "      <td>[angular, visual-studio, docker, docker-compos...</td>\n",
       "      <td>[listen, change, reload, container, code, chan...</td>\n",
       "      <td>[listen, change, reload, container, code, chan...</td>\n",
       "      <td>[listen, change, reload, container, code, chan...</td>\n",
       "      <td>[docker, compose, studio, docker, window, run,...</td>\n",
       "      <td>[]</td>\n",
       "    </tr>\n",
       "  </tbody>\n",
       "</table>\n",
       "</div>"
      ],
      "text/plain": [
       "          CreationDate                                              title  \\\n",
       "0  2019-06-05 15:13:02   How to use memset while handling strings in C++?   \n",
       "1  2018-10-31 12:35:02  How to correct spelling in google docs using k...   \n",
       "2  2020-09-19 10:40:23             live server vscode on another computer   \n",
       "3  2012-10-23 16:47:04                     django ajax post 403 forbidden   \n",
       "4  2019-04-21 16:10:24  Listen to changes and reload container on code...   \n",
       "\n",
       "                                                body  \\\n",
       "0  I am from Python background and recently learn...   \n",
       "1  I would like to be able to replace a misspelle...   \n",
       "2  I have 2 computers. when I open the project wi...   \n",
       "3  using django 1.4 im getting a 403 error when i...   \n",
       "4  I am using docker-compose in visual studio 201...   \n",
       "\n",
       "                                            all_tags  \\\n",
       "0  [c++, initialization, c-strings, string-litera...   \n",
       "1  [gmail, keyboard-shortcuts, google-docs, short...   \n",
       "2  [visual-studio-code, server, localhost, ip, live]   \n",
       "3  [javascript, ajax, django, http-post, http-sta...   \n",
       "4  [angular, visual-studio, docker, docker-compos...   \n",
       "\n",
       "                                          title_nltk  \\\n",
       "0                        [memset, handle, string, c]   \n",
       "1  [correct, spell, google, doc, keyboard, shortcut]   \n",
       "2                         [server, vscode, computer]   \n",
       "3                          [django, ajax, forbidden]   \n",
       "4  [listen, change, reload, container, code, chan...   \n",
       "\n",
       "                                           body_nltk  \\\n",
       "0  [memset, handle, string, c, python, background...   \n",
       "1  [correct, spell, google, doc, shortcut, like, ...   \n",
       "2  [server, vscode, computer, computer, open, pro...   \n",
       "3  [django, ajax, im, get, error, try, post, java...   \n",
       "4  [listen, change, reload, container, code, chan...   \n",
       "\n",
       "                                         title_spacy  \\\n",
       "0                      [use, memset, handle, string]   \n",
       "1            [correct, spelling, keyboard, shortcut]   \n",
       "2                         [server, vscode, computer]   \n",
       "3                                           [forbid]   \n",
       "4  [listen, change, reload, container, code, chan...   \n",
       "\n",
       "                                          body_spacy   top_tags_30  \n",
       "0  [background, learn, learn, function, memset, f...         [c++]  \n",
       "1  [like, replace, word, recommend, correction, k...            []  \n",
       "2  [computer, open, project, server, url, want, u...            []  \n",
       "3  [django, error, try, post, javascript, django,...  [javascript]  \n",
       "4  [docker, compose, studio, docker, window, run,...            []  "
      ]
     },
     "metadata": {},
     "output_type": "display_data"
    }
   ],
   "source": [
    "NB_TAGS = 30\n",
    "\n",
    "train_df, test_df = create_top_n_tags_feature(data=raw_data, n=NB_TAGS, slice=1, df_freq=df_freq)\n",
    "\n",
    "print(train_df.shape)\n",
    "\n",
    "display(train_df.head())\n"
   ]
  },
  {
   "cell_type": "markdown",
   "metadata": {},
   "source": [
    "## 2 Static embedding : word vectors\n"
   ]
  },
  {
   "cell_type": "markdown",
   "metadata": {},
   "source": [
    "### 2.1 Using Pretrained, Third-Party Vectors\n"
   ]
  },
  {
   "cell_type": "code",
   "execution_count": 423,
   "metadata": {},
   "outputs": [
    {
     "name": "stdout",
     "output_type": "stream",
     "text": [
      "File already exists.\n"
     ]
    }
   ],
   "source": [
    "# 3 possibiltés :\n",
    "\n",
    "# - utiliser une modèle préentrainé\n",
    "# - utiliser une modèle préentrainé, en le tunant sur nos données\n",
    "# - faire notre propre encodage\n",
    "\n",
    "# a priori le plus intéressant pour nous est d'utiliser un modèle entrainé sur avec des ressources\n",
    "# très supérieures aux notres, on va donc se concentrer sur les 2 premières possibilités\n",
    "# (modèle préentrainé)\n",
    "\n",
    "\n",
    "# Destination path where the file will be saved\n",
    "output = \"GoogleNews-vectors-negative300.bin.gz\"\n",
    "\n",
    "# Check if the file already exists\n",
    "if not os.path.exists(output):\n",
    "    # URL of the file in Google Drive\n",
    "    url = \"https://drive.google.com/uc?id=1BpfbHu4denceXiv8yfdY3EHgjKIcULku\"\n",
    "\n",
    "    # Download the file from Google Drive\n",
    "    gdown.download(url, quiet=False)\n",
    "    print(\"File downloaded successfully.\")\n",
    "else:\n",
    "    print(\"File already exists.\")\n"
   ]
  },
  {
   "cell_type": "code",
   "execution_count": 424,
   "metadata": {},
   "outputs": [],
   "source": [
    "word_vectors = KeyedVectors.load_word2vec_format(output, binary=True, limit=200000)\n"
   ]
  },
  {
   "cell_type": "markdown",
   "metadata": {},
   "source": [
    "### 2.2 What a word vector looks like\n"
   ]
  },
  {
   "cell_type": "code",
   "execution_count": 425,
   "metadata": {},
   "outputs": [
    {
     "name": "stdout",
     "output_type": "stream",
     "text": [
      "Vector dimension: (300,)\n",
      "[-1.25976562e-01  2.53906250e-02  1.66992188e-01  5.50781250e-01\n",
      " -7.66601562e-02  1.28906250e-01  1.02539062e-01 -3.94821167e-04\n",
      "  1.21582031e-01  4.32128906e-02  1.72851562e-01 -6.83593750e-02\n",
      "  3.41796875e-01  8.39843750e-02  6.68945312e-02  2.67578125e-01\n",
      " -3.71093750e-02 -5.56640625e-02  1.80664062e-01  1.90429688e-02\n",
      " -5.07812500e-02  9.03320312e-03  1.76757812e-01  6.49414062e-02\n",
      " -6.25000000e-02 -9.42382812e-02 -9.71679688e-02  4.00390625e-01\n",
      "  1.15234375e-01  1.02539062e-01 -1.86767578e-02 -2.69531250e-01\n",
      "  1.80664062e-01  1.25000000e-01 -3.17382812e-02 -5.49316406e-02\n",
      "  3.45703125e-01 -1.57470703e-02  1.82390213e-05  2.07031250e-01\n",
      " -1.25976562e-01 -2.83203125e-01  2.00195312e-01  8.34960938e-02\n",
      " -4.73632812e-02 -3.11279297e-02 -2.61718750e-01  1.69921875e-01\n",
      " -2.02636719e-02  1.53320312e-01 -1.20605469e-01  3.75000000e-01\n",
      " -5.68847656e-02 -4.76074219e-03 -1.95312500e-01 -2.03125000e-01\n",
      "  3.00781250e-01 -1.01074219e-01 -3.18359375e-01 -9.03320312e-02\n",
      " -1.19140625e-01  1.95312500e-01 -8.78906250e-02  1.58203125e-01\n",
      "  1.51977539e-02 -1.60156250e-01 -3.30078125e-01 -4.66796875e-01\n",
      "  1.68945312e-01  2.23388672e-02  1.55273438e-01  1.08398438e-01\n",
      " -3.56445312e-02  9.13085938e-02 -8.69140625e-02 -1.20117188e-01\n",
      " -3.08593750e-01 -2.61230469e-02 -7.22656250e-02 -4.80468750e-01\n",
      "  3.78417969e-02 -1.35742188e-01 -1.02539062e-01 -2.91015625e-01\n",
      " -1.93359375e-01 -4.21875000e-01 -1.06445312e-01  3.55468750e-01\n",
      "  1.66992188e-01 -3.63159180e-03 -7.42187500e-02 -3.22265625e-01\n",
      " -7.51953125e-02 -8.25195312e-02 -2.91015625e-01 -1.25976562e-01\n",
      "  1.68457031e-02  5.00488281e-02  1.27929688e-01 -7.42187500e-02\n",
      " -1.30859375e-01 -2.46093750e-01  6.49414062e-02  1.53320312e-01\n",
      "  2.59765625e-01 -1.05468750e-01  3.57421875e-01 -4.29687500e-02\n",
      " -1.58203125e-01  8.20312500e-02 -5.98144531e-02 -2.34375000e-01\n",
      " -3.22265625e-01 -1.25976562e-01  5.39550781e-02 -1.87500000e-01\n",
      "  1.35742188e-01 -6.59179688e-02  8.36181641e-03 -1.84570312e-01\n",
      " -2.96875000e-01 -1.84570312e-01 -4.73632812e-02 -1.06445312e-01\n",
      " -6.93359375e-02  3.83300781e-02 -3.19824219e-02  3.63769531e-02\n",
      " -1.20117188e-01  1.76757812e-01 -1.15722656e-01  1.98974609e-02\n",
      "  8.64257812e-02  6.07910156e-02 -1.40625000e-01  3.30078125e-01\n",
      "  1.94335938e-01 -1.56250000e-01  3.92578125e-01  1.80816650e-03\n",
      "  7.27539062e-02 -2.53906250e-01 -3.54003906e-02  2.86865234e-03\n",
      " -1.72851562e-01  9.76562500e-03 -1.55639648e-02  3.23486328e-03\n",
      " -1.69921875e-01  1.55273438e-01  7.17773438e-02  4.10156250e-01\n",
      " -2.10937500e-01  1.31835938e-01  7.62939453e-03  4.78515625e-02\n",
      " -4.54101562e-02  7.32421875e-02 -4.06250000e-01 -2.06298828e-02\n",
      " -4.04296875e-01 -1.00585938e-01 -2.03125000e-01  1.55273438e-01\n",
      " -1.89453125e-01  6.59179688e-02  6.54296875e-02 -2.05078125e-01\n",
      "  5.46875000e-02 -3.06396484e-02 -1.54296875e-01 -2.61718750e-01\n",
      "  3.81469727e-03 -8.20312500e-02 -3.20312500e-01  2.84423828e-02\n",
      "  2.69531250e-01  1.73828125e-01 -1.66992188e-01  2.22656250e-01\n",
      "  6.34765625e-02 -1.96289062e-01  1.45507812e-01 -1.56250000e-02\n",
      "  2.60009766e-02 -6.29882812e-02  2.94189453e-02  3.28125000e-01\n",
      " -4.68750000e-02 -1.52343750e-01  6.98242188e-02  3.18359375e-01\n",
      " -1.08398438e-01  3.66210938e-02 -1.99218750e-01  1.64031982e-03\n",
      "  6.40869141e-03 -1.47460938e-01 -6.25000000e-02 -4.36401367e-03\n",
      " -2.75390625e-01  8.54492188e-02 -5.00488281e-02 -3.12500000e-01\n",
      " -1.33789062e-01 -1.99218750e-01  5.17578125e-02 -9.27734375e-02\n",
      " -2.40234375e-01 -7.86132812e-02 -1.54296875e-01 -6.64062500e-02\n",
      " -1.97265625e-01  1.76757812e-01 -1.57226562e-01 -1.63085938e-01\n",
      "  6.00585938e-02 -5.85937500e-02 -2.22656250e-01 -6.59179688e-02\n",
      " -9.37500000e-02 -4.14062500e-01  2.55859375e-01 -1.76757812e-01\n",
      "  2.51953125e-01  1.48437500e-01 -1.04492188e-01 -8.60595703e-03\n",
      " -1.22558594e-01 -9.22851562e-02  4.41894531e-02 -1.70898438e-01\n",
      " -1.98242188e-01  1.92382812e-01  2.85156250e-01 -4.34570312e-02\n",
      "  1.08398438e-01 -5.37109375e-02 -2.09960938e-02  1.46484375e-01\n",
      "  3.82812500e-01  2.31933594e-02 -8.83789062e-02  7.32421875e-02\n",
      " -1.01074219e-01 -1.06445312e-01  4.12109375e-01  2.10937500e-01\n",
      "  2.79296875e-01 -2.08740234e-02  2.07031250e-01  9.81445312e-02\n",
      "  2.39257812e-01  7.66601562e-02  2.02148438e-01 -6.07910156e-02\n",
      " -2.63977051e-03 -1.83593750e-01 -1.57470703e-02 -3.20312500e-01\n",
      "  9.03320312e-02  1.02050781e-01 -4.96093750e-01 -9.71679688e-02\n",
      " -8.10546875e-02 -1.80664062e-01 -1.45507812e-01  8.64257812e-02\n",
      " -2.04101562e-01 -2.02148438e-01 -5.46875000e-02  2.53906250e-01\n",
      "  2.08740234e-02 -1.15722656e-01  2.02148438e-01 -8.05664062e-02\n",
      " -1.04980469e-01 -7.95898438e-02  1.96533203e-02 -2.49023438e-01\n",
      "  1.30859375e-01  2.89062500e-01 -2.25585938e-01  4.55078125e-01\n",
      " -2.73437500e-01 -2.57812500e-01 -3.14941406e-02  4.04296875e-01\n",
      " -2.67578125e-01  2.89062500e-01 -1.83593750e-01 -1.48437500e-01\n",
      " -1.06933594e-01  1.27929688e-01  5.46875000e-01 -8.69140625e-02\n",
      " -1.48315430e-02  6.98242188e-02 -8.49609375e-02 -1.55273438e-01]\n"
     ]
    }
   ],
   "source": [
    "pizza = word_vectors['pizza']\n",
    "print(f'Vector dimension: {pizza.shape}')\n",
    "\n",
    "# The embedding for the word 'pizza'.\n",
    "print(pizza)\n"
   ]
  },
  {
   "cell_type": "markdown",
   "metadata": {},
   "source": [
    "### 2.3 compare two words\n"
   ]
  },
  {
   "cell_type": "code",
   "execution_count": 426,
   "metadata": {},
   "outputs": [
    {
     "name": "stdout",
     "output_type": "stream",
     "text": [
      "0.35505623\n",
      "0.3695989\n",
      "0.4708358\n"
     ]
    }
   ],
   "source": [
    "# Appétissant !\n",
    "\n",
    "print(word_vectors.similarity('pizza', 'tomato'))\n",
    "print(word_vectors.similarity('pizza', 'sauce'))\n",
    "print(word_vectors.similarity('pizza', 'cheese'))\n",
    "\n",
    "# Knew it ! Cheese is the most important. It's scientifically proven.\n"
   ]
  },
  {
   "cell_type": "code",
   "execution_count": 427,
   "metadata": {},
   "outputs": [
    {
     "name": "stdout",
     "output_type": "stream",
     "text": [
      "0.108518735\n",
      "0.11185603\n",
      "0.14119942\n"
     ]
    }
   ],
   "source": [
    "print(word_vectors.similarity('pizza', 'gorilla'))\n",
    "print(word_vectors.similarity('pizza', 'tree'))\n",
    "print(word_vectors.similarity('pizza', 'yoga'))\n",
    "\n",
    "# So pizza has more to do with trees than gorillas ?\n"
   ]
  },
  {
   "cell_type": "code",
   "execution_count": 428,
   "metadata": {},
   "outputs": [
    {
     "name": "stdout",
     "output_type": "stream",
     "text": [
      "0.549539\n",
      "0.12199123\n",
      "0.33437246\n",
      "0.23539218\n"
     ]
    }
   ],
   "source": [
    "# On our data\n",
    "\n",
    "print(word_vectors.similarity('html', 'javascript'))\n",
    "print(word_vectors.similarity('python', 'javascript'))\n",
    "print(word_vectors.similarity('java', 'javascript')) # bien vu !\n",
    "print(word_vectors.similarity('html', 'android'))\n"
   ]
  },
  {
   "cell_type": "markdown",
   "metadata": {},
   "source": [
    "### 2.4 OOV\n"
   ]
  },
  {
   "cell_type": "code",
   "execution_count": 429,
   "metadata": {},
   "outputs": [
    {
     "name": "stdout",
     "output_type": "stream",
     "text": [
      "\"Key 'womblyboo' not present\"\n"
     ]
    }
   ],
   "source": [
    "try:\n",
    "  word_vectors['womblyboo']\n",
    "except KeyError as e:\n",
    "  print(e)\n",
    "\n",
    "#\n"
   ]
  },
  {
   "cell_type": "markdown",
   "metadata": {},
   "source": [
    "### 2.5 Compare two sentences\n"
   ]
  },
  {
   "cell_type": "code",
   "execution_count": 430,
   "metadata": {},
   "outputs": [
    {
     "data": {
      "text/plain": [
       "0.5314661"
      ]
     },
     "execution_count": 430,
     "metadata": {},
     "output_type": "execute_result"
    }
   ],
   "source": [
    "word_vectors.n_similarity(\"dog bites man\".split(), \"canine nips human\".split())\n"
   ]
  },
  {
   "cell_type": "code",
   "execution_count": 431,
   "metadata": {},
   "outputs": [
    {
     "data": {
      "text/plain": [
       "0.14505778"
      ]
     },
     "execution_count": 431,
     "metadata": {},
     "output_type": "execute_result"
    }
   ],
   "source": [
    "word_vectors.n_similarity(\"martian dolphins are hostile\".split(), \"i flunked calligraphy school\".split())\n"
   ]
  },
  {
   "cell_type": "code",
   "execution_count": 432,
   "metadata": {},
   "outputs": [
    {
     "data": {
      "text/plain": [
       "1.0"
      ]
     },
     "execution_count": 432,
     "metadata": {},
     "output_type": "execute_result"
    }
   ],
   "source": [
    "word_vectors.n_similarity(\"dog bites man\".split(), \"man bites dog\".split())\n",
    "# Same\n"
   ]
  },
  {
   "cell_type": "code",
   "execution_count": 433,
   "metadata": {},
   "outputs": [
    {
     "data": {
      "text/plain": [
       "0.52682734"
      ]
     },
     "execution_count": 433,
     "metadata": {},
     "output_type": "execute_result"
    }
   ],
   "source": [
    "s1 = \"Volkswagen intends to double electric car sales in China\".lower().split()\n",
    "s2 = \"First Toyota with solid state battery will be hybrid\".lower().split()\n",
    "word_vectors.n_similarity(s1, s2)\n"
   ]
  },
  {
   "cell_type": "code",
   "execution_count": 434,
   "metadata": {},
   "outputs": [
    {
     "name": "stdout",
     "output_type": "stream",
     "text": [
      "Didn't find class \"com.google.firebase.provider.FirebaseInitProvider\"\n",
      "Why do I get `java.lang.NoClassDefFoundError: scala/Function1` when I run my code in ScalaIDE?\n"
     ]
    },
    {
     "data": {
      "text/plain": [
       "0.97507775"
      ]
     },
     "execution_count": 434,
     "metadata": {},
     "output_type": "execute_result"
    }
   ],
   "source": [
    "# Test on our data\n",
    "\n",
    "s1 = test_df['title'][0]\n",
    "print(s1)\n",
    "s2 = test_df['title'][1]\n",
    "print(s2)\n",
    "\n",
    "word_vectors.n_similarity(s1, s2)\n"
   ]
  },
  {
   "cell_type": "markdown",
   "metadata": {},
   "source": [
    "### 2.6 most_similar, doesnt_match\n"
   ]
  },
  {
   "cell_type": "code",
   "execution_count": 435,
   "metadata": {},
   "outputs": [
    {
     "data": {
      "text/plain": [
       "[('cells', 0.8180485963821411),\n",
       " ('Cells', 0.6146953105926514),\n",
       " ('Cell', 0.532131552696228),\n",
       " ('cellular', 0.5272858738899231),\n",
       " ('tumor_cells', 0.5097642540931702),\n",
       " ('ES_cells', 0.4866572618484497),\n",
       " ('immune_cells', 0.48319193720817566),\n",
       " ('epithelial_cells', 0.4781806468963623),\n",
       " ('molecule', 0.47757473587989807),\n",
       " ('proteins', 0.47494736313819885)]"
      ]
     },
     "execution_count": 435,
     "metadata": {},
     "output_type": "execute_result"
    }
   ],
   "source": [
    "word_vectors.most_similar(positive=['cell'], topn=10)\n"
   ]
  },
  {
   "cell_type": "code",
   "execution_count": 436,
   "metadata": {},
   "outputs": [
    {
     "data": {
      "text/plain": [
       "[('cell_phone', 0.6861390471458435),\n",
       " ('cellular', 0.6757438778877258),\n",
       " ('cellphone', 0.6633196473121643),\n",
       " ('telephone', 0.6474040150642395),\n",
       " ('Phone', 0.6051893830299377),\n",
       " ('phones', 0.5896332859992981),\n",
       " ('cells', 0.5850948095321655),\n",
       " ('cordless_phone', 0.5711769461631775),\n",
       " ('Cell', 0.561764121055603),\n",
       " ('landline', 0.546729564666748)]"
      ]
     },
     "execution_count": 436,
     "metadata": {},
     "output_type": "execute_result"
    }
   ],
   "source": [
    "word_vectors.most_similar(positive=['cell', 'phone'], topn=10)\n"
   ]
  },
  {
   "cell_type": "code",
   "execution_count": 437,
   "metadata": {},
   "outputs": [
    {
     "data": {
      "text/plain": [
       "'hamburger'"
      ]
     },
     "execution_count": 437,
     "metadata": {},
     "output_type": "execute_result"
    }
   ],
   "source": [
    "# doublt we'll use this one, but funny :\n",
    "\n",
    "word_vectors.doesnt_match([\"apple\", \"orange\", \"hamburger\", \"banana\", \"kiwi\"])\n"
   ]
  },
  {
   "cell_type": "code",
   "execution_count": 438,
   "metadata": {},
   "outputs": [
    {
     "data": {
      "text/plain": [
       "'Toyota'"
      ]
     },
     "execution_count": 438,
     "metadata": {},
     "output_type": "execute_result"
    }
   ],
   "source": [
    "word_vectors.doesnt_match([\"Microsoft\", \"Apple\", \"Toyota\", \"Amazon\", \"Netflix\", \"Google\"])\n"
   ]
  },
  {
   "cell_type": "markdown",
   "metadata": {},
   "source": [
    "### 2.7 Visualisons\n"
   ]
  },
  {
   "cell_type": "code",
   "execution_count": 439,
   "metadata": {},
   "outputs": [],
   "source": [
    "def display_pca_scatterplot(model, words):\n",
    "    word_vectors = np.array([model[w] for w in words])\n",
    "\n",
    "    twodim = PCA().fit_transform(word_vectors)[:,:2]\n",
    "\n",
    "    plt.figure(figsize=(10,10))\n",
    "    plt.scatter(twodim[:,0], twodim[:,1], edgecolors='k', c='r', s=128)\n",
    "    for word, (x,y) in zip(words, twodim):\n",
    "        plt.text(x+0.05, y+0.05, word)"
   ]
  },
  {
   "cell_type": "code",
   "execution_count": 440,
   "metadata": {},
   "outputs": [
    {
     "data": {
      "image/png": "[encoded data removed]",
      "text/plain": [
       "<Figure size 1000x1000 with 1 Axes>"
      ]
     },
     "metadata": {},
     "output_type": "display_data"
    }
   ],
   "source": [
    "display_pca_scatterplot(word_vectors, ['swim', 'swimming', 'cat', 'dog', 'feline', 'road', 'car', 'bus'])\n"
   ]
  },
  {
   "cell_type": "code",
   "execution_count": 441,
   "metadata": {},
   "outputs": [
    {
     "data": {
      "text/plain": [
       "[('UK', 0.623056948184967),\n",
       " ('Britain', 0.6016389727592468),\n",
       " ('United_Kingdom', 0.5343458652496338)]"
      ]
     },
     "execution_count": 441,
     "metadata": {},
     "output_type": "execute_result"
    }
   ],
   "source": [
    "word_vectors.most_similar(positive=['Italy', 'London'], negative=['Rome'], topn=3)\n"
   ]
  },
  {
   "cell_type": "code",
   "execution_count": 442,
   "metadata": {},
   "outputs": [
    {
     "data": {
      "image/png": "[encoded data removed]",
      "text/plain": [
       "<Figure size 1000x1000 with 1 Axes>"
      ]
     },
     "metadata": {},
     "output_type": "display_data"
    }
   ],
   "source": [
    "display_pca_scatterplot(word_vectors, ['Rome', 'Italy', 'London', 'Britain', 'UK'])\n"
   ]
  },
  {
   "cell_type": "markdown",
   "metadata": {},
   "source": [
    "## 3 Using Pretrained Word Vectors for Classification\n"
   ]
  },
  {
   "cell_type": "code",
   "execution_count": 443,
   "metadata": {},
   "outputs": [],
   "source": [
    "word_vectors = KeyedVectors.load_word2vec_format(output, binary=True) # limit=None\n",
    "\n",
    "print(len(word_vectors))\n"
   ]
  },
  {
   "cell_type": "markdown",
   "metadata": {},
   "source": [
    "### 3.1 validation set\n"
   ]
  },
  {
   "cell_type": "code",
   "execution_count": null,
   "metadata": {},
   "outputs": [
    {
     "data": {
      "text/html": [
       "<div>\n",
       "<style scoped>\n",
       "    .dataframe tbody tr th:only-of-type {\n",
       "        vertical-align: middle;\n",
       "    }\n",
       "\n",
       "    .dataframe tbody tr th {\n",
       "        vertical-align: top;\n",
       "    }\n",
       "\n",
       "    .dataframe thead th {\n",
       "        text-align: right;\n",
       "    }\n",
       "</style>\n",
       "<table border=\"1\" class=\"dataframe\">\n",
       "  <thead>\n",
       "    <tr style=\"text-align: right;\">\n",
       "      <th></th>\n",
       "      <th>CreationDate</th>\n",
       "      <th>title</th>\n",
       "      <th>body</th>\n",
       "      <th>all_tags</th>\n",
       "      <th>title_nltk</th>\n",
       "      <th>body_nltk</th>\n",
       "      <th>title_spacy</th>\n",
       "      <th>body_spacy</th>\n",
       "      <th>top_tags_30</th>\n",
       "    </tr>\n",
       "  </thead>\n",
       "  <tbody>\n",
       "    <tr>\n",
       "      <th>0</th>\n",
       "      <td>2016-12-09 17:32:04</td>\n",
       "      <td>Gradle: MessageIOException: Could not write me...</td>\n",
       "      <td>I wrote a simple test project, which opens por...</td>\n",
       "      <td>[java, sockets, gradle, firewall, apache-mina]</td>\n",
       "      <td>[write, message, firewall]</td>\n",
       "      <td>[write, message, firewall, write, test, projec...</td>\n",
       "      <td>[gradle, write, message]</td>\n",
       "      <td>[write, test, project, open, port, time, exit,...</td>\n",
       "      <td>[java]</td>\n",
       "    </tr>\n",
       "    <tr>\n",
       "      <th>1</th>\n",
       "      <td>2016-01-14 08:31:08</td>\n",
       "      <td>User is not authorized to perform: dynamodb:Pu...</td>\n",
       "      <td>I am trying to access DynamoDB from my Node ap...</td>\n",
       "      <td>[node.js, amazon-web-services, amazon-dynamodb...</td>\n",
       "      <td>[user, authorize, perform, resource]</td>\n",
       "      <td>[user, authorize, perform, resource, try, acce...</td>\n",
       "      <td>[user, authorize, perform, dynamodb, resource]</td>\n",
       "      <td>[try, access, dynamodb, app, deploy, error, au...</td>\n",
       "      <td>[node.js]</td>\n",
       "    </tr>\n",
       "    <tr>\n",
       "      <th>2</th>\n",
       "      <td>2013-08-27 11:29:34</td>\n",
       "      <td>How can I change the scroll direction in UICol...</td>\n",
       "      <td>I have a UICollectionView in my storyboard bas...</td>\n",
       "      <td>[ios, objective-c, scroll, uicollectionview, o...</td>\n",
       "      <td>[change, scroll, direction, uicollectionview]</td>\n",
       "      <td>[change, scroll, direction, uicollectionview, ...</td>\n",
       "      <td>[change, scroll, direction]</td>\n",
       "      <td>[uicollectionview, storyboard, base, app, devi...</td>\n",
       "      <td>[ios, objective-c]</td>\n",
       "    </tr>\n",
       "    <tr>\n",
       "      <th>3</th>\n",
       "      <td>2012-03-06 18:05:30</td>\n",
       "      <td>Splash screen while loading a url in a webview...</td>\n",
       "      <td>I've got an app, that has 2 activity, the firs...</td>\n",
       "      <td>[android, android-activity, webview, screen, s...</td>\n",
       "      <td>[splash, screen, load, url, webview, app]</td>\n",
       "      <td>[splash, screen, load, url, webview, app, get,...</td>\n",
       "      <td>[splash, screen, load, url, webview, app]</td>\n",
       "      <td>[app, activity, launch, load, url, webview, wo...</td>\n",
       "      <td>[android]</td>\n",
       "    </tr>\n",
       "    <tr>\n",
       "      <th>4</th>\n",
       "      <td>2012-10-23 16:47:04</td>\n",
       "      <td>django ajax post 403 forbidden</td>\n",
       "      <td>using django 1.4 im getting a 403 error when i...</td>\n",
       "      <td>[javascript, ajax, django, http-post, http-sta...</td>\n",
       "      <td>[django, ajax, forbidden]</td>\n",
       "      <td>[django, ajax, im, get, error, try, post, java...</td>\n",
       "      <td>[forbid]</td>\n",
       "      <td>[django, error, try, post, javascript, django,...</td>\n",
       "      <td>[javascript]</td>\n",
       "    </tr>\n",
       "  </tbody>\n",
       "</table>\n",
       "</div>"
      ],
      "text/plain": [
       "          CreationDate                                              title  \\\n",
       "0  2016-12-09 17:32:04  Gradle: MessageIOException: Could not write me...   \n",
       "1  2016-01-14 08:31:08  User is not authorized to perform: dynamodb:Pu...   \n",
       "2  2013-08-27 11:29:34  How can I change the scroll direction in UICol...   \n",
       "3  2012-03-06 18:05:30  Splash screen while loading a url in a webview...   \n",
       "4  2012-10-23 16:47:04                     django ajax post 403 forbidden   \n",
       "\n",
       "                                                body  \\\n",
       "0  I wrote a simple test project, which opens por...   \n",
       "1  I am trying to access DynamoDB from my Node ap...   \n",
       "2  I have a UICollectionView in my storyboard bas...   \n",
       "3  I've got an app, that has 2 activity, the firs...   \n",
       "4  using django 1.4 im getting a 403 error when i...   \n",
       "\n",
       "                                            all_tags  \\\n",
       "0     [java, sockets, gradle, firewall, apache-mina]   \n",
       "1  [node.js, amazon-web-services, amazon-dynamodb...   \n",
       "2  [ios, objective-c, scroll, uicollectionview, o...   \n",
       "3  [android, android-activity, webview, screen, s...   \n",
       "4  [javascript, ajax, django, http-post, http-sta...   \n",
       "\n",
       "                                      title_nltk  \\\n",
       "0                     [write, message, firewall]   \n",
       "1           [user, authorize, perform, resource]   \n",
       "2  [change, scroll, direction, uicollectionview]   \n",
       "3      [splash, screen, load, url, webview, app]   \n",
       "4                      [django, ajax, forbidden]   \n",
       "\n",
       "                                           body_nltk  \\\n",
       "0  [write, message, firewall, write, test, projec...   \n",
       "1  [user, authorize, perform, resource, try, acce...   \n",
       "2  [change, scroll, direction, uicollectionview, ...   \n",
       "3  [splash, screen, load, url, webview, app, get,...   \n",
       "4  [django, ajax, im, get, error, try, post, java...   \n",
       "\n",
       "                                      title_spacy  \\\n",
       "0                        [gradle, write, message]   \n",
       "1  [user, authorize, perform, dynamodb, resource]   \n",
       "2                     [change, scroll, direction]   \n",
       "3       [splash, screen, load, url, webview, app]   \n",
       "4                                        [forbid]   \n",
       "\n",
       "                                          body_spacy         top_tags_30  \n",
       "0  [write, test, project, open, port, time, exit,...              [java]  \n",
       "1  [try, access, dynamodb, app, deploy, error, au...           [node.js]  \n",
       "2  [uicollectionview, storyboard, base, app, devi...  [ios, objective-c]  \n",
       "3  [app, activity, launch, load, url, webview, wo...           [android]  \n",
       "4  [django, error, try, post, javascript, django,...        [javascript]  "
      ]
     },
     "metadata": {},
     "output_type": "display_data"
    }
   ],
   "source": [
    "train_df, val_df = train_test_split(train_df, train_size=0.9, random_state=1)\n",
    "\n",
    "train_df.reset_index(drop=True, inplace=True)\n",
    "val_df.reset_index(drop=True, inplace=True)\n",
    "\n",
    "display(train_df.head())\n"
   ]
  },
  {
   "cell_type": "code",
   "execution_count": null,
   "metadata": {},
   "outputs": [],
   "source": [
    "# Set up training data.\n",
    "\n",
    "feature = 'title' # on va testeer le tokenizer de keras\n",
    "target = 'top_tags_' + str(NB_TAGS)\n",
    "\n",
    "X_train = train_df[feature].values\n",
    "y_train = train_df[target].tolist()\n",
    "\n",
    "# Set up validation data.\n",
    "X_val = val_df[feature].values\n",
    "y_val = val_df[target].tolist()\n"
   ]
  },
  {
   "cell_type": "code",
   "execution_count": null,
   "metadata": {},
   "outputs": [
    {
     "name": "stdout",
     "output_type": "stream",
     "text": [
      "[[0 0 0 ... 0 0 0]\n",
      " [0 0 0 ... 0 0 0]\n",
      " [0 0 0 ... 0 0 0]\n",
      " ...\n",
      " [0 0 0 ... 0 0 0]\n",
      " [0 0 0 ... 0 0 0]\n",
      " [0 0 0 ... 0 0 0]]\n"
     ]
    }
   ],
   "source": [
    "# encodage target\n",
    "\n",
    "def target_encoding(y):\n",
    "    # Target encoding\n",
    "    mlb = MultiLabelBinarizer()\n",
    "    y_encoded = mlb.fit_transform(y)\n",
    "\n",
    "    return y_encoded\n",
    "\n",
    "\n",
    "y_train_encoded = target_encoding(y_train)\n",
    "y_val_encoded = target_encoding(y_val)\n",
    "\n",
    "print(y_train_encoded)\n"
   ]
  },
  {
   "cell_type": "markdown",
   "metadata": {},
   "source": [
    "### 3.2 tokenization\n"
   ]
  },
  {
   "cell_type": "code",
   "execution_count": null,
   "metadata": {},
   "outputs": [],
   "source": [
    "tokenizer = keras.preprocessing.text.Tokenizer(num_words=20000,\n",
    "                                               filters='0123456789!\"#$%&()*+,-./:;<=>?@[\\]^_`{|}~',\n",
    "                                               lower=True)\n",
    "\n",
    "tokenizer.fit_on_texts(X_train)\n"
   ]
  },
  {
   "cell_type": "code",
   "execution_count": null,
   "metadata": {},
   "outputs": [
    {
     "name": "stdout",
     "output_type": "stream",
     "text": [
      "[217, 9062, 143, 12, 259, 291, 9063, 1, 2979]\n",
      "['gradle', 'messageioexception', 'could']\n"
     ]
    }
   ],
   "source": [
    "X_train_tokens = tokenizer.texts_to_sequences(X_train)\n",
    "\n",
    "print(X_train_tokens[0])\n",
    "print([tokenizer.index_word[x] for x in X_train_tokens[0][:3]])\n"
   ]
  },
  {
   "cell_type": "code",
   "execution_count": null,
   "metadata": {},
   "outputs": [
    {
     "data": {
      "text/plain": [
       "'gradle messageioexception could not write message endofstream to firewall'"
      ]
     },
     "execution_count": 398,
     "metadata": {},
     "output_type": "execute_result"
    }
   ],
   "source": [
    "# Review excerpt reconstructed from integer sequence.\n",
    "tokenizer.sequences_to_texts([X_train_tokens[0]])[0][:300]\n"
   ]
  },
  {
   "cell_type": "code",
   "execution_count": null,
   "metadata": {},
   "outputs": [
    {
     "data": {
      "text/plain": [
       "'Gradle: MessageIOException: Could not write message [EndOfStream] to 127.0.0.1 (Firewall)?'"
      ]
     },
     "execution_count": 399,
     "metadata": {},
     "output_type": "execute_result"
    }
   ],
   "source": [
    "# Original review text.\n",
    "train_df[feature].iloc[0][:300]\n"
   ]
  },
  {
   "cell_type": "code",
   "execution_count": null,
   "metadata": {},
   "outputs": [
    {
     "name": "stdout",
     "output_type": "stream",
     "text": [
      "Mean number of tokens: 9.317162246166598\n",
      "Median number of tokens: 9.0\n",
      "Mode number of tokens: 8\n",
      "Standard deviation of tokens: 3.5402243817617434\n"
     ]
    }
   ],
   "source": [
    "# Get the number of tokens for each text\n",
    "num_tokens = [len(tokens) for tokens in tokenizer.texts_to_sequences(X_train)]\n",
    "\n",
    "# Calculate statistics\n",
    "mean_tokens = np.mean(num_tokens)\n",
    "median_tokens = np.median(num_tokens)\n",
    "mode_tokens = max(set(num_tokens), key=num_tokens.count)\n",
    "std_tokens = np.std(num_tokens)\n",
    "\n",
    "# Print statistics\n",
    "print(\"Mean number of tokens:\", mean_tokens)\n",
    "print(\"Median number of tokens:\", median_tokens)\n",
    "print(\"Mode number of tokens:\", mode_tokens)\n",
    "print(\"Standard deviation of tokens:\", std_tokens)\n"
   ]
  },
  {
   "cell_type": "code",
   "execution_count": null,
   "metadata": {},
   "outputs": [
    {
     "name": "stdout",
     "output_type": "stream",
     "text": [
      "         num_tokens\n",
      "count  38608.000000\n",
      "mean       9.317162\n",
      "std        3.540270\n",
      "min        2.000000\n",
      "25%        7.000000\n",
      "50%        9.000000\n",
      "75%       11.000000\n",
      "max       29.000000\n"
     ]
    }
   ],
   "source": [
    "# Convert list to DataFrame\n",
    "df_num_tokens = pd.DataFrame(num_tokens, columns=['num_tokens'])\n",
    "\n",
    "# Use describe() to get summary statistics\n",
    "summary_stats = df_num_tokens.describe()\n",
    "\n",
    "print(summary_stats)\n"
   ]
  },
  {
   "cell_type": "code",
   "execution_count": null,
   "metadata": {},
   "outputs": [
    {
     "name": "stdout",
     "output_type": "stream",
     "text": [
      "        num_tokens\n",
      "count  8935.000000\n",
      "mean     14.357023\n",
      "std       2.634455\n",
      "min      12.000000\n",
      "25%      12.000000\n",
      "50%      14.000000\n",
      "75%      15.000000\n",
      "max      29.000000\n"
     ]
    }
   ],
   "source": [
    "summary_stats = df_num_tokens.loc[df_num_tokens['num_tokens'] > 11, :].describe()\n",
    "\n",
    "print(summary_stats)\n",
    "\n",
    "# OK on va prendre jusqu'à 15 inclus\n"
   ]
  },
  {
   "cell_type": "markdown",
   "metadata": {},
   "source": [
    "### 3.3 Padding\n"
   ]
  },
  {
   "cell_type": "code",
   "execution_count": null,
   "metadata": {},
   "outputs": [],
   "source": [
    "# Pas indispensable ici, mais bientôt utile\n",
    "\n",
    "MAX_LEN = 15\n",
    "X_train = keras.preprocessing.sequence.pad_sequences(X_train_tokens, maxlen=MAX_LEN)\n"
   ]
  },
  {
   "cell_type": "code",
   "execution_count": null,
   "metadata": {},
   "outputs": [
    {
     "name": "stdout",
     "output_type": "stream",
     "text": [
      "[   0    0    0    0    0    0  217 9062  143   12  259  291 9063    1\n",
      " 2979]\n",
      "[   0    0    0    0    0  132    9   12 3160    1  748 2019 9064   11\n",
      "  407]\n"
     ]
    }
   ],
   "source": [
    "print(X_train[0])\n",
    "print(X_train[1])\n"
   ]
  },
  {
   "cell_type": "code",
   "execution_count": null,
   "metadata": {},
   "outputs": [],
   "source": [
    "X_val = tokenizer.texts_to_sequences(X_val)\n",
    "X_val = keras.preprocessing.sequence.pad_sequences(X_val, maxlen=MAX_LEN)\n"
   ]
  },
  {
   "cell_type": "markdown",
   "metadata": {},
   "source": [
    "### 3.4 embedding matrix\n"
   ]
  },
  {
   "cell_type": "code",
   "execution_count": null,
   "metadata": {},
   "outputs": [
    {
     "name": "stdout",
     "output_type": "stream",
     "text": [
      "17894\n"
     ]
    }
   ],
   "source": [
    "# + 1 to account for padding token.\n",
    "num_tokens = len(tokenizer.word_index) + 1\n",
    "print(num_tokens)\n",
    "\n",
    "# Initialize a matrix of zeroes of size: vocabulary x embedding dimension.\n",
    "embedding_dim = 300\n",
    "embedding_matrix = np.zeros((num_tokens, embedding_dim))\n",
    "\n",
    "for word, i in tokenizer.word_index.items():\n",
    "  if word_vectors.has_index_for(word):\n",
    "    embedding_matrix[i] = word_vectors[word].copy()\n"
   ]
  },
  {
   "cell_type": "code",
   "execution_count": null,
   "metadata": {},
   "outputs": [
    {
     "name": "stdout",
     "output_type": "stream",
     "text": [
      "[ 0.04052734  0.0625     -0.01745605  0.07861328  0.03271484 -0.01263428\n",
      "  0.00964355  0.12353516 -0.02148438  0.15234375 -0.05834961 -0.10644531\n",
      "  0.02124023  0.13574219 -0.13183594  0.17675781  0.27148438  0.13769531\n",
      " -0.17382812 -0.14160156 -0.03076172  0.19628906 -0.03295898  0.125\n",
      "  0.25390625  0.12695312 -0.15234375  0.03198242  0.01135254 -0.01361084\n",
      " -0.12890625  0.01019287  0.23925781 -0.08447266  0.140625    0.13085938\n",
      " -0.04516602  0.06494141  0.02539062  0.05615234  0.24609375 -0.20507812\n",
      "  0.23632812 -0.00860596 -0.02294922  0.05078125  0.10644531 -0.03564453\n",
      "  0.08740234 -0.05712891]\n"
     ]
    }
   ],
   "source": [
    "# Quick visual check.\n",
    "print(embedding_matrix[tokenizer.word_index['good']][:50])\n"
   ]
  },
  {
   "cell_type": "markdown",
   "metadata": {},
   "source": [
    "### 3.5 trainable embedding layer\n"
   ]
  },
  {
   "cell_type": "code",
   "execution_count": null,
   "metadata": {},
   "outputs": [],
   "source": [
    "#\n",
    "trainable=False\n",
    "\n",
    "embedding_layer = layers.Embedding(\n",
    "    num_tokens,\n",
    "    embedding_dim,\n",
    "    embeddings_initializer=keras.initializers.Constant(embedding_matrix),\n",
    "    input_length=MAX_LEN,\n",
    "    trainable=trainable\n",
    ")\n"
   ]
  },
  {
   "cell_type": "markdown",
   "metadata": {},
   "source": [
    "### 3.6 custom metric : jaccard\n"
   ]
  },
  {
   "cell_type": "code",
   "execution_count": null,
   "metadata": {},
   "outputs": [],
   "source": [
    "# Define Jaccard similarity coefficient as a custom metric\n",
    "# + compact que ma version.\n",
    "# moins lisible ^^\n",
    "\n",
    "def jaccard_similarity(y_pred, y_true):\n",
    "    intersection = tf.reduce_sum(tf.cast(y_true * y_pred, dtype=tf.float32))\n",
    "    union = tf.reduce_sum(tf.cast(tf.clip_by_value(y_true + y_pred, 0, 1), dtype=tf.float32))\n",
    "    return intersection / (union + tf.keras.backend.epsilon())\n",
    "\n",
    "# Compile model with custom metric\n",
    "# model.compile(optimizer='adam', loss='binary_crossentropy', metrics=['accuracy', jaccard_similarity])\n"
   ]
  },
  {
   "cell_type": "markdown",
   "metadata": {},
   "source": [
    "### 3.7 compilation d'un premier modele\n"
   ]
  },
  {
   "cell_type": "code",
   "execution_count": null,
   "metadata": {},
   "outputs": [],
   "source": [
    "tf.random.set_seed(0)\n",
    "\n",
    "model = keras.Sequential()\n",
    "\n",
    "# This layer will output a sequence of 300-dimension *vectors*, one for each element in the input sequence.\n",
    "model.add(embedding_layer)\n",
    "\n",
    "# This layer will calculate an average of those vectors.\n",
    "model.add(layers.GlobalAveragePooling1D())\n",
    "\n",
    "model.add(layers.Dense(150, activation='relu', kernel_initializer=tf.keras.initializers.random_normal(seed=1)))\n",
    "model.add(layers.Dense(75, activation='relu', kernel_initializer=tf.keras.initializers.random_normal(seed=1)))\n",
    "model.add(layers.Dense(NB_TAGS, activation='sigmoid', kernel_initializer=tf.keras.initializers.random_normal(seed=1)))\n",
    "\n",
    "model.compile(optimizer='adam',\n",
    "              loss='binary_crossentropy',\n",
    "              metrics=['accuracy', jaccard_similarity])\n"
   ]
  },
  {
   "cell_type": "code",
   "execution_count": null,
   "metadata": {},
   "outputs": [
    {
     "name": "stdout",
     "output_type": "stream",
     "text": [
      "Model: \"sequential_20\"\n",
      "_________________________________________________________________\n",
      " Layer (type)                Output Shape              Param #   \n",
      "=================================================================\n",
      " embedding_19 (Embedding)    (None, 15, 300)           5368200   \n",
      "                                                                 \n",
      " global_average_pooling1d_20  (None, 300)              0         \n",
      "  (GlobalAveragePooling1D)                                       \n",
      "                                                                 \n",
      " dense_60 (Dense)            (None, 150)               45150     \n",
      "                                                                 \n",
      " dense_61 (Dense)            (None, 75)                11325     \n",
      "                                                                 \n",
      " dense_62 (Dense)            (None, 30)                2280      \n",
      "                                                                 \n",
      "=================================================================\n",
      "Total params: 5,426,955\n",
      "Trainable params: 5,426,955\n",
      "Non-trainable params: 0\n",
      "_________________________________________________________________\n"
     ]
    }
   ],
   "source": [
    "model.summary()\n"
   ]
  },
  {
   "cell_type": "code",
   "execution_count": null,
   "metadata": {},
   "outputs": [
    {
     "name": "stdout",
     "output_type": "stream",
     "text": [
      "Epoch 1/20\n"
     ]
    },
    {
     "name": "stdout",
     "output_type": "stream",
     "text": [
      "76/76 [==============================] - 11s 131ms/step - loss: 0.3257 - accuracy: 0.0602 - jaccard_similarity: 0.0357 - val_loss: 0.1691 - val_accuracy: 0.0942 - val_jaccard_similarity: 0.0337\n",
      "Epoch 2/20\n",
      "76/76 [==============================] - 9s 115ms/step - loss: 0.1675 - accuracy: 0.0998 - jaccard_similarity: 0.0368 - val_loss: 0.1658 - val_accuracy: 0.0886 - val_jaccard_similarity: 0.0370\n",
      "Epoch 3/20\n",
      "76/76 [==============================] - 8s 110ms/step - loss: 0.1650 - accuracy: 0.0976 - jaccard_similarity: 0.0385 - val_loss: 0.1646 - val_accuracy: 0.0942 - val_jaccard_similarity: 0.0384\n",
      "Epoch 4/20\n",
      "76/76 [==============================] - 9s 120ms/step - loss: 0.1638 - accuracy: 0.1052 - jaccard_similarity: 0.0398 - val_loss: 0.1640 - val_accuracy: 0.0942 - val_jaccard_similarity: 0.0394\n",
      "Epoch 5/20\n",
      "76/76 [==============================] - 9s 121ms/step - loss: 0.1630 - accuracy: 0.1100 - jaccard_similarity: 0.0408 - val_loss: 0.1635 - val_accuracy: 0.0942 - val_jaccard_similarity: 0.0406\n",
      "Epoch 6/20\n",
      "76/76 [==============================] - 10s 127ms/step - loss: 0.1619 - accuracy: 0.1173 - jaccard_similarity: 0.0420 - val_loss: 0.1624 - val_accuracy: 0.1016 - val_jaccard_similarity: 0.0421\n",
      "Epoch 7/20\n",
      "76/76 [==============================] - 10s 128ms/step - loss: 0.1571 - accuracy: 0.1577 - jaccard_similarity: 0.0506 - val_loss: 0.1517 - val_accuracy: 0.2303 - val_jaccard_similarity: 0.0651\n",
      "Epoch 8/20\n",
      "76/76 [==============================] - 9s 113ms/step - loss: 0.1423 - accuracy: 0.2514 - jaccard_similarity: 0.0884 - val_loss: 0.1381 - val_accuracy: 0.2793 - val_jaccard_similarity: 0.1009\n",
      "Epoch 9/20\n",
      "76/76 [==============================] - 9s 113ms/step - loss: 0.1235 - accuracy: 0.3305 - jaccard_similarity: 0.1390 - val_loss: 0.1200 - val_accuracy: 0.3569 - val_jaccard_similarity: 0.1613\n",
      "Epoch 10/20\n",
      "76/76 [==============================] - 9s 116ms/step - loss: 0.1070 - accuracy: 0.3941 - jaccard_similarity: 0.1955 - val_loss: 0.1110 - val_accuracy: 0.3825 - val_jaccard_similarity: 0.1964\n",
      "Epoch 11/20\n",
      "76/76 [==============================] - 8s 111ms/step - loss: 0.0956 - accuracy: 0.4308 - jaccard_similarity: 0.2393 - val_loss: 0.1045 - val_accuracy: 0.4051 - val_jaccard_similarity: 0.2316\n",
      "Epoch 12/20\n",
      "76/76 [==============================] - 9s 115ms/step - loss: 0.0863 - accuracy: 0.4672 - jaccard_similarity: 0.2802 - val_loss: 0.0993 - val_accuracy: 0.4233 - val_jaccard_similarity: 0.2615\n",
      "Epoch 13/20\n",
      "76/76 [==============================] - 9s 114ms/step - loss: 0.0789 - accuracy: 0.4942 - jaccard_similarity: 0.3169 - val_loss: 0.0969 - val_accuracy: 0.4354 - val_jaccard_similarity: 0.2803\n",
      "Epoch 14/20\n",
      "76/76 [==============================] - 9s 113ms/step - loss: 0.0733 - accuracy: 0.5111 - jaccard_similarity: 0.3442 - val_loss: 0.0951 - val_accuracy: 0.4329 - val_jaccard_similarity: 0.2956\n",
      "Epoch 15/20\n",
      "76/76 [==============================] - 8s 110ms/step - loss: 0.0681 - accuracy: 0.5224 - jaccard_similarity: 0.3728 - val_loss: 0.0940 - val_accuracy: 0.4443 - val_jaccard_similarity: 0.3134\n",
      "Epoch 16/20\n",
      "76/76 [==============================] - 9s 112ms/step - loss: 0.0633 - accuracy: 0.5341 - jaccard_similarity: 0.4025 - val_loss: 0.0936 - val_accuracy: 0.4462 - val_jaccard_similarity: 0.3286\n",
      "Epoch 17/20\n",
      "76/76 [==============================] - 9s 114ms/step - loss: 0.0596 - accuracy: 0.5384 - jaccard_similarity: 0.4276 - val_loss: 0.0937 - val_accuracy: 0.4462 - val_jaccard_similarity: 0.3388\n",
      "Epoch 18/20\n",
      "76/76 [==============================] - 9s 112ms/step - loss: 0.0566 - accuracy: 0.5446 - jaccard_similarity: 0.4483 - val_loss: 0.0950 - val_accuracy: 0.4455 - val_jaccard_similarity: 0.3457\n",
      "Epoch 19/20\n",
      "76/76 [==============================] - 9s 112ms/step - loss: 0.0539 - accuracy: 0.5482 - jaccard_similarity: 0.4667 - val_loss: 0.0964 - val_accuracy: 0.4438 - val_jaccard_similarity: 0.3496\n",
      "Epoch 20/20\n",
      "76/76 [==============================] - 8s 112ms/step - loss: 0.0515 - accuracy: 0.5523 - jaccard_similarity: 0.4837 - val_loss: 0.0977 - val_accuracy: 0.4464 - val_jaccard_similarity: 0.3545\n"
     ]
    }
   ],
   "source": [
    "history = model.fit(X_train, y_train_encoded, epochs=30, batch_size=512, validation_data=(X_val, y_val_encoded))\n"
   ]
  },
  {
   "cell_type": "markdown",
   "metadata": {},
   "source": [
    "### 3.8 Visualisation\n"
   ]
  },
  {
   "cell_type": "code",
   "execution_count": null,
   "metadata": {},
   "outputs": [],
   "source": [
    "# add jaccard ?\n",
    "\n",
    "def plot_train_vs_val_performance(history):\n",
    "  training_losses = history.history['loss']\n",
    "  validation_losses = history.history['val_loss']\n",
    "\n",
    "  training_accuracy = history.history['accuracy']\n",
    "  validation_accuracy = history.history['val_accuracy']\n",
    "\n",
    "  epochs = range(1, len(training_losses) + 1)\n",
    "\n",
    "  import matplotlib.pyplot as plt\n",
    "  fig, (ax1, ax2) = plt.subplots(2)\n",
    "  fig.set_figheight(15)\n",
    "  fig.set_figwidth(15)\n",
    "  fig.tight_layout(pad=5.0)\n",
    "\n",
    "  # Plot training vs. validation loss.\n",
    "  ax1.plot(epochs, training_losses, 'bo', label='Training Loss')\n",
    "  ax1.plot(epochs, validation_losses, 'b', label='Validation Loss')\n",
    "  ax1.title.set_text('Training vs. Validation Loss')\n",
    "  ax1.set_xlabel('Epoch')\n",
    "  ax1.set_ylabel('Loss')\n",
    "  ax1.legend()\n",
    "\n",
    "  # PLot training vs. validation accuracy.\n",
    "  ax2.plot(epochs, training_accuracy, 'bo', label='Training Accuracy')\n",
    "  ax2.plot(epochs, validation_accuracy, 'b', label='Validation Accuracy')\n",
    "  ax2.title.set_text('Training vs. Validation Accuracy')\n",
    "  ax2.set_xlabel('Epoch')\n",
    "  ax2.set_ylabel('Accuracy')\n",
    "  ax2.legend()\n",
    "\n",
    "  plt.show()"
   ]
  },
  {
   "cell_type": "code",
   "execution_count": null,
   "metadata": {},
   "outputs": [
    {
     "data": {
      "image/png": "[encoded data removed]",
      "text/plain": [
       "<Figure size 1500x1500 with 2 Axes>"
      ]
     },
     "metadata": {},
     "output_type": "display_data"
    }
   ],
   "source": [
    "plot_train_vs_val_performance(history)\n"
   ]
  },
  {
   "cell_type": "markdown",
   "metadata": {},
   "source": [
    "### 3.9 Entrainement d'un modèle avec early stop\n"
   ]
  },
  {
   "cell_type": "code",
   "execution_count": null,
   "metadata": {},
   "outputs": [
    {
     "name": "stdout",
     "output_type": "stream",
     "text": [
      "Epoch 1/11\n",
      "76/76 [==============================] - 10s 125ms/step - loss: 0.3145 - accuracy: 0.0617 - jaccard_similarity: 0.0358 - val_loss: 0.1695 - val_accuracy: 0.0942 - val_jaccard_similarity: 0.0331\n",
      "Epoch 2/11\n",
      "76/76 [==============================] - 9s 120ms/step - loss: 0.1673 - accuracy: 0.1034 - jaccard_similarity: 0.0379 - val_loss: 0.1656 - val_accuracy: 0.1112 - val_jaccard_similarity: 0.0383\n",
      "Epoch 3/11\n",
      "76/76 [==============================] - 9s 121ms/step - loss: 0.1644 - accuracy: 0.1070 - jaccard_similarity: 0.0403 - val_loss: 0.1638 - val_accuracy: 0.1170 - val_jaccard_similarity: 0.0408\n",
      "Epoch 4/11\n",
      "76/76 [==============================] - 9s 119ms/step - loss: 0.1589 - accuracy: 0.1661 - jaccard_similarity: 0.0499 - val_loss: 0.1534 - val_accuracy: 0.2037 - val_jaccard_similarity: 0.0647\n",
      "Epoch 5/11\n",
      "76/76 [==============================] - 9s 121ms/step - loss: 0.1420 - accuracy: 0.2363 - jaccard_similarity: 0.0917 - val_loss: 0.1336 - val_accuracy: 0.2853 - val_jaccard_similarity: 0.1186\n",
      "Epoch 6/11\n",
      "76/76 [==============================] - 9s 123ms/step - loss: 0.1187 - accuracy: 0.3500 - jaccard_similarity: 0.1583 - val_loss: 0.1143 - val_accuracy: 0.3746 - val_jaccard_similarity: 0.1860\n",
      "Epoch 7/11\n",
      "76/76 [==============================] - 9s 122ms/step - loss: 0.0987 - accuracy: 0.4252 - jaccard_similarity: 0.2275 - val_loss: 0.1032 - val_accuracy: 0.4126 - val_jaccard_similarity: 0.2346\n",
      "Epoch 8/11\n",
      "76/76 [==============================] - 9s 117ms/step - loss: 0.0851 - accuracy: 0.4779 - jaccard_similarity: 0.2855 - val_loss: 0.0972 - val_accuracy: 0.4350 - val_jaccard_similarity: 0.2715\n",
      "Epoch 9/11\n",
      "76/76 [==============================] - 9s 122ms/step - loss: 0.0763 - accuracy: 0.5026 - jaccard_similarity: 0.3282 - val_loss: 0.0949 - val_accuracy: 0.4338 - val_jaccard_similarity: 0.2952\n",
      "Epoch 10/11\n",
      "76/76 [==============================] - 9s 123ms/step - loss: 0.0701 - accuracy: 0.5161 - jaccard_similarity: 0.3626 - val_loss: 0.0945 - val_accuracy: 0.4434 - val_jaccard_similarity: 0.3072\n",
      "Epoch 11/11\n",
      "76/76 [==============================] - 10s 134ms/step - loss: 0.0654 - accuracy: 0.5271 - jaccard_similarity: 0.3907 - val_loss: 0.0948 - val_accuracy: 0.4322 - val_jaccard_similarity: 0.3209\n"
     ]
    },
    {
     "data": {
      "text/plain": [
       "<keras.callbacks.History at 0x7fa311767d10>"
      ]
     },
     "execution_count": 415,
     "metadata": {},
     "output_type": "execute_result"
    }
   ],
   "source": [
    "# (pour eviter l'overfitting)\n",
    "\n",
    "# overfitting apres 15-16 iterations (epochs) (sur title_nltk[::2])\n",
    "# apres 9 (loss) 11-13 (epochs sur dataset complet (feature=title_nltk)\n",
    "\n",
    "# si trainable=False (embedding_layer), le plateau (validation) est moins prononcé. 11-16 ?\n",
    "# apres 10-11 si trainable=True (embedding_layer)\n",
    "\n",
    "embedding_layer = layers.Embedding(\n",
    "    num_tokens,\n",
    "    embedding_dim,\n",
    "    embeddings_initializer=keras.initializers.Constant(embedding_matrix),\n",
    "    input_length=MAX_LEN,\n",
    "    trainable=trainable,\n",
    "    mask_zero=True\n",
    ")\n",
    "\n",
    "model = keras.Sequential()\n",
    "\n",
    "model.add(embedding_layer)\n",
    "\n",
    "model.add(layers.GlobalAveragePooling1D())\n",
    "\n",
    "model.add(layers.Dense(150, activation='relu', kernel_initializer=tf.keras.initializers.random_normal(seed=1)))\n",
    "model.add(layers.Dense(75, activation='relu', kernel_initializer=tf.keras.initializers.random_normal(seed=1)))\n",
    "model.add(layers.Dense(NB_TAGS, activation='sigmoid', kernel_initializer=tf.keras.initializers.random_normal(seed=1)))\n",
    "\n",
    "model.compile(optimizer='adam',\n",
    "              loss='binary_crossentropy',\n",
    "              metrics=['accuracy', jaccard_similarity])\n",
    "\n",
    "model.fit(X_train, y_train_encoded, epochs=11, batch_size=512, validation_data=(X_val, y_val_encoded))\n"
   ]
  },
  {
   "cell_type": "markdown",
   "metadata": {},
   "source": [
    "### 3.10 Evaluation\n"
   ]
  },
  {
   "cell_type": "code",
   "execution_count": null,
   "metadata": {},
   "outputs": [
    {
     "name": "stdout",
     "output_type": "stream",
     "text": [
      "149/149 [==============================] - 0s 3ms/step - loss: 0.0966 - accuracy: 0.4428 - jaccard_similarity: 0.3199\n"
     ]
    },
    {
     "data": {
      "text/plain": [
       "[0.09656782448291779, 0.4428361654281616, 0.3199457824230194]"
      ]
     },
     "execution_count": 416,
     "metadata": {},
     "output_type": "execute_result"
    }
   ],
   "source": [
    "X_test = test_df[feature].values\n",
    "y_test = test_df[target].tolist()\n",
    "\n",
    "y_test_encoded = target_encoding(y_test)\n",
    "\n",
    "X_test = tokenizer.texts_to_sequences(X_test)\n",
    "X_test = keras.preprocessing.sequence.pad_sequences(X_test, maxlen=MAX_LEN)\n",
    "\n",
    "model.evaluate(X_test, y_test_encoded)\n"
   ]
  },
  {
   "cell_type": "code",
   "execution_count": null,
   "metadata": {},
   "outputs": [
    {
     "name": "stdout",
     "output_type": "stream",
     "text": [
      "  8/149 [>.............................] - ETA: 1s "
     ]
    },
    {
     "name": "stdout",
     "output_type": "stream",
     "text": [
      "149/149 [==============================] - 1s 3ms/step\n"
     ]
    },
    {
     "data": {
      "text/plain": [
       "<tf.Tensor: shape=(), dtype=float32, numpy=0.31942642>"
      ]
     },
     "execution_count": 417,
     "metadata": {},
     "output_type": "execute_result"
    }
   ],
   "source": [
    "# just to be sure\n",
    "\n",
    "jaccard_similarity(model.predict(X_test), y_test_encoded)\n",
    "\n",
    "# =0.32 sur dataset complet, trainable=False  (11 epochs)\n",
    "# =0.31942642 sur dataset complet, trainable=True   (11 epochs)\n",
    "\n",
    "# Pas de différence\n"
   ]
  },
  {
   "cell_type": "code",
   "execution_count": 52,
   "metadata": {},
   "outputs": [
    {
     "name": "stdout",
     "output_type": "stream",
     "text": [
      "1\n",
      "[[5, 264, 5, 264, 11460, 901, 2809]]\n",
      "[5, 264, 5, 264, 11460, 901, 2809]\n",
      "['the', 'best', 'the', 'best', 'food', 'apple', 'pie']\n"
     ]
    },
    {
     "name": "stdout",
     "output_type": "stream",
     "text": [
      "1/1 [==============================] - 0s 101ms/step\n"
     ]
    }
   ],
   "source": [
    "def predict_tags(text, tokenizer=tokenizer, maxlen=MAX_LEN):\n",
    "    seqs = tokenizer.texts_to_sequences([text])\n",
    "    print(len(seqs))\n",
    "    print(seqs)\n",
    "    for seq in seqs:\n",
    "        print(seq)\n",
    "        print([tokenizer.index_word[x] for x in seq])\n",
    "\n",
    "    seqs = keras.preprocessing.sequence.pad_sequences(seqs, maxlen=maxlen)\n",
    "\n",
    "    return model.predict(seqs)\n",
    "\n",
    "\n",
    "tags = predict_tags(text=\"The best the best sea food apple pie\")\n"
   ]
  },
  {
   "cell_type": "code",
   "execution_count": 53,
   "metadata": {},
   "outputs": [
    {
     "name": "stdout",
     "output_type": "stream",
     "text": [
      "array([[1.5653820e-03, 2.2178479e-02, 1.8514888e-02, 1.5714066e-04,\n",
      "        1.8421440e-04, 6.3859695e-03, 2.9837834e-03, 1.4614133e-02,\n",
      "        6.6838954e-03, 1.4283249e-02, 6.7845192e-03, 1.9467773e-03,\n",
      "        3.4622577e-01, 1.4877859e-02, 7.0009474e-03, 5.9581618e-03,\n",
      "        2.0997271e-02, 2.2192106e-02, 3.6646992e-03, 2.5628216e-03,\n",
      "        5.9289932e-02, 2.8351711e-02, 1.3975783e-01, 1.5186860e-02,\n",
      "        6.2818889e-04, 4.5346525e-03, 8.9267557e-03, 1.4229842e-03,\n",
      "        7.5910467e-04, 1.1205561e-03]], dtype=float32)\n",
      "(1, 30)\n"
     ]
    }
   ],
   "source": [
    "pprint(tags)\n",
    "print(tags.shape)\n"
   ]
  },
  {
   "cell_type": "code",
   "execution_count": 54,
   "metadata": {},
   "outputs": [
    {
     "name": "stdout",
     "output_type": "stream",
     "text": [
      "1/1 [==============================] - 0s 74ms/step\n",
      "Top 5 tags for input text 1: spring-boot, large-language-model, flask, python, langchain\n",
      "Top 5 tags for input text 2: google-chrome, upgrade, flask, amazon-web-services, langchain\n",
      "Top 5 tags for input text 3: lombok, google-chrome, java-21, eclipse, large-language-model\n",
      "Top 5 tags for input text 4: spring-security, compiler-errors, flask, langchain, eclipse\n",
      "Top 5 tags for input text 5: werkzeug, lombok, llama-index, large-language-model, java-21\n",
      "Top 5 tags for input text 6: spring-security, langchain, upgrade, eclipse, amazon-web-services\n",
      "Top 5 tags for input text 7: lombok, chatbot, eclipse, java-21, large-language-model\n",
      "Top 5 tags for input text 8: python, compiler-errors, spring-boot, importerror, upgrade\n",
      "Top 5 tags for input text 9: amazon-web-services, compiler-errors, chatbot, flask, langchain\n",
      "Top 5 tags for input text 10: google-chrome, flask, eclipse, large-language-model, langchain\n",
      "Top 5 tags for input text 11: werkzeug, python, large-language-model, flask-login, compiler-errors\n",
      "Top 5 tags for input text 12: python, google-chrome, selenium-webdriver, chatbot, compiler-errors\n",
      "Top 5 tags for input text 13: openai-api, large-language-model, langchain, chatbot, flask\n",
      "Top 5 tags for input text 14: spring-boot, langchain, docker, compiler-errors, python-3.x\n",
      "Top 5 tags for input text 15: eclipse, google-chrome, amazon-web-services, compiler-errors, langchain\n",
      "Top 5 tags for input text 16: python, spring-boot, amazon-web-services, google-chrome, large-language-model\n",
      "Top 5 tags for input text 17: selenium-webdriver, large-language-model, google-chrome, langchain, flask\n",
      "Top 5 tags for input text 18: google-chrome, spring-boot, docker, python, langchain\n",
      "Top 5 tags for input text 19: spring-boot, large-language-model, llama-index, java-21, lombok\n",
      "Top 5 tags for input text 20: spring-security, upgrade, java, importerror, eclipse\n",
      "Top 5 tags for input text 21: upgrade, flask, compiler-errors, selenium-webdriver, chatbot\n",
      "Top 5 tags for input text 22: selenium-webdriver, google-chrome, java-21, backend, large-language-model\n",
      "Top 5 tags for input text 23: large-language-model, java-21, eclipse, lombok, flask\n",
      "Top 5 tags for input text 24: selenium-webdriver, chatbot, large-language-model, langchain, flask\n",
      "Top 5 tags for input text 25: flask, langchain, compiler-errors, java-21, large-language-model\n"
     ]
    }
   ],
   "source": [
    "# OK reste juste à récup / associer les tags equivalents (targets)\n",
    "\n",
    "\n",
    "# Step 1: Make predictions with the model\n",
    "predictions = model.predict(X_test[:25])\n",
    "\n",
    "# Step 2: Get the indices of the top n most probable tags\n",
    "n = 5  # Number of top tags to return\n",
    "top_n_indices = np.argsort(predictions, axis=1)[:, -n:]\n",
    "\n",
    "# Step 3: Get the associated tags\n",
    "associated_tags = []\n",
    "for indices in top_n_indices:\n",
    "    tags = [all_tags[i] for i in indices]\n",
    "    associated_tags.append(tags)\n",
    "\n",
    "# Print associated tags for each input text\n",
    "for i, tags in enumerate(associated_tags):\n",
    "    print(f\"Top {n} tags for input text {i + 1}: {', '.join(tags)}\")\n"
   ]
  },
  {
   "cell_type": "markdown",
   "metadata": {},
   "source": [
    "### Comparaison\n"
   ]
  },
  {
   "cell_type": "markdown",
   "metadata": {},
   "source": [
    "#### word2vec + svm\n"
   ]
  },
  {
   "cell_type": "code",
   "execution_count": null,
   "metadata": {},
   "outputs": [],
   "source": [
    "X_train = train_df[feature].values\n",
    "y_train = train_df[target].tolist()\n",
    "\n",
    "# Set up validation data.\n",
    "X_val = val_df[feature].values\n",
    "y_val = val_df[target].tolist()"
   ]
  },
  {
   "cell_type": "code",
   "execution_count": null,
   "metadata": {},
   "outputs": [],
   "source": [
    "# pas nativement mutilabel -> approche one vs rest via MultiOutputClassifier()\n",
    "\n",
    "def logistic_regression_classifier(train_df=train_df, feature='title_nltk', dict=standard_dict_title,\n",
    "                                   target='top_tags_50', test_df=test_df):\n",
    "\n",
    "    # Load your training data and labels\n",
    "    X_train = train_df[feature].values\n",
    "    y_train = train_df[target].tolist()\n",
    "\n",
    "    # training set\n",
    "    X_bow_matrix = token_list_into_bow_using_specific_dict(X_train, dict)\n",
    "\n",
    "    # target encoding\n",
    "    mlb = MultiLabelBinarizer()\n",
    "    y_encoded = mlb.fit_transform(y_train)\n",
    "\n",
    "    # Create a Logistic Regression classifier\n",
    "    logistic_reg = LogisticRegression(random_state=42)\n",
    "\n",
    "    # Create a MultiOutputClassifier with the Logistic Regression classifier\n",
    "    multi_output_classifier = MultiOutputClassifier(logistic_reg)\n",
    "\n",
    "    # Fit the MultiOutputClassifier to your training data\n",
    "    multi_output_classifier.fit(X_bow_matrix, y_encoded)\n",
    "\n",
    "    # Evaluate the model using a scorer\n",
    "    scorer = custom_jacc_scorer\n",
    "    score = scorer(multi_output_classifier, X_bow_matrix, y_encoded)\n",
    "    print(\"Score : \", score)\n",
    "\n",
    "\n",
    "    return multi_output_classifier, mlb\n",
    "\n",
    "\n",
    "multi_output_classifier, mlb_50 = logistic_regression_classifier()\n"
   ]
  },
  {
   "cell_type": "markdown",
   "metadata": {},
   "source": [
    "## 4 BERT\n"
   ]
  },
  {
   "cell_type": "code",
   "execution_count": 102,
   "metadata": {},
   "outputs": [
    {
     "name": "stdout",
     "output_type": "stream",
     "text": [
      "(47665, 9) \n",
      "\n"
     ]
    }
   ],
   "source": [
    "train_df, test_df = create_top_n_tags_feature(data=raw_data, n=NB_TAGS, slice=2, df_freq=df_freq)\n"
   ]
  },
  {
   "cell_type": "code",
   "execution_count": 103,
   "metadata": {},
   "outputs": [
    {
     "name": "stderr",
     "output_type": "stream",
     "text": [
      "No model was supplied, defaulted to distilbert-base-cased-distilled-squad and revision 626af31 (https://huggingface.co/distilbert-base-cased-distilled-squad).\n",
      "Using a pipeline without specifying a model name and revision in production is not recommended.\n",
      "All PyTorch model weights were used when initializing TFDistilBertForQuestionAnswering.\n",
      "\n",
      "All the weights of TFDistilBertForQuestionAnswering were initialized from the PyTorch model.\n",
      "If your task is similar to the task the model of the checkpoint was trained on, you can already use TFDistilBertForQuestionAnswering for predictions without further training.\n"
     ]
    }
   ],
   "source": [
    "qa = pipeline(\"question-answering\")\n",
    "\n",
    "context=test_df['body'][1]\n",
    "\n",
    "question = \"What topics is this about ?\"\n",
    "\n",
    "reponse = qa(question=question, context=context)\n"
   ]
  },
  {
   "cell_type": "code",
   "execution_count": 104,
   "metadata": {},
   "outputs": [
    {
     "name": "stdout",
     "output_type": "stream",
     "text": [
      "I have to work through a proxy at the office and when I press (Ctrl+Shift+P), type Install and try to load a package list, I get the error \"Package Control: There are no packages available for installation.\"  \n",
      "In my 'Package Control.sublime-settings' I have:\n",
      "{\n",
      "    \"auto_upgrade_last_run\": 1345569476,\n",
      "    \"http_proxy\": \"http://user_name:password@<proxy-name>:<proxy_port>\"\n",
      "}\n",
      "\n",
      "What am I missing OR what is a better option for me to control my system using the proxy. Once I get home I typically have to disable these proxies. Is there a truly system-wide way to make it use a proxy and then disable the proxy with a single command or click?\n",
      "Also this is in Ubuntu 12.04.\n",
      "EDIT: Sublime Text Package Manager has been updated to include options for working through a proxy, you can find this in the package settings.\n",
      "\n"
     ]
    }
   ],
   "source": [
    "print(context)\n"
   ]
  },
  {
   "cell_type": "code",
   "execution_count": 105,
   "metadata": {},
   "outputs": [
    {
     "name": "stdout",
     "output_type": "stream",
     "text": [
      "{'score': 0.013762914575636387, 'start': 657, 'end': 669, 'answer': 'Ubuntu 12.04'}\n"
     ]
    }
   ],
   "source": [
    "print(reponse)\n",
    "\n",
    "# Pas mal, mais on n'est plus vraiment dans le supervisé\n"
   ]
  },
  {
   "cell_type": "code",
   "execution_count": null,
   "metadata": {},
   "outputs": [],
   "source": [
    "# fine tunons\n"
   ]
  },
  {
   "cell_type": "markdown",
   "metadata": {},
   "source": [
    "## Ressources\n"
   ]
  },
  {
   "cell_type": "code",
   "execution_count": 106,
   "metadata": {},
   "outputs": [],
   "source": [
    "# Word2vec\n",
    "# https://colab.research.google.com/github/futuremojo/nlp-demystified/blob/main/notebooks/nlpdemystified_word_vectors.ipynb#scrollTo=SBQlbyiVY3WJ\n",
    "\n",
    "\n"
   ]
  }
 ],
 "metadata": {
  "kernelspec": {
   "display_name": "myenv_p5",
   "language": "python",
   "name": "python3"
  },
  "language_info": {
   "codemirror_mode": {
    "name": "ipython",
    "version": 3
   },
   "file_extension": ".py",
   "mimetype": "text/x-python",
   "name": "python",
   "nbconvert_exporter": "python",
   "pygments_lexer": "ipython3",
   "version": "3.11.5"
  }
 },
 "nbformat": 4,
 "nbformat_minor": 2
}
