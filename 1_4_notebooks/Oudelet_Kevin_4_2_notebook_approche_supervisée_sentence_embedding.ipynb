{
 "cells": [
  {
   "cell_type": "markdown",
   "metadata": {},
   "source": [
    "## **Catégorisez automatiquement des questions**\n",
    "\n",
    "### partie 4/8 (suite): Prédiction de tags, approche supervisée, sentence embedding\n",
    "\n",
    "#### <br> L'objectif de ce notebook est de découvrir des techniques NLP plus avancées: Word2Vec (peut être remplacé par Doc2Vec), BERT, USE\n",
    "\n",
    "<br>\n"
   ]
  },
  {
   "cell_type": "markdown",
   "metadata": {},
   "source": [
    "## 1 Imports\n"
   ]
  },
  {
   "cell_type": "markdown",
   "metadata": {},
   "source": [
    "### 1.1 Librairies\n"
   ]
  },
  {
   "cell_type": "code",
   "execution_count": 2,
   "metadata": {},
   "outputs": [],
   "source": [
    "#\n",
    "import os\n",
    "import ast\n",
    "from pprint import pprint\n",
    "\n",
    "import gdown\n",
    "import collections\n",
    "import matplotlib.pyplot as plt\n",
    "import numpy as np\n",
    "import pandas as pd\n",
    "import spacy\n",
    "import tensorflow as tf\n",
    "\n",
    "from gensim.models.keyedvectors import KeyedVectors\n",
    "from sklearn.preprocessing import MultiLabelBinarizer\n",
    "from sklearn.decomposition import PCA\n",
    "from sklearn.model_selection import train_test_split\n",
    "from tensorflow import keras\n",
    "from tensorflow.keras import layers\n",
    "\n",
    "import operator\n",
    "from datasets import load_dataset\n",
    "\n",
    "import transformers\n",
    "from transformers import AutoTokenizer\n",
    "from transformers import pipeline\n",
    "from transformers import TFAutoModelForQuestionAnswering\n"
   ]
  },
  {
   "cell_type": "markdown",
   "metadata": {},
   "source": [
    "### Fonctions\n"
   ]
  },
  {
   "cell_type": "code",
   "execution_count": 3,
   "metadata": {},
   "outputs": [],
   "source": [
    "def turn_str_back_into_list(df):\n",
    "    \"\"\"Correct the type change due to .csv export\"\"\"\n",
    "\n",
    "    df['title_nltk'] = df['title_nltk'].apply(ast.literal_eval)\n",
    "    df['body_nltk'] = df['body_nltk'].apply(ast.literal_eval)\n",
    "    df['title_spacy'] = df['title_spacy'].apply(ast.literal_eval)\n",
    "    df['body_spacy'] = df['body_spacy'].apply(ast.literal_eval)\n",
    "    df['all_tags'] = df['all_tags'].apply(ast.literal_eval)\n",
    "\n",
    "\n",
    "df_freq = pd.DataFrame()\n",
    "\n",
    "def keep_most_frequent_tags(list_tags, df_freq=df_freq, lim=100):\n",
    "    \"\"\"\n",
    "    Keep only the n most frequent tags (default 100).\n",
    "\n",
    "    Parameters:\n",
    "    - liste_tokens (list): The input list of tokens to be processed.\n",
    "    - forbidden_list (set): A set of forbidden tokens, which includes stop words,\n",
    "      tokens exceeding upper frequency limits, and tokens falling below lower frequency limits.\n",
    "\n",
    "    Returns:\n",
    "    list: A filtered list of tokens that excludes stop words, tokens exceeding upper frequency limits,\n",
    "    and tokens falling below lower frequency limits.\n",
    "    \"\"\"\n",
    "\n",
    "    mandatory_list = df_freq['Tag'][:lim].tolist()\n",
    "    filtered_list = [token for token in list_tags if token in mandatory_list]\n",
    "\n",
    "    return filtered_list\n",
    "\n",
    "\n",
    "def create_top_n_tags_feature(data, n=100, slice=1, df_freq=df_freq):\n",
    "    data[f'top_tags_{n}'] = data['all_tags'].apply(\n",
    "        lambda x: keep_most_frequent_tags(x, df_freq=df_freq, lim=n)\n",
    "    )\n",
    "\n",
    "    data = data.loc[data[f'top_tags_{n}'].apply(len) >= 0, :].copy()\n",
    "    print(data.shape, '\\n')\n",
    "\n",
    "    slice_df = data[::slice]\n",
    "    # slice_df.reset_index(drop=True, inplace=True)\n",
    "\n",
    "    # stratify ?\n",
    "    train_df, test_df = train_test_split(slice_df, test_size=0.1, random_state=42)\n",
    "\n",
    "    train_df.reset_index(drop=True, inplace=True)\n",
    "    test_df.reset_index(drop=True, inplace=True)\n",
    "\n",
    "\n",
    "    return train_df, test_df\n",
    "\n"
   ]
  },
  {
   "cell_type": "markdown",
   "metadata": {},
   "source": [
    "### Data\n"
   ]
  },
  {
   "cell_type": "code",
   "execution_count": 4,
   "metadata": {},
   "outputs": [
    {
     "data": {
      "text/html": [
       "<div>\n",
       "<style scoped>\n",
       "    .dataframe tbody tr th:only-of-type {\n",
       "        vertical-align: middle;\n",
       "    }\n",
       "\n",
       "    .dataframe tbody tr th {\n",
       "        vertical-align: top;\n",
       "    }\n",
       "\n",
       "    .dataframe thead th {\n",
       "        text-align: right;\n",
       "    }\n",
       "</style>\n",
       "<table border=\"1\" class=\"dataframe\">\n",
       "  <thead>\n",
       "    <tr style=\"text-align: right;\">\n",
       "      <th></th>\n",
       "      <th>CreationDate</th>\n",
       "      <th>title</th>\n",
       "      <th>body</th>\n",
       "      <th>all_tags</th>\n",
       "      <th>title_nltk</th>\n",
       "      <th>body_nltk</th>\n",
       "      <th>title_spacy</th>\n",
       "      <th>body_spacy</th>\n",
       "    </tr>\n",
       "  </thead>\n",
       "  <tbody>\n",
       "    <tr>\n",
       "      <th>47660</th>\n",
       "      <td>2011-05-23 22:22:56</td>\n",
       "      <td>How can I send a file document to the printer ...</td>\n",
       "      <td>Here's the basic premise:\\nMy user clicks some...</td>\n",
       "      <td>[c#, winforms, pdf, .net-4.0, printing]</td>\n",
       "      <td>[send, file, document, printer, print]</td>\n",
       "      <td>[send, file, document, printer, print, premise...</td>\n",
       "      <td>[send, file, document, printer, print]</td>\n",
       "      <td>[premise, user, click, file, spit, desktop, wa...</td>\n",
       "    </tr>\n",
       "    <tr>\n",
       "      <th>47661</th>\n",
       "      <td>2011-05-23 21:15:51</td>\n",
       "      <td>CA1014 Mark 'some.dll' with CLSCompliant(true)...</td>\n",
       "      <td>When I run StyleCop, I got this error message ...</td>\n",
       "      <td>[visual-studio, visual-studio-2010, dll, style...</td>\n",
       "      <td>[mark, dll, error, message, vs2010]</td>\n",
       "      <td>[mark, dll, error, message, vs2010, run, get, ...</td>\n",
       "      <td>[error, message]</td>\n",
       "      <td>[run, error, message, need, mark, dll, set, dl...</td>\n",
       "    </tr>\n",
       "    <tr>\n",
       "      <th>47662</th>\n",
       "      <td>2011-05-23 21:05:59</td>\n",
       "      <td>How to change a text file's name in C++?</td>\n",
       "      <td>I would like to change a txt file's name, but ...</td>\n",
       "      <td>[c++, algorithm, file, directory, file-rename]</td>\n",
       "      <td>[change, text, file, name, c]</td>\n",
       "      <td>[change, text, file, name, c, like, change, tx...</td>\n",
       "      <td>[change, text, file]</td>\n",
       "      <td>[like, change, txt, file, find, example, want,...</td>\n",
       "    </tr>\n",
       "    <tr>\n",
       "      <th>47663</th>\n",
       "      <td>2011-05-23 20:06:35</td>\n",
       "      <td>php implode (101) with quotes</td>\n",
       "      <td>Imploding  a simple array \\nwould look like th...</td>\n",
       "      <td>[php, arrays, string, csv, implode]</td>\n",
       "      <td>[php, quote]</td>\n",
       "      <td>[php, quote, array, look, array, array, lastna...</td>\n",
       "      <td>[quote]</td>\n",
       "      <td>[implode, array, look, array, email, phone, ar...</td>\n",
       "    </tr>\n",
       "    <tr>\n",
       "      <th>47664</th>\n",
       "      <td>2011-05-23 20:00:57</td>\n",
       "      <td>What characters are allowed in a iOS file name?</td>\n",
       "      <td>I'm looking for a way to make sure a string ca...</td>\n",
       "      <td>[ios, file, filenames, character-encoding, nsf...</td>\n",
       "      <td>[character, allow, file, name]</td>\n",
       "      <td>[character, allow, file, name, look, way, make...</td>\n",
       "      <td>[character, allow, file]</td>\n",
       "      <td>[look, way, string, file, section, code, delet...</td>\n",
       "    </tr>\n",
       "  </tbody>\n",
       "</table>\n",
       "</div>"
      ],
      "text/plain": [
       "              CreationDate  ...                                         body_spacy\n",
       "47660  2011-05-23 22:22:56  ...  [premise, user, click, file, spit, desktop, wa...\n",
       "47661  2011-05-23 21:15:51  ...  [run, error, message, need, mark, dll, set, dl...\n",
       "47662  2011-05-23 21:05:59  ...  [like, change, txt, file, find, example, want,...\n",
       "47663  2011-05-23 20:06:35  ...  [implode, array, look, array, email, phone, ar...\n",
       "47664  2011-05-23 20:00:57  ...  [look, way, string, file, section, code, delet...\n",
       "\n",
       "[5 rows x 8 columns]"
      ]
     },
     "metadata": {},
     "output_type": "display_data"
    },
    {
     "name": "stdout",
     "output_type": "stream",
     "text": [
      "(47665, 8)\n"
     ]
    }
   ],
   "source": [
    "raw_data = pd.read_csv('./../0_data/cleaned_data/bow_classic.csv', sep=',')\n",
    "\n",
    "turn_str_back_into_list(raw_data)\n",
    "\n",
    "display(raw_data.tail())\n",
    "\n",
    "print(raw_data.shape)\n"
   ]
  },
  {
   "cell_type": "code",
   "execution_count": 5,
   "metadata": {},
   "outputs": [
    {
     "name": "stdout",
     "output_type": "stream",
     "text": [
      "Il y a 238327 tags au total. \n",
      "\n",
      "Il y a 15817 tags différents. \n",
      "\n"
     ]
    }
   ],
   "source": [
    "all_tags = [tag for tags in raw_data['all_tags'] for tag in tags]\n",
    "print(f'Il y a {len(all_tags)} tags au total. \\n')\n",
    "print(f'Il y a {len(set(all_tags))} tags différents. \\n')\n",
    "\n",
    "# display(questions_tags)\n",
    "\n",
    "# Fréquence\n",
    "tag_frequencies_dict = {}\n",
    "for tag in all_tags:\n",
    "    tag_frequencies_dict[tag] = tag_frequencies_dict.get(tag, 0) + 1\n",
    "\n",
    "# Sort the dictionary items by values in descending order\n",
    "sorted_tag_frequencies = dict(sorted(tag_frequencies_dict.items(), key=lambda item: item[1], reverse=True))\n",
    "\n",
    "# Extract tags and frequencies\n",
    "tags = list(sorted_tag_frequencies.keys())\n",
    "frequencies = list(sorted_tag_frequencies.values())\n",
    "\n",
    "df_freq = pd.DataFrame({'Tag': tags, 'Frequency': frequencies})\n"
   ]
  },
  {
   "cell_type": "code",
   "execution_count": 6,
   "metadata": {},
   "outputs": [
    {
     "name": "stdout",
     "output_type": "stream",
     "text": [
      "(47665, 9) \n",
      "\n",
      "(2145, 9)\n"
     ]
    },
    {
     "data": {
      "text/html": [
       "<div>\n",
       "<style scoped>\n",
       "    .dataframe tbody tr th:only-of-type {\n",
       "        vertical-align: middle;\n",
       "    }\n",
       "\n",
       "    .dataframe tbody tr th {\n",
       "        vertical-align: top;\n",
       "    }\n",
       "\n",
       "    .dataframe thead th {\n",
       "        text-align: right;\n",
       "    }\n",
       "</style>\n",
       "<table border=\"1\" class=\"dataframe\">\n",
       "  <thead>\n",
       "    <tr style=\"text-align: right;\">\n",
       "      <th></th>\n",
       "      <th>CreationDate</th>\n",
       "      <th>title</th>\n",
       "      <th>body</th>\n",
       "      <th>all_tags</th>\n",
       "      <th>title_nltk</th>\n",
       "      <th>body_nltk</th>\n",
       "      <th>title_spacy</th>\n",
       "      <th>body_spacy</th>\n",
       "      <th>top_tags_30</th>\n",
       "    </tr>\n",
       "  </thead>\n",
       "  <tbody>\n",
       "    <tr>\n",
       "      <th>0</th>\n",
       "      <td>2015-06-22 08:41:30</td>\n",
       "      <td>Add strikethrough to checked checkbox</td>\n",
       "      <td>I am trying to add strikethrough when i select...</td>\n",
       "      <td>[css, checkbox, twitter-bootstrap-3, forms, st...</td>\n",
       "      <td>[add, check, checkbox]</td>\n",
       "      <td>[add, check, checkbox, try, add, select, check...</td>\n",
       "      <td>[add, check, checkbox]</td>\n",
       "      <td>[try, add, select, checkbox, form, code, div, ...</td>\n",
       "      <td>[css]</td>\n",
       "    </tr>\n",
       "    <tr>\n",
       "      <th>1</th>\n",
       "      <td>2014-04-01 22:01:50</td>\n",
       "      <td>Does MongoDB's $in clause guarantee order</td>\n",
       "      <td>When using MongoDB's $in clause, does the orde...</td>\n",
       "      <td>[mongodb, mongoose, mapreduce, mongodb-query, ...</td>\n",
       "      <td>[clause, guarantee, order]</td>\n",
       "      <td>[clause, guarantee, order, mongodb, clause, or...</td>\n",
       "      <td>[clause, guarantee, order]</td>\n",
       "      <td>[mongodb, clause, order, return, document, cor...</td>\n",
       "      <td>[]</td>\n",
       "    </tr>\n",
       "    <tr>\n",
       "      <th>2</th>\n",
       "      <td>2014-02-20 06:41:36</td>\n",
       "      <td>What are OLTP and OLAP. What is the difference...</td>\n",
       "      <td>Actually what do they mean? All articles I fin...</td>\n",
       "      <td>[database, database-design, database-schema, o...</td>\n",
       "      <td>[difference]</td>\n",
       "      <td>[difference, mean, article, find, give, idea, ...</td>\n",
       "      <td>[difference]</td>\n",
       "      <td>[mean, article, find, idea, knowledge, underst...</td>\n",
       "      <td>[]</td>\n",
       "    </tr>\n",
       "    <tr>\n",
       "      <th>3</th>\n",
       "      <td>2018-03-31 15:42:30</td>\n",
       "      <td>Is it possible to make constructor static in T...</td>\n",
       "      <td>I read about a static constructor in TypeScrip...</td>\n",
       "      <td>[javascript, typescript, constructor, static, ...</td>\n",
       "      <td>[make, constructor, typescript]</td>\n",
       "      <td>[make, constructor, typescript, read, construc...</td>\n",
       "      <td>[constructor, static]</td>\n",
       "      <td>[read, constructor, try, work, want, initializ...</td>\n",
       "      <td>[javascript, typescript]</td>\n",
       "    </tr>\n",
       "    <tr>\n",
       "      <th>4</th>\n",
       "      <td>2013-05-08 11:06:15</td>\n",
       "      <td>Batch file for PuTTY/PSFTP file transfer autom...</td>\n",
       "      <td>I have a batch file for moving file from my lo...</td>\n",
       "      <td>[batch-file, cmd, sftp, putty, psftp]</td>\n",
       "      <td>[batch, file, file, transfer, automation]</td>\n",
       "      <td>[batch, file, file, transfer, automation, batc...</td>\n",
       "      <td>[batch, file, file, transfer, automation]</td>\n",
       "      <td>[batch, file, file, pc, server, instal, system...</td>\n",
       "      <td>[]</td>\n",
       "    </tr>\n",
       "  </tbody>\n",
       "</table>\n",
       "</div>"
      ],
      "text/plain": [
       "          CreationDate  ...               top_tags_30\n",
       "0  2015-06-22 08:41:30  ...                     [css]\n",
       "1  2014-04-01 22:01:50  ...                        []\n",
       "2  2014-02-20 06:41:36  ...                        []\n",
       "3  2018-03-31 15:42:30  ...  [javascript, typescript]\n",
       "4  2013-05-08 11:06:15  ...                        []\n",
       "\n",
       "[5 rows x 9 columns]"
      ]
     },
     "metadata": {},
     "output_type": "display_data"
    }
   ],
   "source": [
    "NB_TAGS = 30\n",
    "\n",
    "train_df, test_df = create_top_n_tags_feature(data=raw_data, n=NB_TAGS, slice=20, df_freq=df_freq)\n",
    "\n",
    "print(train_df.shape)\n",
    "\n",
    "display(train_df.head())\n"
   ]
  },
  {
   "cell_type": "markdown",
   "metadata": {},
   "source": [
    "## 2 Static embedding : word vectors\n"
   ]
  },
  {
   "cell_type": "markdown",
   "metadata": {},
   "source": [
    "### 2.1 Using Pretrained, Third-Party Vectors\n"
   ]
  },
  {
   "cell_type": "code",
   "execution_count": 7,
   "metadata": {},
   "outputs": [
    {
     "name": "stdout",
     "output_type": "stream",
     "text": [
      "File already exists.\n"
     ]
    }
   ],
   "source": [
    "# Destination path where the file will be saved\n",
    "output = \"GoogleNews-vectors-negative300.bin.gz\"\n",
    "\n",
    "# Check if the file already exists\n",
    "if not os.path.exists(output):\n",
    "    # URL of the file in Google Drive\n",
    "    url = \"https://drive.google.com/uc?id=1BpfbHu4denceXiv8yfdY3EHgjKIcULku\"\n",
    "\n",
    "    # Download the file from Google Drive\n",
    "    gdown.download(url, quiet=False)\n",
    "    print(\"File downloaded successfully.\")\n",
    "else:\n",
    "    print(\"File already exists.\")\n"
   ]
  },
  {
   "cell_type": "code",
   "execution_count": 8,
   "metadata": {},
   "outputs": [],
   "source": [
    "word_vectors = KeyedVectors.load_word2vec_format(output, binary=True, limit=200000)\n"
   ]
  },
  {
   "cell_type": "markdown",
   "metadata": {},
   "source": [
    "### 2.2 What a word vector looks like\n"
   ]
  },
  {
   "cell_type": "code",
   "execution_count": 9,
   "metadata": {},
   "outputs": [
    {
     "name": "stdout",
     "output_type": "stream",
     "text": [
      "Vector dimension: (300,)\n",
      "[-1.25976562e-01  2.53906250e-02  1.66992188e-01  5.50781250e-01\n",
      " -7.66601562e-02  1.28906250e-01  1.02539062e-01 -3.94821167e-04\n",
      "  1.21582031e-01  4.32128906e-02  1.72851562e-01 -6.83593750e-02\n",
      "  3.41796875e-01  8.39843750e-02  6.68945312e-02  2.67578125e-01\n",
      " -3.71093750e-02 -5.56640625e-02  1.80664062e-01  1.90429688e-02\n",
      " -5.07812500e-02  9.03320312e-03  1.76757812e-01  6.49414062e-02\n",
      " -6.25000000e-02 -9.42382812e-02 -9.71679688e-02  4.00390625e-01\n",
      "  1.15234375e-01  1.02539062e-01 -1.86767578e-02 -2.69531250e-01\n",
      "  1.80664062e-01  1.25000000e-01 -3.17382812e-02 -5.49316406e-02\n",
      "  3.45703125e-01 -1.57470703e-02  1.82390213e-05  2.07031250e-01\n",
      " -1.25976562e-01 -2.83203125e-01  2.00195312e-01  8.34960938e-02\n",
      " -4.73632812e-02 -3.11279297e-02 -2.61718750e-01  1.69921875e-01\n",
      " -2.02636719e-02  1.53320312e-01 -1.20605469e-01  3.75000000e-01\n",
      " -5.68847656e-02 -4.76074219e-03 -1.95312500e-01 -2.03125000e-01\n",
      "  3.00781250e-01 -1.01074219e-01 -3.18359375e-01 -9.03320312e-02\n",
      " -1.19140625e-01  1.95312500e-01 -8.78906250e-02  1.58203125e-01\n",
      "  1.51977539e-02 -1.60156250e-01 -3.30078125e-01 -4.66796875e-01\n",
      "  1.68945312e-01  2.23388672e-02  1.55273438e-01  1.08398438e-01\n",
      " -3.56445312e-02  9.13085938e-02 -8.69140625e-02 -1.20117188e-01\n",
      " -3.08593750e-01 -2.61230469e-02 -7.22656250e-02 -4.80468750e-01\n",
      "  3.78417969e-02 -1.35742188e-01 -1.02539062e-01 -2.91015625e-01\n",
      " -1.93359375e-01 -4.21875000e-01 -1.06445312e-01  3.55468750e-01\n",
      "  1.66992188e-01 -3.63159180e-03 -7.42187500e-02 -3.22265625e-01\n",
      " -7.51953125e-02 -8.25195312e-02 -2.91015625e-01 -1.25976562e-01\n",
      "  1.68457031e-02  5.00488281e-02  1.27929688e-01 -7.42187500e-02\n",
      " -1.30859375e-01 -2.46093750e-01  6.49414062e-02  1.53320312e-01\n",
      "  2.59765625e-01 -1.05468750e-01  3.57421875e-01 -4.29687500e-02\n",
      " -1.58203125e-01  8.20312500e-02 -5.98144531e-02 -2.34375000e-01\n",
      " -3.22265625e-01 -1.25976562e-01  5.39550781e-02 -1.87500000e-01\n",
      "  1.35742188e-01 -6.59179688e-02  8.36181641e-03 -1.84570312e-01\n",
      " -2.96875000e-01 -1.84570312e-01 -4.73632812e-02 -1.06445312e-01\n",
      " -6.93359375e-02  3.83300781e-02 -3.19824219e-02  3.63769531e-02\n",
      " -1.20117188e-01  1.76757812e-01 -1.15722656e-01  1.98974609e-02\n",
      "  8.64257812e-02  6.07910156e-02 -1.40625000e-01  3.30078125e-01\n",
      "  1.94335938e-01 -1.56250000e-01  3.92578125e-01  1.80816650e-03\n",
      "  7.27539062e-02 -2.53906250e-01 -3.54003906e-02  2.86865234e-03\n",
      " -1.72851562e-01  9.76562500e-03 -1.55639648e-02  3.23486328e-03\n",
      " -1.69921875e-01  1.55273438e-01  7.17773438e-02  4.10156250e-01\n",
      " -2.10937500e-01  1.31835938e-01  7.62939453e-03  4.78515625e-02\n",
      " -4.54101562e-02  7.32421875e-02 -4.06250000e-01 -2.06298828e-02\n",
      " -4.04296875e-01 -1.00585938e-01 -2.03125000e-01  1.55273438e-01\n",
      " -1.89453125e-01  6.59179688e-02  6.54296875e-02 -2.05078125e-01\n",
      "  5.46875000e-02 -3.06396484e-02 -1.54296875e-01 -2.61718750e-01\n",
      "  3.81469727e-03 -8.20312500e-02 -3.20312500e-01  2.84423828e-02\n",
      "  2.69531250e-01  1.73828125e-01 -1.66992188e-01  2.22656250e-01\n",
      "  6.34765625e-02 -1.96289062e-01  1.45507812e-01 -1.56250000e-02\n",
      "  2.60009766e-02 -6.29882812e-02  2.94189453e-02  3.28125000e-01\n",
      " -4.68750000e-02 -1.52343750e-01  6.98242188e-02  3.18359375e-01\n",
      " -1.08398438e-01  3.66210938e-02 -1.99218750e-01  1.64031982e-03\n",
      "  6.40869141e-03 -1.47460938e-01 -6.25000000e-02 -4.36401367e-03\n",
      " -2.75390625e-01  8.54492188e-02 -5.00488281e-02 -3.12500000e-01\n",
      " -1.33789062e-01 -1.99218750e-01  5.17578125e-02 -9.27734375e-02\n",
      " -2.40234375e-01 -7.86132812e-02 -1.54296875e-01 -6.64062500e-02\n",
      " -1.97265625e-01  1.76757812e-01 -1.57226562e-01 -1.63085938e-01\n",
      "  6.00585938e-02 -5.85937500e-02 -2.22656250e-01 -6.59179688e-02\n",
      " -9.37500000e-02 -4.14062500e-01  2.55859375e-01 -1.76757812e-01\n",
      "  2.51953125e-01  1.48437500e-01 -1.04492188e-01 -8.60595703e-03\n",
      " -1.22558594e-01 -9.22851562e-02  4.41894531e-02 -1.70898438e-01\n",
      " -1.98242188e-01  1.92382812e-01  2.85156250e-01 -4.34570312e-02\n",
      "  1.08398438e-01 -5.37109375e-02 -2.09960938e-02  1.46484375e-01\n",
      "  3.82812500e-01  2.31933594e-02 -8.83789062e-02  7.32421875e-02\n",
      " -1.01074219e-01 -1.06445312e-01  4.12109375e-01  2.10937500e-01\n",
      "  2.79296875e-01 -2.08740234e-02  2.07031250e-01  9.81445312e-02\n",
      "  2.39257812e-01  7.66601562e-02  2.02148438e-01 -6.07910156e-02\n",
      " -2.63977051e-03 -1.83593750e-01 -1.57470703e-02 -3.20312500e-01\n",
      "  9.03320312e-02  1.02050781e-01 -4.96093750e-01 -9.71679688e-02\n",
      " -8.10546875e-02 -1.80664062e-01 -1.45507812e-01  8.64257812e-02\n",
      " -2.04101562e-01 -2.02148438e-01 -5.46875000e-02  2.53906250e-01\n",
      "  2.08740234e-02 -1.15722656e-01  2.02148438e-01 -8.05664062e-02\n",
      " -1.04980469e-01 -7.95898438e-02  1.96533203e-02 -2.49023438e-01\n",
      "  1.30859375e-01  2.89062500e-01 -2.25585938e-01  4.55078125e-01\n",
      " -2.73437500e-01 -2.57812500e-01 -3.14941406e-02  4.04296875e-01\n",
      " -2.67578125e-01  2.89062500e-01 -1.83593750e-01 -1.48437500e-01\n",
      " -1.06933594e-01  1.27929688e-01  5.46875000e-01 -8.69140625e-02\n",
      " -1.48315430e-02  6.98242188e-02 -8.49609375e-02 -1.55273438e-01]\n"
     ]
    }
   ],
   "source": [
    "pizza = word_vectors['pizza']\n",
    "print(f'Vector dimension: {pizza.shape}')\n",
    "\n",
    "# The embedding for the word 'pizza'.\n",
    "print(pizza)\n"
   ]
  },
  {
   "cell_type": "markdown",
   "metadata": {},
   "source": [
    "### 2.3 compare two words\n"
   ]
  },
  {
   "cell_type": "code",
   "execution_count": 10,
   "metadata": {},
   "outputs": [
    {
     "name": "stdout",
     "output_type": "stream",
     "text": [
      "0.35505623\n",
      "0.3695989\n",
      "0.4708358\n"
     ]
    }
   ],
   "source": [
    "# Appétissant !\n",
    "\n",
    "print(word_vectors.similarity('pizza', 'tomato'))\n",
    "print(word_vectors.similarity('pizza', 'sauce'))\n",
    "print(word_vectors.similarity('pizza', 'cheese'))\n",
    "\n",
    "# Knew it ! Cheese is the most important. It's scientifically proven.\n"
   ]
  },
  {
   "cell_type": "code",
   "execution_count": 11,
   "metadata": {},
   "outputs": [
    {
     "name": "stdout",
     "output_type": "stream",
     "text": [
      "0.108518735\n",
      "0.11185603\n",
      "0.14119942\n"
     ]
    }
   ],
   "source": [
    "print(word_vectors.similarity('pizza', 'gorilla'))\n",
    "print(word_vectors.similarity('pizza', 'tree'))\n",
    "print(word_vectors.similarity('pizza', 'yoga'))\n",
    "\n",
    "# So pizza has more to do with trees than gorillas ?\n"
   ]
  },
  {
   "cell_type": "code",
   "execution_count": 12,
   "metadata": {},
   "outputs": [
    {
     "name": "stdout",
     "output_type": "stream",
     "text": [
      "0.549539\n",
      "0.12199123\n",
      "0.33437246\n",
      "0.23539218\n"
     ]
    }
   ],
   "source": [
    "# On our data\n",
    "\n",
    "print(word_vectors.similarity('html', 'javascript'))\n",
    "print(word_vectors.similarity('python', 'javascript'))\n",
    "print(word_vectors.similarity('java', 'javascript')) # bien vu !\n",
    "print(word_vectors.similarity('html', 'android'))\n"
   ]
  },
  {
   "cell_type": "markdown",
   "metadata": {},
   "source": [
    "### 2.4 OOV\n"
   ]
  },
  {
   "cell_type": "code",
   "execution_count": 13,
   "metadata": {},
   "outputs": [
    {
     "name": "stdout",
     "output_type": "stream",
     "text": [
      "\"Key 'womblyboo' not present\"\n"
     ]
    }
   ],
   "source": [
    "try:\n",
    "  word_vectors['womblyboo']\n",
    "except KeyError as e:\n",
    "  print(e)\n",
    "\n",
    "#\n"
   ]
  },
  {
   "cell_type": "markdown",
   "metadata": {},
   "source": [
    "### 2.5 Compare two sentences\n"
   ]
  },
  {
   "cell_type": "code",
   "execution_count": 14,
   "metadata": {},
   "outputs": [
    {
     "data": {
      "text/plain": [
       "0.5314661"
      ]
     },
     "execution_count": 14,
     "metadata": {},
     "output_type": "execute_result"
    }
   ],
   "source": [
    "word_vectors.n_similarity(\"dog bites man\".split(), \"canine nips human\".split())\n"
   ]
  },
  {
   "cell_type": "code",
   "execution_count": 15,
   "metadata": {},
   "outputs": [
    {
     "data": {
      "text/plain": [
       "0.14505778"
      ]
     },
     "execution_count": 15,
     "metadata": {},
     "output_type": "execute_result"
    }
   ],
   "source": [
    "word_vectors.n_similarity(\"martian dolphins are hostile\".split(), \"i flunked calligraphy school\".split())\n"
   ]
  },
  {
   "cell_type": "code",
   "execution_count": 16,
   "metadata": {},
   "outputs": [
    {
     "data": {
      "text/plain": [
       "1.0"
      ]
     },
     "execution_count": 16,
     "metadata": {},
     "output_type": "execute_result"
    }
   ],
   "source": [
    "word_vectors.n_similarity(\"dog bites man\".split(), \"man bites dog\".split())\n",
    "# Same\n"
   ]
  },
  {
   "cell_type": "code",
   "execution_count": 17,
   "metadata": {},
   "outputs": [
    {
     "data": {
      "text/plain": [
       "0.52682734"
      ]
     },
     "execution_count": 17,
     "metadata": {},
     "output_type": "execute_result"
    }
   ],
   "source": [
    "s1 = \"Volkswagen intends to double electric car sales in China\".lower().split()\n",
    "s2 = \"First Toyota with solid state battery will be hybrid\".lower().split()\n",
    "word_vectors.n_similarity(s1, s2)\n"
   ]
  },
  {
   "cell_type": "code",
   "execution_count": 18,
   "metadata": {},
   "outputs": [
    {
     "name": "stdout",
     "output_type": "stream",
     "text": [
      "Read a pdf file from assets folder\n",
      "How to create weighted adjacency list/matrix from edge list?\n"
     ]
    },
    {
     "data": {
      "text/plain": [
       "0.97024286"
      ]
     },
     "execution_count": 18,
     "metadata": {},
     "output_type": "execute_result"
    }
   ],
   "source": [
    "# Test on our data\n",
    "\n",
    "s1 = test_df['title'][0]\n",
    "print(s1)\n",
    "s2 = test_df['title'][1]\n",
    "print(s2)\n",
    "\n",
    "word_vectors.n_similarity(s1, s2)\n"
   ]
  },
  {
   "cell_type": "markdown",
   "metadata": {},
   "source": [
    "### 2.6 most_similar, doesnt_match\n"
   ]
  },
  {
   "cell_type": "code",
   "execution_count": 19,
   "metadata": {},
   "outputs": [
    {
     "data": {
      "text/plain": [
       "[('cells', 0.8180485963821411),\n",
       " ('Cells', 0.6146953105926514),\n",
       " ('Cell', 0.532131552696228),\n",
       " ('cellular', 0.5272858738899231),\n",
       " ('tumor_cells', 0.5097642540931702),\n",
       " ('ES_cells', 0.4866572618484497),\n",
       " ('immune_cells', 0.48319193720817566),\n",
       " ('epithelial_cells', 0.4781806468963623),\n",
       " ('molecule', 0.47757473587989807),\n",
       " ('proteins', 0.47494736313819885)]"
      ]
     },
     "execution_count": 19,
     "metadata": {},
     "output_type": "execute_result"
    }
   ],
   "source": [
    "word_vectors.most_similar(positive=['cell'], topn=10)\n"
   ]
  },
  {
   "cell_type": "code",
   "execution_count": 20,
   "metadata": {},
   "outputs": [
    {
     "data": {
      "text/plain": [
       "[('cell_phone', 0.6861390471458435),\n",
       " ('cellular', 0.6757438778877258),\n",
       " ('cellphone', 0.6633196473121643),\n",
       " ('telephone', 0.6474040150642395),\n",
       " ('Phone', 0.6051893830299377),\n",
       " ('phones', 0.5896332859992981),\n",
       " ('cells', 0.5850948095321655),\n",
       " ('cordless_phone', 0.5711769461631775),\n",
       " ('Cell', 0.561764121055603),\n",
       " ('landline', 0.546729564666748)]"
      ]
     },
     "execution_count": 20,
     "metadata": {},
     "output_type": "execute_result"
    }
   ],
   "source": [
    "word_vectors.most_similar(positive=['cell', 'phone'], topn=10)\n"
   ]
  },
  {
   "cell_type": "code",
   "execution_count": 21,
   "metadata": {},
   "outputs": [
    {
     "data": {
      "text/plain": [
       "'hamburger'"
      ]
     },
     "execution_count": 21,
     "metadata": {},
     "output_type": "execute_result"
    }
   ],
   "source": [
    "# doublt we'll use this one, but funny :\n",
    "\n",
    "word_vectors.doesnt_match([\"apple\", \"orange\", \"hamburger\", \"banana\", \"kiwi\"])\n"
   ]
  },
  {
   "cell_type": "code",
   "execution_count": 22,
   "metadata": {},
   "outputs": [
    {
     "data": {
      "text/plain": [
       "'Toyota'"
      ]
     },
     "execution_count": 22,
     "metadata": {},
     "output_type": "execute_result"
    }
   ],
   "source": [
    "word_vectors.doesnt_match([\"Microsoft\", \"Apple\", \"Toyota\", \"Amazon\", \"Netflix\", \"Google\"])\n"
   ]
  },
  {
   "cell_type": "markdown",
   "metadata": {},
   "source": [
    "### 2.7 Visualisons\n"
   ]
  },
  {
   "cell_type": "code",
   "execution_count": 23,
   "metadata": {},
   "outputs": [],
   "source": [
    "def display_pca_scatterplot(model, words):\n",
    "    word_vectors = np.array([model[w] for w in words])\n",
    "\n",
    "    twodim = PCA().fit_transform(word_vectors)[:,:2]\n",
    "\n",
    "    plt.figure(figsize=(10,10))\n",
    "    plt.scatter(twodim[:,0], twodim[:,1], edgecolors='k', c='r', s=128)\n",
    "    for word, (x,y) in zip(words, twodim):\n",
    "        plt.text(x+0.05, y+0.05, word)"
   ]
  },
  {
   "cell_type": "code",
   "execution_count": 24,
   "metadata": {},
   "outputs": [
    {
     "data": {
      "image/png": "[encoded data removed]",
      "text/plain": [
       "<Figure size 1000x1000 with 1 Axes>"
      ]
     },
     "metadata": {},
     "output_type": "display_data"
    }
   ],
   "source": [
    "display_pca_scatterplot(word_vectors, ['swim', 'swimming', 'cat', 'dog', 'feline', 'road', 'car', 'bus'])\n"
   ]
  },
  {
   "cell_type": "code",
   "execution_count": 25,
   "metadata": {},
   "outputs": [
    {
     "data": {
      "text/plain": [
       "[('UK', 0.623056948184967),\n",
       " ('Britain', 0.6016389727592468),\n",
       " ('United_Kingdom', 0.5343458652496338)]"
      ]
     },
     "execution_count": 25,
     "metadata": {},
     "output_type": "execute_result"
    }
   ],
   "source": [
    "word_vectors.most_similar(positive=['Italy', 'London'], negative=['Rome'], topn=3)\n"
   ]
  },
  {
   "cell_type": "code",
   "execution_count": 26,
   "metadata": {},
   "outputs": [
    {
     "data": {
      "image/png": "[encoded data removed]",
      "text/plain": [
       "<Figure size 1000x1000 with 1 Axes>"
      ]
     },
     "metadata": {},
     "output_type": "display_data"
    }
   ],
   "source": [
    "display_pca_scatterplot(word_vectors, ['Rome', 'Italy', 'London', 'Britain', 'UK'])\n"
   ]
  },
  {
   "cell_type": "markdown",
   "metadata": {},
   "source": [
    "## 3 Using Pretrained Word Vectors for Classification\n"
   ]
  },
  {
   "cell_type": "code",
   "execution_count": 27,
   "metadata": {},
   "outputs": [
    {
     "name": "stdout",
     "output_type": "stream",
     "text": [
      "3000000\n"
     ]
    }
   ],
   "source": [
    "word_vectors = KeyedVectors.load_word2vec_format(output, binary=True) # limit=None\n",
    "\n",
    "print(len(word_vectors))\n"
   ]
  },
  {
   "cell_type": "markdown",
   "metadata": {},
   "source": [
    "### using a validation set\n"
   ]
  },
  {
   "cell_type": "code",
   "execution_count": 28,
   "metadata": {},
   "outputs": [
    {
     "data": {
      "text/html": [
       "<div>\n",
       "<style scoped>\n",
       "    .dataframe tbody tr th:only-of-type {\n",
       "        vertical-align: middle;\n",
       "    }\n",
       "\n",
       "    .dataframe tbody tr th {\n",
       "        vertical-align: top;\n",
       "    }\n",
       "\n",
       "    .dataframe thead th {\n",
       "        text-align: right;\n",
       "    }\n",
       "</style>\n",
       "<table border=\"1\" class=\"dataframe\">\n",
       "  <thead>\n",
       "    <tr style=\"text-align: right;\">\n",
       "      <th></th>\n",
       "      <th>CreationDate</th>\n",
       "      <th>title</th>\n",
       "      <th>body</th>\n",
       "      <th>all_tags</th>\n",
       "      <th>title_nltk</th>\n",
       "      <th>body_nltk</th>\n",
       "      <th>title_spacy</th>\n",
       "      <th>body_spacy</th>\n",
       "      <th>top_tags_30</th>\n",
       "    </tr>\n",
       "  </thead>\n",
       "  <tbody>\n",
       "    <tr>\n",
       "      <th>0</th>\n",
       "      <td>2011-11-08 22:19:50</td>\n",
       "      <td>Epoll on regular files</td>\n",
       "      <td>Can epoll (on Linux) be somehow useful for reg...</td>\n",
       "      <td>[c++, c, linux, sockets, epoll]</td>\n",
       "      <td>[epoll, file]</td>\n",
       "      <td>[epoll, file, epoll, linux, file, know, socket...</td>\n",
       "      <td>[file]</td>\n",
       "      <td>[epoll, file, know, socket, wonder]</td>\n",
       "      <td>[c++, c, linux]</td>\n",
       "    </tr>\n",
       "    <tr>\n",
       "      <th>1</th>\n",
       "      <td>2012-05-12 01:45:13</td>\n",
       "      <td>How do I query using fields inside the new Pos...</td>\n",
       "      <td>I am looking for some docs and/or examples for...</td>\n",
       "      <td>[sql, json, postgresql, postgresql-9.2, postgr...</td>\n",
       "      <td>[query, field, postgresql, json, datatype]</td>\n",
       "      <td>[query, field, postgresql, json, datatype, loo...</td>\n",
       "      <td>[query, field, postgresql, json, datatype]</td>\n",
       "      <td>[look, doc, example, function, postgresql, ser...</td>\n",
       "      <td>[sql, json]</td>\n",
       "    </tr>\n",
       "    <tr>\n",
       "      <th>2</th>\n",
       "      <td>2018-02-21 17:42:08</td>\n",
       "      <td>aws lambda Unable to import module 'lambda_fun...</td>\n",
       "      <td>I have recently started to use AWS Lambda to u...</td>\n",
       "      <td>[python, amazon-web-services, logging, aws-lam...</td>\n",
       "      <td>[aws, import, module, module, name, request]</td>\n",
       "      <td>[aws, import, module, module, name, request, s...</td>\n",
       "      <td>[lambda, import, module, module, request]</td>\n",
       "      <td>[start, use, aw, use, trigger, python, code, w...</td>\n",
       "      <td>[python]</td>\n",
       "    </tr>\n",
       "    <tr>\n",
       "      <th>3</th>\n",
       "      <td>2018-03-26 05:33:03</td>\n",
       "      <td>Can we check the device to be smartphone or ta...</td>\n",
       "      <td>I am actually trying to figure out if the app ...</td>\n",
       "      <td>[flutter, dart, tablet, smartphone, devicecheck]</td>\n",
       "      <td>[check, device, smartphone, tablet, flutter]</td>\n",
       "      <td>[check, device, smartphone, tablet, flutter, t...</td>\n",
       "      <td>[check, device, smartphone, tablet]</td>\n",
       "      <td>[try, figure, app, run, smartphone, tablet, fl...</td>\n",
       "      <td>[]</td>\n",
       "    </tr>\n",
       "    <tr>\n",
       "      <th>4</th>\n",
       "      <td>2018-11-11 13:35:50</td>\n",
       "      <td>docker-compose mysql init sql is not executed</td>\n",
       "      <td>I am trying to set up a mysql docker container...</td>\n",
       "      <td>[mysql, sql, database, docker, docker-compose]</td>\n",
       "      <td>[docker, compose, init, sql, execute]</td>\n",
       "      <td>[docker, compose, init, sql, execute, try, set...</td>\n",
       "      <td>[docker, compose, mysql, execute]</td>\n",
       "      <td>[try, set, mysql, docker, container, execute, ...</td>\n",
       "      <td>[mysql, sql]</td>\n",
       "    </tr>\n",
       "  </tbody>\n",
       "</table>\n",
       "</div>"
      ],
      "text/plain": [
       "          CreationDate  ...      top_tags_30\n",
       "0  2011-11-08 22:19:50  ...  [c++, c, linux]\n",
       "1  2012-05-12 01:45:13  ...      [sql, json]\n",
       "2  2018-02-21 17:42:08  ...         [python]\n",
       "3  2018-03-26 05:33:03  ...               []\n",
       "4  2018-11-11 13:35:50  ...     [mysql, sql]\n",
       "\n",
       "[5 rows x 9 columns]"
      ]
     },
     "metadata": {},
     "output_type": "display_data"
    }
   ],
   "source": [
    "train_df, val_df = train_test_split(train_df, train_size=0.9, random_state=1)\n",
    "\n",
    "train_df.reset_index(drop=True, inplace=True)\n",
    "val_df.reset_index(drop=True, inplace=True)\n",
    "\n",
    "display(train_df.head())\n"
   ]
  },
  {
   "cell_type": "code",
   "execution_count": 29,
   "metadata": {},
   "outputs": [],
   "source": [
    "# Set up training data.\n",
    "\n",
    "feature = 'title' # on va testeer le tokenizer de keras\n",
    "target = 'top_tags_' + str(NB_TAGS)\n",
    "\n",
    "X_train = train_df[feature].values\n",
    "y_train = train_df[target].tolist()\n",
    "\n",
    "# Set up validation data.\n",
    "X_val = val_df[feature].values\n",
    "y_val = val_df[target].tolist()\n"
   ]
  },
  {
   "cell_type": "code",
   "execution_count": 30,
   "metadata": {},
   "outputs": [
    {
     "name": "stdout",
     "output_type": "stream",
     "text": [
      "[[0 0 0 ... 0 0 0]\n",
      " [0 0 0 ... 0 0 0]\n",
      " [0 0 0 ... 0 0 0]\n",
      " ...\n",
      " [0 0 0 ... 1 0 1]\n",
      " [0 0 0 ... 0 0 0]\n",
      " [0 0 0 ... 0 0 0]]\n"
     ]
    }
   ],
   "source": [
    "# encodage target\n",
    "\n",
    "def target_encoding(y):\n",
    "    # Target encoding\n",
    "    mlb = MultiLabelBinarizer()\n",
    "    y_encoded = mlb.fit_transform(y)\n",
    "\n",
    "    return y_encoded\n",
    "\n",
    "\n",
    "y_train_encoded = target_encoding(y_train)\n",
    "y_val_encoded = target_encoding(y_val)\n",
    "\n",
    "print(y_train_encoded)\n"
   ]
  },
  {
   "cell_type": "code",
   "execution_count": 31,
   "metadata": {},
   "outputs": [],
   "source": [
    "tokenizer = keras.preprocessing.text.Tokenizer(num_words=20000,\n",
    "                                               filters='0123456789!\"#$%&()*+,-./:;<=>?@[\\]^_`{|}~',\n",
    "                                               lower=True)\n",
    "\n",
    "tokenizer.fit_on_texts(X_train)\n"
   ]
  },
  {
   "cell_type": "code",
   "execution_count": 32,
   "metadata": {},
   "outputs": [
    {
     "name": "stdout",
     "output_type": "stream",
     "text": [
      "[1691, 12, 1125, 54]\n",
      "['epoll', 'on', 'regular']\n"
     ]
    }
   ],
   "source": [
    "X_train_tokens = tokenizer.texts_to_sequences(X_train)\n",
    "\n",
    "print(X_train_tokens[0])\n",
    "print([tokenizer.index_word[x] for x in X_train_tokens[0][:3]])\n"
   ]
  },
  {
   "cell_type": "code",
   "execution_count": 33,
   "metadata": {},
   "outputs": [
    {
     "data": {
      "text/plain": [
       "'epoll on regular files'"
      ]
     },
     "execution_count": 33,
     "metadata": {},
     "output_type": "execute_result"
    }
   ],
   "source": [
    "# Review excerpt reconstructed from integer sequence.\n",
    "tokenizer.sequences_to_texts([X_train_tokens[0]])[0][:300]\n"
   ]
  },
  {
   "cell_type": "code",
   "execution_count": 34,
   "metadata": {},
   "outputs": [
    {
     "data": {
      "text/plain": [
       "'Epoll on regular files'"
      ]
     },
     "execution_count": 34,
     "metadata": {},
     "output_type": "execute_result"
    }
   ],
   "source": [
    "# Original review text.\n",
    "train_df[feature].iloc[0][:300]\n"
   ]
  },
  {
   "cell_type": "code",
   "execution_count": 35,
   "metadata": {},
   "outputs": [
    {
     "name": "stdout",
     "output_type": "stream",
     "text": [
      "Mean number of tokens: 9.350777202072539\n",
      "Median number of tokens: 9.0\n",
      "Mode number of tokens: 8\n",
      "Standard deviation of tokens: 3.6905932681031564\n"
     ]
    }
   ],
   "source": [
    "# Get the number of tokens for each text\n",
    "num_tokens = [len(tokens) for tokens in tokenizer.texts_to_sequences(X_train)]\n",
    "\n",
    "# Calculate statistics\n",
    "mean_tokens = np.mean(num_tokens)\n",
    "median_tokens = np.median(num_tokens)\n",
    "mode_tokens = max(set(num_tokens), key=num_tokens.count)\n",
    "std_tokens = np.std(num_tokens)\n",
    "\n",
    "# Print statistics\n",
    "print(\"Mean number of tokens:\", mean_tokens)\n",
    "print(\"Median number of tokens:\", median_tokens)\n",
    "print(\"Mode number of tokens:\", mode_tokens)\n",
    "print(\"Standard deviation of tokens:\", std_tokens)\n"
   ]
  },
  {
   "cell_type": "code",
   "execution_count": 36,
   "metadata": {},
   "outputs": [
    {
     "name": "stdout",
     "output_type": "stream",
     "text": [
      "        num_tokens\n",
      "count  1930.000000\n",
      "mean      9.350777\n",
      "std       3.691550\n",
      "min       2.000000\n",
      "25%       7.000000\n",
      "50%       9.000000\n",
      "75%      11.000000\n",
      "max      26.000000\n"
     ]
    }
   ],
   "source": [
    "# Convert list to DataFrame\n",
    "df_num_tokens = pd.DataFrame(num_tokens, columns=['num_tokens'])\n",
    "\n",
    "# Use describe() to get summary statistics\n",
    "summary_stats = df_num_tokens.describe()\n",
    "\n",
    "print(summary_stats)\n"
   ]
  },
  {
   "cell_type": "code",
   "execution_count": 37,
   "metadata": {},
   "outputs": [
    {
     "name": "stdout",
     "output_type": "stream",
     "text": [
      "       num_tokens\n",
      "count  458.000000\n",
      "mean    14.541485\n",
      "std      2.875883\n",
      "min     12.000000\n",
      "25%     12.000000\n",
      "50%     14.000000\n",
      "75%     16.000000\n",
      "max     26.000000\n"
     ]
    }
   ],
   "source": [
    "summary_stats = df_num_tokens.loc[df_num_tokens['num_tokens'] > 11, :].describe()\n",
    "\n",
    "print(summary_stats)\n",
    "\n",
    "# OK on va prendre jusqu'à 15 inclus\n"
   ]
  },
  {
   "cell_type": "markdown",
   "metadata": {},
   "source": [
    "### Padding\n"
   ]
  },
  {
   "cell_type": "code",
   "execution_count": 38,
   "metadata": {},
   "outputs": [],
   "source": [
    "# Pas indispensable ici, mais bientôt utile\n",
    "\n",
    "MAX_LEN = 15\n",
    "X_train = keras.preprocessing.sequence.pad_sequences(X_train_tokens, maxlen=MAX_LEN)\n"
   ]
  },
  {
   "cell_type": "code",
   "execution_count": 39,
   "metadata": {},
   "outputs": [
    {
     "name": "stdout",
     "output_type": "stream",
     "text": [
      "[   0    0    0    0    0    0    0    0    0    0    0 1691   12 1125\n",
      "   54]\n",
      "[  0   0   0   3  21  15 186  13 285 204   5 140 286  53 655]\n"
     ]
    }
   ],
   "source": [
    "print(X_train[0])\n",
    "print(X_train[1])\n"
   ]
  },
  {
   "cell_type": "code",
   "execution_count": 40,
   "metadata": {},
   "outputs": [],
   "source": [
    "X_val = tokenizer.texts_to_sequences(X_val)\n",
    "X_val = keras.preprocessing.sequence.pad_sequences(X_val, maxlen=MAX_LEN)\n"
   ]
  },
  {
   "cell_type": "code",
   "execution_count": 41,
   "metadata": {},
   "outputs": [
    {
     "name": "stdout",
     "output_type": "stream",
     "text": [
      "3789\n"
     ]
    }
   ],
   "source": [
    "# + 1 to account for padding token.\n",
    "num_tokens = len(tokenizer.word_index) + 1\n",
    "print(num_tokens)\n",
    "\n",
    "# Initialize a matrix of zeroes of size: vocabulary x embedding dimension.\n",
    "embedding_dim = 300\n",
    "embedding_matrix = np.zeros((num_tokens, embedding_dim))\n",
    "\n",
    "for word, i in tokenizer.word_index.items():\n",
    "  if word_vectors.has_index_for(word):\n",
    "    embedding_matrix[i] = word_vectors[word].copy()\n"
   ]
  },
  {
   "cell_type": "code",
   "execution_count": 42,
   "metadata": {},
   "outputs": [
    {
     "name": "stdout",
     "output_type": "stream",
     "text": [
      "[ 0.04052734  0.0625     -0.01745605  0.07861328  0.03271484 -0.01263428\n",
      "  0.00964355  0.12353516 -0.02148438  0.15234375 -0.05834961 -0.10644531\n",
      "  0.02124023  0.13574219 -0.13183594  0.17675781  0.27148438  0.13769531\n",
      " -0.17382812 -0.14160156 -0.03076172  0.19628906 -0.03295898  0.125\n",
      "  0.25390625  0.12695312 -0.15234375  0.03198242  0.01135254 -0.01361084\n",
      " -0.12890625  0.01019287  0.23925781 -0.08447266  0.140625    0.13085938\n",
      " -0.04516602  0.06494141  0.02539062  0.05615234  0.24609375 -0.20507812\n",
      "  0.23632812 -0.00860596 -0.02294922  0.05078125  0.10644531 -0.03564453\n",
      "  0.08740234 -0.05712891]\n"
     ]
    }
   ],
   "source": [
    "# Quick visual check.\n",
    "print(embedding_matrix[tokenizer.word_index['good']][:50])\n"
   ]
  },
  {
   "cell_type": "code",
   "execution_count": 43,
   "metadata": {},
   "outputs": [],
   "source": [
    "embedding_layer = layers.Embedding(\n",
    "    num_tokens,\n",
    "    embedding_dim,\n",
    "    embeddings_initializer=keras.initializers.Constant(embedding_matrix),\n",
    "    input_length=MAX_LEN,\n",
    "    trainable=True\n",
    ")\n"
   ]
  },
  {
   "cell_type": "code",
   "execution_count": 44,
   "metadata": {},
   "outputs": [
    {
     "name": "stderr",
     "output_type": "stream",
     "text": [
      "2024-02-12 17:56:42.671288: I tensorflow/core/common_runtime/process_util.cc:146] Creating new thread pool with default inter op setting: 2. Tune using inter_op_parallelism_threads for best performance.\n"
     ]
    }
   ],
   "source": [
    "tf.random.set_seed(0)\n",
    "\n",
    "model = keras.Sequential()\n",
    "\n",
    "# This layer will output a sequence of 300-dimension *vectors*, one for each element in the input sequence.\n",
    "model.add(embedding_layer)\n",
    "\n",
    "# This layer will calculate an average of those vectors.\n",
    "model.add(layers.GlobalAveragePooling1D())\n",
    "\n",
    "model.add(layers.Dense(150, activation='relu', kernel_initializer=tf.keras.initializers.random_normal(seed=1)))\n",
    "model.add(layers.Dense(75, activation='relu', kernel_initializer=tf.keras.initializers.random_normal(seed=1)))\n",
    "model.add(layers.Dense(NB_TAGS, activation='sigmoid', kernel_initializer=tf.keras.initializers.random_normal(seed=1)))\n",
    "\n",
    "model.compile(optimizer='adam',\n",
    "              loss='binary_crossentropy',\n",
    "              metrics=['accuracy'])\n"
   ]
  },
  {
   "cell_type": "code",
   "execution_count": 45,
   "metadata": {},
   "outputs": [
    {
     "name": "stdout",
     "output_type": "stream",
     "text": [
      "Review: fantastic papaya steak\n",
      "Review as sequence of integers: [[]]\n",
      "Review embeddings shape: (Batch size: 1, Sequence length: 0, Embedding size: 300)\n",
      "Average of embeddings (shape): (1, 300)\n"
     ]
    },
    {
     "name": "stderr",
     "output_type": "stream",
     "text": [
      "/home/ubuntu/anaconda3/envs/myenv_p5/lib/python3.11/site-packages/numpy/core/fromnumeric.py:3432: RuntimeWarning: Mean of empty slice.\n",
      "  return _methods._mean(a, axis=axis, dtype=dtype,\n",
      "/home/ubuntu/anaconda3/envs/myenv_p5/lib/python3.11/site-packages/numpy/core/_methods.py:182: RuntimeWarning: invalid value encountered in divide\n",
      "  ret = um.true_divide(\n"
     ]
    }
   ],
   "source": [
    "# modif\n",
    "\n",
    "review = \"fantastic papaya steak\"\n",
    "print(f\"Review: {review}\")\n",
    "\n",
    "review_sequence = tokenizer.texts_to_sequences([review])\n",
    "print(f\"Review as sequence of integers: {review_sequence}\")\n",
    "\n",
    "review_embeddings = embedding_layer(np.array(review_sequence))\n",
    "print(f\"Review embeddings shape: (Batch size: {review_embeddings.shape[0]}, \\\n",
    "Sequence length: {review_embeddings.shape[1]}, \\\n",
    "Embedding size: {review_embeddings.shape[2]})\")\n",
    "\n",
    "# How our document will be presented to the rest of the neural network.\n",
    "print(f\"Average of embeddings (shape): {np.mean(review_embeddings, axis=1).shape}\")\n"
   ]
  },
  {
   "cell_type": "code",
   "execution_count": 46,
   "metadata": {},
   "outputs": [
    {
     "name": "stdout",
     "output_type": "stream",
     "text": [
      "Model: \"sequential\"\n",
      "_________________________________________________________________\n",
      " Layer (type)                Output Shape              Param #   \n",
      "=================================================================\n",
      " embedding (Embedding)       (None, 15, 300)           1136700   \n",
      "                                                                 \n",
      " global_average_pooling1d (G  (None, 300)              0         \n",
      " lobalAveragePooling1D)                                          \n",
      "                                                                 \n",
      " dense (Dense)               (None, 150)               45150     \n",
      "                                                                 \n",
      " dense_1 (Dense)             (None, 75)                11325     \n",
      "                                                                 \n",
      " dense_2 (Dense)             (None, 30)                2280      \n",
      "                                                                 \n",
      "=================================================================\n",
      "Total params: 1,195,455\n",
      "Trainable params: 1,195,455\n",
      "Non-trainable params: 0\n",
      "_________________________________________________________________\n"
     ]
    }
   ],
   "source": [
    "model.summary()\n"
   ]
  },
  {
   "cell_type": "code",
   "execution_count": 47,
   "metadata": {},
   "outputs": [
    {
     "name": "stdout",
     "output_type": "stream",
     "text": [
      "Epoch 1/20\n"
     ]
    },
    {
     "name": "stdout",
     "output_type": "stream",
     "text": [
      "4/4 [==============================] - 1s 139ms/step - loss: 0.6909 - accuracy: 0.0269 - val_loss: 0.6865 - val_accuracy: 0.0233\n",
      "Epoch 2/20\n",
      "4/4 [==============================] - 0s 80ms/step - loss: 0.6820 - accuracy: 0.0269 - val_loss: 0.6734 - val_accuracy: 0.0279\n",
      "Epoch 3/20\n",
      "4/4 [==============================] - 0s 106ms/step - loss: 0.6636 - accuracy: 0.0275 - val_loss: 0.6459 - val_accuracy: 0.0279\n",
      "Epoch 4/20\n",
      "4/4 [==============================] - 0s 88ms/step - loss: 0.6263 - accuracy: 0.0275 - val_loss: 0.5919 - val_accuracy: 0.0279\n",
      "Epoch 5/20\n",
      "4/4 [==============================] - 0s 59ms/step - loss: 0.5570 - accuracy: 0.0275 - val_loss: 0.4985 - val_accuracy: 0.0279\n",
      "Epoch 6/20\n",
      "4/4 [==============================] - 0s 67ms/step - loss: 0.4476 - accuracy: 0.0264 - val_loss: 0.3673 - val_accuracy: 0.0233\n",
      "Epoch 7/20\n",
      "4/4 [==============================] - 0s 74ms/step - loss: 0.3138 - accuracy: 0.0326 - val_loss: 0.2410 - val_accuracy: 0.0233\n",
      "Epoch 8/20\n",
      "4/4 [==============================] - 0s 89ms/step - loss: 0.2127 - accuracy: 0.0321 - val_loss: 0.1865 - val_accuracy: 0.0233\n",
      "Epoch 9/20\n",
      "4/4 [==============================] - 0s 83ms/step - loss: 0.1874 - accuracy: 0.0321 - val_loss: 0.1937 - val_accuracy: 0.0233\n",
      "Epoch 10/20\n",
      "4/4 [==============================] - 0s 80ms/step - loss: 0.1998 - accuracy: 0.0389 - val_loss: 0.2009 - val_accuracy: 0.0698\n",
      "Epoch 11/20\n",
      "4/4 [==============================] - 0s 67ms/step - loss: 0.2017 - accuracy: 0.0762 - val_loss: 0.1908 - val_accuracy: 0.0698\n",
      "Epoch 12/20\n",
      "4/4 [==============================] - 0s 81ms/step - loss: 0.1895 - accuracy: 0.0762 - val_loss: 0.1764 - val_accuracy: 0.0698\n",
      "Epoch 13/20\n",
      "4/4 [==============================] - 0s 85ms/step - loss: 0.1774 - accuracy: 0.0762 - val_loss: 0.1698 - val_accuracy: 0.0698\n",
      "Epoch 14/20\n",
      "4/4 [==============================] - 0s 56ms/step - loss: 0.1734 - accuracy: 0.0839 - val_loss: 0.1706 - val_accuracy: 0.1163\n",
      "Epoch 15/20\n",
      "4/4 [==============================] - 0s 72ms/step - loss: 0.1740 - accuracy: 0.0943 - val_loss: 0.1719 - val_accuracy: 0.1163\n",
      "Epoch 16/20\n",
      "4/4 [==============================] - 0s 56ms/step - loss: 0.1739 - accuracy: 0.0974 - val_loss: 0.1708 - val_accuracy: 0.1302\n",
      "Epoch 17/20\n",
      "4/4 [==============================] - 0s 75ms/step - loss: 0.1718 - accuracy: 0.1140 - val_loss: 0.1688 - val_accuracy: 0.1116\n",
      "Epoch 18/20\n",
      "4/4 [==============================] - 0s 58ms/step - loss: 0.1697 - accuracy: 0.1083 - val_loss: 0.1680 - val_accuracy: 0.1209\n",
      "Epoch 19/20\n",
      "4/4 [==============================] - 0s 55ms/step - loss: 0.1689 - accuracy: 0.1166 - val_loss: 0.1683 - val_accuracy: 0.1070\n",
      "Epoch 20/20\n",
      "4/4 [==============================] - 0s 65ms/step - loss: 0.1687 - accuracy: 0.1192 - val_loss: 0.1683 - val_accuracy: 0.1163\n"
     ]
    }
   ],
   "source": [
    "history = model.fit(X_train, y_train_encoded, epochs=20, batch_size=512, validation_data=(X_val, y_val_encoded))\n"
   ]
  },
  {
   "cell_type": "code",
   "execution_count": 48,
   "metadata": {},
   "outputs": [],
   "source": [
    "def plot_train_vs_val_performance(history):\n",
    "  training_losses = history.history['loss']\n",
    "  validation_losses = history.history['val_loss']\n",
    "\n",
    "  training_accuracy = history.history['accuracy']\n",
    "  validation_accuracy = history.history['val_accuracy']\n",
    "\n",
    "  epochs = range(1, len(training_losses) + 1)\n",
    "\n",
    "  import matplotlib.pyplot as plt\n",
    "  fig, (ax1, ax2) = plt.subplots(2)\n",
    "  fig.set_figheight(15)\n",
    "  fig.set_figwidth(15)\n",
    "  fig.tight_layout(pad=5.0)\n",
    "\n",
    "  # Plot training vs. validation loss.\n",
    "  ax1.plot(epochs, training_losses, 'bo', label='Training Loss')\n",
    "  ax1.plot(epochs, validation_losses, 'b', label='Validation Loss')\n",
    "  ax1.title.set_text('Training vs. Validation Loss')\n",
    "  ax1.set_xlabel('Epoch')\n",
    "  ax1.set_ylabel('Loss')\n",
    "  ax1.legend()\n",
    "\n",
    "  # PLot training vs. validation accuracy.\n",
    "  ax2.plot(epochs, training_accuracy, 'bo', label='Training Accuracy')\n",
    "  ax2.plot(epochs, validation_accuracy, 'b', label='Validation Accuracy')\n",
    "  ax2.title.set_text('Training vs. Validation Accuracy')\n",
    "  ax2.set_xlabel('Epoch')\n",
    "  ax2.set_ylabel('Accuracy')\n",
    "  ax2.legend()\n",
    "\n",
    "  plt.show()"
   ]
  },
  {
   "cell_type": "code",
   "execution_count": 49,
   "metadata": {},
   "outputs": [
    {
     "data": {
      "image/png": "[encoded data removed]",
      "text/plain": [
       "<Figure size 1500x1500 with 2 Axes>"
      ]
     },
     "metadata": {},
     "output_type": "display_data"
    }
   ],
   "source": [
    "plot_train_vs_val_performance(history)\n"
   ]
  },
  {
   "cell_type": "code",
   "execution_count": 50,
   "metadata": {},
   "outputs": [
    {
     "name": "stdout",
     "output_type": "stream",
     "text": [
      "Epoch 1/16\n",
      "4/4 [==============================] - 1s 124ms/step - loss: 0.6899 - accuracy: 0.0280 - val_loss: 0.6831 - val_accuracy: 0.0186\n",
      "Epoch 2/16\n",
      "4/4 [==============================] - 0s 70ms/step - loss: 0.6776 - accuracy: 0.0264 - val_loss: 0.6632 - val_accuracy: 0.0279\n",
      "Epoch 3/16\n",
      "4/4 [==============================] - 0s 63ms/step - loss: 0.6520 - accuracy: 0.0275 - val_loss: 0.6222 - val_accuracy: 0.0279\n",
      "Epoch 4/16\n",
      "4/4 [==============================] - 0s 79ms/step - loss: 0.6013 - accuracy: 0.0280 - val_loss: 0.5464 - val_accuracy: 0.0279\n",
      "Epoch 5/16\n",
      "4/4 [==============================] - 0s 50ms/step - loss: 0.5127 - accuracy: 0.0295 - val_loss: 0.4286 - val_accuracy: 0.0279\n",
      "Epoch 6/16\n",
      "4/4 [==============================] - 0s 59ms/step - loss: 0.3867 - accuracy: 0.0311 - val_loss: 0.2918 - val_accuracy: 0.0233\n",
      "Epoch 7/16\n",
      "4/4 [==============================] - 0s 54ms/step - loss: 0.2594 - accuracy: 0.0321 - val_loss: 0.2014 - val_accuracy: 0.0233\n",
      "Epoch 8/16\n",
      "4/4 [==============================] - 0s 68ms/step - loss: 0.1938 - accuracy: 0.0321 - val_loss: 0.1917 - val_accuracy: 0.0233\n",
      "Epoch 9/16\n",
      "4/4 [==============================] - 0s 61ms/step - loss: 0.1929 - accuracy: 0.0321 - val_loss: 0.2072 - val_accuracy: 0.0233\n",
      "Epoch 10/16\n",
      "4/4 [==============================] - 0s 70ms/step - loss: 0.2025 - accuracy: 0.0601 - val_loss: 0.2054 - val_accuracy: 0.0698\n",
      "Epoch 11/16\n",
      "4/4 [==============================] - 0s 82ms/step - loss: 0.1963 - accuracy: 0.0762 - val_loss: 0.1897 - val_accuracy: 0.0698\n",
      "Epoch 12/16\n",
      "4/4 [==============================] - 0s 54ms/step - loss: 0.1827 - accuracy: 0.0762 - val_loss: 0.1759 - val_accuracy: 0.0698\n",
      "Epoch 13/16\n",
      "4/4 [==============================] - 0s 60ms/step - loss: 0.1744 - accuracy: 0.0762 - val_loss: 0.1711 - val_accuracy: 0.0698\n",
      "Epoch 14/16\n",
      "4/4 [==============================] - 0s 54ms/step - loss: 0.1731 - accuracy: 0.0777 - val_loss: 0.1710 - val_accuracy: 0.0977\n",
      "Epoch 15/16\n",
      "4/4 [==============================] - 0s 68ms/step - loss: 0.1733 - accuracy: 0.0974 - val_loss: 0.1706 - val_accuracy: 0.1209\n",
      "Epoch 16/16\n",
      "4/4 [==============================] - 0s 57ms/step - loss: 0.1717 - accuracy: 0.0969 - val_loss: 0.1693 - val_accuracy: 0.1163\n"
     ]
    },
    {
     "data": {
      "text/plain": [
       "<keras.callbacks.History at 0x7fe853b2c790>"
      ]
     },
     "execution_count": 50,
     "metadata": {},
     "output_type": "execute_result"
    }
   ],
   "source": [
    "# overfitting apres 16 iterations (epochs)\n",
    "\n",
    "embedding_layer = layers.Embedding(\n",
    "    num_tokens,\n",
    "    embedding_dim,\n",
    "    embeddings_initializer=keras.initializers.Constant(embedding_matrix),\n",
    "    input_length=MAX_LEN,\n",
    "    trainable=True,\n",
    "    mask_zero=True\n",
    ")\n",
    "\n",
    "model = keras.Sequential()\n",
    "\n",
    "model.add(embedding_layer)\n",
    "\n",
    "model.add(layers.GlobalAveragePooling1D())\n",
    "\n",
    "model.add(layers.Dense(150, activation='relu', kernel_initializer=tf.keras.initializers.random_normal(seed=1)))\n",
    "model.add(layers.Dense(75, activation='relu', kernel_initializer=tf.keras.initializers.random_normal(seed=1)))\n",
    "model.add(layers.Dense(NB_TAGS, activation='sigmoid', kernel_initializer=tf.keras.initializers.random_normal(seed=1)))\n",
    "\n",
    "model.compile(optimizer='adam',\n",
    "              loss='binary_crossentropy',\n",
    "              metrics=['accuracy'])\n",
    "\n",
    "\n",
    "model.fit(X_train, y_train_encoded, epochs=16, batch_size=512, validation_data=(X_val, y_val_encoded))\n"
   ]
  },
  {
   "cell_type": "code",
   "execution_count": 51,
   "metadata": {},
   "outputs": [
    {
     "name": "stdout",
     "output_type": "stream",
     "text": [
      "8/8 [==============================] - 0s 5ms/step - loss: 0.1710 - accuracy: 0.1213\n"
     ]
    },
    {
     "data": {
      "text/plain": [
       "[0.1710352897644043, 0.12133891135454178]"
      ]
     },
     "execution_count": 51,
     "metadata": {},
     "output_type": "execute_result"
    }
   ],
   "source": [
    "X_test = test_df[feature].values\n",
    "y_test = test_df[target].tolist()\n",
    "\n",
    "y_test_encoded = target_encoding(y_test)\n",
    "\n",
    "X_test = tokenizer.texts_to_sequences(X_test)\n",
    "X_test = keras.preprocessing.sequence.pad_sequences(X_test, maxlen=MAX_LEN)\n",
    "\n",
    "model.evaluate(X_test, y_test_encoded)\n"
   ]
  },
  {
   "cell_type": "code",
   "execution_count": 52,
   "metadata": {},
   "outputs": [
    {
     "name": "stdout",
     "output_type": "stream",
     "text": [
      "1\n",
      "[[5, 142, 5, 142, 592, 2987]]\n",
      "[5, 142, 5, 142, 592, 2987]\n",
      "['the', 'best', 'the', 'best', 'apple', 'pie']\n"
     ]
    },
    {
     "name": "stdout",
     "output_type": "stream",
     "text": [
      "1/1 [==============================] - 0s 150ms/step\n"
     ]
    }
   ],
   "source": [
    "def predict_tags(text, tokenizer=tokenizer, maxlen=MAX_LEN):\n",
    "    seqs = tokenizer.texts_to_sequences([text])\n",
    "    print(len(seqs))\n",
    "    print(seqs)\n",
    "    for seq in seqs:\n",
    "        print(seq)\n",
    "        print([tokenizer.index_word[x] for x in seq])\n",
    "\n",
    "    seqs = keras.preprocessing.sequence.pad_sequences(seqs, maxlen=maxlen)\n",
    "\n",
    "    return model.predict(seqs)\n",
    "\n",
    "\n",
    "tags = predict_tags(text=\"The best the best sea food apple pie\")\n"
   ]
  },
  {
   "cell_type": "code",
   "execution_count": 53,
   "metadata": {},
   "outputs": [
    {
     "name": "stdout",
     "output_type": "stream",
     "text": [
      "array([[0.06175433, 0.13171434, 0.03512774, 0.03993783, 0.03203926,\n",
      "        0.03521895, 0.16002336, 0.06651005, 0.05339571, 0.0828824 ,\n",
      "        0.12597755, 0.03959622, 0.1809316 , 0.16992451, 0.07380594,\n",
      "        0.03634531, 0.04572704, 0.03214651, 0.06016253, 0.04536352,\n",
      "        0.03192205, 0.06923392, 0.18663889, 0.03238623, 0.04240697,\n",
      "        0.05109882, 0.03875971, 0.03383232, 0.02814034, 0.04513845]],\n",
      "      dtype=float32)\n",
      "(1, 30)\n"
     ]
    }
   ],
   "source": [
    "pprint(tags)\n",
    "print(tags.shape)\n"
   ]
  },
  {
   "cell_type": "code",
   "execution_count": 54,
   "metadata": {},
   "outputs": [
    {
     "name": "stdout",
     "output_type": "stream",
     "text": [
      "1/1 [==============================] - 0s 43ms/step\n",
      "Top 5 tags for input text 1: flask, compiler-errors, large-language-model, langchain, eclipse\n",
      "Top 5 tags for input text 2: flask, compiler-errors, large-language-model, langchain, eclipse\n",
      "Top 5 tags for input text 3: flask, compiler-errors, large-language-model, langchain, eclipse\n",
      "Top 5 tags for input text 4: flask, compiler-errors, large-language-model, langchain, eclipse\n",
      "Top 5 tags for input text 5: flask, compiler-errors, large-language-model, langchain, eclipse\n",
      "Top 5 tags for input text 6: flask, compiler-errors, large-language-model, langchain, eclipse\n",
      "Top 5 tags for input text 7: flask, compiler-errors, large-language-model, langchain, eclipse\n",
      "Top 5 tags for input text 8: flask, compiler-errors, large-language-model, langchain, eclipse\n",
      "Top 5 tags for input text 9: flask, compiler-errors, large-language-model, langchain, eclipse\n",
      "Top 5 tags for input text 10: flask, compiler-errors, large-language-model, langchain, eclipse\n",
      "Top 5 tags for input text 11: flask, compiler-errors, large-language-model, langchain, eclipse\n",
      "Top 5 tags for input text 12: flask, compiler-errors, large-language-model, langchain, eclipse\n",
      "Top 5 tags for input text 13: flask, compiler-errors, large-language-model, langchain, eclipse\n",
      "Top 5 tags for input text 14: flask, compiler-errors, large-language-model, langchain, eclipse\n",
      "Top 5 tags for input text 15: flask, compiler-errors, large-language-model, langchain, eclipse\n",
      "Top 5 tags for input text 16: flask, compiler-errors, large-language-model, langchain, eclipse\n",
      "Top 5 tags for input text 17: flask, compiler-errors, large-language-model, langchain, eclipse\n",
      "Top 5 tags for input text 18: flask, compiler-errors, large-language-model, langchain, eclipse\n",
      "Top 5 tags for input text 19: flask, compiler-errors, large-language-model, langchain, eclipse\n",
      "Top 5 tags for input text 20: flask, compiler-errors, large-language-model, langchain, eclipse\n",
      "Top 5 tags for input text 21: flask, compiler-errors, large-language-model, langchain, eclipse\n",
      "Top 5 tags for input text 22: flask, compiler-errors, large-language-model, langchain, eclipse\n",
      "Top 5 tags for input text 23: flask, compiler-errors, large-language-model, langchain, eclipse\n",
      "Top 5 tags for input text 24: flask, compiler-errors, large-language-model, langchain, eclipse\n",
      "Top 5 tags for input text 25: flask, compiler-errors, large-language-model, langchain, eclipse\n"
     ]
    }
   ],
   "source": [
    "# OK reste juste à récup / associer les tags equivalents (targets)\n",
    "\n",
    "\n",
    "# Step 1: Make predictions with the model\n",
    "predictions = model.predict(X_test[:25])\n",
    "\n",
    "# Step 2: Get the indices of the top n most probable tags\n",
    "n = 5  # Number of top tags to return\n",
    "top_n_indices = np.argsort(predictions, axis=1)[:, -n:]\n",
    "\n",
    "# Step 3: Get the associated tags\n",
    "associated_tags = []\n",
    "for indices in top_n_indices:\n",
    "    tags = [all_tags[i] for i in indices]\n",
    "    associated_tags.append(tags)\n",
    "\n",
    "# Print associated tags for each input text\n",
    "for i, tags in enumerate(associated_tags):\n",
    "    print(f\"Top {n} tags for input text {i + 1}: {', '.join(tags)}\")\n",
    "\n"
   ]
  },
  {
   "cell_type": "markdown",
   "metadata": {},
   "source": [
    "## 4 BERT\n"
   ]
  },
  {
   "cell_type": "code",
   "execution_count": 55,
   "metadata": {},
   "outputs": [
    {
     "name": "stdout",
     "output_type": "stream",
     "text": [
      "(47665, 9) \n",
      "\n"
     ]
    }
   ],
   "source": [
    "train_df, test_df = create_top_n_tags_feature(data=raw_data, n=NB_TAGS, slice=2, df_freq=df_freq)\n"
   ]
  },
  {
   "cell_type": "code",
   "execution_count": 64,
   "metadata": {},
   "outputs": [
    {
     "name": "stderr",
     "output_type": "stream",
     "text": [
      "No model was supplied, defaulted to distilbert-base-cased-distilled-squad and revision 626af31 (https://huggingface.co/distilbert-base-cased-distilled-squad).\n",
      "Using a pipeline without specifying a model name and revision in production is not recommended.\n",
      "All PyTorch model weights were used when initializing TFDistilBertForQuestionAnswering.\n",
      "\n",
      "All the weights of TFDistilBertForQuestionAnswering were initialized from the PyTorch model.\n",
      "If your task is similar to the task the model of the checkpoint was trained on, you can already use TFDistilBertForQuestionAnswering for predictions without further training.\n"
     ]
    }
   ],
   "source": [
    "qa = pipeline(\"question-answering\")\n",
    "\n",
    "context=test_df['body'][1]\n",
    "\n",
    "question = \"What topics is this about ?\"\n",
    "\n",
    "reponse = qa(question=question, context=context)\n"
   ]
  },
  {
   "cell_type": "code",
   "execution_count": 65,
   "metadata": {},
   "outputs": [
    {
     "name": "stdout",
     "output_type": "stream",
     "text": [
      "I have to work through a proxy at the office and when I press (Ctrl+Shift+P), type Install and try to load a package list, I get the error \"Package Control: There are no packages available for installation.\"  \n",
      "In my 'Package Control.sublime-settings' I have:\n",
      "{\n",
      "    \"auto_upgrade_last_run\": 1345569476,\n",
      "    \"http_proxy\": \"http://user_name:password@<proxy-name>:<proxy_port>\"\n",
      "}\n",
      "\n",
      "What am I missing OR what is a better option for me to control my system using the proxy. Once I get home I typically have to disable these proxies. Is there a truly system-wide way to make it use a proxy and then disable the proxy with a single command or click?\n",
      "Also this is in Ubuntu 12.04.\n",
      "EDIT: Sublime Text Package Manager has been updated to include options for working through a proxy, you can find this in the package settings.\n",
      "\n"
     ]
    }
   ],
   "source": [
    "print(context)\n"
   ]
  },
  {
   "cell_type": "code",
   "execution_count": 66,
   "metadata": {},
   "outputs": [
    {
     "name": "stdout",
     "output_type": "stream",
     "text": [
      "{'score': 0.013762914575636387, 'start': 657, 'end': 669, 'answer': 'Ubuntu 12.04'}\n"
     ]
    }
   ],
   "source": [
    "print(reponse)\n",
    "\n",
    "# Pas mal, mais on n'est plus vraiment dans le supervisé\n"
   ]
  },
  {
   "cell_type": "markdown",
   "metadata": {},
   "source": [
    "## Ressources\n"
   ]
  },
  {
   "cell_type": "code",
   "execution_count": null,
   "metadata": {},
   "outputs": [],
   "source": [
    "# Word\n",
    "# https://colab.research.google.com/github/futuremojo/nlp-demystified/blob/main/notebooks/nlpdemystified_word_vectors.ipynb#scrollTo=SBQlbyiVY3WJ\n"
   ]
  }
 ],
 "metadata": {
  "kernelspec": {
   "display_name": "myenv_p5",
   "language": "python",
   "name": "python3"
  },
  "language_info": {
   "codemirror_mode": {
    "name": "ipython",
    "version": 3
   },
   "file_extension": ".py",
   "mimetype": "text/x-python",
   "name": "python",
   "nbconvert_exporter": "python",
   "pygments_lexer": "ipython3",
   "version": "3.11.5"
  }
 },
 "nbformat": 4,
 "nbformat_minor": 2
}
