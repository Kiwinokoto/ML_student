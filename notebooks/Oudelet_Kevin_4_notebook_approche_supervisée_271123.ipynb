{
 "cells": [
  {
   "cell_type": "markdown",
   "metadata": {},
   "source": [
    "## **Catégorisez automatiquement des questions**\n",
    "\n",
    "### partie 4/8 : Prédiction de tags, approche supervisée + tracking mlflow\n",
    "\n",
    "#### <br> Notebook d’exploration et de pré-traitement des questions, comprenant une analyse univariée et multivariée, un nettoyage des questions, un feature engineering de type bag of words avec réduction de dimension (du vocabulaire et des tags) \n",
    "\n",
    "<br>\n"
   ]
  },
  {
   "cell_type": "markdown",
   "metadata": {},
   "source": [
    "## Import librairies\n"
   ]
  },
  {
   "cell_type": "code",
   "execution_count": 1,
   "metadata": {},
   "outputs": [],
   "source": [
    "import os\n",
    "import numpy as np\n",
    "import pandas as pd\n",
    "from typing import Tuple\n",
    "import json\n",
    "import requests\n",
    "\n",
    "\n",
    "from pprint import pprint\n",
    "import matplotlib.pyplot as plt\n",
    "\n",
    "import mlflow\n",
    "from mlflow import MlflowClient\n",
    "from mlflow.models.signature import infer_signature, ModelSignature, Schema, ParamSchema\n",
    "from mlflow.types import Schema, ParamSchema, ParamSpec, ColSpec\n",
    "# Pour Schema et ParamSchema on a le choix !\n",
    "\n",
    "from sklearn.ensemble import RandomForestClassifier\n",
    "from sklearn.datasets import make_classification\n",
    "\n",
    "\n",
    "os.environ['MLFLOW_TRACKING_URI'] = './../mlruns'\n",
    "\n",
    "# client = MlflowClient(tracking_uri=\"http://127.0.0.1:5000\")\n"
   ]
  },
  {
   "cell_type": "markdown",
   "metadata": {},
   "source": [
    "## mlfow basics : on localhost with tracking server, no database\n"
   ]
  },
  {
   "cell_type": "markdown",
   "metadata": {},
   "source": [
    "### create mlflow experiment\n"
   ]
  },
  {
   "cell_type": "code",
   "execution_count": 2,
   "metadata": {},
   "outputs": [
    {
     "name": "stdout",
     "output_type": "stream",
     "text": [
      "Experiment testing_mlflow already exists.\n",
      "642640077049090575\n"
     ]
    }
   ],
   "source": [
    "# localhost + facile pour commencer, mais impossible de partager\n",
    "# => tester ensuite avec remote tracking server, backend & artifact store\n",
    "\n",
    "def create_mlflow_experiment(\n",
    "    experiment_name: str, artifact_location: str, tags: dict[str, str]\n",
    ") -> str:\n",
    "    \"\"\"\n",
    "    Create a new mlflow experiment with the given name and artifact location.\n",
    "\n",
    "    Parameters:\n",
    "    ----------\n",
    "    experiment_name: str\n",
    "        The name of the experiment to create.\n",
    "    artifact_location: str\n",
    "        The artifact location of the experiment to create.\n",
    "    tags: dict[str,Any]\n",
    "        The tags of the experiment to create.\n",
    "\n",
    "    Returns:\n",
    "    -------\n",
    "    experiment_id: str\n",
    "        The id of the created experiment.\n",
    "    \"\"\"\n",
    "    try:\n",
    "        experiment_id = mlflow.create_experiment(\n",
    "            name=experiment_name, artifact_location=artifact_location, tags=tags\n",
    "        )\n",
    "    except:\n",
    "        print(f\"Experiment {experiment_name} already exists.\")\n",
    "        experiment_id = mlflow.get_experiment_by_name(experiment_name).experiment_id\n",
    "\n",
    "    mlflow.set_experiment(experiment_name=experiment_name)\n",
    "\n",
    "    return experiment_id\n",
    "\n",
    "\n",
    "# create a new mlflow experiment\n",
    "experiment_id = create_mlflow_experiment(\n",
    "    experiment_name=\"testing_mlflow\",\n",
    "    artifact_location=\"testing_mlflow1_artifacts\",\n",
    "    tags={\"env\": \"dev\", \"version\": \"1.0.0\"},\n",
    ")\n",
    "\n",
    "print(experiment_id)\n"
   ]
  },
  {
   "cell_type": "markdown",
   "metadata": {},
   "source": [
    "### get mlflow experiment\n"
   ]
  },
  {
   "cell_type": "code",
   "execution_count": 3,
   "metadata": {},
   "outputs": [
    {
     "name": "stdout",
     "output_type": "stream",
     "text": [
      "Name: testing_mlflow10\n",
      "Experiment_id: 434671109481285144\n",
      "Artifact Location: /home/ubuntu/Bureau/OC/Projet5_oudelet_kevin/notebooks/testing_mlflow1_artifacts\n",
      "Tags: {'env': 'dev', 'version': '1.0.0'}\n",
      "Lifecycle_stage: deleted\n",
      "Creation timestamp: 1705138449722\n"
     ]
    }
   ],
   "source": [
    "def get_mlflow_experiment(\n",
    "    experiment_id: str = None, experiment_name: str = None\n",
    ") -> mlflow.entities.Experiment:\n",
    "    \"\"\"\n",
    "    Retrieve the mlflow experiment with the given id or name.\n",
    "\n",
    "    Parameters:\n",
    "    ----------\n",
    "    experiment_id: str\n",
    "        The id of the experiment to retrieve.\n",
    "    experiment_name: str\n",
    "        The name of the experiment to retrieve.\n",
    "\n",
    "    Returns:\n",
    "    -------\n",
    "    experiment: mlflow.entities.Experiment\n",
    "        The mlflow experiment with the given id or name.\n",
    "    \"\"\"\n",
    "    if experiment_id is not None:\n",
    "        experiment = mlflow.get_experiment(experiment_id)\n",
    "    elif experiment_name is not None:\n",
    "        experiment = mlflow.get_experiment_by_name(experiment_name)\n",
    "    else:\n",
    "        raise ValueError(\"Either experiment_id or experiment_name must be provided.\")\n",
    "\n",
    "    return experiment\n",
    "\n",
    "\n",
    "#retrieve the mlflow experiment\n",
    "experiment = get_mlflow_experiment(experiment_id=\"434671109481285144\")\n",
    "\n",
    "print(\"Name: {}\".format(experiment.name))\n",
    "print(\"Experiment_id: {}\".format(experiment.experiment_id))\n",
    "print(\"Artifact Location: {}\".format(experiment.artifact_location))\n",
    "print(\"Tags: {}\".format(experiment.tags))\n",
    "print(\"Lifecycle_stage: {}\".format(experiment.lifecycle_stage))\n",
    "print(\"Creation timestamp: {}\".format(experiment.creation_time))\n"
   ]
  },
  {
   "cell_type": "code",
   "execution_count": 4,
   "metadata": {},
   "outputs": [],
   "source": [
    "# On peut aussi delete depuis l'ui\n",
    "\n",
    "# mlflow.delete_experiment(experiment_id=\"434671109481285144\")\n"
   ]
  },
  {
   "cell_type": "markdown",
   "metadata": {},
   "source": [
    "### mlflow run\n"
   ]
  },
  {
   "cell_type": "code",
   "execution_count": 5,
   "metadata": {},
   "outputs": [],
   "source": [
    "#start a new mlflow run\n",
    "mlflow.start_run()\n",
    "\n",
    "# Your machine learning code goes here\n",
    "mlflow.log_param(\"learning_rate\",0.01)\n",
    "\n",
    "#end the mlflow run\n",
    "mlflow.end_run()\n"
   ]
  },
  {
   "cell_type": "code",
   "execution_count": 6,
   "metadata": {},
   "outputs": [
    {
     "name": "stdout",
     "output_type": "stream",
     "text": [
      "RUN ID : dbcfdfec89d84d21b21f4539815d2e16 \n",
      "\n",
      "<RunInfo: artifact_uri='/home/ubuntu/Bureau/OC/Projet5_oudelet_kevin/notebooks/testing_mlflow1_artifacts/dbcfdfec89d84d21b21f4539815d2e16/artifacts', end_time=None, experiment_id='642640077049090575', lifecycle_stage='active', run_id='dbcfdfec89d84d21b21f4539815d2e16', run_name='test_run', run_uuid='dbcfdfec89d84d21b21f4539815d2e16', start_time=1705308157996, status='RUNNING', user_id='ubuntu'>\n"
     ]
    }
   ],
   "source": [
    "# cleaner\n",
    "with mlflow.start_run(run_name=\"test_run\") as run:\n",
    "\n",
    "        # Your machine learning code goes here\n",
    "        mlflow.log_param(\"learning_rate\",0.02)\n",
    "        print(f\"RUN ID : {run.info.run_id}\", '\\n')\n",
    "\n",
    "        print(run.info)\n"
   ]
  },
  {
   "cell_type": "code",
   "execution_count": 7,
   "metadata": {},
   "outputs": [
    {
     "name": "stdout",
     "output_type": "stream",
     "text": [
      "Experiment another_test already exists.\n",
      "Name: another_test\n",
      "run_id: 7d6ab19f55e641bd8857621fa950b7d2\n",
      "experiment_id: 571942391625670656\n",
      "status: RUNNING\n",
      "start_time: 1705308158118\n",
      "end_time: None\n",
      "lifecycle_stage: active\n"
     ]
    }
   ],
   "source": [
    "# attribuer le run au bon experiment :\n",
    "# possible avec mlflow.set_experiment(experiment_name=experiment_name)\n",
    "# ou directement avec un param de la méthode mlflow.start_run, experiment_id ou experiment_name  :\n",
    "\n",
    "experiment_id = create_mlflow_experiment(\n",
    "    experiment_name=\"another_test\",\n",
    "    artifact_location=\"testing_mlflow42_artifacts\",\n",
    "    tags={\"env\": \"dev\", \"version\": \"1.0.0\"},\n",
    ")\n",
    "\n",
    "experiment = get_mlflow_experiment(experiment_id=experiment_id)\n",
    "print(\"Name: {}\".format(experiment.name))\n",
    "with mlflow.start_run(run_name=\"testing\", experiment_id=experiment_id) as run:\n",
    "\n",
    "    # Your machine learning code goes here\n",
    "    mlflow.log_param(\"learning_rate\",0.42)\n",
    "    # print run info\n",
    "    print(\"run_id: {}\".format(run.info.run_id))\n",
    "    print(\"experiment_id: {}\".format(run.info.experiment_id))\n",
    "    print(\"status: {}\".format(run.info.status))\n",
    "    print(\"start_time: {}\".format(run.info.start_time))\n",
    "    print(\"end_time: {}\".format(run.info.end_time))\n",
    "    print(\"lifecycle_stage: {}\".format(run.info.lifecycle_stage))\n"
   ]
  },
  {
   "cell_type": "markdown",
   "metadata": {},
   "source": [
    "## Logging\n"
   ]
  },
  {
   "cell_type": "markdown",
   "metadata": {},
   "source": [
    "### params\n"
   ]
  },
  {
   "cell_type": "code",
   "execution_count": 8,
   "metadata": {},
   "outputs": [
    {
     "name": "stdout",
     "output_type": "stream",
     "text": [
      "run_id: 330f28a127354218a1c4fe01b47b29c4\n",
      "experiment_id: 571942391625670656\n",
      "status: RUNNING\n",
      "start_time: 1705308158132\n",
      "end_time: None\n",
      "lifecycle_stage: active\n"
     ]
    }
   ],
   "source": [
    "# log params using a dict\n",
    "\n",
    "with mlflow.start_run(run_name=\"logging_params\", experiment_id=experiment_id) as run:\n",
    "\n",
    "    # Your machine learning code goes here\n",
    "    parameters = {\n",
    "        \"learning_rate\": 0.02,\n",
    "        \"epochs\": 10,\n",
    "        \"batch_size\": 100,\n",
    "        \"loss_function\": \"mse\",\n",
    "        \"optimizer\": \"adam\"\n",
    "    }\n",
    "\n",
    "    mlflow.log_params(parameters)\n",
    "\n",
    "    # print run info\n",
    "    print(\"run_id: {}\".format(run.info.run_id))\n",
    "    print(\"experiment_id: {}\".format(run.info.experiment_id))\n",
    "    print(\"status: {}\".format(run.info.status))\n",
    "    print(\"start_time: {}\".format(run.info.start_time))\n",
    "    print(\"end_time: {}\".format(run.info.end_time))\n",
    "    print(\"lifecycle_stage: {}\".format(run.info.lifecycle_stage))\n",
    "\n"
   ]
  },
  {
   "cell_type": "markdown",
   "metadata": {},
   "source": [
    "### metrics\n"
   ]
  },
  {
   "cell_type": "code",
   "execution_count": 9,
   "metadata": {},
   "outputs": [
    {
     "name": "stdout",
     "output_type": "stream",
     "text": [
      "run_id: 891f45bdff0e49d2b374ba77b755cdc7\n",
      "experiment_id: 571942391625670656\n",
      "status: RUNNING\n",
      "start_time: 1705308158148\n",
      "end_time: None\n",
      "lifecycle_stage: active\n"
     ]
    }
   ],
   "source": [
    "# log metrics\n",
    "\n",
    "with mlflow.start_run(run_name=\"logging_metrics\", experiment_id=experiment_id) as run:\n",
    "        # Your machine learning code goes here\n",
    "\n",
    "        # single metric\n",
    "        mlflow.log_metric(\"random_metric\", 0.01)\n",
    "\n",
    "        metrics = {\n",
    "            \"mse\": 0.01,\n",
    "            \"mae\": 0.01,\n",
    "            \"rmse\": 0.01,\n",
    "            \"r2\": 0.01\n",
    "        }\n",
    "\n",
    "        # multiple metrics\n",
    "        mlflow.log_metrics(metrics)\n",
    "\n",
    "        # print run info\n",
    "        print(\"run_id: {}\".format(run.info.run_id))\n",
    "        print(\"experiment_id: {}\".format(run.info.experiment_id))\n",
    "        print(\"status: {}\".format(run.info.status))\n",
    "        print(\"start_time: {}\".format(run.info.start_time))\n",
    "        print(\"end_time: {}\".format(run.info.end_time))\n",
    "        print(\"lifecycle_stage: {}\".format(run.info.lifecycle_stage))\n",
    "\n"
   ]
  },
  {
   "cell_type": "markdown",
   "metadata": {},
   "source": [
    "### artefacts\n"
   ]
  },
  {
   "cell_type": "code",
   "execution_count": 10,
   "metadata": {},
   "outputs": [
    {
     "name": "stdout",
     "output_type": "stream",
     "text": [
      "run_id: 8aff12a572d6421f856e22857b62ebb4\n",
      "experiment_id: 571942391625670656\n",
      "status: RUNNING\n",
      "start_time: 1705308158164\n",
      "end_time: None\n",
      "lifecycle_stage: active\n"
     ]
    }
   ],
   "source": [
    "# log artefacts\n",
    "\n",
    "with mlflow.start_run(run_name=\"logging_artifacts\", experiment_id=experiment_id) as run:\n",
    "\n",
    "    # your machine learning code goes here\n",
    "\n",
    "    # create a text file that says hello world\n",
    "    with open(\"hello_world.txt\", \"w\") as f:\n",
    "        f.write(\"Hello World!\")\n",
    "\n",
    "    # log the text file as an artifact\n",
    "    mlflow.log_artifact(local_path=\"hello_world.txt\", artifact_path=\"text_files\")\n",
    "\n",
    "    # print run info\n",
    "    print(\"run_id: {}\".format(run.info.run_id))\n",
    "    print(\"experiment_id: {}\".format(run.info.experiment_id))\n",
    "    print(\"status: {}\".format(run.info.status))\n",
    "    print(\"start_time: {}\".format(run.info.start_time))\n",
    "    print(\"end_time: {}\".format(run.info.end_time))\n",
    "    print(\"lifecycle_stage: {}\".format(run.info.lifecycle_stage))\n"
   ]
  },
  {
   "cell_type": "code",
   "execution_count": 11,
   "metadata": {},
   "outputs": [
    {
     "name": "stdout",
     "output_type": "stream",
     "text": [
      "run_id: b0131b44471b44f09dff32099569bb6b\n",
      "experiment_id: 571942391625670656\n",
      "status: RUNNING\n",
      "start_time: 1705308158178\n",
      "end_time: None\n",
      "lifecycle_stage: active\n"
     ]
    }
   ],
   "source": [
    "# log multiple artifacts in a folder\n",
    "\n",
    "with mlflow.start_run(run_name=\"logging_artifacts\", experiment_id=experiment_id) as run:\n",
    "\n",
    "    # your machine learning code goes here\n",
    "\n",
    "    mlflow.log_artifacts(local_dir=\"./run_artifacts\",artifact_path=\"run_artifacts\")\n",
    "\n",
    "    # print run info\n",
    "    print(\"run_id: {}\".format(run.info.run_id))\n",
    "    print(\"experiment_id: {}\".format(run.info.experiment_id))\n",
    "    print(\"status: {}\".format(run.info.status))\n",
    "    print(\"start_time: {}\".format(run.info.start_time))\n",
    "    print(\"end_time: {}\".format(run.info.end_time))\n",
    "    print(\"lifecycle_stage: {}\".format(run.info.lifecycle_stage))\n"
   ]
  },
  {
   "cell_type": "markdown",
   "metadata": {},
   "source": [
    "### images\n"
   ]
  },
  {
   "cell_type": "code",
   "execution_count": 12,
   "metadata": {},
   "outputs": [
    {
     "name": "stderr",
     "output_type": "stream",
     "text": [
      "No artists with labels found to put in legend.  Note that artists whose label start with an underscore are ignored when legend() is called with no argument.\n"
     ]
    },
    {
     "name": "stdout",
     "output_type": "stream",
     "text": [
      "run_id: 65596df5763848c09deb8a4e3ef09d09\n",
      "experiment_id: 571942391625670656\n",
      "status: RUNNING\n",
      "start_time: 1705308158194\n",
      "end_time: None\n",
      "lifecycle_stage: active\n"
     ]
    },
    {
     "data": {
      "image/png": "[encoded data removed]",
      "text/plain": [
       "<Figure size 640x480 with 1 Axes>"
      ]
     },
     "metadata": {},
     "output_type": "display_data"
    },
    {
     "data": {
      "image/png": "[encoded data removed]",
      "text/plain": [
       "<Figure size 640x480 with 1 Axes>"
      ]
     },
     "metadata": {},
     "output_type": "display_data"
    },
    {
     "data": {
      "image/png": "[encoded data removed]",
      "text/plain": [
       "<Figure size 640x480 with 2 Axes>"
      ]
     },
     "metadata": {},
     "output_type": "display_data"
    }
   ],
   "source": [
    "# log images\n",
    "\n",
    "from sklearn.datasets import make_classification\n",
    "from sklearn.model_selection import train_test_split\n",
    "from sklearn.ensemble import RandomForestClassifier\n",
    "\n",
    "from sklearn.metrics import PrecisionRecallDisplay\n",
    "from sklearn.metrics import RocCurveDisplay\n",
    "from sklearn.metrics import ConfusionMatrixDisplay\n",
    "\n",
    "with mlflow.start_run(run_name=\"logging_images\", experiment_id=experiment_id) as run:\n",
    "\n",
    "    X, y = make_classification(n_samples=1000, n_features=10, n_informative=5, n_redundant=5, random_state=42)\n",
    "    X_train, X_test, y_train, y_test = train_test_split(X, y, test_size=0.2, random_state=43)\n",
    "\n",
    "    rfc = RandomForestClassifier(n_estimators=100, random_state=42)\n",
    "    rfc.fit(X_train, y_train)\n",
    "    y_pred = rfc.predict(X_test)\n",
    "\n",
    "    # log the precision-recall curve\n",
    "    fig_pr = plt.figure()\n",
    "    pr_display = PrecisionRecallDisplay.from_predictions(y_test, y_pred, ax=plt.gca())\n",
    "    plt.title(\"Precision-Recall Curve\")\n",
    "    plt.legend()\n",
    "\n",
    "    mlflow.log_figure(fig_pr, \"metrics/precision_recall_curve.png\")\n",
    "\n",
    "    # log the ROC curve\n",
    "    fig_roc = plt.figure()\n",
    "    roc_display = RocCurveDisplay.from_predictions(y_test, y_pred, ax=plt.gca())\n",
    "    plt.title(\"ROC Curve\")\n",
    "    plt.legend()\n",
    "\n",
    "    mlflow.log_figure(fig_roc, \"metrics/roc_curve.png\")\n",
    "\n",
    "    # log the confusion matrix\n",
    "    fig_cm = plt.figure()\n",
    "    cm_display = ConfusionMatrixDisplay.from_predictions(y_test, y_pred, ax=plt.gca())\n",
    "    plt.title(\"Confusion Matrix\")\n",
    "    plt.legend()\n",
    "\n",
    "    mlflow.log_figure(fig_cm, \"metrics/confusion_matrix.png\")\n",
    "\n",
    "    # print info about the run\n",
    "    print(\"run_id: {}\".format(run.info.run_id))\n",
    "    print(\"experiment_id: {}\".format(run.info.experiment_id))\n",
    "    print(\"status: {}\".format(run.info.status))\n",
    "    print(\"start_time: {}\".format(run.info.start_time))\n",
    "    print(\"end_time: {}\".format(run.info.end_time))\n",
    "    print(\"lifecycle_stage: {}\".format(run.info.lifecycle_stage))\n"
   ]
  },
  {
   "cell_type": "markdown",
   "metadata": {},
   "source": [
    "### models\n"
   ]
  },
  {
   "cell_type": "code",
   "execution_count": 13,
   "metadata": {},
   "outputs": [
    {
     "name": "stdout",
     "output_type": "stream",
     "text": [
      "run_id: 136c202324ed4284af6d056a7130892e\n",
      "experiment_id: 571942391625670656\n",
      "status: RUNNING\n",
      "start_time: 1705308158931\n",
      "end_time: None\n",
      "lifecycle_stage: active\n"
     ]
    },
    {
     "name": "stderr",
     "output_type": "stream",
     "text": [
      "/home/ubuntu/anaconda3/envs/myenv_p5/lib/python3.11/site-packages/_distutils_hack/__init__.py:33: UserWarning: Setuptools is replacing distutils.\n",
      "  warnings.warn(\"Setuptools is replacing distutils.\")\n"
     ]
    }
   ],
   "source": [
    "# log a model\n",
    "# no autolog here\n",
    "\n",
    "with mlflow.start_run(run_name=\"logging_model\", experiment_id=experiment_id) as run:\n",
    "\n",
    "    X, y = make_classification(n_samples=1000, n_features=10, n_informative=5, n_redundant=5, random_state=42)\n",
    "    X_train, X_test, y_train, y_test = train_test_split(X, y, test_size=0.2, random_state=43)\n",
    "\n",
    "    # log model using autolog\n",
    "    # mlflow.autolog()\n",
    "    # mlflow.sklearn.autolog()\n",
    "\n",
    "    rfc = RandomForestClassifier(n_estimators=100, random_state=42)\n",
    "    rfc.fit(X_train, y_train)\n",
    "    y_pred = rfc.predict(X_test)\n",
    "\n",
    "    # log model\n",
    "    mlflow.sklearn.log_model(sk_model=rfc, artifact_path=\"random_forest_classifier\")\n",
    "\n",
    "    # print info about the run\n",
    "    print(\"run_id: {}\".format(run.info.run_id))\n",
    "    print(\"experiment_id: {}\".format(run.info.experiment_id))\n",
    "    print(\"status: {}\".format(run.info.status))\n",
    "    print(\"start_time: {}\".format(run.info.start_time))\n",
    "    print(\"end_time: {}\".format(run.info.end_time))\n",
    "    print(\"lifecycle_stage: {}\".format(run.info.lifecycle_stage))\n"
   ]
  },
  {
   "cell_type": "markdown",
   "metadata": {},
   "source": [
    "### Autolog\n"
   ]
  },
  {
   "cell_type": "code",
   "execution_count": 14,
   "metadata": {},
   "outputs": [
    {
     "name": "stderr",
     "output_type": "stream",
     "text": [
      "2024/01/15 09:42:41 INFO mlflow.tracking.fluent: Autologging successfully enabled for sklearn.\n"
     ]
    },
    {
     "name": "stdout",
     "output_type": "stream",
     "text": [
      "run_id: c0aeba32241b413abb4b8bd4eb311f4b\n",
      "experiment_id: 571942391625670656\n",
      "status: RUNNING\n",
      "start_time: 1705308161042\n",
      "end_time: None\n",
      "lifecycle_stage: active\n"
     ]
    }
   ],
   "source": [
    "# autolog\n",
    "\n",
    "with mlflow.start_run(run_name=\"autolog\", experiment_id=experiment_id) as run:\n",
    "\n",
    "    X, y = make_classification(n_samples=1000, n_features=10, n_informative=5, n_redundant=5, random_state=42)\n",
    "    X_train, X_test, y_train, y_test = train_test_split(X, y, test_size=0.2, random_state=43)\n",
    "\n",
    "    # log model using autolog\n",
    "    mlflow.autolog()\n",
    "    # mlflow.sklearn.autolog()\n",
    "\n",
    "    rfc = RandomForestClassifier(n_estimators=100, random_state=42)\n",
    "    rfc.fit(X_train, y_train)\n",
    "    y_pred = rfc.predict(X_test)\n",
    "\n",
    "    # log model\n",
    "    # mlflow.sklearn.log_model(sk_model=rfc, artifact_path=\"random_forest_classifier\")\n",
    "\n",
    "    # print info about the run\n",
    "    print(\"run_id: {}\".format(run.info.run_id))\n",
    "    print(\"experiment_id: {}\".format(run.info.experiment_id))\n",
    "    print(\"status: {}\".format(run.info.status))\n",
    "    print(\"start_time: {}\".format(run.info.start_time))\n",
    "    print(\"end_time: {}\".format(run.info.end_time))\n",
    "    print(\"lifecycle_stage: {}\".format(run.info.lifecycle_stage))\n",
    "\n",
    "\n",
    "# Ok now we're talking !\n",
    "# This is getting interesting\n"
   ]
  },
  {
   "cell_type": "markdown",
   "metadata": {},
   "source": [
    "## Load a model\n"
   ]
  },
  {
   "cell_type": "code",
   "execution_count": 15,
   "metadata": {},
   "outputs": [
    {
     "name": "stdout",
     "output_type": "stream",
     "text": [
      "   prediction\n",
      "0           0\n",
      "1           0\n",
      "2           0\n",
      "3           1\n",
      "4           0\n"
     ]
    }
   ],
   "source": [
    "run_id = '2c357c456d164cc8b45e0634489dc54e'\n",
    "\n",
    "X, y = make_classification(n_samples=1000, n_features=10, n_informative=5, n_redundant=5, random_state=42)\n",
    "X = pd.DataFrame(X, columns=[\"feature_{}\".format(i) for i in range(10)])\n",
    "y = pd.DataFrame(y, columns=[\"target\"])\n",
    "\n",
    "_, X_test, _, y_test = train_test_split(X, y, test_size=0.2, random_state=43)\n",
    "\n",
    "# load model\n",
    "# model_uri = f'runs:/{run_id}/random_forest_classifier'\n",
    "model_uri = f\"/home/ubuntu/Bureau/OC/Projet5_oudelet_kevin/notebooks/testing_mlflow42_artifacts/{run_id}/artifacts/random_forest_classifier\"\n",
    "\n",
    "rfc = mlflow.sklearn.load_model(model_uri=model_uri)\n",
    "\n",
    "y_pred = rfc.predict(X_test)\n",
    "y_pred = pd.DataFrame(y_pred, columns=[\"prediction\"])\n",
    "\n",
    "print(y_pred.head())\n",
    "\n"
   ]
  },
  {
   "cell_type": "markdown",
   "metadata": {},
   "source": [
    "## Nested runs\n"
   ]
  },
  {
   "cell_type": "code",
   "execution_count": 16,
   "metadata": {},
   "outputs": [
    {
     "name": "stdout",
     "output_type": "stream",
     "text": [
      "Experiment Nested Runs already exists.\n",
      "RUN ID parent: a878d60f46264ce4a887e8c930eace56\n",
      "RUN ID child1: 5d7bc34df585444dbaabd2a9c1f1949b\n",
      "RUN ID child_11: ffd05018d167471c939cf47a7f2a8baf\n",
      "RUN ID child_12: 38cd0869ca654732aef524db602ebfc8\n",
      "RUN ID child2: bf37eb90f165488abddcbaf3d4cce38d\n"
     ]
    }
   ],
   "source": [
    "experiment_id = create_mlflow_experiment(\n",
    "    experiment_name= \"Nested Runs\",\n",
    "    artifact_location= \"nested_run_artifacts\",\n",
    "    tags={\"purpose\":\"learning\"}\n",
    ")\n",
    "\n",
    "\n",
    "with mlflow.start_run(run_name=\"parent\") as parent:\n",
    "    print(\"RUN ID parent:\", parent.info.run_id)\n",
    "\n",
    "    mlflow.log_param(\"parent_param\", \"parent_value\")\n",
    "\n",
    "    with mlflow.start_run(run_name=\"child1\",nested=True) as child1:\n",
    "        print(\"RUN ID child1:\", child1.info.run_id)\n",
    "        mlflow.log_param(\"child1_param\", \"child1_value\")\n",
    "\n",
    "        with mlflow.start_run(run_name=\"child_11\", nested=True) as child_11:\n",
    "            print(\"RUN ID child_11:\", child_11.info.run_id )\n",
    "            mlflow.log_param(\"child_11_param\", \"child_11_value\")\n",
    "\n",
    "        with mlflow.start_run(run_name=\"child_12\", nested=True) as child_12:\n",
    "            print(\"RUN ID child_12:\", child_12.info.run_id)\n",
    "            mlflow.log_param(\"child_12_param\", \"child_12_value\")\n",
    "\n",
    "    with mlflow.start_run(run_name=\"child2\", nested=True) as child2:\n",
    "        print(\"RUN ID child2:\", child2.info.run_id)\n",
    "        mlflow.log_param(\"child2_param\", \"child2_value\")\n"
   ]
  },
  {
   "cell_type": "markdown",
   "metadata": {},
   "source": [
    "## Custom models\n"
   ]
  },
  {
   "cell_type": "code",
   "execution_count": 17,
   "metadata": {},
   "outputs": [
    {
     "name": "stderr",
     "output_type": "stream",
     "text": [
      "2024/01/15 09:42:43 INFO mlflow.types.utils: Unsupported type hint: [<class 'str'>], skipping schema inference\n"
     ]
    },
    {
     "name": "stdout",
     "output_type": "stream",
     "text": [
      "Experiment Custom Models already exists.\n",
      "Fitting model...\n",
      "HELLO WORLD\n"
     ]
    }
   ],
   "source": [
    "class CustomModel(mlflow.pyfunc.PythonModel):\n",
    "\n",
    "    def __init__(self):\n",
    "        pass\n",
    "\n",
    "    # ! fit and predict fonctions are required\n",
    "    def fit(self):\n",
    "        print(\"Fitting model...\")\n",
    "\n",
    "    def predict(self, context, model_input:[str]):\n",
    "        return self.get_prediction(model_input)\n",
    "\n",
    "    # other functions, anything we want\n",
    "    def get_prediction(self, model_input:[str]):\n",
    "        # do something with the model input\n",
    "        return \" \".join([w.upper() for w in model_input])\n",
    "\n",
    "\n",
    "experiment_id = create_mlflow_experiment(\n",
    "    experiment_name= \"Custom Models\",\n",
    "    artifact_location= \"custom_model_artifacts\",\n",
    "    tags={\"purpose\":\"learning\"}\n",
    ")\n",
    "\n",
    "with mlflow.start_run(run_name=\"custom_model_run\") as run:\n",
    "    custom_model = CustomModel()\n",
    "\n",
    "    custom_model.fit()\n",
    "\n",
    "    mlflow.pyfunc.log_model(\n",
    "        artifact_path=\"custom_model\",\n",
    "        python_model=custom_model)\n",
    "\n",
    "    mlflow.log_param(\"param1\", \"value1\")\n",
    "\n",
    "    # load model using pyfunc flavor\n",
    "    custom_model = mlflow.pyfunc.load_model(f\"runs:/{run.info.run_id}/custom_model\")\n",
    "\n",
    "    prediction = custom_model.predict([\"hello\", \"world\"])\n",
    "    print(prediction)\n"
   ]
  },
  {
   "cell_type": "markdown",
   "metadata": {},
   "source": [
    "## Signature\n"
   ]
  },
  {
   "cell_type": "code",
   "execution_count": 18,
   "metadata": {},
   "outputs": [
    {
     "name": "stdout",
     "output_type": "stream",
     "text": [
      "MODEL SIGNATURE\n",
      "{'inputs': '[{\"type\": \"double\", \"name\": \"feature_1\"}, {\"type\": \"double\", \"name\": \"feature_2\"}, {\"type\": \"double\", \"name\": \"feature_3\"}, {\"type\": \"double\", \"name\": \"feature_4\"}, {\"type\": \"double\", \"name\": \"feature_5\"}, {\"type\": \"double\", \"name\": \"feature_6\"}, {\"type\": \"double\", \"name\": \"feature_7\"}, {\"type\": \"double\", \"name\": \"feature_8\"}, {\"type\": \"double\", \"name\": \"feature_9\"}, {\"type\": \"double\", \"name\": \"feature_10\"}, {\"type\": \"double\", \"name\": \"feature_11\"}, {\"type\": \"double\", \"name\": \"feature_12\"}, {\"type\": \"double\", \"name\": \"feature_13\"}, {\"type\": \"double\", \"name\": \"feature_14\"}, {\"type\": \"double\", \"name\": \"feature_15\"}, {\"type\": \"double\", \"name\": \"feature_16\"}, {\"type\": \"double\", \"name\": \"feature_17\"}, {\"type\": \"double\", \"name\": \"feature_18\"}, {\"type\": \"double\", \"name\": \"feature_19\"}, {\"type\": \"double\", \"name\": \"feature_20\"}]', 'outputs': '[{\"type\": \"integer\", \"name\": \"label\"}]', 'params': '[{\"name\": \"model_name\", \"dtype\": \"string\", \"default\": \"model1\", \"shape\": null}]'}\n",
      "MODEL SIGNATURE\n",
      "{'inputs': '[{\"type\": \"double\", \"name\": \"feature_1\"}, {\"type\": \"double\", \"name\": \"feature_2\"}, {\"type\": \"double\", \"name\": \"feature_3\"}, {\"type\": \"double\", \"name\": \"feature_4\"}, {\"type\": \"double\", \"name\": \"feature_5\"}, {\"type\": \"double\", \"name\": \"feature_6\"}, {\"type\": \"double\", \"name\": \"feature_7\"}, {\"type\": \"double\", \"name\": \"feature_8\"}, {\"type\": \"double\", \"name\": \"feature_9\"}, {\"type\": \"double\", \"name\": \"feature_10\"}, {\"type\": \"double\", \"name\": \"feature_11\"}, {\"type\": \"double\", \"name\": \"feature_12\"}, {\"type\": \"double\", \"name\": \"feature_13\"}, {\"type\": \"double\", \"name\": \"feature_14\"}, {\"type\": \"double\", \"name\": \"feature_15\"}, {\"type\": \"double\", \"name\": \"feature_16\"}, {\"type\": \"double\", \"name\": \"feature_17\"}, {\"type\": \"double\", \"name\": \"feature_18\"}, {\"type\": \"double\", \"name\": \"feature_19\"}, {\"type\": \"double\", \"name\": \"feature_20\"}]', 'outputs': '[{\"type\": \"long\", \"name\": \"label\"}]', 'params': '[{\"name\": \"model_name\", \"dtype\": \"string\", \"default\": \"model1\", \"shape\": null}]'}\n",
      "Experiment Model Signature already exists.\n"
     ]
    },
    {
     "name": "stderr",
     "output_type": "stream",
     "text": [
      "/home/ubuntu/anaconda3/envs/myenv_p5/lib/python3.11/site-packages/mlflow/models/signature.py:215: UserWarning: Hint: Inferred schema contains integer column(s). Integer columns in Python cannot represent missing values. If your input data contains missing values at inference time, it will be encoded as floats and will cause a schema enforcement error. The best way to avoid this problem is to infer the model schema based on a realistic data sample (training dataset) that includes missing values. Alternatively, you can declare integer columns as doubles (float64) whenever these columns may have missing values. See `Handling Integers With Missing Values <https://www.mlflow.org/docs/latest/models.html#handling-integers-with-missing-values>`_ for more details.\n",
      "  outputs = _infer_schema(model_output) if model_output is not None else None\n"
     ]
    }
   ],
   "source": [
    "# Manuelle, sans inference\n",
    "\n",
    "def get_train_data() -> Tuple[pd.DataFrame]:\n",
    "    \"\"\"\n",
    "    Generate train and test data.\n",
    "\n",
    "    :return: x_train,y_train\n",
    "    \"\"\"\n",
    "    x, y = make_classification()\n",
    "    features = [f\"feature_{i+1}\" for i in range(x.shape[1])]\n",
    "    df = pd.DataFrame(x, columns=features)\n",
    "    df[\"label\"] = y\n",
    "\n",
    "    return df[features], df[\"label\"]\n",
    "\n",
    "\n",
    "x_train, y_train = get_train_data()\n",
    "cols_spec = []\n",
    "data_map = {\n",
    "    'int64': 'integer',\n",
    "    'float64': 'double',\n",
    "    'bool': 'boolean',\n",
    "    'str': 'string',\n",
    "    \"date\": 'datetime'\n",
    "}\n",
    "\n",
    "for name, dtype in x_train.dtypes.to_dict().items():\n",
    "    cols_spec.append(ColSpec(name=name, type=data_map[str(dtype)]))\n",
    "\n",
    "input_schema = Schema(inputs=cols_spec)\n",
    "output_schema = Schema([ColSpec(name=\"label\", type=\"integer\")])\n",
    "\n",
    "parameter = ParamSpec(name=\"model_name\", dtype=\"string\", default=\"model1\")\n",
    "param_schema = ParamSchema(params=[parameter])\n",
    "\n",
    "model_signature = ModelSignature(inputs=input_schema, outputs=output_schema, params=param_schema)\n",
    "print(\"MODEL SIGNATURE\")\n",
    "print(model_signature.to_dict())\n",
    "\n",
    "model_signature = infer_signature(x_train, y_train, params={\"model_name\": \"model1\"})\n",
    "print(\"MODEL SIGNATURE\")\n",
    "print(model_signature.to_dict())\n",
    "\n",
    "experiment_id = create_mlflow_experiment(\n",
    "    experiment_name=\"Model Signature\",\n",
    "    artifact_location=\"model_signature_artifacts\",\n",
    "    tags={\"purpose\": \"learning\"},\n",
    ")\n",
    "\n",
    "with mlflow.start_run(run_name=\"model_signature_schemas\") as run:\n",
    "    mlflow.sklearn.log_model(\n",
    "        sk_model=RandomForestClassifier(),\n",
    "        artifact_path=\"model_signature\",\n",
    "        signature=model_signature,\n",
    "    )\n"
   ]
  },
  {
   "cell_type": "code",
   "execution_count": 19,
   "metadata": {},
   "outputs": [
    {
     "name": "stderr",
     "output_type": "stream",
     "text": [
      "2024/01/15 09:42:45 WARNING mlflow.utils.autologging_utils: MLflow autologging encountered a warning: \"/home/ubuntu/anaconda3/envs/myenv_p5/lib/python3.11/site-packages/mlflow/data/digest_utils.py:25: FutureWarning: DataFrame.applymap has been deprecated. Use DataFrame.map instead.\"\n"
     ]
    },
    {
     "name": "stderr",
     "output_type": "stream",
     "text": [
      "/home/ubuntu/anaconda3/envs/myenv_p5/lib/python3.11/site-packages/sklearn/base.py:1151: DataConversionWarning: A column-vector y was passed when a 1d array was expected. Please change the shape of y to (n_samples,), for example using ravel().\n",
      "  return fit_method(estimator, *args, **kwargs)\n",
      "2024/01/15 09:42:47 WARNING mlflow.utils.autologging_utils: MLflow autologging encountered a warning: \"/home/ubuntu/anaconda3/envs/myenv_p5/lib/python3.11/site-packages/mlflow/data/digest_utils.py:25: FutureWarning: DataFrame.applymap has been deprecated. Use DataFrame.map instead.\"\n",
      "/home/ubuntu/anaconda3/envs/myenv_p5/lib/python3.11/site-packages/mlflow/models/signature.py:215: UserWarning: Hint: Inferred schema contains integer column(s). Integer columns in Python cannot represent missing values. If your input data contains missing values at inference time, it will be encoded as floats and will cause a schema enforcement error. The best way to avoid this problem is to infer the model schema based on a realistic data sample (training dataset) that includes missing values. Alternatively, you can declare integer columns as doubles (float64) whenever these columns may have missing values. See `Handling Integers With Missing Values <https://www.mlflow.org/docs/latest/models.html#handling-integers-with-missing-values>`_ for more details.\n",
      "  outputs = _infer_schema(model_output) if model_output is not None else None\n"
     ]
    },
    {
     "name": "stdout",
     "output_type": "stream",
     "text": [
      "run_id: a948eeb71cd0474b85407b2896c8a283\n",
      "experiment_id: 985968209234505742\n",
      "status: RUNNING\n",
      "start_time: 1705308165704\n",
      "end_time: None\n",
      "lifecycle_stage: active\n"
     ]
    }
   ],
   "source": [
    "# quick, easy way\n",
    "\n",
    "with mlflow.start_run(run_name=\"model_signature_inference\", experiment_id=experiment_id) as run:\n",
    "\n",
    "    X, y = make_classification(n_samples=1000, n_features=10, n_informative=5, n_redundant=5, random_state=42)\n",
    "    X_train, X_test, y_train, y_test = train_test_split(X, y, test_size=0.2, random_state=43)\n",
    "\n",
    "    X_train = pd.DataFrame(X_train, columns=[\"feature_{}\".format(i) for i in range(10)])\n",
    "    X_test = pd.DataFrame(X_test, columns=[\"feature_{}\".format(i) for i in range(10)])\n",
    "    y_train = pd.DataFrame(y_train, columns=[\"target\"])\n",
    "    y_test = pd.DataFrame(y_test, columns=[\"target\"])\n",
    "\n",
    "    rfc = RandomForestClassifier(n_estimators=100, random_state=42)\n",
    "    rfc.fit(X_train, y_train)\n",
    "    y_pred = rfc.predict(X_test)\n",
    "    y_pred = pd.DataFrame(y_pred, columns=[\"prediction\"])\n",
    "\n",
    "    # infer signature\n",
    "    model_signature = infer_signature(model_input=X_train, model_output=y_pred)\n",
    "\n",
    "\n",
    "    # log model\n",
    "    mlflow.sklearn.log_model(sk_model=rfc, artifact_path=\"random_forest_classifier\", signature=model_signature)\n",
    "\n",
    "\n",
    "    # print info about the run\n",
    "    print(\"run_id: {}\".format(run.info.run_id))\n",
    "    print(\"experiment_id: {}\".format(run.info.experiment_id))\n",
    "    print(\"status: {}\".format(run.info.status))\n",
    "    print(\"start_time: {}\".format(run.info.start_time))\n",
    "    print(\"end_time: {}\".format(run.info.end_time))\n",
    "    print(\"lifecycle_stage: {}\".format(run.info.lifecycle_stage))\n"
   ]
  },
  {
   "cell_type": "markdown",
   "metadata": {},
   "source": [
    "## Serving multiple models (to a single endpoint)\n"
   ]
  },
  {
   "cell_type": "code",
   "execution_count": 20,
   "metadata": {},
   "outputs": [
    {
     "name": "stdout",
     "output_type": "stream",
     "text": [
      "Experiment Serving Multiple Models already exists.\n",
      "PREDICTION FROM MODEL 1\n",
      "   input\n",
      "0      0\n",
      "\n",
      "\n",
      "PREDICTION FROM MODEL 2\n",
      "   input\n",
      "0     10\n",
      "\n",
      "\n",
      "PREDICTION FROM MODEL 3\n",
      "   input\n",
      "0     20\n",
      "\n",
      "\n",
      "RUN_ID: 4937e93bb290414187691d210a479479\n"
     ]
    }
   ],
   "source": [
    "class CustomModel(mlflow.pyfunc.PythonModel):\n",
    "    def predict_model1(self, model_input):\n",
    "        # do some processing for model 1\n",
    "        return 0 * model_input\n",
    "\n",
    "    def predict_model2(self, model_input):\n",
    "        # do some processing for model 2\n",
    "        return model_input\n",
    "\n",
    "    def predict_model3(self, model_input):\n",
    "        # do some processing for model 3\n",
    "        return 2 * model_input\n",
    "\n",
    "    def predict(self, context, model_input, params):\n",
    "        if params[\"model_name\"] == \"model_1\":\n",
    "            return self.predict_model1(model_input=model_input)\n",
    "\n",
    "        elif params[\"model_name\"] == \"model_2\":\n",
    "            return self.predict_model2(model_input=model_input)\n",
    "\n",
    "        elif params[\"model_name\"] == \"model_3\":\n",
    "            return self.predict_model3(model_input=model_input)\n",
    "\n",
    "        else:\n",
    "            raise Exception(\"Model Not Found!\")\n",
    "\n",
    "\n",
    "experiment_id = create_mlflow_experiment(\n",
    "    experiment_name=\"Serving Multiple Models\",\n",
    "    artifact_location=\"serving_multiple_models\",\n",
    "    tags={\"purpose\": \"learning\"},\n",
    ")\n",
    "input_schema = Schema(inputs=[ColSpec(type=\"integer\", name=\"input\")])\n",
    "output_schema = Schema(inputs=[ColSpec(type=\"integer\", name=\"output\")])\n",
    "param_spec = ParamSpec(name=\"model_name\", dtype=\"string\", default=None)\n",
    "param_schema = ParamSchema(params=[param_spec])\n",
    "model_signature = ModelSignature(\n",
    "    inputs=input_schema, outputs=output_schema, params=param_schema\n",
    ")\n",
    "\n",
    "with mlflow.start_run(run_name=\"multiple_models\", experiment_id=experiment_id) as run:\n",
    "\n",
    "    mlflow.pyfunc.log_model(artifact_path=\"model\", python_model=CustomModel(), signature=model_signature)\n",
    "\n",
    "    model_uri = f\"runs:/{run.info.run_id}/model\"\n",
    "    loaded_model = mlflow.pyfunc.load_model(model_uri=model_uri)\n",
    "\n",
    "    for n in range(3):\n",
    "        print(f\"PREDICTION FROM MODEL {n+1}\")\n",
    "        print(loaded_model.predict(data={\"input\":np.int32(10)}, params={\"model_name\":f\"model_{n+1}\"}))\n",
    "        print(\"\\n\")\n",
    "\n",
    "    print(f\"RUN_ID: {run.info.run_id}\")\n"
   ]
  },
  {
   "cell_type": "code",
   "execution_count": 24,
   "metadata": {},
   "outputs": [
    {
     "name": "stdout",
     "output_type": "stream",
     "text": [
      "Downloading artifacts: 100%|████████████████████| 1/1 [00:00<00:00, 9686.61it/s]\n",
      "2024/01/15 10:36:36 INFO mlflow.models.flavor_backend_registry: Selected backend for flavor 'python_function'\n",
      "2024/01/15 10:36:36 INFO mlflow.pyfunc.backend: === Running command 'exec gunicorn --timeout=60 -b 127.0.0.1:5001 -w 1 ${GUNICORN_CMD_ARGS} -- mlflow.pyfunc.scoring_server.wsgi:app'\n",
      "[2024-01-15 10:36:36 +0100] [48477] [INFO] Starting gunicorn 20.1.0\n",
      "[2024-01-15 10:36:36 +0100] [48477] [INFO] Listening at: http://127.0.0.1:5001 (48477)\n",
      "[2024-01-15 10:36:36 +0100] [48477] [INFO] Using worker: sync\n",
      "[2024-01-15 10:36:36 +0100] [48478] [INFO] Booting worker with pid: 48478\n",
      "^C\n",
      "[2024-01-15 10:37:25 +0100] [48477] [INFO] Handling signal: int\n",
      "[2024-01-15 10:37:25 +0100] [48478] [INFO] Worker exiting (pid: 48478)\n"
     ]
    }
   ],
   "source": [
    "# !mlflow models serve --model-uri runs:/5248647db1964686a1ee222817ee57f7/model  --no-conda --port 5001\n"
   ]
  }
 ],
 "metadata": {
  "kernelspec": {
   "display_name": "myenv_p5",
   "language": "python",
   "name": "python3"
  },
  "language_info": {
   "codemirror_mode": {
    "name": "ipython",
    "version": 3
   },
   "file_extension": ".py",
   "mimetype": "text/x-python",
   "name": "python",
   "nbconvert_exporter": "python",
   "pygments_lexer": "ipython3",
   "version": "3.11.4"
  }
 },
 "nbformat": 4,
 "nbformat_minor": 2
}
